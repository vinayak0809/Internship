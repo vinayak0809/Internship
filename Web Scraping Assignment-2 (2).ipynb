{
 "cells": [
  {
   "cell_type": "markdown",
   "id": "b32de7d3",
   "metadata": {},
   "source": [
    "1.QUESTION--> SOLUTION-->"
   ]
  },
  {
   "cell_type": "code",
   "execution_count": 1,
   "id": "3def776a",
   "metadata": {},
   "outputs": [],
   "source": [
    "from selenium import webdriver\n",
    "from selenium.webdriver.common.by import By"
   ]
  },
  {
   "cell_type": "code",
   "execution_count": 8,
   "id": "263cb319",
   "metadata": {},
   "outputs": [],
   "source": [
    "driver = webdriver.Chrome()"
   ]
  },
  {
   "cell_type": "code",
   "execution_count": 12,
   "id": "2603984a",
   "metadata": {},
   "outputs": [],
   "source": [
    "url = \"https://www.shine.com/new/job-search\"\n",
    "driver.get(url)"
   ]
  },
  {
   "cell_type": "code",
   "execution_count": 13,
   "id": "f06419cd",
   "metadata": {},
   "outputs": [],
   "source": [
    "job_title = driver.find_element(By.ID,\"id_q\")\n",
    "job_title.send_keys('Data Analyst')"
   ]
  },
  {
   "cell_type": "code",
   "execution_count": 14,
   "id": "947762ad",
   "metadata": {},
   "outputs": [],
   "source": [
    "job_location = driver.find_element(By.XPATH, '//input[@id=\"id_loc\"]')\n",
    "job_location.send_keys('Bangalore')"
   ]
  },
  {
   "cell_type": "code",
   "execution_count": 15,
   "id": "76ca3b1a",
   "metadata": {},
   "outputs": [],
   "source": [
    "search = driver.find_element(By.XPATH,'//button[@class=\" btn btn-secondary jobSearchForm_search_jobBtn__lpMvq\"]')"
   ]
  },
  {
   "cell_type": "code",
   "execution_count": 16,
   "id": "f449e99d",
   "metadata": {},
   "outputs": [],
   "source": [
    "search.click()"
   ]
  },
  {
   "cell_type": "code",
   "execution_count": 32,
   "id": "aeb897dd",
   "metadata": {},
   "outputs": [],
   "source": [
    "job_title = []\n",
    "job_location=[]\n",
    "Company_name=[]\n",
    "Expierence_required =[]"
   ]
  },
  {
   "cell_type": "code",
   "execution_count": 47,
   "id": "93202ad5",
   "metadata": {},
   "outputs": [],
   "source": [
    "#scraping job title from the given page \n",
    "title_tags = driver.find_elements(By.XPATH,'//h2[@itemprop=\"name\"]')\n",
    "for i in title_tags[:10]:\n",
    "    title = i.text\n",
    "    job_title.append(title)"
   ]
  },
  {
   "cell_type": "code",
   "execution_count": 48,
   "id": "29b9b51e",
   "metadata": {},
   "outputs": [
    {
     "data": {
      "text/plain": [
       "['Lead Data Analyst',\n",
       " 'Data Analyst',\n",
       " 'Vacancy For Data Analyst',\n",
       " 'Clinical Data Analyst',\n",
       " 'Data Management',\n",
       " 'Data Modeler data',\n",
       " 'Data Engineer Ii',\n",
       " 'Data Modeller',\n",
       " 'Full time Opportunity-Networking Advisor-Cisco Nexus -D ...',\n",
       " 'Data Modeler Bangalore']"
      ]
     },
     "execution_count": 48,
     "metadata": {},
     "output_type": "execute_result"
    }
   ],
   "source": [
    "job_title"
   ]
  },
  {
   "cell_type": "code",
   "execution_count": 33,
   "id": "ca478696",
   "metadata": {},
   "outputs": [],
   "source": [
    "location_tags = driver.find_elements(By.XPATH,'//div[@class=\" jobCard_jobCard_lists_item__YxRkV jobCard_locationIcon__zrWt2\"]')\n",
    "for i in location_tags[:10]:\n",
    "    location = i.text\n",
    "    # Split the string on newline and take the first part\n",
    "    loc = location.split('\\n')[0]\n",
    "    job_location.append(loc)"
   ]
  },
  {
   "cell_type": "code",
   "execution_count": 34,
   "id": "1784183b",
   "metadata": {},
   "outputs": [
    {
     "data": {
      "text/plain": [
       "['Bangalore',\n",
       " 'Bangalore',\n",
       " 'Bangalore',\n",
       " 'Bangalore',\n",
       " 'Bangalore',\n",
       " 'Bangalore',\n",
       " 'Bangalore',\n",
       " 'Bangalore',\n",
       " 'Bangalore',\n",
       " 'Bangalore']"
      ]
     },
     "execution_count": 34,
     "metadata": {},
     "output_type": "execute_result"
    }
   ],
   "source": [
    "job_location"
   ]
  },
  {
   "cell_type": "code",
   "execution_count": 36,
   "id": "d45cf1a2",
   "metadata": {},
   "outputs": [],
   "source": [
    "company_tags = driver.find_elements(By.XPATH,'//div[@class=\"jobCard_jobCard_cName__mYnow\"]/span')\n",
    "for i in company_tags[:10]:\n",
    "    company = i.text\n",
    "    Company_name.append(company)"
   ]
  },
  {
   "cell_type": "code",
   "execution_count": 37,
   "id": "25159d24",
   "metadata": {},
   "outputs": [
    {
     "data": {
      "text/plain": [
       "['ara resources private limited',\n",
       " 'diraa hr services hiring for mncs',\n",
       " 'yogita staffing solution',\n",
       " 'techno endura',\n",
       " 'future solution centre',\n",
       " 'boyen haddin consulting and technol...',\n",
       " 'v-tech data outsourcing',\n",
       " 'boyen haddin consulting and technol...',\n",
       " 'ntt data information processing ser...',\n",
       " 'boyen haddin consulting and technol...']"
      ]
     },
     "execution_count": 37,
     "metadata": {},
     "output_type": "execute_result"
    }
   ],
   "source": [
    "Company_name"
   ]
  },
  {
   "cell_type": "code",
   "execution_count": 39,
   "id": "60ac73e4",
   "metadata": {},
   "outputs": [],
   "source": [
    "Experience_tags = driver.find_elements(By.XPATH,'//div[@class=\" jobCard_jobCard_lists_item__YxRkV jobCard_jobIcon__3FB1t\"]')\n",
    "for i in Experience_tags[:10]:\n",
    "    Experience = i.text\n",
    "    Expeirence_required.append(Experience)"
   ]
  },
  {
   "cell_type": "code",
   "execution_count": 40,
   "id": "5b575b6d",
   "metadata": {},
   "outputs": [
    {
     "data": {
      "text/plain": [
       "['4 to 9 Yrs',\n",
       " '0 to 1 Yr',\n",
       " '0 to 3 Yrs',\n",
       " '0 to 1 Yr',\n",
       " '15 to >25 Yrs',\n",
       " '3 to 6 Yrs',\n",
       " '0 to 1 Yr',\n",
       " '3 to 6 Yrs',\n",
       " '10 to 20 Yrs',\n",
       " '3 to 6 Yrs']"
      ]
     },
     "execution_count": 40,
     "metadata": {},
     "output_type": "execute_result"
    }
   ],
   "source": [
    "Expeirence_required"
   ]
  },
  {
   "cell_type": "code",
   "execution_count": 49,
   "id": "4b10868d",
   "metadata": {},
   "outputs": [
    {
     "name": "stdout",
     "output_type": "stream",
     "text": [
      "10 10 10 10\n"
     ]
    }
   ],
   "source": [
    "print(len(job_title),len(job_location),len(Company_name), len(Expeirence_required))"
   ]
  },
  {
   "cell_type": "code",
   "execution_count": 41,
   "id": "492859e0",
   "metadata": {},
   "outputs": [],
   "source": [
    "import pandas as pd "
   ]
  },
  {
   "cell_type": "code",
   "execution_count": 50,
   "id": "5ce79d40",
   "metadata": {},
   "outputs": [],
   "source": [
    "df = pd.DataFrame({'Title':job_title, 'location':job_location, 'Company':Company_name, 'Experience':Expeirence_required})"
   ]
  },
  {
   "cell_type": "code",
   "execution_count": 51,
   "id": "31e66b98",
   "metadata": {},
   "outputs": [
    {
     "data": {
      "text/html": [
       "<div>\n",
       "<style scoped>\n",
       "    .dataframe tbody tr th:only-of-type {\n",
       "        vertical-align: middle;\n",
       "    }\n",
       "\n",
       "    .dataframe tbody tr th {\n",
       "        vertical-align: top;\n",
       "    }\n",
       "\n",
       "    .dataframe thead th {\n",
       "        text-align: right;\n",
       "    }\n",
       "</style>\n",
       "<table border=\"1\" class=\"dataframe\">\n",
       "  <thead>\n",
       "    <tr style=\"text-align: right;\">\n",
       "      <th></th>\n",
       "      <th>Title</th>\n",
       "      <th>location</th>\n",
       "      <th>Company</th>\n",
       "      <th>Experience</th>\n",
       "    </tr>\n",
       "  </thead>\n",
       "  <tbody>\n",
       "    <tr>\n",
       "      <th>0</th>\n",
       "      <td>Lead Data Analyst</td>\n",
       "      <td>Bangalore</td>\n",
       "      <td>ara resources private limited</td>\n",
       "      <td>4 to 9 Yrs</td>\n",
       "    </tr>\n",
       "    <tr>\n",
       "      <th>1</th>\n",
       "      <td>Data Analyst</td>\n",
       "      <td>Bangalore</td>\n",
       "      <td>diraa hr services hiring for mncs</td>\n",
       "      <td>0 to 1 Yr</td>\n",
       "    </tr>\n",
       "    <tr>\n",
       "      <th>2</th>\n",
       "      <td>Vacancy For Data Analyst</td>\n",
       "      <td>Bangalore</td>\n",
       "      <td>yogita staffing solution</td>\n",
       "      <td>0 to 3 Yrs</td>\n",
       "    </tr>\n",
       "    <tr>\n",
       "      <th>3</th>\n",
       "      <td>Clinical Data Analyst</td>\n",
       "      <td>Bangalore</td>\n",
       "      <td>techno endura</td>\n",
       "      <td>0 to 1 Yr</td>\n",
       "    </tr>\n",
       "    <tr>\n",
       "      <th>4</th>\n",
       "      <td>Data Management</td>\n",
       "      <td>Bangalore</td>\n",
       "      <td>future solution centre</td>\n",
       "      <td>15 to &gt;25 Yrs</td>\n",
       "    </tr>\n",
       "    <tr>\n",
       "      <th>5</th>\n",
       "      <td>Data Modeler data</td>\n",
       "      <td>Bangalore</td>\n",
       "      <td>boyen haddin consulting and technol...</td>\n",
       "      <td>3 to 6 Yrs</td>\n",
       "    </tr>\n",
       "    <tr>\n",
       "      <th>6</th>\n",
       "      <td>Data Engineer Ii</td>\n",
       "      <td>Bangalore</td>\n",
       "      <td>v-tech data outsourcing</td>\n",
       "      <td>0 to 1 Yr</td>\n",
       "    </tr>\n",
       "    <tr>\n",
       "      <th>7</th>\n",
       "      <td>Data Modeller</td>\n",
       "      <td>Bangalore</td>\n",
       "      <td>boyen haddin consulting and technol...</td>\n",
       "      <td>3 to 6 Yrs</td>\n",
       "    </tr>\n",
       "    <tr>\n",
       "      <th>8</th>\n",
       "      <td>Full time Opportunity-Networking Advisor-Cisco...</td>\n",
       "      <td>Bangalore</td>\n",
       "      <td>ntt data information processing ser...</td>\n",
       "      <td>10 to 20 Yrs</td>\n",
       "    </tr>\n",
       "    <tr>\n",
       "      <th>9</th>\n",
       "      <td>Data Modeler Bangalore</td>\n",
       "      <td>Bangalore</td>\n",
       "      <td>boyen haddin consulting and technol...</td>\n",
       "      <td>3 to 6 Yrs</td>\n",
       "    </tr>\n",
       "  </tbody>\n",
       "</table>\n",
       "</div>"
      ],
      "text/plain": [
       "                                               Title   location  \\\n",
       "0                                  Lead Data Analyst  Bangalore   \n",
       "1                                       Data Analyst  Bangalore   \n",
       "2                           Vacancy For Data Analyst  Bangalore   \n",
       "3                              Clinical Data Analyst  Bangalore   \n",
       "4                                    Data Management  Bangalore   \n",
       "5                                  Data Modeler data  Bangalore   \n",
       "6                                   Data Engineer Ii  Bangalore   \n",
       "7                                      Data Modeller  Bangalore   \n",
       "8  Full time Opportunity-Networking Advisor-Cisco...  Bangalore   \n",
       "9                             Data Modeler Bangalore  Bangalore   \n",
       "\n",
       "                                  Company     Experience  \n",
       "0           ara resources private limited     4 to 9 Yrs  \n",
       "1       diraa hr services hiring for mncs      0 to 1 Yr  \n",
       "2                yogita staffing solution     0 to 3 Yrs  \n",
       "3                           techno endura      0 to 1 Yr  \n",
       "4                  future solution centre  15 to >25 Yrs  \n",
       "5  boyen haddin consulting and technol...     3 to 6 Yrs  \n",
       "6                 v-tech data outsourcing      0 to 1 Yr  \n",
       "7  boyen haddin consulting and technol...     3 to 6 Yrs  \n",
       "8  ntt data information processing ser...   10 to 20 Yrs  \n",
       "9  boyen haddin consulting and technol...     3 to 6 Yrs  "
      ]
     },
     "execution_count": 51,
     "metadata": {},
     "output_type": "execute_result"
    }
   ],
   "source": [
    "df"
   ]
  },
  {
   "cell_type": "markdown",
   "id": "1e68da38",
   "metadata": {},
   "source": [
    "2.QUESTION--> SOLUTION-->\n",
    "THIS QUESTION HAS BEEN REPEATED"
   ]
  },
  {
   "cell_type": "markdown",
   "id": "17fe9891",
   "metadata": {},
   "source": [
    "3.QUESTION--> SOLUTION-->"
   ]
  },
  {
   "cell_type": "code",
   "execution_count": 92,
   "id": "44cdb6d9",
   "metadata": {},
   "outputs": [],
   "source": [
    "from selenium import webdriver\n",
    "from selenium.webdriver.common.by import By"
   ]
  },
  {
   "cell_type": "code",
   "execution_count": 97,
   "id": "069d990e",
   "metadata": {},
   "outputs": [],
   "source": [
    "driver = webdriver.Chrome()\n",
    "url = \"https://www.shine.com/new/job-search\"\n",
    "driver.get(url)"
   ]
  },
  {
   "cell_type": "code",
   "execution_count": 98,
   "id": "f3d21b14",
   "metadata": {},
   "outputs": [],
   "source": [
    "job_title = driver.find_element(By.ID,\"id_q\")\n",
    "job_title.send_keys('Data Scientist')"
   ]
  },
  {
   "cell_type": "code",
   "execution_count": 99,
   "id": "1f7bbe9d",
   "metadata": {},
   "outputs": [],
   "source": [
    "search = driver.find_element(By.XPATH,'//button[@class=\" btn btn-secondary jobSearchForm_search_jobBtn__lpMvq\"]')"
   ]
  },
  {
   "cell_type": "code",
   "execution_count": 100,
   "id": "fe9310ff",
   "metadata": {},
   "outputs": [],
   "source": [
    "search.click()"
   ]
  },
  {
   "cell_type": "code",
   "execution_count": 101,
   "id": "e0dbfea3",
   "metadata": {},
   "outputs": [],
   "source": [
    "job_title = []\n",
    "Company_name=[]"
   ]
  },
  {
   "cell_type": "code",
   "execution_count": 102,
   "id": "7e52397d",
   "metadata": {},
   "outputs": [],
   "source": [
    "title_tags = driver.find_elements(By.XPATH,'//h2[@itemprop=\"name\"]')\n",
    "for i in title_tags[:10]:\n",
    "    title = i.text\n",
    "    job_title.append(title)"
   ]
  },
  {
   "cell_type": "code",
   "execution_count": 103,
   "id": "479f5d33",
   "metadata": {},
   "outputs": [
    {
     "data": {
      "text/plain": [
       "['Data Scientist | Senior Data Scientist Chennai',\n",
       " 'Data Scientist',\n",
       " 'Data Scientist/Data Analyst-17740',\n",
       " 'Senior Data Scientist - Claims Analysis',\n",
       " 'Data Scientist',\n",
       " 'Data Scientist',\n",
       " 'Senior Data Scientist',\n",
       " 'Data Scientist',\n",
       " 'Data Scientists (All levels), Analytical Chemistry',\n",
       " 'Data Scientist /Quantitative Equity Researcher 2']"
      ]
     },
     "execution_count": 103,
     "metadata": {},
     "output_type": "execute_result"
    }
   ],
   "source": [
    "job_title"
   ]
  },
  {
   "cell_type": "code",
   "execution_count": 118,
   "id": "8bdba20f",
   "metadata": {},
   "outputs": [],
   "source": [
    "job_loc = []\n",
    "location_tags = driver.find_elements(By.XPATH,'//div[@class=\" jobCard_jobCard_lists_item__YxRkV jobCard_locationIcon__zrWt2\"]')\n",
    "for i in location_tags[:10]:\n",
    "    location = i.text\n",
    "    # Split the string on newline and take the first part\n",
    "    loc = location.split('\\n')[0]\n",
    "    job_loc.append(loc)"
   ]
  },
  {
   "cell_type": "code",
   "execution_count": 119,
   "id": "614fb9bc",
   "metadata": {},
   "outputs": [
    {
     "data": {
      "text/plain": [
       "['Chennai',\n",
       " 'Gurugram',\n",
       " 'All India',\n",
       " 'Other Karnataka',\n",
       " 'All India',\n",
       " 'All India',\n",
       " 'Hyderabad',\n",
       " 'All India',\n",
       " 'All India',\n",
       " 'Other Maharashtra']"
      ]
     },
     "execution_count": 119,
     "metadata": {},
     "output_type": "execute_result"
    }
   ],
   "source": [
    "job_loc"
   ]
  },
  {
   "cell_type": "code",
   "execution_count": 108,
   "id": "2da557e3",
   "metadata": {},
   "outputs": [],
   "source": [
    "company_tags = driver.find_elements(By.XPATH,'//div[@class=\"jobCard_jobCard_cName__mYnow\"]/span')\n",
    "for i in company_tags[:10]:\n",
    "    company = i.text\n",
    "    Company_name.append(company)"
   ]
  },
  {
   "cell_type": "code",
   "execution_count": 109,
   "id": "93a52b56",
   "metadata": {},
   "outputs": [
    {
     "data": {
      "text/plain": [
       "['talent leads hr solutions pvt ltd',\n",
       " 'right advisors private limited',\n",
       " 'gemraj technologies ltd',\n",
       " 'molecular connections',\n",
       " 'ank aha',\n",
       " 'stack digital',\n",
       " 'geekbull consulting',\n",
       " 'mindshift analytics',\n",
       " 'braintrust',\n",
       " 'pinebridge investments']"
      ]
     },
     "execution_count": 109,
     "metadata": {},
     "output_type": "execute_result"
    }
   ],
   "source": [
    "Company_name"
   ]
  },
  {
   "cell_type": "code",
   "execution_count": 110,
   "id": "c9c01bad",
   "metadata": {},
   "outputs": [],
   "source": [
    "experience = []\n",
    "Experience_tags = driver.find_elements(By.XPATH,'//div[@class=\" jobCard_jobCard_lists_item__YxRkV jobCard_jobIcon__3FB1t\"]')\n",
    "for i in Experience_tags[:10]:\n",
    "    Experience = i.text\n",
    "    experience.append(Experience)"
   ]
  },
  {
   "cell_type": "code",
   "execution_count": 112,
   "id": "b8a83a3e",
   "metadata": {},
   "outputs": [
    {
     "data": {
      "text/plain": [
       "['8 to 13 Yrs',\n",
       " '2 to 7 Yrs',\n",
       " '3 to 7 Yrs',\n",
       " '2 to 5 Yrs',\n",
       " '2 to 6 Yrs',\n",
       " '5 to 8 Yrs',\n",
       " '2 to 6 Yrs',\n",
       " '3 to 7 Yrs',\n",
       " '2 to 6 Yrs',\n",
       " '0 to 7 Yrs']"
      ]
     },
     "execution_count": 112,
     "metadata": {},
     "output_type": "execute_result"
    }
   ],
   "source": [
    "experience"
   ]
  },
  {
   "cell_type": "code",
   "execution_count": 120,
   "id": "95eae663",
   "metadata": {},
   "outputs": [
    {
     "name": "stdout",
     "output_type": "stream",
     "text": [
      "10 10 10 10\n"
     ]
    }
   ],
   "source": [
    "print(len(job_title),len(job_loc),len(Company_name), len(experience))"
   ]
  },
  {
   "cell_type": "code",
   "execution_count": 121,
   "id": "1ad5321b",
   "metadata": {},
   "outputs": [],
   "source": [
    "df = pd.DataFrame({'Title':job_title, 'location':job_loc, 'Company':Company_name, 'Experience':experience})"
   ]
  },
  {
   "cell_type": "code",
   "execution_count": 122,
   "id": "16749ef6",
   "metadata": {},
   "outputs": [
    {
     "data": {
      "text/html": [
       "<div>\n",
       "<style scoped>\n",
       "    .dataframe tbody tr th:only-of-type {\n",
       "        vertical-align: middle;\n",
       "    }\n",
       "\n",
       "    .dataframe tbody tr th {\n",
       "        vertical-align: top;\n",
       "    }\n",
       "\n",
       "    .dataframe thead th {\n",
       "        text-align: right;\n",
       "    }\n",
       "</style>\n",
       "<table border=\"1\" class=\"dataframe\">\n",
       "  <thead>\n",
       "    <tr style=\"text-align: right;\">\n",
       "      <th></th>\n",
       "      <th>Title</th>\n",
       "      <th>location</th>\n",
       "      <th>Company</th>\n",
       "      <th>Experience</th>\n",
       "    </tr>\n",
       "  </thead>\n",
       "  <tbody>\n",
       "    <tr>\n",
       "      <th>0</th>\n",
       "      <td>Data Scientist | Senior Data Scientist Chennai</td>\n",
       "      <td>Chennai</td>\n",
       "      <td>talent leads hr solutions pvt ltd</td>\n",
       "      <td>8 to 13 Yrs</td>\n",
       "    </tr>\n",
       "    <tr>\n",
       "      <th>1</th>\n",
       "      <td>Data Scientist</td>\n",
       "      <td>Gurugram</td>\n",
       "      <td>right advisors private limited</td>\n",
       "      <td>2 to 7 Yrs</td>\n",
       "    </tr>\n",
       "    <tr>\n",
       "      <th>2</th>\n",
       "      <td>Data Scientist/Data Analyst-17740</td>\n",
       "      <td>All India</td>\n",
       "      <td>gemraj technologies ltd</td>\n",
       "      <td>3 to 7 Yrs</td>\n",
       "    </tr>\n",
       "    <tr>\n",
       "      <th>3</th>\n",
       "      <td>Senior Data Scientist - Claims Analysis</td>\n",
       "      <td>Other Karnataka</td>\n",
       "      <td>molecular connections</td>\n",
       "      <td>2 to 5 Yrs</td>\n",
       "    </tr>\n",
       "    <tr>\n",
       "      <th>4</th>\n",
       "      <td>Data Scientist</td>\n",
       "      <td>All India</td>\n",
       "      <td>ank aha</td>\n",
       "      <td>2 to 6 Yrs</td>\n",
       "    </tr>\n",
       "    <tr>\n",
       "      <th>5</th>\n",
       "      <td>Data Scientist</td>\n",
       "      <td>All India</td>\n",
       "      <td>stack digital</td>\n",
       "      <td>5 to 8 Yrs</td>\n",
       "    </tr>\n",
       "    <tr>\n",
       "      <th>6</th>\n",
       "      <td>Senior Data Scientist</td>\n",
       "      <td>Hyderabad</td>\n",
       "      <td>geekbull consulting</td>\n",
       "      <td>2 to 6 Yrs</td>\n",
       "    </tr>\n",
       "    <tr>\n",
       "      <th>7</th>\n",
       "      <td>Data Scientist</td>\n",
       "      <td>All India</td>\n",
       "      <td>mindshift analytics</td>\n",
       "      <td>3 to 7 Yrs</td>\n",
       "    </tr>\n",
       "    <tr>\n",
       "      <th>8</th>\n",
       "      <td>Data Scientists (All levels), Analytical Chemi...</td>\n",
       "      <td>All India</td>\n",
       "      <td>braintrust</td>\n",
       "      <td>2 to 6 Yrs</td>\n",
       "    </tr>\n",
       "    <tr>\n",
       "      <th>9</th>\n",
       "      <td>Data Scientist /Quantitative Equity Researcher 2</td>\n",
       "      <td>Other Maharashtra</td>\n",
       "      <td>pinebridge investments</td>\n",
       "      <td>0 to 7 Yrs</td>\n",
       "    </tr>\n",
       "  </tbody>\n",
       "</table>\n",
       "</div>"
      ],
      "text/plain": [
       "                                               Title           location  \\\n",
       "0     Data Scientist | Senior Data Scientist Chennai            Chennai   \n",
       "1                                     Data Scientist           Gurugram   \n",
       "2                  Data Scientist/Data Analyst-17740          All India   \n",
       "3            Senior Data Scientist - Claims Analysis    Other Karnataka   \n",
       "4                                     Data Scientist          All India   \n",
       "5                                     Data Scientist          All India   \n",
       "6                              Senior Data Scientist          Hyderabad   \n",
       "7                                     Data Scientist          All India   \n",
       "8  Data Scientists (All levels), Analytical Chemi...          All India   \n",
       "9   Data Scientist /Quantitative Equity Researcher 2  Other Maharashtra   \n",
       "\n",
       "                             Company   Experience  \n",
       "0  talent leads hr solutions pvt ltd  8 to 13 Yrs  \n",
       "1     right advisors private limited   2 to 7 Yrs  \n",
       "2            gemraj technologies ltd   3 to 7 Yrs  \n",
       "3              molecular connections   2 to 5 Yrs  \n",
       "4                            ank aha   2 to 6 Yrs  \n",
       "5                      stack digital   5 to 8 Yrs  \n",
       "6                geekbull consulting   2 to 6 Yrs  \n",
       "7                mindshift analytics   3 to 7 Yrs  \n",
       "8                         braintrust   2 to 6 Yrs  \n",
       "9             pinebridge investments   0 to 7 Yrs  "
      ]
     },
     "execution_count": 122,
     "metadata": {},
     "output_type": "execute_result"
    }
   ],
   "source": [
    "df"
   ]
  },
  {
   "cell_type": "markdown",
   "id": "6d767c70",
   "metadata": {},
   "source": [
    "4. QUESTION--> SOLUTION"
   ]
  },
  {
   "cell_type": "code",
   "execution_count": 31,
   "id": "b1c9e52d",
   "metadata": {},
   "outputs": [],
   "source": [
    "from selenium import webdriver\n",
    "from selenium.webdriver.common.by import By"
   ]
  },
  {
   "cell_type": "code",
   "execution_count": 32,
   "id": "37b7601e",
   "metadata": {},
   "outputs": [],
   "source": [
    "driver = webdriver.Chrome()\n",
    "url = \"https://www.flipkart.com/\"\n",
    "driver.get(url)"
   ]
  },
  {
   "cell_type": "code",
   "execution_count": 33,
   "id": "46fb5a1f",
   "metadata": {},
   "outputs": [],
   "source": [
    "job_title = driver.find_element(By.XPATH, '//input[@class=\"Pke_EE\"]')\n",
    "job_title.send_keys('sunglasses')"
   ]
  },
  {
   "cell_type": "code",
   "execution_count": 34,
   "id": "bfd0ed61",
   "metadata": {},
   "outputs": [],
   "source": [
    "search = driver.find_element(By.XPATH,'//button[@class=\"_2iLD__\"]')"
   ]
  },
  {
   "cell_type": "code",
   "execution_count": 35,
   "id": "5dc9d769",
   "metadata": {},
   "outputs": [],
   "source": [
    "search.submit()"
   ]
  },
  {
   "cell_type": "code",
   "execution_count": 36,
   "id": "a56849ae",
   "metadata": {},
   "outputs": [],
   "source": [
    "brand_name = []\n",
    "brand_tags = driver.find_elements(By.XPATH,'//div[@class=\"_2WkVRV\"]')\n",
    "for i in brand_tags:\n",
    "    brand = i.text\n",
    "    brand_name.append(brand)"
   ]
  },
  {
   "cell_type": "code",
   "execution_count": 37,
   "id": "61500da8",
   "metadata": {},
   "outputs": [
    {
     "data": {
      "text/plain": [
       "['Elligator',\n",
       " 'Elligator',\n",
       " 'SRPM',\n",
       " 'ROADWAY',\n",
       " 'ROADWAY',\n",
       " 'ROADWAY',\n",
       " 'Niavaa',\n",
       " 'Elligator',\n",
       " 'ROADWAY',\n",
       " 'Elligator',\n",
       " 'Elligator',\n",
       " 'Elligator',\n",
       " 'Elligator',\n",
       " 'Niavaa',\n",
       " 'VINCENT CHASE',\n",
       " 'Fastrack',\n",
       " 'Lenskart STUDIO',\n",
       " 'PROVOGUE',\n",
       " 'Arzonai',\n",
       " 'Rich Club',\n",
       " 'Eyewearlabs',\n",
       " 'ROYAL SON',\n",
       " 'Fastrack',\n",
       " 'Elligator',\n",
       " 'VINCENT CHASE',\n",
       " 'Fastrack',\n",
       " 'NuVew',\n",
       " 'ROZZETTA CRAFT',\n",
       " 'AKAYI',\n",
       " 'Fastrack',\n",
       " 'Eyewearlabs',\n",
       " 'ROYAL SON',\n",
       " 'Rich Club',\n",
       " 'Fastrack',\n",
       " 'Nk tip top',\n",
       " 'Elligator',\n",
       " 'ROYAL SON',\n",
       " 'ROZZETTA CRAFT',\n",
       " 'PIRASO',\n",
       " 'Fastrack']"
      ]
     },
     "execution_count": 37,
     "metadata": {},
     "output_type": "execute_result"
    }
   ],
   "source": [
    "brand_name"
   ]
  },
  {
   "cell_type": "code",
   "execution_count": 38,
   "id": "d813ac1a",
   "metadata": {},
   "outputs": [],
   "source": [
    "product_desc = []\n",
    "product_desc_tags =driver.find_elements(By.XPATH,'//div[@class=\"_2B099V\"]/a[1]')\n",
    "for i in product_desc_tags:\n",
    "    product = i.text\n",
    "    product_desc.append(product)"
   ]
  },
  {
   "cell_type": "code",
   "execution_count": 39,
   "id": "6be478d2",
   "metadata": {},
   "outputs": [
    {
     "data": {
      "text/plain": [
       "['UV Protection Wayfarer Sunglasses (52)',\n",
       " 'UV Protection Wayfarer, Retro Square Sunglasses (52)',\n",
       " 'UV Protection Wayfarer Sunglasses (50)',\n",
       " 'UV Protection Wayfarer, Sports, Spectacle , Retro Squar...',\n",
       " 'UV Protection Wayfarer Sunglasses (Free Size)',\n",
       " 'UV Protection Retro Square, Wayfarer, Sports Sunglasses...',\n",
       " 'UV Protection Retro Square Sunglasses (Free Size)',\n",
       " 'UV Protection Retro Square, Aviator Sunglasses (52)',\n",
       " 'UV Protection Retro Square Sunglasses (Free Size)',\n",
       " 'UV Protection, Mirrored Wayfarer Sunglasses (52)',\n",
       " 'UV Protection Wayfarer, Retro Square Sunglasses (52)',\n",
       " 'UV Protection Wayfarer, Retro Square Sunglasses (52)',\n",
       " 'UV Protection Retro Square Sunglasses (54)',\n",
       " 'UV Protection Retro Square Sunglasses (Free Size)',\n",
       " 'by Lenskart UV Protection Wayfarer Sunglasses (59)',\n",
       " 'UV Protection Rectangular Sunglasses (Free Size)',\n",
       " 'Polarized, UV Protection Sports Sunglasses (55)',\n",
       " 'UV Protection Round Sunglasses (Free Size)',\n",
       " 'UV Protection Over-sized Sunglasses (Free Size)',\n",
       " 'UV Protection Retro Square Sunglasses (54)',\n",
       " 'Polarized, UV Protection Wayfarer Sunglasses (51)',\n",
       " 'Mirrored Aviator Sunglasses (58)',\n",
       " 'Gradient, UV Protection Wayfarer Sunglasses (Free Size)',\n",
       " 'UV Protection Wayfarer Sunglasses (50)',\n",
       " 'by Lenskart Polarized, UV Protection Wayfarer Sunglasse...',\n",
       " 'UV Protection Aviator Sunglasses (58)',\n",
       " 'UV Protection Sports, Wrap-around Sunglasses (70)',\n",
       " 'UV Protection, Gradient Rectangular Sunglasses (Free Si...',\n",
       " 'UV Protection Retro Square Sunglasses (50)',\n",
       " 'UV Protection Shield Sunglasses (Free Size)',\n",
       " 'Polarized, UV Protection Rectangular Sunglasses (65)',\n",
       " 'Polarized, UV Protection Wayfarer, Retro Square Sunglas...',\n",
       " 'UV Protection Rectangular Sunglasses (52)',\n",
       " 'UV Protection Wayfarer Sunglasses (Free Size)',\n",
       " 'UV Protection Wayfarer, Retro Square, Sports, Spectacle...',\n",
       " 'UV Protection Cat-eye, Retro Square, Oval, Round Sungla...',\n",
       " 'Polarized, UV Protection Aviator Sunglasses (58)',\n",
       " 'UV Protection Aviator Sunglasses (62)',\n",
       " 'UV Protection Wayfarer Sunglasses (32)',\n",
       " 'UV Protection Aviator Sunglasses (58)']"
      ]
     },
     "execution_count": 39,
     "metadata": {},
     "output_type": "execute_result"
    }
   ],
   "source": [
    "product_desc"
   ]
  },
  {
   "cell_type": "code",
   "execution_count": 40,
   "id": "fecef512",
   "metadata": {},
   "outputs": [],
   "source": [
    "price = []\n",
    "price_tags =driver.find_elements(By.XPATH,'//div[@class=\"_30jeq3\"]')\n",
    "for i in price_tags:\n",
    "    product_price = i.text\n",
    "    price.append(product_price)"
   ]
  },
  {
   "cell_type": "code",
   "execution_count": 41,
   "id": "497f5ec4",
   "metadata": {},
   "outputs": [
    {
     "data": {
      "text/plain": [
       "['₹159',\n",
       " '₹199',\n",
       " '₹169',\n",
       " '₹129',\n",
       " '₹189',\n",
       " '₹129',\n",
       " '₹247',\n",
       " '₹199',\n",
       " '₹169',\n",
       " '₹169',\n",
       " '₹199',\n",
       " '₹199',\n",
       " '₹159',\n",
       " '₹247',\n",
       " '₹499',\n",
       " '₹539',\n",
       " '₹1,429',\n",
       " '₹634',\n",
       " '₹224',\n",
       " '₹487',\n",
       " '₹1,236',\n",
       " '₹359',\n",
       " '₹549',\n",
       " '₹169',\n",
       " '₹599',\n",
       " '₹819',\n",
       " '₹474',\n",
       " '₹385',\n",
       " '₹216',\n",
       " '₹619',\n",
       " '₹2,199',\n",
       " '₹594',\n",
       " '₹394',\n",
       " '₹569',\n",
       " '₹199',\n",
       " '₹149',\n",
       " '₹636',\n",
       " '₹597',\n",
       " '₹199',\n",
       " '₹799']"
      ]
     },
     "execution_count": 41,
     "metadata": {},
     "output_type": "execute_result"
    }
   ],
   "source": [
    "price"
   ]
  },
  {
   "cell_type": "code",
   "execution_count": 42,
   "id": "e2364384",
   "metadata": {},
   "outputs": [],
   "source": [
    "discount = []\n",
    "discount_tags =driver.find_elements(By.XPATH,'//div[@class=\"_3Ay6Sb\"]/span')\n",
    "for i in discount_tags:\n",
    "    disc_ = i.text\n",
    "    discount.append(disc_)"
   ]
  },
  {
   "cell_type": "code",
   "execution_count": 43,
   "id": "2732b59d",
   "metadata": {},
   "outputs": [
    {
     "data": {
      "text/plain": [
       "['84% off',\n",
       " '80% off',\n",
       " '86% off',\n",
       " '90% off',\n",
       " '81% off',\n",
       " '87% off',\n",
       " '64% off',\n",
       " '80% off',\n",
       " '86% off',\n",
       " '83% off',\n",
       " '80% off',\n",
       " '80% off',\n",
       " '68% off',\n",
       " '64% off',\n",
       " '75% off',\n",
       " '40% off',\n",
       " '59% off',\n",
       " '75% off',\n",
       " '77% off',\n",
       " '62% off',\n",
       " '65% off',\n",
       " '76% off',\n",
       " '45% off',\n",
       " '86% off',\n",
       " '70% off',\n",
       " '41% off',\n",
       " '70% off',\n",
       " '80% off',\n",
       " '86% off',\n",
       " '38% off',\n",
       " '38% off',\n",
       " '70% off',\n",
       " '80% off',\n",
       " '43% off',\n",
       " '84% off',\n",
       " '75% off',\n",
       " '68% off',\n",
       " '76% off',\n",
       " '87% off',\n",
       " '42% off']"
      ]
     },
     "execution_count": 43,
     "metadata": {},
     "output_type": "execute_result"
    }
   ],
   "source": [
    "discount"
   ]
  },
  {
   "cell_type": "code",
   "execution_count": 44,
   "id": "99cd3c90",
   "metadata": {},
   "outputs": [],
   "source": [
    "df = pd.DataFrame({'brand':brand_name, 'product_description':product_desc , 'product_price':price, 'Discount':discount})"
   ]
  },
  {
   "cell_type": "code",
   "execution_count": 45,
   "id": "b13e0299",
   "metadata": {},
   "outputs": [
    {
     "data": {
      "text/html": [
       "<div>\n",
       "<style scoped>\n",
       "    .dataframe tbody tr th:only-of-type {\n",
       "        vertical-align: middle;\n",
       "    }\n",
       "\n",
       "    .dataframe tbody tr th {\n",
       "        vertical-align: top;\n",
       "    }\n",
       "\n",
       "    .dataframe thead th {\n",
       "        text-align: right;\n",
       "    }\n",
       "</style>\n",
       "<table border=\"1\" class=\"dataframe\">\n",
       "  <thead>\n",
       "    <tr style=\"text-align: right;\">\n",
       "      <th></th>\n",
       "      <th>brand</th>\n",
       "      <th>product_description</th>\n",
       "      <th>product_price</th>\n",
       "      <th>Discount</th>\n",
       "    </tr>\n",
       "  </thead>\n",
       "  <tbody>\n",
       "    <tr>\n",
       "      <th>0</th>\n",
       "      <td>Elligator</td>\n",
       "      <td>UV Protection Wayfarer Sunglasses (52)</td>\n",
       "      <td>₹159</td>\n",
       "      <td>84% off</td>\n",
       "    </tr>\n",
       "    <tr>\n",
       "      <th>1</th>\n",
       "      <td>Elligator</td>\n",
       "      <td>UV Protection Wayfarer, Retro Square Sunglasse...</td>\n",
       "      <td>₹199</td>\n",
       "      <td>80% off</td>\n",
       "    </tr>\n",
       "    <tr>\n",
       "      <th>2</th>\n",
       "      <td>SRPM</td>\n",
       "      <td>UV Protection Wayfarer Sunglasses (50)</td>\n",
       "      <td>₹169</td>\n",
       "      <td>86% off</td>\n",
       "    </tr>\n",
       "    <tr>\n",
       "      <th>3</th>\n",
       "      <td>ROADWAY</td>\n",
       "      <td>UV Protection Wayfarer, Sports, Spectacle , Re...</td>\n",
       "      <td>₹129</td>\n",
       "      <td>90% off</td>\n",
       "    </tr>\n",
       "    <tr>\n",
       "      <th>4</th>\n",
       "      <td>ROADWAY</td>\n",
       "      <td>UV Protection Wayfarer Sunglasses (Free Size)</td>\n",
       "      <td>₹189</td>\n",
       "      <td>81% off</td>\n",
       "    </tr>\n",
       "    <tr>\n",
       "      <th>5</th>\n",
       "      <td>ROADWAY</td>\n",
       "      <td>UV Protection Retro Square, Wayfarer, Sports S...</td>\n",
       "      <td>₹129</td>\n",
       "      <td>87% off</td>\n",
       "    </tr>\n",
       "    <tr>\n",
       "      <th>6</th>\n",
       "      <td>Niavaa</td>\n",
       "      <td>UV Protection Retro Square Sunglasses (Free Size)</td>\n",
       "      <td>₹247</td>\n",
       "      <td>64% off</td>\n",
       "    </tr>\n",
       "    <tr>\n",
       "      <th>7</th>\n",
       "      <td>Elligator</td>\n",
       "      <td>UV Protection Retro Square, Aviator Sunglasses...</td>\n",
       "      <td>₹199</td>\n",
       "      <td>80% off</td>\n",
       "    </tr>\n",
       "    <tr>\n",
       "      <th>8</th>\n",
       "      <td>ROADWAY</td>\n",
       "      <td>UV Protection Retro Square Sunglasses (Free Size)</td>\n",
       "      <td>₹169</td>\n",
       "      <td>86% off</td>\n",
       "    </tr>\n",
       "    <tr>\n",
       "      <th>9</th>\n",
       "      <td>Elligator</td>\n",
       "      <td>UV Protection, Mirrored Wayfarer Sunglasses (52)</td>\n",
       "      <td>₹169</td>\n",
       "      <td>83% off</td>\n",
       "    </tr>\n",
       "    <tr>\n",
       "      <th>10</th>\n",
       "      <td>Elligator</td>\n",
       "      <td>UV Protection Wayfarer, Retro Square Sunglasse...</td>\n",
       "      <td>₹199</td>\n",
       "      <td>80% off</td>\n",
       "    </tr>\n",
       "    <tr>\n",
       "      <th>11</th>\n",
       "      <td>Elligator</td>\n",
       "      <td>UV Protection Wayfarer, Retro Square Sunglasse...</td>\n",
       "      <td>₹199</td>\n",
       "      <td>80% off</td>\n",
       "    </tr>\n",
       "    <tr>\n",
       "      <th>12</th>\n",
       "      <td>Elligator</td>\n",
       "      <td>UV Protection Retro Square Sunglasses (54)</td>\n",
       "      <td>₹159</td>\n",
       "      <td>68% off</td>\n",
       "    </tr>\n",
       "    <tr>\n",
       "      <th>13</th>\n",
       "      <td>Niavaa</td>\n",
       "      <td>UV Protection Retro Square Sunglasses (Free Size)</td>\n",
       "      <td>₹247</td>\n",
       "      <td>64% off</td>\n",
       "    </tr>\n",
       "    <tr>\n",
       "      <th>14</th>\n",
       "      <td>VINCENT CHASE</td>\n",
       "      <td>by Lenskart UV Protection Wayfarer Sunglasses ...</td>\n",
       "      <td>₹499</td>\n",
       "      <td>75% off</td>\n",
       "    </tr>\n",
       "    <tr>\n",
       "      <th>15</th>\n",
       "      <td>Fastrack</td>\n",
       "      <td>UV Protection Rectangular Sunglasses (Free Size)</td>\n",
       "      <td>₹539</td>\n",
       "      <td>40% off</td>\n",
       "    </tr>\n",
       "    <tr>\n",
       "      <th>16</th>\n",
       "      <td>Lenskart STUDIO</td>\n",
       "      <td>Polarized, UV Protection Sports Sunglasses (55)</td>\n",
       "      <td>₹1,429</td>\n",
       "      <td>59% off</td>\n",
       "    </tr>\n",
       "    <tr>\n",
       "      <th>17</th>\n",
       "      <td>PROVOGUE</td>\n",
       "      <td>UV Protection Round Sunglasses (Free Size)</td>\n",
       "      <td>₹634</td>\n",
       "      <td>75% off</td>\n",
       "    </tr>\n",
       "    <tr>\n",
       "      <th>18</th>\n",
       "      <td>Arzonai</td>\n",
       "      <td>UV Protection Over-sized Sunglasses (Free Size)</td>\n",
       "      <td>₹224</td>\n",
       "      <td>77% off</td>\n",
       "    </tr>\n",
       "    <tr>\n",
       "      <th>19</th>\n",
       "      <td>Rich Club</td>\n",
       "      <td>UV Protection Retro Square Sunglasses (54)</td>\n",
       "      <td>₹487</td>\n",
       "      <td>62% off</td>\n",
       "    </tr>\n",
       "    <tr>\n",
       "      <th>20</th>\n",
       "      <td>Eyewearlabs</td>\n",
       "      <td>Polarized, UV Protection Wayfarer Sunglasses (51)</td>\n",
       "      <td>₹1,236</td>\n",
       "      <td>65% off</td>\n",
       "    </tr>\n",
       "    <tr>\n",
       "      <th>21</th>\n",
       "      <td>ROYAL SON</td>\n",
       "      <td>Mirrored Aviator Sunglasses (58)</td>\n",
       "      <td>₹359</td>\n",
       "      <td>76% off</td>\n",
       "    </tr>\n",
       "    <tr>\n",
       "      <th>22</th>\n",
       "      <td>Fastrack</td>\n",
       "      <td>Gradient, UV Protection Wayfarer Sunglasses (F...</td>\n",
       "      <td>₹549</td>\n",
       "      <td>45% off</td>\n",
       "    </tr>\n",
       "    <tr>\n",
       "      <th>23</th>\n",
       "      <td>Elligator</td>\n",
       "      <td>UV Protection Wayfarer Sunglasses (50)</td>\n",
       "      <td>₹169</td>\n",
       "      <td>86% off</td>\n",
       "    </tr>\n",
       "    <tr>\n",
       "      <th>24</th>\n",
       "      <td>VINCENT CHASE</td>\n",
       "      <td>by Lenskart Polarized, UV Protection Wayfarer ...</td>\n",
       "      <td>₹599</td>\n",
       "      <td>70% off</td>\n",
       "    </tr>\n",
       "    <tr>\n",
       "      <th>25</th>\n",
       "      <td>Fastrack</td>\n",
       "      <td>UV Protection Aviator Sunglasses (58)</td>\n",
       "      <td>₹819</td>\n",
       "      <td>41% off</td>\n",
       "    </tr>\n",
       "    <tr>\n",
       "      <th>26</th>\n",
       "      <td>NuVew</td>\n",
       "      <td>UV Protection Sports, Wrap-around Sunglasses (70)</td>\n",
       "      <td>₹474</td>\n",
       "      <td>70% off</td>\n",
       "    </tr>\n",
       "    <tr>\n",
       "      <th>27</th>\n",
       "      <td>ROZZETTA CRAFT</td>\n",
       "      <td>UV Protection, Gradient Rectangular Sunglasses...</td>\n",
       "      <td>₹385</td>\n",
       "      <td>80% off</td>\n",
       "    </tr>\n",
       "    <tr>\n",
       "      <th>28</th>\n",
       "      <td>AKAYI</td>\n",
       "      <td>UV Protection Retro Square Sunglasses (50)</td>\n",
       "      <td>₹216</td>\n",
       "      <td>86% off</td>\n",
       "    </tr>\n",
       "    <tr>\n",
       "      <th>29</th>\n",
       "      <td>Fastrack</td>\n",
       "      <td>UV Protection Shield Sunglasses (Free Size)</td>\n",
       "      <td>₹619</td>\n",
       "      <td>38% off</td>\n",
       "    </tr>\n",
       "    <tr>\n",
       "      <th>30</th>\n",
       "      <td>Eyewearlabs</td>\n",
       "      <td>Polarized, UV Protection Rectangular Sunglasse...</td>\n",
       "      <td>₹2,199</td>\n",
       "      <td>38% off</td>\n",
       "    </tr>\n",
       "    <tr>\n",
       "      <th>31</th>\n",
       "      <td>ROYAL SON</td>\n",
       "      <td>Polarized, UV Protection Wayfarer, Retro Squar...</td>\n",
       "      <td>₹594</td>\n",
       "      <td>70% off</td>\n",
       "    </tr>\n",
       "    <tr>\n",
       "      <th>32</th>\n",
       "      <td>Rich Club</td>\n",
       "      <td>UV Protection Rectangular Sunglasses (52)</td>\n",
       "      <td>₹394</td>\n",
       "      <td>80% off</td>\n",
       "    </tr>\n",
       "    <tr>\n",
       "      <th>33</th>\n",
       "      <td>Fastrack</td>\n",
       "      <td>UV Protection Wayfarer Sunglasses (Free Size)</td>\n",
       "      <td>₹569</td>\n",
       "      <td>43% off</td>\n",
       "    </tr>\n",
       "    <tr>\n",
       "      <th>34</th>\n",
       "      <td>Nk tip top</td>\n",
       "      <td>UV Protection Wayfarer, Retro Square, Sports, ...</td>\n",
       "      <td>₹199</td>\n",
       "      <td>84% off</td>\n",
       "    </tr>\n",
       "    <tr>\n",
       "      <th>35</th>\n",
       "      <td>Elligator</td>\n",
       "      <td>UV Protection Cat-eye, Retro Square, Oval, Rou...</td>\n",
       "      <td>₹149</td>\n",
       "      <td>75% off</td>\n",
       "    </tr>\n",
       "    <tr>\n",
       "      <th>36</th>\n",
       "      <td>ROYAL SON</td>\n",
       "      <td>Polarized, UV Protection Aviator Sunglasses (58)</td>\n",
       "      <td>₹636</td>\n",
       "      <td>68% off</td>\n",
       "    </tr>\n",
       "    <tr>\n",
       "      <th>37</th>\n",
       "      <td>ROZZETTA CRAFT</td>\n",
       "      <td>UV Protection Aviator Sunglasses (62)</td>\n",
       "      <td>₹597</td>\n",
       "      <td>76% off</td>\n",
       "    </tr>\n",
       "    <tr>\n",
       "      <th>38</th>\n",
       "      <td>PIRASO</td>\n",
       "      <td>UV Protection Wayfarer Sunglasses (32)</td>\n",
       "      <td>₹199</td>\n",
       "      <td>87% off</td>\n",
       "    </tr>\n",
       "    <tr>\n",
       "      <th>39</th>\n",
       "      <td>Fastrack</td>\n",
       "      <td>UV Protection Aviator Sunglasses (58)</td>\n",
       "      <td>₹799</td>\n",
       "      <td>42% off</td>\n",
       "    </tr>\n",
       "  </tbody>\n",
       "</table>\n",
       "</div>"
      ],
      "text/plain": [
       "              brand                                product_description  \\\n",
       "0         Elligator             UV Protection Wayfarer Sunglasses (52)   \n",
       "1         Elligator  UV Protection Wayfarer, Retro Square Sunglasse...   \n",
       "2              SRPM             UV Protection Wayfarer Sunglasses (50)   \n",
       "3           ROADWAY  UV Protection Wayfarer, Sports, Spectacle , Re...   \n",
       "4           ROADWAY      UV Protection Wayfarer Sunglasses (Free Size)   \n",
       "5           ROADWAY  UV Protection Retro Square, Wayfarer, Sports S...   \n",
       "6            Niavaa  UV Protection Retro Square Sunglasses (Free Size)   \n",
       "7         Elligator  UV Protection Retro Square, Aviator Sunglasses...   \n",
       "8           ROADWAY  UV Protection Retro Square Sunglasses (Free Size)   \n",
       "9         Elligator   UV Protection, Mirrored Wayfarer Sunglasses (52)   \n",
       "10        Elligator  UV Protection Wayfarer, Retro Square Sunglasse...   \n",
       "11        Elligator  UV Protection Wayfarer, Retro Square Sunglasse...   \n",
       "12        Elligator         UV Protection Retro Square Sunglasses (54)   \n",
       "13           Niavaa  UV Protection Retro Square Sunglasses (Free Size)   \n",
       "14    VINCENT CHASE  by Lenskart UV Protection Wayfarer Sunglasses ...   \n",
       "15         Fastrack   UV Protection Rectangular Sunglasses (Free Size)   \n",
       "16  Lenskart STUDIO    Polarized, UV Protection Sports Sunglasses (55)   \n",
       "17         PROVOGUE         UV Protection Round Sunglasses (Free Size)   \n",
       "18          Arzonai    UV Protection Over-sized Sunglasses (Free Size)   \n",
       "19        Rich Club         UV Protection Retro Square Sunglasses (54)   \n",
       "20      Eyewearlabs  Polarized, UV Protection Wayfarer Sunglasses (51)   \n",
       "21        ROYAL SON                   Mirrored Aviator Sunglasses (58)   \n",
       "22         Fastrack  Gradient, UV Protection Wayfarer Sunglasses (F...   \n",
       "23        Elligator             UV Protection Wayfarer Sunglasses (50)   \n",
       "24    VINCENT CHASE  by Lenskart Polarized, UV Protection Wayfarer ...   \n",
       "25         Fastrack              UV Protection Aviator Sunglasses (58)   \n",
       "26            NuVew  UV Protection Sports, Wrap-around Sunglasses (70)   \n",
       "27   ROZZETTA CRAFT  UV Protection, Gradient Rectangular Sunglasses...   \n",
       "28            AKAYI         UV Protection Retro Square Sunglasses (50)   \n",
       "29         Fastrack        UV Protection Shield Sunglasses (Free Size)   \n",
       "30      Eyewearlabs  Polarized, UV Protection Rectangular Sunglasse...   \n",
       "31        ROYAL SON  Polarized, UV Protection Wayfarer, Retro Squar...   \n",
       "32        Rich Club          UV Protection Rectangular Sunglasses (52)   \n",
       "33         Fastrack      UV Protection Wayfarer Sunglasses (Free Size)   \n",
       "34       Nk tip top  UV Protection Wayfarer, Retro Square, Sports, ...   \n",
       "35        Elligator  UV Protection Cat-eye, Retro Square, Oval, Rou...   \n",
       "36        ROYAL SON   Polarized, UV Protection Aviator Sunglasses (58)   \n",
       "37   ROZZETTA CRAFT              UV Protection Aviator Sunglasses (62)   \n",
       "38           PIRASO             UV Protection Wayfarer Sunglasses (32)   \n",
       "39         Fastrack              UV Protection Aviator Sunglasses (58)   \n",
       "\n",
       "   product_price Discount  \n",
       "0           ₹159  84% off  \n",
       "1           ₹199  80% off  \n",
       "2           ₹169  86% off  \n",
       "3           ₹129  90% off  \n",
       "4           ₹189  81% off  \n",
       "5           ₹129  87% off  \n",
       "6           ₹247  64% off  \n",
       "7           ₹199  80% off  \n",
       "8           ₹169  86% off  \n",
       "9           ₹169  83% off  \n",
       "10          ₹199  80% off  \n",
       "11          ₹199  80% off  \n",
       "12          ₹159  68% off  \n",
       "13          ₹247  64% off  \n",
       "14          ₹499  75% off  \n",
       "15          ₹539  40% off  \n",
       "16        ₹1,429  59% off  \n",
       "17          ₹634  75% off  \n",
       "18          ₹224  77% off  \n",
       "19          ₹487  62% off  \n",
       "20        ₹1,236  65% off  \n",
       "21          ₹359  76% off  \n",
       "22          ₹549  45% off  \n",
       "23          ₹169  86% off  \n",
       "24          ₹599  70% off  \n",
       "25          ₹819  41% off  \n",
       "26          ₹474  70% off  \n",
       "27          ₹385  80% off  \n",
       "28          ₹216  86% off  \n",
       "29          ₹619  38% off  \n",
       "30        ₹2,199  38% off  \n",
       "31          ₹594  70% off  \n",
       "32          ₹394  80% off  \n",
       "33          ₹569  43% off  \n",
       "34          ₹199  84% off  \n",
       "35          ₹149  75% off  \n",
       "36          ₹636  68% off  \n",
       "37          ₹597  76% off  \n",
       "38          ₹199  87% off  \n",
       "39          ₹799  42% off  "
      ]
     },
     "execution_count": 45,
     "metadata": {},
     "output_type": "execute_result"
    }
   ],
   "source": [
    "df"
   ]
  },
  {
   "cell_type": "code",
   "execution_count": 46,
   "id": "e14ef7a1",
   "metadata": {},
   "outputs": [],
   "source": [
    "Next =  driver.find_element(By.XPATH,'//a[@class=\"ge-49M\"][1]')"
   ]
  },
  {
   "cell_type": "code",
   "execution_count": 47,
   "id": "5a0d0277",
   "metadata": {},
   "outputs": [],
   "source": [
    "Next.click()"
   ]
  },
  {
   "cell_type": "code",
   "execution_count": 48,
   "id": "0e1f37f9",
   "metadata": {},
   "outputs": [],
   "source": [
    "brand_name = []\n",
    "brand_tags = driver.find_elements(By.XPATH,'//div[@class=\"_2WkVRV\"]')\n",
    "for i in brand_tags:\n",
    "    brand = i.text\n",
    "    brand_name.append(brand)"
   ]
  },
  {
   "cell_type": "code",
   "execution_count": 49,
   "id": "6aa83410",
   "metadata": {},
   "outputs": [
    {
     "data": {
      "text/plain": [
       "['Eyewearlabs',\n",
       " 'ROYAL SON',\n",
       " 'VINCENT CHASE',\n",
       " 'Fastrack',\n",
       " 'VINCENT CHASE',\n",
       " 'Fastrack',\n",
       " 'SYGA',\n",
       " 'ROZZETTA CRAFT',\n",
       " 'Fastrack',\n",
       " 'Fastrack',\n",
       " 'ROZZETTA CRAFT',\n",
       " 'ROYAL SON',\n",
       " 'ROYAL SON',\n",
       " 'Eyewearlabs',\n",
       " 'Fastrack',\n",
       " 'PIRASO',\n",
       " 'AISLIN',\n",
       " 'ROYAL SON',\n",
       " 'PIRASO',\n",
       " 'ROYAL SON',\n",
       " 'Lenskart STUDIO',\n",
       " 'Hooper',\n",
       " 'VINCENT CHASE',\n",
       " 'Elligator',\n",
       " 'PIRASO',\n",
       " 'VINCENT CHASE',\n",
       " 'AISLIN',\n",
       " 'ROYAL SON',\n",
       " 'PIRASO',\n",
       " 'VINCENT CHASE',\n",
       " 'AISLIN',\n",
       " 'ROYAL SON',\n",
       " 'VINCENT CHASE',\n",
       " 'Singco India',\n",
       " 'PIRASO',\n",
       " 'Rich Club',\n",
       " 'ROYAL SON',\n",
       " 'ROZZETTA CRAFT',\n",
       " 'SRPM',\n",
       " 'iCopertina']"
      ]
     },
     "execution_count": 49,
     "metadata": {},
     "output_type": "execute_result"
    }
   ],
   "source": [
    "brand_name"
   ]
  },
  {
   "cell_type": "code",
   "execution_count": 50,
   "id": "f9d386ad",
   "metadata": {},
   "outputs": [],
   "source": [
    "product_desc = []\n",
    "product_desc_tags =driver.find_elements(By.XPATH,'//div[@class=\"_2B099V\"]/a[1]')\n",
    "for i in product_desc_tags:\n",
    "    product = i.text\n",
    "    product_desc.append(product)"
   ]
  },
  {
   "cell_type": "code",
   "execution_count": 51,
   "id": "ee378053",
   "metadata": {},
   "outputs": [
    {
     "data": {
      "text/plain": [
       "['Polarized, UV Protection Round Sunglasses (47)',\n",
       " 'UV Protection Aviator Sunglasses (59)',\n",
       " 'by Lenskart Polarized, UV Protection Rectangular Sungla...',\n",
       " 'UV Protection Aviator Sunglasses (58)',\n",
       " 'by Lenskart Polarized, UV Protection Aviator Sunglasses...',\n",
       " 'Polarized Wayfarer Sunglasses (55)',\n",
       " 'UV Protection Spectacle Sunglasses (Free Size)',\n",
       " 'UV Protection Spectacle Sunglasses (Free Size)',\n",
       " 'UV Protection Aviator Sunglasses (58)',\n",
       " 'UV Protection Wayfarer Sunglasses (Free Size)',\n",
       " 'Polarized, UV Protection Aviator Sunglasses (55)',\n",
       " 'UV Protection Round Sunglasses (50)',\n",
       " 'Polarized, UV Protection Aviator Sunglasses (58)',\n",
       " 'Polarized, UV Protection Wayfarer Sunglasses (51)',\n",
       " 'Mirrored, UV Protection Wayfarer Sunglasses (Free Size)',\n",
       " 'UV Protection Butterfly Sunglasses (60)',\n",
       " 'UV Protection, Gradient Round, Cat-eye Sunglasses (62)',\n",
       " 'Polarized, UV Protection Retro Square Sunglasses (55)',\n",
       " 'UV Protection Butterfly Sunglasses (60)',\n",
       " 'Polarized, UV Protection Wayfarer, Retro Square Sunglas...',\n",
       " 'Polarized, UV Protection Clubmaster Sunglasses (51)',\n",
       " 'Polarized, UV Protection Wayfarer Sunglasses (47)',\n",
       " 'by Lenskart Polarized, UV Protection Round Sunglasses (...',\n",
       " 'UV Protection Wayfarer Sunglasses (53)',\n",
       " 'UV Protection Over-sized Sunglasses (65)',\n",
       " 'by Lenskart UV Protection Wayfarer Sunglasses (62)',\n",
       " 'UV Protection, Gradient Butterfly, Retro Square Sunglas...',\n",
       " 'UV Protection Round Sunglasses (50)',\n",
       " 'UV Protection Over-sized Sunglasses (60)',\n",
       " 'by Lenskart Polarized, UV Protection Retro Square Sungl...',\n",
       " 'UV Protection, Gradient Retro Square Sunglasses (58)',\n",
       " 'Polarized Rectangular Sunglasses (60)',\n",
       " 'by Lenskart Polarized, UV Protection Aviator Sunglasses...',\n",
       " 'Gradient, Toughened Glass Lens, UV Protection Retro Squ...',\n",
       " 'UV Protection Retro Square Sunglasses (54)',\n",
       " 'UV Protection Retro Square Sunglasses (54)',\n",
       " 'Polarized, UV Protection Wayfarer, Retro Square Sunglas...',\n",
       " 'UV Protection, Gradient Retro Square Sunglasses (Free S...',\n",
       " 'UV Protection Wayfarer Sunglasses (50)',\n",
       " 'UV Protection Retro Square Sunglasses (Free Size)']"
      ]
     },
     "execution_count": 51,
     "metadata": {},
     "output_type": "execute_result"
    }
   ],
   "source": [
    "product_desc"
   ]
  },
  {
   "cell_type": "code",
   "execution_count": 52,
   "id": "a5a59f53",
   "metadata": {},
   "outputs": [],
   "source": [
    "price = []\n",
    "price_tags =driver.find_elements(By.XPATH,'//div[@class=\"_30jeq3\"]')\n",
    "for i in price_tags:\n",
    "    product_price = i.text\n",
    "    price.append(product_price)"
   ]
  },
  {
   "cell_type": "code",
   "execution_count": 53,
   "id": "e17c4e7c",
   "metadata": {},
   "outputs": [
    {
     "data": {
      "text/plain": [
       "['₹1,999',\n",
       " '₹711',\n",
       " '₹749',\n",
       " '₹799',\n",
       " '₹556',\n",
       " '₹539',\n",
       " '₹199',\n",
       " '₹381',\n",
       " '₹919',\n",
       " '₹629',\n",
       " '₹379',\n",
       " '₹404',\n",
       " '₹636',\n",
       " '₹1,236',\n",
       " '₹629',\n",
       " '₹388',\n",
       " '₹581',\n",
       " '₹551',\n",
       " '₹299',\n",
       " '₹594',\n",
       " '₹1,159',\n",
       " '₹599',\n",
       " '₹599',\n",
       " '₹169',\n",
       " '₹299',\n",
       " '₹558',\n",
       " '₹428',\n",
       " '₹404',\n",
       " '₹279',\n",
       " '₹811',\n",
       " '₹418',\n",
       " '₹594',\n",
       " '₹699',\n",
       " '₹590',\n",
       " '₹232',\n",
       " '₹395',\n",
       " '₹639',\n",
       " '₹276',\n",
       " '₹169',\n",
       " '₹130']"
      ]
     },
     "execution_count": 53,
     "metadata": {},
     "output_type": "execute_result"
    }
   ],
   "source": [
    "price"
   ]
  },
  {
   "cell_type": "code",
   "execution_count": 54,
   "id": "29176c03",
   "metadata": {},
   "outputs": [],
   "source": [
    "discount = []\n",
    "discount_tags =driver.find_elements(By.XPATH,'//div[@class=\"_3Ay6Sb\"]/span')\n",
    "for i in discount_tags:\n",
    "    disc_ = i.text\n",
    "    discount.append(disc_)"
   ]
  },
  {
   "cell_type": "code",
   "execution_count": 163,
   "id": "9ae6e2bf",
   "metadata": {},
   "outputs": [
    {
     "data": {
      "text/plain": [
       "['84% off',\n",
       " '80% off',\n",
       " '80% off',\n",
       " '86% off',\n",
       " '42% off',\n",
       " '68% off',\n",
       " '80% off',\n",
       " '80% off',\n",
       " '34% off',\n",
       " '62% off',\n",
       " '80% off',\n",
       " '74% off',\n",
       " '42% off',\n",
       " '68% off',\n",
       " '70% off',\n",
       " '65% off',\n",
       " '75% off',\n",
       " '76% off',\n",
       " '72% off',\n",
       " '86% off',\n",
       " '70% off',\n",
       " '80% off',\n",
       " '70% off',\n",
       " '85% off',\n",
       " '88% off',\n",
       " '59% off',\n",
       " '38% off',\n",
       " '44% off',\n",
       " '65% off',\n",
       " '88% off',\n",
       " '76% off',\n",
       " '72% off',\n",
       " '36% off',\n",
       " '72% off',\n",
       " '89% off',\n",
       " '85% off',\n",
       " '64% off',\n",
       " '74% off',\n",
       " '38% off',\n",
       " '70% off']"
      ]
     },
     "execution_count": 163,
     "metadata": {},
     "output_type": "execute_result"
    }
   ],
   "source": [
    "discount"
   ]
  },
  {
   "cell_type": "code",
   "execution_count": 55,
   "id": "30375505",
   "metadata": {},
   "outputs": [],
   "source": [
    "df_1 = pd.DataFrame({'brand':brand_name, 'product_description':product_desc , 'product_price':price, 'Discount':discount})"
   ]
  },
  {
   "cell_type": "code",
   "execution_count": 56,
   "id": "c85cb9d8",
   "metadata": {},
   "outputs": [
    {
     "data": {
      "text/html": [
       "<div>\n",
       "<style scoped>\n",
       "    .dataframe tbody tr th:only-of-type {\n",
       "        vertical-align: middle;\n",
       "    }\n",
       "\n",
       "    .dataframe tbody tr th {\n",
       "        vertical-align: top;\n",
       "    }\n",
       "\n",
       "    .dataframe thead th {\n",
       "        text-align: right;\n",
       "    }\n",
       "</style>\n",
       "<table border=\"1\" class=\"dataframe\">\n",
       "  <thead>\n",
       "    <tr style=\"text-align: right;\">\n",
       "      <th></th>\n",
       "      <th>brand</th>\n",
       "      <th>product_description</th>\n",
       "      <th>product_price</th>\n",
       "      <th>Discount</th>\n",
       "    </tr>\n",
       "  </thead>\n",
       "  <tbody>\n",
       "    <tr>\n",
       "      <th>0</th>\n",
       "      <td>Eyewearlabs</td>\n",
       "      <td>Polarized, UV Protection Round Sunglasses (47)</td>\n",
       "      <td>₹1,999</td>\n",
       "      <td>44% off</td>\n",
       "    </tr>\n",
       "    <tr>\n",
       "      <th>1</th>\n",
       "      <td>ROYAL SON</td>\n",
       "      <td>UV Protection Aviator Sunglasses (59)</td>\n",
       "      <td>₹711</td>\n",
       "      <td>64% off</td>\n",
       "    </tr>\n",
       "    <tr>\n",
       "      <th>2</th>\n",
       "      <td>VINCENT CHASE</td>\n",
       "      <td>by Lenskart Polarized, UV Protection Rectangul...</td>\n",
       "      <td>₹749</td>\n",
       "      <td>62% off</td>\n",
       "    </tr>\n",
       "    <tr>\n",
       "      <th>3</th>\n",
       "      <td>Fastrack</td>\n",
       "      <td>UV Protection Aviator Sunglasses (58)</td>\n",
       "      <td>₹799</td>\n",
       "      <td>42% off</td>\n",
       "    </tr>\n",
       "    <tr>\n",
       "      <th>4</th>\n",
       "      <td>VINCENT CHASE</td>\n",
       "      <td>by Lenskart Polarized, UV Protection Aviator S...</td>\n",
       "      <td>₹556</td>\n",
       "      <td>72% off</td>\n",
       "    </tr>\n",
       "    <tr>\n",
       "      <th>5</th>\n",
       "      <td>Fastrack</td>\n",
       "      <td>Polarized Wayfarer Sunglasses (55)</td>\n",
       "      <td>₹539</td>\n",
       "      <td>40% off</td>\n",
       "    </tr>\n",
       "    <tr>\n",
       "      <th>6</th>\n",
       "      <td>SYGA</td>\n",
       "      <td>UV Protection Spectacle Sunglasses (Free Size)</td>\n",
       "      <td>₹199</td>\n",
       "      <td>42% off</td>\n",
       "    </tr>\n",
       "    <tr>\n",
       "      <th>7</th>\n",
       "      <td>ROZZETTA CRAFT</td>\n",
       "      <td>UV Protection Spectacle Sunglasses (Free Size)</td>\n",
       "      <td>₹381</td>\n",
       "      <td>80% off</td>\n",
       "    </tr>\n",
       "    <tr>\n",
       "      <th>8</th>\n",
       "      <td>Fastrack</td>\n",
       "      <td>UV Protection Aviator Sunglasses (58)</td>\n",
       "      <td>₹919</td>\n",
       "      <td>34% off</td>\n",
       "    </tr>\n",
       "    <tr>\n",
       "      <th>9</th>\n",
       "      <td>Fastrack</td>\n",
       "      <td>UV Protection Wayfarer Sunglasses (Free Size)</td>\n",
       "      <td>₹629</td>\n",
       "      <td>42% off</td>\n",
       "    </tr>\n",
       "    <tr>\n",
       "      <th>10</th>\n",
       "      <td>ROZZETTA CRAFT</td>\n",
       "      <td>Polarized, UV Protection Aviator Sunglasses (55)</td>\n",
       "      <td>₹379</td>\n",
       "      <td>81% off</td>\n",
       "    </tr>\n",
       "    <tr>\n",
       "      <th>11</th>\n",
       "      <td>ROYAL SON</td>\n",
       "      <td>UV Protection Round Sunglasses (50)</td>\n",
       "      <td>₹404</td>\n",
       "      <td>73% off</td>\n",
       "    </tr>\n",
       "    <tr>\n",
       "      <th>12</th>\n",
       "      <td>ROYAL SON</td>\n",
       "      <td>Polarized, UV Protection Aviator Sunglasses (58)</td>\n",
       "      <td>₹636</td>\n",
       "      <td>68% off</td>\n",
       "    </tr>\n",
       "    <tr>\n",
       "      <th>13</th>\n",
       "      <td>Eyewearlabs</td>\n",
       "      <td>Polarized, UV Protection Wayfarer Sunglasses (51)</td>\n",
       "      <td>₹1,236</td>\n",
       "      <td>65% off</td>\n",
       "    </tr>\n",
       "    <tr>\n",
       "      <th>14</th>\n",
       "      <td>Fastrack</td>\n",
       "      <td>Mirrored, UV Protection Wayfarer Sunglasses (F...</td>\n",
       "      <td>₹629</td>\n",
       "      <td>42% off</td>\n",
       "    </tr>\n",
       "    <tr>\n",
       "      <th>15</th>\n",
       "      <td>PIRASO</td>\n",
       "      <td>UV Protection Butterfly Sunglasses (60)</td>\n",
       "      <td>₹388</td>\n",
       "      <td>85% off</td>\n",
       "    </tr>\n",
       "    <tr>\n",
       "      <th>16</th>\n",
       "      <td>AISLIN</td>\n",
       "      <td>UV Protection, Gradient Round, Cat-eye Sunglas...</td>\n",
       "      <td>₹581</td>\n",
       "      <td>74% off</td>\n",
       "    </tr>\n",
       "    <tr>\n",
       "      <th>17</th>\n",
       "      <td>ROYAL SON</td>\n",
       "      <td>Polarized, UV Protection Retro Square Sunglass...</td>\n",
       "      <td>₹551</td>\n",
       "      <td>72% off</td>\n",
       "    </tr>\n",
       "    <tr>\n",
       "      <th>18</th>\n",
       "      <td>PIRASO</td>\n",
       "      <td>UV Protection Butterfly Sunglasses (60)</td>\n",
       "      <td>₹299</td>\n",
       "      <td>88% off</td>\n",
       "    </tr>\n",
       "    <tr>\n",
       "      <th>19</th>\n",
       "      <td>ROYAL SON</td>\n",
       "      <td>Polarized, UV Protection Wayfarer, Retro Squar...</td>\n",
       "      <td>₹594</td>\n",
       "      <td>70% off</td>\n",
       "    </tr>\n",
       "    <tr>\n",
       "      <th>20</th>\n",
       "      <td>Lenskart STUDIO</td>\n",
       "      <td>Polarized, UV Protection Clubmaster Sunglasses...</td>\n",
       "      <td>₹1,159</td>\n",
       "      <td>66% off</td>\n",
       "    </tr>\n",
       "    <tr>\n",
       "      <th>21</th>\n",
       "      <td>Hooper</td>\n",
       "      <td>Polarized, UV Protection Wayfarer Sunglasses (47)</td>\n",
       "      <td>₹599</td>\n",
       "      <td>70% off</td>\n",
       "    </tr>\n",
       "    <tr>\n",
       "      <th>22</th>\n",
       "      <td>VINCENT CHASE</td>\n",
       "      <td>by Lenskart Polarized, UV Protection Round Sun...</td>\n",
       "      <td>₹599</td>\n",
       "      <td>70% off</td>\n",
       "    </tr>\n",
       "    <tr>\n",
       "      <th>23</th>\n",
       "      <td>Elligator</td>\n",
       "      <td>UV Protection Wayfarer Sunglasses (53)</td>\n",
       "      <td>₹169</td>\n",
       "      <td>86% off</td>\n",
       "    </tr>\n",
       "    <tr>\n",
       "      <th>24</th>\n",
       "      <td>PIRASO</td>\n",
       "      <td>UV Protection Over-sized Sunglasses (65)</td>\n",
       "      <td>₹299</td>\n",
       "      <td>88% off</td>\n",
       "    </tr>\n",
       "    <tr>\n",
       "      <th>25</th>\n",
       "      <td>VINCENT CHASE</td>\n",
       "      <td>by Lenskart UV Protection Wayfarer Sunglasses ...</td>\n",
       "      <td>₹558</td>\n",
       "      <td>72% off</td>\n",
       "    </tr>\n",
       "    <tr>\n",
       "      <th>26</th>\n",
       "      <td>AISLIN</td>\n",
       "      <td>UV Protection, Gradient Butterfly, Retro Squar...</td>\n",
       "      <td>₹428</td>\n",
       "      <td>71% off</td>\n",
       "    </tr>\n",
       "    <tr>\n",
       "      <th>27</th>\n",
       "      <td>ROYAL SON</td>\n",
       "      <td>UV Protection Round Sunglasses (50)</td>\n",
       "      <td>₹404</td>\n",
       "      <td>73% off</td>\n",
       "    </tr>\n",
       "    <tr>\n",
       "      <th>28</th>\n",
       "      <td>PIRASO</td>\n",
       "      <td>UV Protection Over-sized Sunglasses (60)</td>\n",
       "      <td>₹279</td>\n",
       "      <td>89% off</td>\n",
       "    </tr>\n",
       "    <tr>\n",
       "      <th>29</th>\n",
       "      <td>VINCENT CHASE</td>\n",
       "      <td>by Lenskart Polarized, UV Protection Retro Squ...</td>\n",
       "      <td>₹811</td>\n",
       "      <td>59% off</td>\n",
       "    </tr>\n",
       "    <tr>\n",
       "      <th>30</th>\n",
       "      <td>AISLIN</td>\n",
       "      <td>UV Protection, Gradient Retro Square Sunglasse...</td>\n",
       "      <td>₹418</td>\n",
       "      <td>72% off</td>\n",
       "    </tr>\n",
       "    <tr>\n",
       "      <th>31</th>\n",
       "      <td>ROYAL SON</td>\n",
       "      <td>Polarized Rectangular Sunglasses (60)</td>\n",
       "      <td>₹594</td>\n",
       "      <td>70% off</td>\n",
       "    </tr>\n",
       "    <tr>\n",
       "      <th>32</th>\n",
       "      <td>VINCENT CHASE</td>\n",
       "      <td>by Lenskart Polarized, UV Protection Aviator S...</td>\n",
       "      <td>₹699</td>\n",
       "      <td>65% off</td>\n",
       "    </tr>\n",
       "    <tr>\n",
       "      <th>33</th>\n",
       "      <td>Singco India</td>\n",
       "      <td>Gradient, Toughened Glass Lens, UV Protection ...</td>\n",
       "      <td>₹590</td>\n",
       "      <td>70% off</td>\n",
       "    </tr>\n",
       "    <tr>\n",
       "      <th>34</th>\n",
       "      <td>PIRASO</td>\n",
       "      <td>UV Protection Retro Square Sunglasses (54)</td>\n",
       "      <td>₹232</td>\n",
       "      <td>85% off</td>\n",
       "    </tr>\n",
       "    <tr>\n",
       "      <th>35</th>\n",
       "      <td>Rich Club</td>\n",
       "      <td>UV Protection Retro Square Sunglasses (54)</td>\n",
       "      <td>₹395</td>\n",
       "      <td>69% off</td>\n",
       "    </tr>\n",
       "    <tr>\n",
       "      <th>36</th>\n",
       "      <td>ROYAL SON</td>\n",
       "      <td>Polarized, UV Protection Wayfarer, Retro Squar...</td>\n",
       "      <td>₹639</td>\n",
       "      <td>74% off</td>\n",
       "    </tr>\n",
       "    <tr>\n",
       "      <th>37</th>\n",
       "      <td>ROZZETTA CRAFT</td>\n",
       "      <td>UV Protection, Gradient Retro Square Sunglasse...</td>\n",
       "      <td>₹276</td>\n",
       "      <td>86% off</td>\n",
       "    </tr>\n",
       "    <tr>\n",
       "      <th>38</th>\n",
       "      <td>SRPM</td>\n",
       "      <td>UV Protection Wayfarer Sunglasses (50)</td>\n",
       "      <td>₹169</td>\n",
       "      <td>86% off</td>\n",
       "    </tr>\n",
       "    <tr>\n",
       "      <th>39</th>\n",
       "      <td>iCopertina</td>\n",
       "      <td>UV Protection Retro Square Sunglasses (Free Size)</td>\n",
       "      <td>₹130</td>\n",
       "      <td>86% off</td>\n",
       "    </tr>\n",
       "  </tbody>\n",
       "</table>\n",
       "</div>"
      ],
      "text/plain": [
       "              brand                                product_description  \\\n",
       "0       Eyewearlabs     Polarized, UV Protection Round Sunglasses (47)   \n",
       "1         ROYAL SON              UV Protection Aviator Sunglasses (59)   \n",
       "2     VINCENT CHASE  by Lenskart Polarized, UV Protection Rectangul...   \n",
       "3          Fastrack              UV Protection Aviator Sunglasses (58)   \n",
       "4     VINCENT CHASE  by Lenskart Polarized, UV Protection Aviator S...   \n",
       "5          Fastrack                 Polarized Wayfarer Sunglasses (55)   \n",
       "6              SYGA     UV Protection Spectacle Sunglasses (Free Size)   \n",
       "7    ROZZETTA CRAFT     UV Protection Spectacle Sunglasses (Free Size)   \n",
       "8          Fastrack              UV Protection Aviator Sunglasses (58)   \n",
       "9          Fastrack      UV Protection Wayfarer Sunglasses (Free Size)   \n",
       "10   ROZZETTA CRAFT   Polarized, UV Protection Aviator Sunglasses (55)   \n",
       "11        ROYAL SON                UV Protection Round Sunglasses (50)   \n",
       "12        ROYAL SON   Polarized, UV Protection Aviator Sunglasses (58)   \n",
       "13      Eyewearlabs  Polarized, UV Protection Wayfarer Sunglasses (51)   \n",
       "14         Fastrack  Mirrored, UV Protection Wayfarer Sunglasses (F...   \n",
       "15           PIRASO            UV Protection Butterfly Sunglasses (60)   \n",
       "16           AISLIN  UV Protection, Gradient Round, Cat-eye Sunglas...   \n",
       "17        ROYAL SON  Polarized, UV Protection Retro Square Sunglass...   \n",
       "18           PIRASO            UV Protection Butterfly Sunglasses (60)   \n",
       "19        ROYAL SON  Polarized, UV Protection Wayfarer, Retro Squar...   \n",
       "20  Lenskart STUDIO  Polarized, UV Protection Clubmaster Sunglasses...   \n",
       "21           Hooper  Polarized, UV Protection Wayfarer Sunglasses (47)   \n",
       "22    VINCENT CHASE  by Lenskart Polarized, UV Protection Round Sun...   \n",
       "23        Elligator             UV Protection Wayfarer Sunglasses (53)   \n",
       "24           PIRASO           UV Protection Over-sized Sunglasses (65)   \n",
       "25    VINCENT CHASE  by Lenskart UV Protection Wayfarer Sunglasses ...   \n",
       "26           AISLIN  UV Protection, Gradient Butterfly, Retro Squar...   \n",
       "27        ROYAL SON                UV Protection Round Sunglasses (50)   \n",
       "28           PIRASO           UV Protection Over-sized Sunglasses (60)   \n",
       "29    VINCENT CHASE  by Lenskart Polarized, UV Protection Retro Squ...   \n",
       "30           AISLIN  UV Protection, Gradient Retro Square Sunglasse...   \n",
       "31        ROYAL SON              Polarized Rectangular Sunglasses (60)   \n",
       "32    VINCENT CHASE  by Lenskart Polarized, UV Protection Aviator S...   \n",
       "33     Singco India  Gradient, Toughened Glass Lens, UV Protection ...   \n",
       "34           PIRASO         UV Protection Retro Square Sunglasses (54)   \n",
       "35        Rich Club         UV Protection Retro Square Sunglasses (54)   \n",
       "36        ROYAL SON  Polarized, UV Protection Wayfarer, Retro Squar...   \n",
       "37   ROZZETTA CRAFT  UV Protection, Gradient Retro Square Sunglasse...   \n",
       "38             SRPM             UV Protection Wayfarer Sunglasses (50)   \n",
       "39       iCopertina  UV Protection Retro Square Sunglasses (Free Size)   \n",
       "\n",
       "   product_price Discount  \n",
       "0         ₹1,999  44% off  \n",
       "1           ₹711  64% off  \n",
       "2           ₹749  62% off  \n",
       "3           ₹799  42% off  \n",
       "4           ₹556  72% off  \n",
       "5           ₹539  40% off  \n",
       "6           ₹199  42% off  \n",
       "7           ₹381  80% off  \n",
       "8           ₹919  34% off  \n",
       "9           ₹629  42% off  \n",
       "10          ₹379  81% off  \n",
       "11          ₹404  73% off  \n",
       "12          ₹636  68% off  \n",
       "13        ₹1,236  65% off  \n",
       "14          ₹629  42% off  \n",
       "15          ₹388  85% off  \n",
       "16          ₹581  74% off  \n",
       "17          ₹551  72% off  \n",
       "18          ₹299  88% off  \n",
       "19          ₹594  70% off  \n",
       "20        ₹1,159  66% off  \n",
       "21          ₹599  70% off  \n",
       "22          ₹599  70% off  \n",
       "23          ₹169  86% off  \n",
       "24          ₹299  88% off  \n",
       "25          ₹558  72% off  \n",
       "26          ₹428  71% off  \n",
       "27          ₹404  73% off  \n",
       "28          ₹279  89% off  \n",
       "29          ₹811  59% off  \n",
       "30          ₹418  72% off  \n",
       "31          ₹594  70% off  \n",
       "32          ₹699  65% off  \n",
       "33          ₹590  70% off  \n",
       "34          ₹232  85% off  \n",
       "35          ₹395  69% off  \n",
       "36          ₹639  74% off  \n",
       "37          ₹276  86% off  \n",
       "38          ₹169  86% off  \n",
       "39          ₹130  86% off  "
      ]
     },
     "execution_count": 56,
     "metadata": {},
     "output_type": "execute_result"
    }
   ],
   "source": [
    "df_1"
   ]
  },
  {
   "cell_type": "code",
   "execution_count": 57,
   "id": "00b0e15c",
   "metadata": {},
   "outputs": [],
   "source": [
    "Next_page = driver.find_element(By.XPATH,'//a[@class=\"ge-49M\"][2]')"
   ]
  },
  {
   "cell_type": "code",
   "execution_count": 58,
   "id": "ebc5c157",
   "metadata": {},
   "outputs": [],
   "source": [
    "Next_page.click()"
   ]
  },
  {
   "cell_type": "code",
   "execution_count": 59,
   "id": "bff2b035",
   "metadata": {},
   "outputs": [],
   "source": [
    "brand_name = []\n",
    "brand_tags = driver.find_elements(By.XPATH,'//div[@class=\"_2WkVRV\"]')\n",
    "for i in brand_tags[:20]:\n",
    "    brand = i.text\n",
    "    brand_name.append(brand)"
   ]
  },
  {
   "cell_type": "code",
   "execution_count": 60,
   "id": "831a1424",
   "metadata": {},
   "outputs": [
    {
     "data": {
      "text/plain": [
       "['Ann Taylor',\n",
       " 'NuVew',\n",
       " 'iCopertina',\n",
       " 'PIRASO',\n",
       " 'GANSTA',\n",
       " 'VINCENT CHASE',\n",
       " 'ROYAL SON',\n",
       " 'AISLIN',\n",
       " 'VINCENT CHASE',\n",
       " 'ROZZETTA CRAFT',\n",
       " 'AISLIN',\n",
       " 'Royaltail',\n",
       " 'VINCENT CHASE',\n",
       " 'Singco India',\n",
       " 'hipe',\n",
       " 'Fastrack',\n",
       " 'ROYAL SON',\n",
       " 'PROVOGUE',\n",
       " 'PROVOGUE',\n",
       " 'ROZZETTA CRAFT']"
      ]
     },
     "execution_count": 60,
     "metadata": {},
     "output_type": "execute_result"
    }
   ],
   "source": [
    "brand_name"
   ]
  },
  {
   "cell_type": "code",
   "execution_count": 61,
   "id": "7daf3935",
   "metadata": {},
   "outputs": [],
   "source": [
    "product_desc = []\n",
    "product_desc_tags =driver.find_elements(By.XPATH,'//div[@class=\"_2B099V\"]/a[1]')\n",
    "for i in product_desc_tags[:20]:\n",
    "    product = i.text\n",
    "    product_desc.append(product)"
   ]
  },
  {
   "cell_type": "code",
   "execution_count": 62,
   "id": "93eaf1d2",
   "metadata": {},
   "outputs": [
    {
     "data": {
      "text/plain": [
       "['UV Protection Aviator Sunglasses (54)',\n",
       " 'UV Protection Wayfarer, Rectangular Sunglasses (65)',\n",
       " 'UV Protection Retro Square Sunglasses (Free Size)',\n",
       " 'UV Protection Butterfly Sunglasses (60)',\n",
       " 'Gradient, UV Protection Aviator Sunglasses (57)',\n",
       " 'by Lenskart Polarized, UV Protection Rectangular Sungla...',\n",
       " 'UV Protection Wayfarer Sunglasses (54)',\n",
       " 'Polarized, UV Protection Aviator Sunglasses (56)',\n",
       " 'by Lenskart Polarized, UV Protection Rectangular Sungla...',\n",
       " 'Polarized, Riding Glasses Sports, Wrap-around Sunglasse...',\n",
       " 'Polarized, UV Protection Wayfarer, Round Sunglasses (52...',\n",
       " 'Polarized Rectangular Sunglasses (58)',\n",
       " 'by Lenskart Polarized, UV Protection Wayfarer Sunglasse...',\n",
       " 'Polarized, UV Protection Wayfarer, Retro Square Sunglas...',\n",
       " 'UV Protection Clubmaster, Spectacle Sunglasses (54)',\n",
       " 'UV Protection Wayfarer Sunglasses (Free Size)',\n",
       " 'UV Protection Over-sized Sunglasses (61)',\n",
       " 'Polarized, UV Protection Rectangular Sunglasses (Free S...',\n",
       " 'UV Protection Round Sunglasses (Free Size)',\n",
       " 'UV Protection Aviator Sunglasses (62)']"
      ]
     },
     "execution_count": 62,
     "metadata": {},
     "output_type": "execute_result"
    }
   ],
   "source": [
    "product_desc"
   ]
  },
  {
   "cell_type": "code",
   "execution_count": 63,
   "id": "7bbd5690",
   "metadata": {},
   "outputs": [],
   "source": [
    "price = []\n",
    "price_tags =driver.find_elements(By.XPATH,'//div[@class=\"_30jeq3\"]')\n",
    "for i in price_tags[:20]:\n",
    "    product_price = i.text\n",
    "    price.append(product_price)"
   ]
  },
  {
   "cell_type": "code",
   "execution_count": 64,
   "id": "5e84df75",
   "metadata": {},
   "outputs": [
    {
     "data": {
      "text/plain": [
       "['₹2,499',\n",
       " '₹485',\n",
       " '₹130',\n",
       " '₹299',\n",
       " '₹279',\n",
       " '₹819',\n",
       " '₹639',\n",
       " '₹581',\n",
       " '₹528',\n",
       " '₹482',\n",
       " '₹581',\n",
       " '₹1,118',\n",
       " '₹599',\n",
       " '₹375',\n",
       " '₹129',\n",
       " '₹569',\n",
       " '₹559',\n",
       " '₹599',\n",
       " '₹643',\n",
       " '₹597']"
      ]
     },
     "execution_count": 64,
     "metadata": {},
     "output_type": "execute_result"
    }
   ],
   "source": [
    "price"
   ]
  },
  {
   "cell_type": "code",
   "execution_count": 65,
   "id": "7d498745",
   "metadata": {},
   "outputs": [],
   "source": [
    "discount = []\n",
    "discount_tags =driver.find_elements(By.XPATH,'//div[@class=\"_3Ay6Sb\"]/span')\n",
    "for i in discount_tags[:20]:\n",
    "    disc_ = i.text\n",
    "    discount.append(disc_)"
   ]
  },
  {
   "cell_type": "code",
   "execution_count": 66,
   "id": "ea0ad39b",
   "metadata": {},
   "outputs": [
    {
     "data": {
      "text/plain": [
       "['75% off',\n",
       " '72% off',\n",
       " '86% off',\n",
       " '88% off',\n",
       " '86% off',\n",
       " '59% off',\n",
       " '68% off',\n",
       " '74% off',\n",
       " '73% off',\n",
       " '75% off',\n",
       " '74% off',\n",
       " '77% off',\n",
       " '70% off',\n",
       " '84% off',\n",
       " '91% off',\n",
       " '36% off',\n",
       " '72% off',\n",
       " '76% off',\n",
       " '74% off',\n",
       " '76% off']"
      ]
     },
     "execution_count": 66,
     "metadata": {},
     "output_type": "execute_result"
    }
   ],
   "source": [
    "discount"
   ]
  },
  {
   "cell_type": "code",
   "execution_count": 67,
   "id": "b38acd2b",
   "metadata": {},
   "outputs": [],
   "source": [
    "import pandas as pd\n",
    "df_2 = pd.DataFrame({'brand':brand_name, 'product_description':product_desc , 'product_price':price, 'Discount':discount})"
   ]
  },
  {
   "cell_type": "code",
   "execution_count": 68,
   "id": "a95b3cfc",
   "metadata": {},
   "outputs": [
    {
     "data": {
      "text/html": [
       "<div>\n",
       "<style scoped>\n",
       "    .dataframe tbody tr th:only-of-type {\n",
       "        vertical-align: middle;\n",
       "    }\n",
       "\n",
       "    .dataframe tbody tr th {\n",
       "        vertical-align: top;\n",
       "    }\n",
       "\n",
       "    .dataframe thead th {\n",
       "        text-align: right;\n",
       "    }\n",
       "</style>\n",
       "<table border=\"1\" class=\"dataframe\">\n",
       "  <thead>\n",
       "    <tr style=\"text-align: right;\">\n",
       "      <th></th>\n",
       "      <th>brand</th>\n",
       "      <th>product_description</th>\n",
       "      <th>product_price</th>\n",
       "      <th>Discount</th>\n",
       "    </tr>\n",
       "  </thead>\n",
       "  <tbody>\n",
       "    <tr>\n",
       "      <th>0</th>\n",
       "      <td>Ann Taylor</td>\n",
       "      <td>UV Protection Aviator Sunglasses (54)</td>\n",
       "      <td>₹2,499</td>\n",
       "      <td>75% off</td>\n",
       "    </tr>\n",
       "    <tr>\n",
       "      <th>1</th>\n",
       "      <td>NuVew</td>\n",
       "      <td>UV Protection Wayfarer, Rectangular Sunglasses...</td>\n",
       "      <td>₹485</td>\n",
       "      <td>72% off</td>\n",
       "    </tr>\n",
       "    <tr>\n",
       "      <th>2</th>\n",
       "      <td>iCopertina</td>\n",
       "      <td>UV Protection Retro Square Sunglasses (Free Size)</td>\n",
       "      <td>₹130</td>\n",
       "      <td>86% off</td>\n",
       "    </tr>\n",
       "    <tr>\n",
       "      <th>3</th>\n",
       "      <td>PIRASO</td>\n",
       "      <td>UV Protection Butterfly Sunglasses (60)</td>\n",
       "      <td>₹299</td>\n",
       "      <td>88% off</td>\n",
       "    </tr>\n",
       "    <tr>\n",
       "      <th>4</th>\n",
       "      <td>GANSTA</td>\n",
       "      <td>Gradient, UV Protection Aviator Sunglasses (57)</td>\n",
       "      <td>₹279</td>\n",
       "      <td>86% off</td>\n",
       "    </tr>\n",
       "    <tr>\n",
       "      <th>5</th>\n",
       "      <td>VINCENT CHASE</td>\n",
       "      <td>by Lenskart Polarized, UV Protection Rectangul...</td>\n",
       "      <td>₹819</td>\n",
       "      <td>59% off</td>\n",
       "    </tr>\n",
       "    <tr>\n",
       "      <th>6</th>\n",
       "      <td>ROYAL SON</td>\n",
       "      <td>UV Protection Wayfarer Sunglasses (54)</td>\n",
       "      <td>₹639</td>\n",
       "      <td>68% off</td>\n",
       "    </tr>\n",
       "    <tr>\n",
       "      <th>7</th>\n",
       "      <td>AISLIN</td>\n",
       "      <td>Polarized, UV Protection Aviator Sunglasses (56)</td>\n",
       "      <td>₹581</td>\n",
       "      <td>74% off</td>\n",
       "    </tr>\n",
       "    <tr>\n",
       "      <th>8</th>\n",
       "      <td>VINCENT CHASE</td>\n",
       "      <td>by Lenskart Polarized, UV Protection Rectangul...</td>\n",
       "      <td>₹528</td>\n",
       "      <td>73% off</td>\n",
       "    </tr>\n",
       "    <tr>\n",
       "      <th>9</th>\n",
       "      <td>ROZZETTA CRAFT</td>\n",
       "      <td>Polarized, Riding Glasses Sports, Wrap-around ...</td>\n",
       "      <td>₹482</td>\n",
       "      <td>75% off</td>\n",
       "    </tr>\n",
       "    <tr>\n",
       "      <th>10</th>\n",
       "      <td>AISLIN</td>\n",
       "      <td>Polarized, UV Protection Wayfarer, Round Sungl...</td>\n",
       "      <td>₹581</td>\n",
       "      <td>74% off</td>\n",
       "    </tr>\n",
       "    <tr>\n",
       "      <th>11</th>\n",
       "      <td>Royaltail</td>\n",
       "      <td>Polarized Rectangular Sunglasses (58)</td>\n",
       "      <td>₹1,118</td>\n",
       "      <td>77% off</td>\n",
       "    </tr>\n",
       "    <tr>\n",
       "      <th>12</th>\n",
       "      <td>VINCENT CHASE</td>\n",
       "      <td>by Lenskart Polarized, UV Protection Wayfarer ...</td>\n",
       "      <td>₹599</td>\n",
       "      <td>70% off</td>\n",
       "    </tr>\n",
       "    <tr>\n",
       "      <th>13</th>\n",
       "      <td>Singco India</td>\n",
       "      <td>Polarized, UV Protection Wayfarer, Retro Squar...</td>\n",
       "      <td>₹375</td>\n",
       "      <td>84% off</td>\n",
       "    </tr>\n",
       "    <tr>\n",
       "      <th>14</th>\n",
       "      <td>hipe</td>\n",
       "      <td>UV Protection Clubmaster, Spectacle Sunglasses...</td>\n",
       "      <td>₹129</td>\n",
       "      <td>91% off</td>\n",
       "    </tr>\n",
       "    <tr>\n",
       "      <th>15</th>\n",
       "      <td>Fastrack</td>\n",
       "      <td>UV Protection Wayfarer Sunglasses (Free Size)</td>\n",
       "      <td>₹569</td>\n",
       "      <td>36% off</td>\n",
       "    </tr>\n",
       "    <tr>\n",
       "      <th>16</th>\n",
       "      <td>ROYAL SON</td>\n",
       "      <td>UV Protection Over-sized Sunglasses (61)</td>\n",
       "      <td>₹559</td>\n",
       "      <td>72% off</td>\n",
       "    </tr>\n",
       "    <tr>\n",
       "      <th>17</th>\n",
       "      <td>PROVOGUE</td>\n",
       "      <td>Polarized, UV Protection Rectangular Sunglasse...</td>\n",
       "      <td>₹599</td>\n",
       "      <td>76% off</td>\n",
       "    </tr>\n",
       "    <tr>\n",
       "      <th>18</th>\n",
       "      <td>PROVOGUE</td>\n",
       "      <td>UV Protection Round Sunglasses (Free Size)</td>\n",
       "      <td>₹643</td>\n",
       "      <td>74% off</td>\n",
       "    </tr>\n",
       "    <tr>\n",
       "      <th>19</th>\n",
       "      <td>ROZZETTA CRAFT</td>\n",
       "      <td>UV Protection Aviator Sunglasses (62)</td>\n",
       "      <td>₹597</td>\n",
       "      <td>76% off</td>\n",
       "    </tr>\n",
       "  </tbody>\n",
       "</table>\n",
       "</div>"
      ],
      "text/plain": [
       "             brand                                product_description  \\\n",
       "0       Ann Taylor              UV Protection Aviator Sunglasses (54)   \n",
       "1            NuVew  UV Protection Wayfarer, Rectangular Sunglasses...   \n",
       "2       iCopertina  UV Protection Retro Square Sunglasses (Free Size)   \n",
       "3           PIRASO            UV Protection Butterfly Sunglasses (60)   \n",
       "4           GANSTA    Gradient, UV Protection Aviator Sunglasses (57)   \n",
       "5    VINCENT CHASE  by Lenskart Polarized, UV Protection Rectangul...   \n",
       "6        ROYAL SON             UV Protection Wayfarer Sunglasses (54)   \n",
       "7           AISLIN   Polarized, UV Protection Aviator Sunglasses (56)   \n",
       "8    VINCENT CHASE  by Lenskart Polarized, UV Protection Rectangul...   \n",
       "9   ROZZETTA CRAFT  Polarized, Riding Glasses Sports, Wrap-around ...   \n",
       "10          AISLIN  Polarized, UV Protection Wayfarer, Round Sungl...   \n",
       "11       Royaltail              Polarized Rectangular Sunglasses (58)   \n",
       "12   VINCENT CHASE  by Lenskart Polarized, UV Protection Wayfarer ...   \n",
       "13    Singco India  Polarized, UV Protection Wayfarer, Retro Squar...   \n",
       "14            hipe  UV Protection Clubmaster, Spectacle Sunglasses...   \n",
       "15        Fastrack      UV Protection Wayfarer Sunglasses (Free Size)   \n",
       "16       ROYAL SON           UV Protection Over-sized Sunglasses (61)   \n",
       "17        PROVOGUE  Polarized, UV Protection Rectangular Sunglasse...   \n",
       "18        PROVOGUE         UV Protection Round Sunglasses (Free Size)   \n",
       "19  ROZZETTA CRAFT              UV Protection Aviator Sunglasses (62)   \n",
       "\n",
       "   product_price Discount  \n",
       "0         ₹2,499  75% off  \n",
       "1           ₹485  72% off  \n",
       "2           ₹130  86% off  \n",
       "3           ₹299  88% off  \n",
       "4           ₹279  86% off  \n",
       "5           ₹819  59% off  \n",
       "6           ₹639  68% off  \n",
       "7           ₹581  74% off  \n",
       "8           ₹528  73% off  \n",
       "9           ₹482  75% off  \n",
       "10          ₹581  74% off  \n",
       "11        ₹1,118  77% off  \n",
       "12          ₹599  70% off  \n",
       "13          ₹375  84% off  \n",
       "14          ₹129  91% off  \n",
       "15          ₹569  36% off  \n",
       "16          ₹559  72% off  \n",
       "17          ₹599  76% off  \n",
       "18          ₹643  74% off  \n",
       "19          ₹597  76% off  "
      ]
     },
     "execution_count": 68,
     "metadata": {},
     "output_type": "execute_result"
    }
   ],
   "source": [
    "df_2"
   ]
  },
  {
   "cell_type": "code",
   "execution_count": 82,
   "id": "19e9f5b1",
   "metadata": {},
   "outputs": [],
   "source": [
    "data_frame = pd.concat([df,df_1, df_2], ignore_index=True)"
   ]
  },
  {
   "cell_type": "code",
   "execution_count": 83,
   "id": "3e7fd3c0",
   "metadata": {},
   "outputs": [
    {
     "data": {
      "text/html": [
       "<div>\n",
       "<style scoped>\n",
       "    .dataframe tbody tr th:only-of-type {\n",
       "        vertical-align: middle;\n",
       "    }\n",
       "\n",
       "    .dataframe tbody tr th {\n",
       "        vertical-align: top;\n",
       "    }\n",
       "\n",
       "    .dataframe thead th {\n",
       "        text-align: right;\n",
       "    }\n",
       "</style>\n",
       "<table border=\"1\" class=\"dataframe\">\n",
       "  <thead>\n",
       "    <tr style=\"text-align: right;\">\n",
       "      <th></th>\n",
       "      <th>brand</th>\n",
       "      <th>product_description</th>\n",
       "      <th>product_price</th>\n",
       "      <th>Discount</th>\n",
       "    </tr>\n",
       "  </thead>\n",
       "  <tbody>\n",
       "    <tr>\n",
       "      <th>0</th>\n",
       "      <td>Elligator</td>\n",
       "      <td>UV Protection Wayfarer Sunglasses (52)</td>\n",
       "      <td>₹159</td>\n",
       "      <td>84% off</td>\n",
       "    </tr>\n",
       "    <tr>\n",
       "      <th>1</th>\n",
       "      <td>Elligator</td>\n",
       "      <td>UV Protection Wayfarer, Retro Square Sunglasse...</td>\n",
       "      <td>₹199</td>\n",
       "      <td>80% off</td>\n",
       "    </tr>\n",
       "    <tr>\n",
       "      <th>2</th>\n",
       "      <td>SRPM</td>\n",
       "      <td>UV Protection Wayfarer Sunglasses (50)</td>\n",
       "      <td>₹169</td>\n",
       "      <td>86% off</td>\n",
       "    </tr>\n",
       "    <tr>\n",
       "      <th>3</th>\n",
       "      <td>ROADWAY</td>\n",
       "      <td>UV Protection Wayfarer, Sports, Spectacle , Re...</td>\n",
       "      <td>₹129</td>\n",
       "      <td>90% off</td>\n",
       "    </tr>\n",
       "    <tr>\n",
       "      <th>4</th>\n",
       "      <td>ROADWAY</td>\n",
       "      <td>UV Protection Wayfarer Sunglasses (Free Size)</td>\n",
       "      <td>₹189</td>\n",
       "      <td>81% off</td>\n",
       "    </tr>\n",
       "    <tr>\n",
       "      <th>...</th>\n",
       "      <td>...</td>\n",
       "      <td>...</td>\n",
       "      <td>...</td>\n",
       "      <td>...</td>\n",
       "    </tr>\n",
       "    <tr>\n",
       "      <th>95</th>\n",
       "      <td>Fastrack</td>\n",
       "      <td>UV Protection Wayfarer Sunglasses (Free Size)</td>\n",
       "      <td>₹569</td>\n",
       "      <td>36% off</td>\n",
       "    </tr>\n",
       "    <tr>\n",
       "      <th>96</th>\n",
       "      <td>ROYAL SON</td>\n",
       "      <td>UV Protection Over-sized Sunglasses (61)</td>\n",
       "      <td>₹559</td>\n",
       "      <td>72% off</td>\n",
       "    </tr>\n",
       "    <tr>\n",
       "      <th>97</th>\n",
       "      <td>PROVOGUE</td>\n",
       "      <td>Polarized, UV Protection Rectangular Sunglasse...</td>\n",
       "      <td>₹599</td>\n",
       "      <td>76% off</td>\n",
       "    </tr>\n",
       "    <tr>\n",
       "      <th>98</th>\n",
       "      <td>PROVOGUE</td>\n",
       "      <td>UV Protection Round Sunglasses (Free Size)</td>\n",
       "      <td>₹643</td>\n",
       "      <td>74% off</td>\n",
       "    </tr>\n",
       "    <tr>\n",
       "      <th>99</th>\n",
       "      <td>ROZZETTA CRAFT</td>\n",
       "      <td>UV Protection Aviator Sunglasses (62)</td>\n",
       "      <td>₹597</td>\n",
       "      <td>76% off</td>\n",
       "    </tr>\n",
       "  </tbody>\n",
       "</table>\n",
       "<p>100 rows × 4 columns</p>\n",
       "</div>"
      ],
      "text/plain": [
       "             brand                                product_description  \\\n",
       "0        Elligator             UV Protection Wayfarer Sunglasses (52)   \n",
       "1        Elligator  UV Protection Wayfarer, Retro Square Sunglasse...   \n",
       "2             SRPM             UV Protection Wayfarer Sunglasses (50)   \n",
       "3          ROADWAY  UV Protection Wayfarer, Sports, Spectacle , Re...   \n",
       "4          ROADWAY      UV Protection Wayfarer Sunglasses (Free Size)   \n",
       "..             ...                                                ...   \n",
       "95        Fastrack      UV Protection Wayfarer Sunglasses (Free Size)   \n",
       "96       ROYAL SON           UV Protection Over-sized Sunglasses (61)   \n",
       "97        PROVOGUE  Polarized, UV Protection Rectangular Sunglasse...   \n",
       "98        PROVOGUE         UV Protection Round Sunglasses (Free Size)   \n",
       "99  ROZZETTA CRAFT              UV Protection Aviator Sunglasses (62)   \n",
       "\n",
       "   product_price Discount  \n",
       "0           ₹159  84% off  \n",
       "1           ₹199  80% off  \n",
       "2           ₹169  86% off  \n",
       "3           ₹129  90% off  \n",
       "4           ₹189  81% off  \n",
       "..           ...      ...  \n",
       "95          ₹569  36% off  \n",
       "96          ₹559  72% off  \n",
       "97          ₹599  76% off  \n",
       "98          ₹643  74% off  \n",
       "99          ₹597  76% off  \n",
       "\n",
       "[100 rows x 4 columns]"
      ]
     },
     "execution_count": 83,
     "metadata": {},
     "output_type": "execute_result"
    }
   ],
   "source": [
    "data_frame"
   ]
  },
  {
   "cell_type": "markdown",
   "id": "0d657f56",
   "metadata": {},
   "source": [
    "5.QUESTION--> SOLUTION-->"
   ]
  },
  {
   "cell_type": "code",
   "execution_count": 4,
   "id": "53036246",
   "metadata": {},
   "outputs": [],
   "source": [
    "from selenium import webdriver\n",
    "from selenium.webdriver.common.by import By"
   ]
  },
  {
   "cell_type": "code",
   "execution_count": 5,
   "id": "808c4050",
   "metadata": {},
   "outputs": [],
   "source": [
    "driver = webdriver.Chrome()\n",
    "url = \"https://www.flipkart.com/apple-iphone-11-black-64-gb/product-reviews/itm4e5041ba101fd?pid=MOBFWQ6BXGJCEYNY&lid=LSTMOBFWQ6BXGJCEYNYZXSHRJ&market\"\n",
    "driver.get(url)"
   ]
  },
  {
   "cell_type": "code",
   "execution_count": 6,
   "id": "ad918e86",
   "metadata": {},
   "outputs": [],
   "source": [
    "rating = []\n",
    "rating_tags =driver.find_elements(By.XPATH,'//div[@class=\"_3LWZlK _1BLPMq\"]')\n",
    "for i in rating_tags:\n",
    "    rating_ = i.text\n",
    "    rating.append(rating_)"
   ]
  },
  {
   "cell_type": "code",
   "execution_count": 7,
   "id": "6413bab5",
   "metadata": {},
   "outputs": [
    {
     "data": {
      "text/plain": [
       "['5', '5', '5', '5', '5', '5', '5', '5', '5', '5']"
      ]
     },
     "execution_count": 7,
     "metadata": {},
     "output_type": "execute_result"
    }
   ],
   "source": [
    "rating"
   ]
  },
  {
   "cell_type": "code",
   "execution_count": 8,
   "id": "ae7fa3af",
   "metadata": {},
   "outputs": [],
   "source": [
    "review_summary = []\n",
    "review_summary_tags =driver.find_elements(By.XPATH,' //p[@class=\"_2-N8zT\"]')\n",
    "for i in review_summary_tags:\n",
    "    review_ = i.text\n",
    "    review_summary.append(review_)"
   ]
  },
  {
   "cell_type": "code",
   "execution_count": 9,
   "id": "9a9bcc67",
   "metadata": {},
   "outputs": [
    {
     "data": {
      "text/plain": [
       "['Perfect product!',\n",
       " 'Wonderful',\n",
       " 'Best in the market!',\n",
       " 'Classy product',\n",
       " 'Terrific',\n",
       " 'Awesome',\n",
       " 'Worth every penny',\n",
       " 'Perfect product!',\n",
       " 'Terrific purchase',\n",
       " 'Just wow!']"
      ]
     },
     "execution_count": 9,
     "metadata": {},
     "output_type": "execute_result"
    }
   ],
   "source": [
    "review_summary"
   ]
  },
  {
   "cell_type": "code",
   "execution_count": 10,
   "id": "e4dcc47e",
   "metadata": {},
   "outputs": [],
   "source": [
    "full_review = []\n",
    "full_review_tags =driver.find_elements(By.XPATH,'//div[@class=\"t-ZTKy\"]/div')\n",
    "for i in full_review_tags:\n",
    "    review = i.text\n",
    "    full_review.append(review)"
   ]
  },
  {
   "cell_type": "code",
   "execution_count": 11,
   "id": "5010bbe2",
   "metadata": {},
   "outputs": [
    {
     "data": {
      "text/plain": [
       "['V Good all',\n",
       " 'This is amazing at all',\n",
       " 'Good Camera',\n",
       " 'Camera is awesome\\nBest battery backup\\nA performer 👌🏻\\nIt will be a real value for money if they provide charger and earphone inbox!',\n",
       " 'Very very good',\n",
       " 'iPhone 11 is a good phone. Not a very big difference between 12 except for the OLED screen and a very minor camera improvement which is you cant make a difference. If you are planning for a iPhone and you have budget you definitely can go for this without second thoughts.\\nNow some people are complaining and giving review 0 or so because there is no charger and headphones, but thats been already mentioned so I assume they are illiterate. Its not that Flipkart is removing them duh. Anyways bee...\\nREAD MORE',\n",
       " 'Feeling awesome after getting the delivery of my phone. Dual speakers makes the sound quality very loud. Amazing!!',\n",
       " 'Photos super',\n",
       " 'Value for money 😍',\n",
       " 'Perfect Product!!']"
      ]
     },
     "execution_count": 11,
     "metadata": {},
     "output_type": "execute_result"
    }
   ],
   "source": [
    "full_review"
   ]
  },
  {
   "cell_type": "code",
   "execution_count": 12,
   "id": "e2351eb4",
   "metadata": {},
   "outputs": [
    {
     "name": "stdout",
     "output_type": "stream",
     "text": [
      "10 10 10\n"
     ]
    }
   ],
   "source": [
    "print(len(rating),len(review_summary),len(full_review))"
   ]
  },
  {
   "cell_type": "code",
   "execution_count": 13,
   "id": "0808c7e0",
   "metadata": {},
   "outputs": [],
   "source": [
    "import pandas as pd"
   ]
  },
  {
   "cell_type": "code",
   "execution_count": 14,
   "id": "fa88a403",
   "metadata": {},
   "outputs": [],
   "source": [
    "df = pd.DataFrame({'RATING':rating , 'REVIEW_SUMMARY':review_summary, 'FULL_REVIEW':full_review})"
   ]
  },
  {
   "cell_type": "code",
   "execution_count": 15,
   "id": "5e6a38d0",
   "metadata": {},
   "outputs": [
    {
     "data": {
      "text/html": [
       "<div>\n",
       "<style scoped>\n",
       "    .dataframe tbody tr th:only-of-type {\n",
       "        vertical-align: middle;\n",
       "    }\n",
       "\n",
       "    .dataframe tbody tr th {\n",
       "        vertical-align: top;\n",
       "    }\n",
       "\n",
       "    .dataframe thead th {\n",
       "        text-align: right;\n",
       "    }\n",
       "</style>\n",
       "<table border=\"1\" class=\"dataframe\">\n",
       "  <thead>\n",
       "    <tr style=\"text-align: right;\">\n",
       "      <th></th>\n",
       "      <th>RATING</th>\n",
       "      <th>REVIEW_SUMMARY</th>\n",
       "      <th>FULL_REVIEW</th>\n",
       "    </tr>\n",
       "  </thead>\n",
       "  <tbody>\n",
       "    <tr>\n",
       "      <th>0</th>\n",
       "      <td>5</td>\n",
       "      <td>Perfect product!</td>\n",
       "      <td>V Good all</td>\n",
       "    </tr>\n",
       "    <tr>\n",
       "      <th>1</th>\n",
       "      <td>5</td>\n",
       "      <td>Wonderful</td>\n",
       "      <td>This is amazing at all</td>\n",
       "    </tr>\n",
       "    <tr>\n",
       "      <th>2</th>\n",
       "      <td>5</td>\n",
       "      <td>Best in the market!</td>\n",
       "      <td>Good Camera</td>\n",
       "    </tr>\n",
       "    <tr>\n",
       "      <th>3</th>\n",
       "      <td>5</td>\n",
       "      <td>Classy product</td>\n",
       "      <td>Camera is awesome\\nBest battery backup\\nA perf...</td>\n",
       "    </tr>\n",
       "    <tr>\n",
       "      <th>4</th>\n",
       "      <td>5</td>\n",
       "      <td>Terrific</td>\n",
       "      <td>Very very good</td>\n",
       "    </tr>\n",
       "    <tr>\n",
       "      <th>5</th>\n",
       "      <td>5</td>\n",
       "      <td>Awesome</td>\n",
       "      <td>iPhone 11 is a good phone. Not a very big diff...</td>\n",
       "    </tr>\n",
       "    <tr>\n",
       "      <th>6</th>\n",
       "      <td>5</td>\n",
       "      <td>Worth every penny</td>\n",
       "      <td>Feeling awesome after getting the delivery of ...</td>\n",
       "    </tr>\n",
       "    <tr>\n",
       "      <th>7</th>\n",
       "      <td>5</td>\n",
       "      <td>Perfect product!</td>\n",
       "      <td>Photos super</td>\n",
       "    </tr>\n",
       "    <tr>\n",
       "      <th>8</th>\n",
       "      <td>5</td>\n",
       "      <td>Terrific purchase</td>\n",
       "      <td>Value for money 😍</td>\n",
       "    </tr>\n",
       "    <tr>\n",
       "      <th>9</th>\n",
       "      <td>5</td>\n",
       "      <td>Just wow!</td>\n",
       "      <td>Perfect Product!!</td>\n",
       "    </tr>\n",
       "  </tbody>\n",
       "</table>\n",
       "</div>"
      ],
      "text/plain": [
       "  RATING       REVIEW_SUMMARY  \\\n",
       "0      5     Perfect product!   \n",
       "1      5            Wonderful   \n",
       "2      5  Best in the market!   \n",
       "3      5       Classy product   \n",
       "4      5             Terrific   \n",
       "5      5              Awesome   \n",
       "6      5    Worth every penny   \n",
       "7      5     Perfect product!   \n",
       "8      5    Terrific purchase   \n",
       "9      5            Just wow!   \n",
       "\n",
       "                                         FULL_REVIEW  \n",
       "0                                         V Good all  \n",
       "1                             This is amazing at all  \n",
       "2                                        Good Camera  \n",
       "3  Camera is awesome\\nBest battery backup\\nA perf...  \n",
       "4                                     Very very good  \n",
       "5  iPhone 11 is a good phone. Not a very big diff...  \n",
       "6  Feeling awesome after getting the delivery of ...  \n",
       "7                                       Photos super  \n",
       "8                                  Value for money 😍  \n",
       "9                                  Perfect Product!!  "
      ]
     },
     "execution_count": 15,
     "metadata": {},
     "output_type": "execute_result"
    }
   ],
   "source": [
    "df"
   ]
  },
  {
   "cell_type": "code",
   "execution_count": 16,
   "id": "a59aa20e",
   "metadata": {},
   "outputs": [],
   "source": [
    "Next_page = driver.find_element(By.XPATH,'//a[@class=\"ge-49M\"][1]')"
   ]
  },
  {
   "cell_type": "code",
   "execution_count": 17,
   "id": "7a908b6b",
   "metadata": {},
   "outputs": [],
   "source": [
    "Next_page.click()"
   ]
  },
  {
   "cell_type": "code",
   "execution_count": 18,
   "id": "8bba1a18",
   "metadata": {},
   "outputs": [],
   "source": [
    "rating = []\n",
    "rating_tags =driver.find_elements(By.XPATH,'//div[@class=\"_3LWZlK _1BLPMq\"]')\n",
    "for i in rating_tags:\n",
    "    rating_ = i.text\n",
    "    rating.append(rating_)"
   ]
  },
  {
   "cell_type": "code",
   "execution_count": 19,
   "id": "50f60c82",
   "metadata": {},
   "outputs": [
    {
     "data": {
      "text/plain": [
       "['5', '5', '5', '5', '5', '5', '5', '5', '5', '5']"
      ]
     },
     "execution_count": 19,
     "metadata": {},
     "output_type": "execute_result"
    }
   ],
   "source": [
    "rating"
   ]
  },
  {
   "cell_type": "code",
   "execution_count": 20,
   "id": "fe8a435f",
   "metadata": {},
   "outputs": [],
   "source": [
    "review_summary = []\n",
    "review_summary_tags =driver.find_elements(By.XPATH,' //p[@class=\"_2-N8zT\"]')\n",
    "for i in review_summary_tags:\n",
    "    review_ = i.text\n",
    "    review_summary.append(review_)"
   ]
  },
  {
   "cell_type": "code",
   "execution_count": 21,
   "id": "88919293",
   "metadata": {},
   "outputs": [
    {
     "data": {
      "text/plain": [
       "['Fabulous!',\n",
       " 'Must buy!',\n",
       " 'Brilliant',\n",
       " 'Brilliant',\n",
       " 'Excellent',\n",
       " 'Fabulous!',\n",
       " 'Terrific purchase',\n",
       " 'Must buy!',\n",
       " 'Super!',\n",
       " 'Simply awesome']"
      ]
     },
     "execution_count": 21,
     "metadata": {},
     "output_type": "execute_result"
    }
   ],
   "source": [
    "review_summary"
   ]
  },
  {
   "cell_type": "code",
   "execution_count": 22,
   "id": "95193ec4",
   "metadata": {},
   "outputs": [],
   "source": [
    "full_review = []\n",
    "full_review_tags =driver.find_elements(By.XPATH,'//div[@class=\"t-ZTKy\"]/div')\n",
    "for i in full_review_tags:\n",
    "    review = i.text\n",
    "    full_review.append(review)"
   ]
  },
  {
   "cell_type": "code",
   "execution_count": 23,
   "id": "1db69fcd",
   "metadata": {},
   "outputs": [
    {
     "data": {
      "text/plain": [
       "['Super🔥 and good performance 👌❤️',\n",
       " 'It’s really awesome',\n",
       " 'Excellent Phone.',\n",
       " 'very good camera quality',\n",
       " 'NYC',\n",
       " 'It’s very good battery life and display and video quality and ther performance of iPhone.....🔥🔥🌈',\n",
       " 'Value for money 🖤🖤',\n",
       " 'Go for iPhone 11 , if confused between iPhone 11 or iPhone 12 mini.Battery Life is enhanced , it worked for complete 2 days without charging it. Explored new features of taking screenshot by clicking on apple logo by Haptic Touch , Portrait mode with stage effect enhanced & slow motion selfie.',\n",
       " 'Good product 👌I love iPhone',\n",
       " 'Really satisfied with the Product I received... It’s totally genuine and the packaging was also really good so if ur planning to buy just go for it.']"
      ]
     },
     "execution_count": 23,
     "metadata": {},
     "output_type": "execute_result"
    }
   ],
   "source": [
    "full_review"
   ]
  },
  {
   "cell_type": "code",
   "execution_count": 24,
   "id": "a3a65337",
   "metadata": {},
   "outputs": [
    {
     "name": "stdout",
     "output_type": "stream",
     "text": [
      "10 10 10\n"
     ]
    }
   ],
   "source": [
    "print(len(rating),len(review_summary),len(full_review))"
   ]
  },
  {
   "cell_type": "code",
   "execution_count": 25,
   "id": "4ee57828",
   "metadata": {},
   "outputs": [],
   "source": [
    "df_1 = pd.DataFrame({'RATING':rating , 'REVIEW_SUMMARY':review_summary, 'FULL_REVIEW':full_review})"
   ]
  },
  {
   "cell_type": "code",
   "execution_count": 26,
   "id": "ef289171",
   "metadata": {},
   "outputs": [
    {
     "data": {
      "text/html": [
       "<div>\n",
       "<style scoped>\n",
       "    .dataframe tbody tr th:only-of-type {\n",
       "        vertical-align: middle;\n",
       "    }\n",
       "\n",
       "    .dataframe tbody tr th {\n",
       "        vertical-align: top;\n",
       "    }\n",
       "\n",
       "    .dataframe thead th {\n",
       "        text-align: right;\n",
       "    }\n",
       "</style>\n",
       "<table border=\"1\" class=\"dataframe\">\n",
       "  <thead>\n",
       "    <tr style=\"text-align: right;\">\n",
       "      <th></th>\n",
       "      <th>RATING</th>\n",
       "      <th>REVIEW_SUMMARY</th>\n",
       "      <th>FULL_REVIEW</th>\n",
       "    </tr>\n",
       "  </thead>\n",
       "  <tbody>\n",
       "    <tr>\n",
       "      <th>0</th>\n",
       "      <td>5</td>\n",
       "      <td>Fabulous!</td>\n",
       "      <td>Super🔥 and good performance 👌❤️</td>\n",
       "    </tr>\n",
       "    <tr>\n",
       "      <th>1</th>\n",
       "      <td>5</td>\n",
       "      <td>Must buy!</td>\n",
       "      <td>It’s really awesome</td>\n",
       "    </tr>\n",
       "    <tr>\n",
       "      <th>2</th>\n",
       "      <td>5</td>\n",
       "      <td>Brilliant</td>\n",
       "      <td>Excellent Phone.</td>\n",
       "    </tr>\n",
       "    <tr>\n",
       "      <th>3</th>\n",
       "      <td>5</td>\n",
       "      <td>Brilliant</td>\n",
       "      <td>very good camera quality</td>\n",
       "    </tr>\n",
       "    <tr>\n",
       "      <th>4</th>\n",
       "      <td>5</td>\n",
       "      <td>Excellent</td>\n",
       "      <td>NYC</td>\n",
       "    </tr>\n",
       "    <tr>\n",
       "      <th>5</th>\n",
       "      <td>5</td>\n",
       "      <td>Fabulous!</td>\n",
       "      <td>It’s very good battery life and display and vi...</td>\n",
       "    </tr>\n",
       "    <tr>\n",
       "      <th>6</th>\n",
       "      <td>5</td>\n",
       "      <td>Terrific purchase</td>\n",
       "      <td>Value for money 🖤🖤</td>\n",
       "    </tr>\n",
       "    <tr>\n",
       "      <th>7</th>\n",
       "      <td>5</td>\n",
       "      <td>Must buy!</td>\n",
       "      <td>Go for iPhone 11 , if confused between iPhone ...</td>\n",
       "    </tr>\n",
       "    <tr>\n",
       "      <th>8</th>\n",
       "      <td>5</td>\n",
       "      <td>Super!</td>\n",
       "      <td>Good product 👌I love iPhone</td>\n",
       "    </tr>\n",
       "    <tr>\n",
       "      <th>9</th>\n",
       "      <td>5</td>\n",
       "      <td>Simply awesome</td>\n",
       "      <td>Really satisfied with the Product I received.....</td>\n",
       "    </tr>\n",
       "  </tbody>\n",
       "</table>\n",
       "</div>"
      ],
      "text/plain": [
       "  RATING     REVIEW_SUMMARY                                        FULL_REVIEW\n",
       "0      5          Fabulous!                    Super🔥 and good performance 👌❤️\n",
       "1      5          Must buy!                                It’s really awesome\n",
       "2      5          Brilliant                                   Excellent Phone.\n",
       "3      5          Brilliant                           very good camera quality\n",
       "4      5          Excellent                                                NYC\n",
       "5      5          Fabulous!  It’s very good battery life and display and vi...\n",
       "6      5  Terrific purchase                                 Value for money 🖤🖤\n",
       "7      5          Must buy!  Go for iPhone 11 , if confused between iPhone ...\n",
       "8      5             Super!                        Good product 👌I love iPhone\n",
       "9      5     Simply awesome  Really satisfied with the Product I received....."
      ]
     },
     "execution_count": 26,
     "metadata": {},
     "output_type": "execute_result"
    }
   ],
   "source": [
    "df_1"
   ]
  },
  {
   "cell_type": "code",
   "execution_count": 27,
   "id": "29469d33",
   "metadata": {},
   "outputs": [],
   "source": [
    "Next_page = driver.find_element(By.XPATH,'//a[@class=\"ge-49M\"][2]')"
   ]
  },
  {
   "cell_type": "code",
   "execution_count": 28,
   "id": "52473080",
   "metadata": {},
   "outputs": [],
   "source": [
    "Next_page.click()"
   ]
  },
  {
   "cell_type": "code",
   "execution_count": 29,
   "id": "bc662de8",
   "metadata": {},
   "outputs": [],
   "source": [
    "rating = []\n",
    "rating_tags =driver.find_elements(By.XPATH,'//div[@class=\"_3LWZlK _1BLPMq\"]')\n",
    "for i in rating_tags:\n",
    "    rating_ = i.text\n",
    "    rating.append(rating_)"
   ]
  },
  {
   "cell_type": "code",
   "execution_count": 30,
   "id": "13dd41b1",
   "metadata": {},
   "outputs": [
    {
     "data": {
      "text/plain": [
       "['5', '5', '5', '5', '5', '4', '5', '5', '5', '5']"
      ]
     },
     "execution_count": 30,
     "metadata": {},
     "output_type": "execute_result"
    }
   ],
   "source": [
    "rating"
   ]
  },
  {
   "cell_type": "code",
   "execution_count": 31,
   "id": "ef7efe5f",
   "metadata": {},
   "outputs": [],
   "source": [
    "review_summary = []\n",
    "review_summary_tags =driver.find_elements(By.XPATH,' //p[@class=\"_2-N8zT\"]')\n",
    "for i in review_summary_tags:\n",
    "    review_ = i.text\n",
    "    review_summary.append(review_)"
   ]
  },
  {
   "cell_type": "code",
   "execution_count": 32,
   "id": "ce9b215e",
   "metadata": {},
   "outputs": [
    {
     "data": {
      "text/plain": [
       "['Best in the market!',\n",
       " 'Highly recommended',\n",
       " 'Great product',\n",
       " 'Just wow!',\n",
       " 'Must buy!',\n",
       " 'Very Good',\n",
       " 'Wonderful',\n",
       " 'Best in the market!',\n",
       " 'Highly recommended',\n",
       " 'Perfect product!']"
      ]
     },
     "execution_count": 32,
     "metadata": {},
     "output_type": "execute_result"
    }
   ],
   "source": [
    "review_summary"
   ]
  },
  {
   "cell_type": "code",
   "execution_count": 33,
   "id": "e5b21a76",
   "metadata": {},
   "outputs": [],
   "source": [
    "full_review = []\n",
    "full_review_tags =driver.find_elements(By.XPATH,'//div[@class=\"t-ZTKy\"]/div')\n",
    "for i in full_review_tags:\n",
    "    review = i.text\n",
    "    full_review.append(review)"
   ]
  },
  {
   "cell_type": "code",
   "execution_count": 34,
   "id": "e95fe93f",
   "metadata": {},
   "outputs": [
    {
     "data": {
      "text/plain": [
       "['Superbb performance n camera is awesome 😍😍',\n",
       " 'Awesome Battery Life...Camera clarity is too good..\\nValue for money...Its gives full day battery backup in single charge...',\n",
       " 'Purple is best',\n",
       " 'Nice product\\nThe camera is extremely good which i liked the most.\\nGot delivery within 24 hrs. Thanks to Flipkart',\n",
       " 'This is my first Iphone. Very smooth and super fast\\nThankyou @Flipkart god bless you with more success.',\n",
       " '🎈Battery\\n🎈Performance\\n🎈Camera\\n🎈Price\\n\\n🎊All together worth IT\\n\\n♥️♥️♥️♥️',\n",
       " 'Very good',\n",
       " 'first iphone from android.\\nwhat can I say, iphone 11 says it all.\\nearlier I used to abuse iphone users by saying show off, but after using it .. it’s completely worth it..\\np.s: there is still little pain in lower abdomen 😜',\n",
       " \"It's my first time to use iOS phone and I am loving my upgradation 😍😍 I love the color, I love the assebility of the phone....I need to learn more about its functionality, but as far as I have seen, it's quite easy and it has a lot of functions to work on, specially if you are a content writer or a blogger you get a lot of content creation platforms and they are really amazing.\\n\\nThis phone not only for good quality photography but a lot of other task too.😍💯\",\n",
       " 'Amazing phone with great cameras and better battery which gives you the best performance. I just love the camera .']"
      ]
     },
     "execution_count": 34,
     "metadata": {},
     "output_type": "execute_result"
    }
   ],
   "source": [
    "full_review"
   ]
  },
  {
   "cell_type": "code",
   "execution_count": 35,
   "id": "d447c7ce",
   "metadata": {},
   "outputs": [
    {
     "name": "stdout",
     "output_type": "stream",
     "text": [
      "10 10 10\n"
     ]
    }
   ],
   "source": [
    "print(len(rating),len(review_summary),len(full_review))"
   ]
  },
  {
   "cell_type": "code",
   "execution_count": 36,
   "id": "3370e526",
   "metadata": {},
   "outputs": [],
   "source": [
    "df_2 = pd.DataFrame({'RATING':rating , 'REVIEW_SUMMARY':review_summary, 'FULL_REVIEW':full_review})"
   ]
  },
  {
   "cell_type": "code",
   "execution_count": 37,
   "id": "6a54c91b",
   "metadata": {},
   "outputs": [
    {
     "data": {
      "text/html": [
       "<div>\n",
       "<style scoped>\n",
       "    .dataframe tbody tr th:only-of-type {\n",
       "        vertical-align: middle;\n",
       "    }\n",
       "\n",
       "    .dataframe tbody tr th {\n",
       "        vertical-align: top;\n",
       "    }\n",
       "\n",
       "    .dataframe thead th {\n",
       "        text-align: right;\n",
       "    }\n",
       "</style>\n",
       "<table border=\"1\" class=\"dataframe\">\n",
       "  <thead>\n",
       "    <tr style=\"text-align: right;\">\n",
       "      <th></th>\n",
       "      <th>RATING</th>\n",
       "      <th>REVIEW_SUMMARY</th>\n",
       "      <th>FULL_REVIEW</th>\n",
       "    </tr>\n",
       "  </thead>\n",
       "  <tbody>\n",
       "    <tr>\n",
       "      <th>0</th>\n",
       "      <td>5</td>\n",
       "      <td>Best in the market!</td>\n",
       "      <td>Superbb performance n camera is awesome 😍😍</td>\n",
       "    </tr>\n",
       "    <tr>\n",
       "      <th>1</th>\n",
       "      <td>5</td>\n",
       "      <td>Highly recommended</td>\n",
       "      <td>Awesome Battery Life...Camera clarity is too g...</td>\n",
       "    </tr>\n",
       "    <tr>\n",
       "      <th>2</th>\n",
       "      <td>5</td>\n",
       "      <td>Great product</td>\n",
       "      <td>Purple is best</td>\n",
       "    </tr>\n",
       "    <tr>\n",
       "      <th>3</th>\n",
       "      <td>5</td>\n",
       "      <td>Just wow!</td>\n",
       "      <td>Nice product\\nThe camera is extremely good whi...</td>\n",
       "    </tr>\n",
       "    <tr>\n",
       "      <th>4</th>\n",
       "      <td>5</td>\n",
       "      <td>Must buy!</td>\n",
       "      <td>This is my first Iphone. Very smooth and super...</td>\n",
       "    </tr>\n",
       "    <tr>\n",
       "      <th>5</th>\n",
       "      <td>4</td>\n",
       "      <td>Very Good</td>\n",
       "      <td>🎈Battery\\n🎈Performance\\n🎈Camera\\n🎈Price\\n\\n🎊Al...</td>\n",
       "    </tr>\n",
       "    <tr>\n",
       "      <th>6</th>\n",
       "      <td>5</td>\n",
       "      <td>Wonderful</td>\n",
       "      <td>Very good</td>\n",
       "    </tr>\n",
       "    <tr>\n",
       "      <th>7</th>\n",
       "      <td>5</td>\n",
       "      <td>Best in the market!</td>\n",
       "      <td>first iphone from android.\\nwhat can I say, ip...</td>\n",
       "    </tr>\n",
       "    <tr>\n",
       "      <th>8</th>\n",
       "      <td>5</td>\n",
       "      <td>Highly recommended</td>\n",
       "      <td>It's my first time to use iOS phone and I am l...</td>\n",
       "    </tr>\n",
       "    <tr>\n",
       "      <th>9</th>\n",
       "      <td>5</td>\n",
       "      <td>Perfect product!</td>\n",
       "      <td>Amazing phone with great cameras and better ba...</td>\n",
       "    </tr>\n",
       "  </tbody>\n",
       "</table>\n",
       "</div>"
      ],
      "text/plain": [
       "  RATING       REVIEW_SUMMARY  \\\n",
       "0      5  Best in the market!   \n",
       "1      5   Highly recommended   \n",
       "2      5        Great product   \n",
       "3      5            Just wow!   \n",
       "4      5            Must buy!   \n",
       "5      4            Very Good   \n",
       "6      5            Wonderful   \n",
       "7      5  Best in the market!   \n",
       "8      5   Highly recommended   \n",
       "9      5     Perfect product!   \n",
       "\n",
       "                                         FULL_REVIEW  \n",
       "0         Superbb performance n camera is awesome 😍😍  \n",
       "1  Awesome Battery Life...Camera clarity is too g...  \n",
       "2                                     Purple is best  \n",
       "3  Nice product\\nThe camera is extremely good whi...  \n",
       "4  This is my first Iphone. Very smooth and super...  \n",
       "5  🎈Battery\\n🎈Performance\\n🎈Camera\\n🎈Price\\n\\n🎊Al...  \n",
       "6                                          Very good  \n",
       "7  first iphone from android.\\nwhat can I say, ip...  \n",
       "8  It's my first time to use iOS phone and I am l...  \n",
       "9  Amazing phone with great cameras and better ba...  "
      ]
     },
     "execution_count": 37,
     "metadata": {},
     "output_type": "execute_result"
    }
   ],
   "source": [
    "df_2"
   ]
  },
  {
   "cell_type": "code",
   "execution_count": 38,
   "id": "b5844bf0",
   "metadata": {},
   "outputs": [],
   "source": [
    "Next_page = driver.find_element(By.XPATH,'//a[@class=\"ge-49M\"][3]')"
   ]
  },
  {
   "cell_type": "code",
   "execution_count": 39,
   "id": "6ee224c3",
   "metadata": {},
   "outputs": [],
   "source": [
    "Next_page.click()"
   ]
  },
  {
   "cell_type": "code",
   "execution_count": 40,
   "id": "c678af46",
   "metadata": {},
   "outputs": [],
   "source": [
    "rating = []\n",
    "rating_tags =driver.find_elements(By.XPATH,'//div[@class=\"_3LWZlK _1BLPMq\"]')\n",
    "for i in rating_tags:\n",
    "    rating_ = i.text\n",
    "    rating.append(rating_)"
   ]
  },
  {
   "cell_type": "code",
   "execution_count": 41,
   "id": "c4f4bfad",
   "metadata": {},
   "outputs": [
    {
     "data": {
      "text/plain": [
       "['5', '4', '5', '5', '5', '4', '5', '5', '5', '5']"
      ]
     },
     "execution_count": 41,
     "metadata": {},
     "output_type": "execute_result"
    }
   ],
   "source": [
    "rating"
   ]
  },
  {
   "cell_type": "code",
   "execution_count": 42,
   "id": "9242f44f",
   "metadata": {},
   "outputs": [],
   "source": [
    "review_summary = []\n",
    "review_summary_tags =driver.find_elements(By.XPATH,' //p[@class=\"_2-N8zT\"]')\n",
    "for i in review_summary_tags:\n",
    "    review_ = i.text\n",
    "    review_summary.append(review_)"
   ]
  },
  {
   "cell_type": "code",
   "execution_count": 43,
   "id": "655391af",
   "metadata": {},
   "outputs": [
    {
     "data": {
      "text/plain": [
       "['Best in the market!',\n",
       " 'Worth the money',\n",
       " 'Highly recommended',\n",
       " 'Wonderful',\n",
       " 'Highly recommended',\n",
       " 'Value-for-money',\n",
       " 'Worth every penny',\n",
       " 'Best in the market!',\n",
       " 'Brilliant',\n",
       " 'Awesome']"
      ]
     },
     "execution_count": 43,
     "metadata": {},
     "output_type": "execute_result"
    }
   ],
   "source": [
    "review_summary"
   ]
  },
  {
   "cell_type": "code",
   "execution_count": 44,
   "id": "54eb93ae",
   "metadata": {},
   "outputs": [],
   "source": [
    "full_review = []\n",
    "full_review_tags =driver.find_elements(By.XPATH,'//div[@class=\"t-ZTKy\"]/div')\n",
    "for i in full_review_tags:\n",
    "    review = i.text\n",
    "    full_review.append(review)"
   ]
  },
  {
   "cell_type": "code",
   "execution_count": 45,
   "id": "6babf835",
   "metadata": {},
   "outputs": [
    {
     "data": {
      "text/plain": [
       "['Great iPhone very snappy experience as apple kind. Upgraded from iPhone 7.\\nPros\\n-Camera top class\\n- Battery top performed\\n-Chipset no need to say as apple kind\\n-Security as you expect from apple\\n- Display super bright industry leading colour\\naccuracy and super responsive\\n-Build quality as expect from apple sturdy\\npremium durable beautiful stylish.\\n-Os most stable os in smartphone industry\\n\\nCons\\n-No 5G\\n-Display is not based on OLED technology\\n-Charger headphones and 1 apple stic...\\nREAD MORE',\n",
       " 'Camera is just wow 👌👌',\n",
       " 'My first ever I phone and awesome performance camera battery and smoother than my previous phone',\n",
       " 'If you get it you would definitely not regret it. It is a premium flagship phone. Love for apple, love for iphone.',\n",
       " 'Awesome Best iPhone 😍👍🏼',\n",
       " \"I'm Really happy with the product\\nDelivery was fast as well\\n..it was a gift for my sister and she loved it so much.\",\n",
       " 'Previously I was using one plus 3t it was a great phone\\nAnd then I decided to upgrade I am stuck between Samsung s10 plus or iPhone 11\\nI have seen the specs and everything were good except the display it’s somewhere between 720-1080 and it’s not even an amoled it’s an LCD display\\nBut I decided to go with iPhone because I have never used an IOS device I have Been an android user from the past 9 years I ordered IPhone 11 (128gb) product red\\nMy experience after using 3 weeks\\n1. The delivery ...\\nREAD MORE',\n",
       " 'Damn this phone is a blast . Upgraded from android to ios and is a duperb experience. Battery backup is top notch and display also pretty good',\n",
       " 'Phone Is So Good',\n",
       " 'Always love the apple products, upgraded from old iPhone 6S plus to this after having my first baby. I just love to click baby’s photos with it. Overall I just love this phone. Battery back up is okay, sound quality is good. Haven’t tested yet waterproof yet. Only one thing I hate is apple could have given charger & headphones in box.']"
      ]
     },
     "execution_count": 45,
     "metadata": {},
     "output_type": "execute_result"
    }
   ],
   "source": [
    "full_review"
   ]
  },
  {
   "cell_type": "code",
   "execution_count": 46,
   "id": "ac1e2368",
   "metadata": {},
   "outputs": [
    {
     "name": "stdout",
     "output_type": "stream",
     "text": [
      "10 10 10\n"
     ]
    }
   ],
   "source": [
    "print(len(rating),len(review_summary),len(full_review))"
   ]
  },
  {
   "cell_type": "code",
   "execution_count": 47,
   "id": "cdf033f4",
   "metadata": {},
   "outputs": [],
   "source": [
    "df_3 = pd.DataFrame({'RATING':rating , 'REVIEW_SUMMARY':review_summary, 'FULL_REVIEW':full_review})"
   ]
  },
  {
   "cell_type": "code",
   "execution_count": 48,
   "id": "08dc582b",
   "metadata": {},
   "outputs": [
    {
     "data": {
      "text/html": [
       "<div>\n",
       "<style scoped>\n",
       "    .dataframe tbody tr th:only-of-type {\n",
       "        vertical-align: middle;\n",
       "    }\n",
       "\n",
       "    .dataframe tbody tr th {\n",
       "        vertical-align: top;\n",
       "    }\n",
       "\n",
       "    .dataframe thead th {\n",
       "        text-align: right;\n",
       "    }\n",
       "</style>\n",
       "<table border=\"1\" class=\"dataframe\">\n",
       "  <thead>\n",
       "    <tr style=\"text-align: right;\">\n",
       "      <th></th>\n",
       "      <th>RATING</th>\n",
       "      <th>REVIEW_SUMMARY</th>\n",
       "      <th>FULL_REVIEW</th>\n",
       "    </tr>\n",
       "  </thead>\n",
       "  <tbody>\n",
       "    <tr>\n",
       "      <th>0</th>\n",
       "      <td>5</td>\n",
       "      <td>Best in the market!</td>\n",
       "      <td>Great iPhone very snappy experience as apple k...</td>\n",
       "    </tr>\n",
       "    <tr>\n",
       "      <th>1</th>\n",
       "      <td>4</td>\n",
       "      <td>Worth the money</td>\n",
       "      <td>Camera is just wow 👌👌</td>\n",
       "    </tr>\n",
       "    <tr>\n",
       "      <th>2</th>\n",
       "      <td>5</td>\n",
       "      <td>Highly recommended</td>\n",
       "      <td>My first ever I phone and awesome performance ...</td>\n",
       "    </tr>\n",
       "    <tr>\n",
       "      <th>3</th>\n",
       "      <td>5</td>\n",
       "      <td>Wonderful</td>\n",
       "      <td>If you get it you would definitely not regret ...</td>\n",
       "    </tr>\n",
       "    <tr>\n",
       "      <th>4</th>\n",
       "      <td>5</td>\n",
       "      <td>Highly recommended</td>\n",
       "      <td>Awesome Best iPhone 😍👍🏼</td>\n",
       "    </tr>\n",
       "    <tr>\n",
       "      <th>5</th>\n",
       "      <td>4</td>\n",
       "      <td>Value-for-money</td>\n",
       "      <td>I'm Really happy with the product\\nDelivery wa...</td>\n",
       "    </tr>\n",
       "    <tr>\n",
       "      <th>6</th>\n",
       "      <td>5</td>\n",
       "      <td>Worth every penny</td>\n",
       "      <td>Previously I was using one plus 3t it was a gr...</td>\n",
       "    </tr>\n",
       "    <tr>\n",
       "      <th>7</th>\n",
       "      <td>5</td>\n",
       "      <td>Best in the market!</td>\n",
       "      <td>Damn this phone is a blast . Upgraded from and...</td>\n",
       "    </tr>\n",
       "    <tr>\n",
       "      <th>8</th>\n",
       "      <td>5</td>\n",
       "      <td>Brilliant</td>\n",
       "      <td>Phone Is So Good</td>\n",
       "    </tr>\n",
       "    <tr>\n",
       "      <th>9</th>\n",
       "      <td>5</td>\n",
       "      <td>Awesome</td>\n",
       "      <td>Always love the apple products, upgraded from ...</td>\n",
       "    </tr>\n",
       "  </tbody>\n",
       "</table>\n",
       "</div>"
      ],
      "text/plain": [
       "  RATING       REVIEW_SUMMARY  \\\n",
       "0      5  Best in the market!   \n",
       "1      4      Worth the money   \n",
       "2      5   Highly recommended   \n",
       "3      5            Wonderful   \n",
       "4      5   Highly recommended   \n",
       "5      4      Value-for-money   \n",
       "6      5    Worth every penny   \n",
       "7      5  Best in the market!   \n",
       "8      5            Brilliant   \n",
       "9      5              Awesome   \n",
       "\n",
       "                                         FULL_REVIEW  \n",
       "0  Great iPhone very snappy experience as apple k...  \n",
       "1                              Camera is just wow 👌👌  \n",
       "2  My first ever I phone and awesome performance ...  \n",
       "3  If you get it you would definitely not regret ...  \n",
       "4                            Awesome Best iPhone 😍👍🏼  \n",
       "5  I'm Really happy with the product\\nDelivery wa...  \n",
       "6  Previously I was using one plus 3t it was a gr...  \n",
       "7  Damn this phone is a blast . Upgraded from and...  \n",
       "8                                   Phone Is So Good  \n",
       "9  Always love the apple products, upgraded from ...  "
      ]
     },
     "execution_count": 48,
     "metadata": {},
     "output_type": "execute_result"
    }
   ],
   "source": [
    "df_3"
   ]
  },
  {
   "cell_type": "code",
   "execution_count": 49,
   "id": "0ef955d0",
   "metadata": {},
   "outputs": [],
   "source": [
    "Next_page = driver.find_element(By.XPATH,'//a[@class=\"ge-49M\"][4]')"
   ]
  },
  {
   "cell_type": "code",
   "execution_count": 50,
   "id": "ac974cfa",
   "metadata": {},
   "outputs": [],
   "source": [
    "Next_page.click()"
   ]
  },
  {
   "cell_type": "code",
   "execution_count": 51,
   "id": "cab78ba3",
   "metadata": {},
   "outputs": [],
   "source": [
    "rating = []\n",
    "rating_tags =driver.find_elements(By.XPATH,'//div[@class=\"_3LWZlK _1BLPMq\"]')\n",
    "for i in rating_tags:\n",
    "    rating_ = i.text\n",
    "    rating.append(rating_)"
   ]
  },
  {
   "cell_type": "code",
   "execution_count": 52,
   "id": "1cf85c47",
   "metadata": {},
   "outputs": [
    {
     "data": {
      "text/plain": [
       "['5', '5', '5', '5', '5', '5', '5', '5', '5', '5']"
      ]
     },
     "execution_count": 52,
     "metadata": {},
     "output_type": "execute_result"
    }
   ],
   "source": [
    "rating"
   ]
  },
  {
   "cell_type": "code",
   "execution_count": 53,
   "id": "3f81650c",
   "metadata": {},
   "outputs": [],
   "source": [
    "review_summary = []\n",
    "review_summary_tags =driver.find_elements(By.XPATH,' //p[@class=\"_2-N8zT\"]')\n",
    "for i in review_summary_tags:\n",
    "    review_ = i.text\n",
    "    review_summary.append(review_)"
   ]
  },
  {
   "cell_type": "code",
   "execution_count": 54,
   "id": "9601790f",
   "metadata": {},
   "outputs": [
    {
     "data": {
      "text/plain": [
       "['Best in the market!',\n",
       " 'Mind-blowing purchase',\n",
       " 'Perfect product!',\n",
       " 'Highly recommended',\n",
       " 'Brilliant',\n",
       " 'Simply awesome',\n",
       " 'Great product',\n",
       " 'Awesome',\n",
       " 'Worth every penny',\n",
       " 'Classy product']"
      ]
     },
     "execution_count": 54,
     "metadata": {},
     "output_type": "execute_result"
    }
   ],
   "source": [
    "review_summary"
   ]
  },
  {
   "cell_type": "code",
   "execution_count": 55,
   "id": "3e153c4c",
   "metadata": {},
   "outputs": [],
   "source": [
    "full_review = []\n",
    "full_review_tags =driver.find_elements(By.XPATH,'//div[@class=\"t-ZTKy\"]/div')\n",
    "for i in full_review_tags:\n",
    "    review = i.text\n",
    "    full_review.append(review)"
   ]
  },
  {
   "cell_type": "code",
   "execution_count": 56,
   "id": "43052427",
   "metadata": {},
   "outputs": [
    {
     "data": {
      "text/plain": [
       "['Don’t expect much from front camera… especially who loves beauty mode and filters.. back cameras are good…video department is always plus point in iPhones… battery capacity is really surprising lasts for one day at least… performance always good and smooth… speaker’s quality is good…built quality best and haptic feedback is enjoyable…\\nNote : images are good after you edit',\n",
       " 'I’m satisfy😍😍',\n",
       " 'Value for money\\n5 star rating\\nExcellent camera\\nBattery backup full day in single charge.\\n\\nTougher and water resistant design, glossy back.\\nThe screen has excellent brightness and contrast.\\nApple A13 Bionic is the fastest smartphone chip on the planet.\\nExcellent battery life, fast charging support.\\nStereo speakers with great quality.',\n",
       " 'What a camera .....just awesome ..you can feel this iPhone just awesome . Good for gaming also ...try pubg in hd it’s just wow',\n",
       " 'A wort full value for money decision it’s . Simply go for it in 2021 its still a good decision . Awesome camera , Super smothered performance, Heck of build quality. And Most important it protects your privacy.',\n",
       " 'Awsn loved it',\n",
       " 'Amazing Powerful and Durable Gadget.\\n\\nI’m am very happy with the camera picture quality, Amazing face id unlocked in dark room, Strong battery with perfect screen size as you can carry easily in pocket. This is my third iPhone.\\n\\nI shifted from android Samsung Note series to iPhone because of the strong build quality and peace of mind for next 3-4 years.\\n\\nDon’t think to much just go for it and I suggest you to go for minimum 128gb variant or more 256gb.\\n\\nI’ve attached my puppy pics and no fi...\\nREAD MORE',\n",
       " 'I dreamt about this day from a long time.... Getting an iPhone with my own money.... Super happy and worth spending every penny',\n",
       " 'excellent look...',\n",
       " 'Gifted my man on his 30th birthday 🎂 He loves it.. Him happy so i am more than happy 😍😘❤️🥰']"
      ]
     },
     "execution_count": 56,
     "metadata": {},
     "output_type": "execute_result"
    }
   ],
   "source": [
    "full_review"
   ]
  },
  {
   "cell_type": "code",
   "execution_count": 57,
   "id": "6dc42b8b",
   "metadata": {},
   "outputs": [
    {
     "name": "stdout",
     "output_type": "stream",
     "text": [
      "10 10 10\n"
     ]
    }
   ],
   "source": [
    "print(len(rating),len(review_summary),len(full_review))"
   ]
  },
  {
   "cell_type": "code",
   "execution_count": 58,
   "id": "84ae0f2d",
   "metadata": {},
   "outputs": [],
   "source": [
    "df_4 =pd.DataFrame({'RATING':rating , 'REVIEW_SUMMARY':review_summary, 'FULL_REVIEW':full_review})"
   ]
  },
  {
   "cell_type": "code",
   "execution_count": 59,
   "id": "516f31cc",
   "metadata": {},
   "outputs": [
    {
     "data": {
      "text/html": [
       "<div>\n",
       "<style scoped>\n",
       "    .dataframe tbody tr th:only-of-type {\n",
       "        vertical-align: middle;\n",
       "    }\n",
       "\n",
       "    .dataframe tbody tr th {\n",
       "        vertical-align: top;\n",
       "    }\n",
       "\n",
       "    .dataframe thead th {\n",
       "        text-align: right;\n",
       "    }\n",
       "</style>\n",
       "<table border=\"1\" class=\"dataframe\">\n",
       "  <thead>\n",
       "    <tr style=\"text-align: right;\">\n",
       "      <th></th>\n",
       "      <th>RATING</th>\n",
       "      <th>REVIEW_SUMMARY</th>\n",
       "      <th>FULL_REVIEW</th>\n",
       "    </tr>\n",
       "  </thead>\n",
       "  <tbody>\n",
       "    <tr>\n",
       "      <th>0</th>\n",
       "      <td>5</td>\n",
       "      <td>Best in the market!</td>\n",
       "      <td>Don’t expect much from front camera… especiall...</td>\n",
       "    </tr>\n",
       "    <tr>\n",
       "      <th>1</th>\n",
       "      <td>5</td>\n",
       "      <td>Mind-blowing purchase</td>\n",
       "      <td>I’m satisfy😍😍</td>\n",
       "    </tr>\n",
       "    <tr>\n",
       "      <th>2</th>\n",
       "      <td>5</td>\n",
       "      <td>Perfect product!</td>\n",
       "      <td>Value for money\\n5 star rating\\nExcellent came...</td>\n",
       "    </tr>\n",
       "    <tr>\n",
       "      <th>3</th>\n",
       "      <td>5</td>\n",
       "      <td>Highly recommended</td>\n",
       "      <td>What a camera .....just awesome ..you can feel...</td>\n",
       "    </tr>\n",
       "    <tr>\n",
       "      <th>4</th>\n",
       "      <td>5</td>\n",
       "      <td>Brilliant</td>\n",
       "      <td>A wort full value for money decision it’s . Si...</td>\n",
       "    </tr>\n",
       "    <tr>\n",
       "      <th>5</th>\n",
       "      <td>5</td>\n",
       "      <td>Simply awesome</td>\n",
       "      <td>Awsn loved it</td>\n",
       "    </tr>\n",
       "    <tr>\n",
       "      <th>6</th>\n",
       "      <td>5</td>\n",
       "      <td>Great product</td>\n",
       "      <td>Amazing Powerful and Durable Gadget.\\n\\nI’m am...</td>\n",
       "    </tr>\n",
       "    <tr>\n",
       "      <th>7</th>\n",
       "      <td>5</td>\n",
       "      <td>Awesome</td>\n",
       "      <td>I dreamt about this day from a long time.... G...</td>\n",
       "    </tr>\n",
       "    <tr>\n",
       "      <th>8</th>\n",
       "      <td>5</td>\n",
       "      <td>Worth every penny</td>\n",
       "      <td>excellent look...</td>\n",
       "    </tr>\n",
       "    <tr>\n",
       "      <th>9</th>\n",
       "      <td>5</td>\n",
       "      <td>Classy product</td>\n",
       "      <td>Gifted my man on his 30th birthday 🎂 He loves ...</td>\n",
       "    </tr>\n",
       "  </tbody>\n",
       "</table>\n",
       "</div>"
      ],
      "text/plain": [
       "  RATING         REVIEW_SUMMARY  \\\n",
       "0      5    Best in the market!   \n",
       "1      5  Mind-blowing purchase   \n",
       "2      5       Perfect product!   \n",
       "3      5     Highly recommended   \n",
       "4      5              Brilliant   \n",
       "5      5         Simply awesome   \n",
       "6      5          Great product   \n",
       "7      5                Awesome   \n",
       "8      5      Worth every penny   \n",
       "9      5         Classy product   \n",
       "\n",
       "                                         FULL_REVIEW  \n",
       "0  Don’t expect much from front camera… especiall...  \n",
       "1                                      I’m satisfy😍😍  \n",
       "2  Value for money\\n5 star rating\\nExcellent came...  \n",
       "3  What a camera .....just awesome ..you can feel...  \n",
       "4  A wort full value for money decision it’s . Si...  \n",
       "5                                      Awsn loved it  \n",
       "6  Amazing Powerful and Durable Gadget.\\n\\nI’m am...  \n",
       "7  I dreamt about this day from a long time.... G...  \n",
       "8                                  excellent look...  \n",
       "9  Gifted my man on his 30th birthday 🎂 He loves ...  "
      ]
     },
     "execution_count": 59,
     "metadata": {},
     "output_type": "execute_result"
    }
   ],
   "source": [
    "df_4"
   ]
  },
  {
   "cell_type": "code",
   "execution_count": 60,
   "id": "903f69fd",
   "metadata": {},
   "outputs": [],
   "source": [
    "Next_page = driver.find_element(By.XPATH,'//a[@class=\"ge-49M\"][5]')"
   ]
  },
  {
   "cell_type": "code",
   "execution_count": 61,
   "id": "d49e8540",
   "metadata": {},
   "outputs": [],
   "source": [
    "Next_page.click()"
   ]
  },
  {
   "cell_type": "code",
   "execution_count": 62,
   "id": "512ee7b2",
   "metadata": {},
   "outputs": [],
   "source": [
    "rating = []\n",
    "rating_tags =driver.find_elements(By.XPATH,'//div[@class=\"_3LWZlK _1BLPMq\"]')\n",
    "for i in rating_tags:\n",
    "    rating_ = i.text\n",
    "    rating.append(rating_)"
   ]
  },
  {
   "cell_type": "code",
   "execution_count": 63,
   "id": "a8f20ed3",
   "metadata": {},
   "outputs": [
    {
     "data": {
      "text/plain": [
       "['5', '5', '5', '5', '5', '5', '4', '5', '5', '5']"
      ]
     },
     "execution_count": 63,
     "metadata": {},
     "output_type": "execute_result"
    }
   ],
   "source": [
    "rating"
   ]
  },
  {
   "cell_type": "code",
   "execution_count": 64,
   "id": "c05f5f6d",
   "metadata": {},
   "outputs": [],
   "source": [
    "review_summary = []\n",
    "review_summary_tags =driver.find_elements(By.XPATH,' //p[@class=\"_2-N8zT\"]')\n",
    "for i in review_summary_tags:\n",
    "    review_ = i.text\n",
    "    review_summary.append(review_)"
   ]
  },
  {
   "cell_type": "code",
   "execution_count": 65,
   "id": "d4419705",
   "metadata": {},
   "outputs": [
    {
     "data": {
      "text/plain": [
       "['Wonderful',\n",
       " 'Fabulous!',\n",
       " 'Terrific purchase',\n",
       " 'Excellent',\n",
       " 'Just wow!',\n",
       " 'Classy product',\n",
       " 'Pretty good',\n",
       " 'Wonderful',\n",
       " 'Best in the market!',\n",
       " 'Simply awesome']"
      ]
     },
     "execution_count": 65,
     "metadata": {},
     "output_type": "execute_result"
    }
   ],
   "source": [
    "review_summary"
   ]
  },
  {
   "cell_type": "code",
   "execution_count": 66,
   "id": "b871e35d",
   "metadata": {},
   "outputs": [],
   "source": [
    "full_review = []\n",
    "full_review_tags =driver.find_elements(By.XPATH,'//div[@class=\"t-ZTKy\"]/div')\n",
    "for i in full_review_tags:\n",
    "    review = i.text\n",
    "    full_review.append(review)"
   ]
  },
  {
   "cell_type": "code",
   "execution_count": 67,
   "id": "ab6d956a",
   "metadata": {},
   "outputs": [
    {
     "data": {
      "text/plain": [
       "['Definitely worth purchase',\n",
       " 'This is my first iOS phone. I am very happy with this product. Very much satisfied with this. I love this phone.',\n",
       " 'Buy it if you afford it 😜',\n",
       " 'Review After 10month\\nSuperb quality product\\nBattery run 40hrs perfect\\nAfter 10 months battery health was 95% with 20W adapter\\nLove apple 🍎',\n",
       " 'Loving it!!! 🤩\\nSE to 11❤️\\nA Big & Worthy Upgrade🥰💥',\n",
       " 'Best and amazing product.....phone looks so premium.... battary is also good as expected .... Wide angle camera is so addictive ...if you are a IOS lover....then this phone will be the best choice for you all!!💯🔥',\n",
       " 'I was using Iphone 6s and also Oneplus 6t. Both mobiles were perfectly alright in Photos, gaming, and smooth interface . My 6s mobile getting battery issue. thought upgrade to 11. Really like this mobile of its Internal storage (compare to 6s) , camera and its touch feeling. Its a worth buying mobile for me.',\n",
       " 'I upgraded from 7 plus and Im not regretting it. The only thing missing is OLED display other than that 11 is no where lesser than 11pro.',\n",
       " 'Very good',\n",
       " 'Just awesome phone, everything works in such a smooth and refined way !!!\\nCamera - next level\\nDisplay - next level\\nPerformance - monster\\nBattery - next level\\nEverything works at the best level with A13 Bionic Chip\\nValue for money iphone\\nYou should go for this just killer performance 🔥🔥']"
      ]
     },
     "execution_count": 67,
     "metadata": {},
     "output_type": "execute_result"
    }
   ],
   "source": [
    "full_review"
   ]
  },
  {
   "cell_type": "code",
   "execution_count": 68,
   "id": "706903ba",
   "metadata": {},
   "outputs": [
    {
     "name": "stdout",
     "output_type": "stream",
     "text": [
      "10 10 10\n"
     ]
    }
   ],
   "source": [
    "print(len(rating),len(review_summary),len(full_review))"
   ]
  },
  {
   "cell_type": "code",
   "execution_count": 69,
   "id": "2bf2bf41",
   "metadata": {},
   "outputs": [],
   "source": [
    "df_5 = pd.DataFrame({'RATING':rating , 'REVIEW_SUMMARY':review_summary, 'FULL_REVIEW':full_review})"
   ]
  },
  {
   "cell_type": "code",
   "execution_count": 70,
   "id": "3aa07725",
   "metadata": {},
   "outputs": [
    {
     "data": {
      "text/html": [
       "<div>\n",
       "<style scoped>\n",
       "    .dataframe tbody tr th:only-of-type {\n",
       "        vertical-align: middle;\n",
       "    }\n",
       "\n",
       "    .dataframe tbody tr th {\n",
       "        vertical-align: top;\n",
       "    }\n",
       "\n",
       "    .dataframe thead th {\n",
       "        text-align: right;\n",
       "    }\n",
       "</style>\n",
       "<table border=\"1\" class=\"dataframe\">\n",
       "  <thead>\n",
       "    <tr style=\"text-align: right;\">\n",
       "      <th></th>\n",
       "      <th>RATING</th>\n",
       "      <th>REVIEW_SUMMARY</th>\n",
       "      <th>FULL_REVIEW</th>\n",
       "    </tr>\n",
       "  </thead>\n",
       "  <tbody>\n",
       "    <tr>\n",
       "      <th>0</th>\n",
       "      <td>5</td>\n",
       "      <td>Wonderful</td>\n",
       "      <td>Definitely worth purchase</td>\n",
       "    </tr>\n",
       "    <tr>\n",
       "      <th>1</th>\n",
       "      <td>5</td>\n",
       "      <td>Fabulous!</td>\n",
       "      <td>This is my first iOS phone. I am very happy wi...</td>\n",
       "    </tr>\n",
       "    <tr>\n",
       "      <th>2</th>\n",
       "      <td>5</td>\n",
       "      <td>Terrific purchase</td>\n",
       "      <td>Buy it if you afford it 😜</td>\n",
       "    </tr>\n",
       "    <tr>\n",
       "      <th>3</th>\n",
       "      <td>5</td>\n",
       "      <td>Excellent</td>\n",
       "      <td>Review After 10month\\nSuperb quality product\\n...</td>\n",
       "    </tr>\n",
       "    <tr>\n",
       "      <th>4</th>\n",
       "      <td>5</td>\n",
       "      <td>Just wow!</td>\n",
       "      <td>Loving it!!! 🤩\\nSE to 11❤️\\nA Big &amp; Worthy Upg...</td>\n",
       "    </tr>\n",
       "    <tr>\n",
       "      <th>5</th>\n",
       "      <td>5</td>\n",
       "      <td>Classy product</td>\n",
       "      <td>Best and amazing product.....phone looks so pr...</td>\n",
       "    </tr>\n",
       "    <tr>\n",
       "      <th>6</th>\n",
       "      <td>4</td>\n",
       "      <td>Pretty good</td>\n",
       "      <td>I was using Iphone 6s and also Oneplus 6t. Bot...</td>\n",
       "    </tr>\n",
       "    <tr>\n",
       "      <th>7</th>\n",
       "      <td>5</td>\n",
       "      <td>Wonderful</td>\n",
       "      <td>I upgraded from 7 plus and Im not regretting i...</td>\n",
       "    </tr>\n",
       "    <tr>\n",
       "      <th>8</th>\n",
       "      <td>5</td>\n",
       "      <td>Best in the market!</td>\n",
       "      <td>Very good</td>\n",
       "    </tr>\n",
       "    <tr>\n",
       "      <th>9</th>\n",
       "      <td>5</td>\n",
       "      <td>Simply awesome</td>\n",
       "      <td>Just awesome phone, everything works in such a...</td>\n",
       "    </tr>\n",
       "  </tbody>\n",
       "</table>\n",
       "</div>"
      ],
      "text/plain": [
       "  RATING       REVIEW_SUMMARY  \\\n",
       "0      5            Wonderful   \n",
       "1      5            Fabulous!   \n",
       "2      5    Terrific purchase   \n",
       "3      5            Excellent   \n",
       "4      5            Just wow!   \n",
       "5      5       Classy product   \n",
       "6      4          Pretty good   \n",
       "7      5            Wonderful   \n",
       "8      5  Best in the market!   \n",
       "9      5       Simply awesome   \n",
       "\n",
       "                                         FULL_REVIEW  \n",
       "0                          Definitely worth purchase  \n",
       "1  This is my first iOS phone. I am very happy wi...  \n",
       "2                          Buy it if you afford it 😜  \n",
       "3  Review After 10month\\nSuperb quality product\\n...  \n",
       "4  Loving it!!! 🤩\\nSE to 11❤️\\nA Big & Worthy Upg...  \n",
       "5  Best and amazing product.....phone looks so pr...  \n",
       "6  I was using Iphone 6s and also Oneplus 6t. Bot...  \n",
       "7  I upgraded from 7 plus and Im not regretting i...  \n",
       "8                                          Very good  \n",
       "9  Just awesome phone, everything works in such a...  "
      ]
     },
     "execution_count": 70,
     "metadata": {},
     "output_type": "execute_result"
    }
   ],
   "source": [
    "df_5"
   ]
  },
  {
   "cell_type": "code",
   "execution_count": 71,
   "id": "8501cdc3",
   "metadata": {},
   "outputs": [],
   "source": [
    "Next_page = driver.find_element(By.XPATH,'//a[@class=\"ge-49M\"][6]')"
   ]
  },
  {
   "cell_type": "code",
   "execution_count": 72,
   "id": "080bab12",
   "metadata": {},
   "outputs": [],
   "source": [
    "Next_page.click()"
   ]
  },
  {
   "cell_type": "code",
   "execution_count": 73,
   "id": "56c4f700",
   "metadata": {},
   "outputs": [],
   "source": [
    "rating = []\n",
    "rating_tags =driver.find_elements(By.XPATH,'//div[@class=\"_3LWZlK _1BLPMq\"]')\n",
    "for i in rating_tags:\n",
    "    rating_ = i.text\n",
    "    rating.append(rating_)"
   ]
  },
  {
   "cell_type": "code",
   "execution_count": 74,
   "id": "3264ea40",
   "metadata": {},
   "outputs": [
    {
     "data": {
      "text/plain": [
       "['5', '4', '5', '5', '4', '5', '5', '4', '5', '5']"
      ]
     },
     "execution_count": 74,
     "metadata": {},
     "output_type": "execute_result"
    }
   ],
   "source": [
    "rating"
   ]
  },
  {
   "cell_type": "code",
   "execution_count": 75,
   "id": "9f2c8130",
   "metadata": {},
   "outputs": [],
   "source": [
    "review_summary = []\n",
    "review_summary_tags =driver.find_elements(By.XPATH,' //p[@class=\"_2-N8zT\"]')\n",
    "for i in review_summary_tags:\n",
    "    review_ = i.text\n",
    "    review_summary.append(review_)"
   ]
  },
  {
   "cell_type": "code",
   "execution_count": 76,
   "id": "7c6ba10a",
   "metadata": {},
   "outputs": [
    {
     "data": {
      "text/plain": [
       "['Best in the market!',\n",
       " 'Good choice',\n",
       " 'Wonderful',\n",
       " 'Perfect product!',\n",
       " 'Good quality product',\n",
       " 'Highly recommended',\n",
       " 'Simply awesome',\n",
       " 'Value-for-money',\n",
       " 'Best in the market!',\n",
       " 'Must buy!']"
      ]
     },
     "execution_count": 76,
     "metadata": {},
     "output_type": "execute_result"
    }
   ],
   "source": [
    "review_summary"
   ]
  },
  {
   "cell_type": "code",
   "execution_count": 77,
   "id": "82fad56a",
   "metadata": {},
   "outputs": [],
   "source": [
    "full_review = []\n",
    "full_review_tags =driver.find_elements(By.XPATH,'//div[@class=\"t-ZTKy\"]/div')\n",
    "for i in full_review_tags:\n",
    "    review = i.text\n",
    "    full_review.append(review)"
   ]
  },
  {
   "cell_type": "code",
   "execution_count": 78,
   "id": "1aa9b1fb",
   "metadata": {},
   "outputs": [
    {
     "data": {
      "text/plain": [
       "['Finally got it 😙',\n",
       " 'So far it’s been an AMAZING experience coming back to iOS after nearly a decade but it’s not as versatile as android though phone is sturdy dropped it accidentally a couple of times and nothing happened fortunately camera is awesome',\n",
       " 'Its good.. a little heavy on my pinky but its cute ! Well m not any great photographer but putting these pictures just in case u knw…. Would help someone make any decisions',\n",
       " 'Value for money❤️❤️\\nIts awesome mobile phone in the world ...\\nDisplay was very good and bright ..\\nTrust me freinds you r never regret after Buying..\\nJust go for it....\\nI love this phone and i switch to iphone x to 11',\n",
       " 'Awesome',\n",
       " 'iphone 11 is a very good phone to buy only if you can compromise for the display. The display on this is device is pretty good but you can get other options with better displays in this price segment.\\nIf you can survive with an HD+ LCD panel with thicker bezels and a notch up top then this is a very good phone for you.\\nCameras are awesome, battery backup excellent, great performance and a decent premium look. Good job Apple !',\n",
       " 'over all its nice.. color... purple. 😍',\n",
       " \"Just got this iphone 11\\nAnd it is most powerful mobile phone I have used ever\\n\\nSo,go for it if you want a phone with best specification like camera,battery backup,display, A13 bionic chip\\n\\nThat's my review about this phone but yours can be differ from me....\",\n",
       " 'Such an awesome experience with iPhone 11 awesome Camera quality.',\n",
       " 'happy ❤️']"
      ]
     },
     "execution_count": 78,
     "metadata": {},
     "output_type": "execute_result"
    }
   ],
   "source": [
    "full_review"
   ]
  },
  {
   "cell_type": "code",
   "execution_count": 79,
   "id": "26133ee4",
   "metadata": {},
   "outputs": [
    {
     "name": "stdout",
     "output_type": "stream",
     "text": [
      "10 10 10\n"
     ]
    }
   ],
   "source": [
    "print(len(rating),len(review_summary),len(full_review))"
   ]
  },
  {
   "cell_type": "code",
   "execution_count": 80,
   "id": "7580965d",
   "metadata": {},
   "outputs": [],
   "source": [
    "df_6 = pd.DataFrame({'RATING':rating , 'REVIEW_SUMMARY':review_summary, 'FULL_REVIEW':full_review})"
   ]
  },
  {
   "cell_type": "code",
   "execution_count": 81,
   "id": "8aeefa5c",
   "metadata": {},
   "outputs": [
    {
     "data": {
      "text/html": [
       "<div>\n",
       "<style scoped>\n",
       "    .dataframe tbody tr th:only-of-type {\n",
       "        vertical-align: middle;\n",
       "    }\n",
       "\n",
       "    .dataframe tbody tr th {\n",
       "        vertical-align: top;\n",
       "    }\n",
       "\n",
       "    .dataframe thead th {\n",
       "        text-align: right;\n",
       "    }\n",
       "</style>\n",
       "<table border=\"1\" class=\"dataframe\">\n",
       "  <thead>\n",
       "    <tr style=\"text-align: right;\">\n",
       "      <th></th>\n",
       "      <th>RATING</th>\n",
       "      <th>REVIEW_SUMMARY</th>\n",
       "      <th>FULL_REVIEW</th>\n",
       "    </tr>\n",
       "  </thead>\n",
       "  <tbody>\n",
       "    <tr>\n",
       "      <th>0</th>\n",
       "      <td>5</td>\n",
       "      <td>Best in the market!</td>\n",
       "      <td>Finally got it 😙</td>\n",
       "    </tr>\n",
       "    <tr>\n",
       "      <th>1</th>\n",
       "      <td>4</td>\n",
       "      <td>Good choice</td>\n",
       "      <td>So far it’s been an AMAZING experience coming ...</td>\n",
       "    </tr>\n",
       "    <tr>\n",
       "      <th>2</th>\n",
       "      <td>5</td>\n",
       "      <td>Wonderful</td>\n",
       "      <td>Its good.. a little heavy on my pinky but its ...</td>\n",
       "    </tr>\n",
       "    <tr>\n",
       "      <th>3</th>\n",
       "      <td>5</td>\n",
       "      <td>Perfect product!</td>\n",
       "      <td>Value for money❤️❤️\\nIts awesome mobile phone ...</td>\n",
       "    </tr>\n",
       "    <tr>\n",
       "      <th>4</th>\n",
       "      <td>4</td>\n",
       "      <td>Good quality product</td>\n",
       "      <td>Awesome</td>\n",
       "    </tr>\n",
       "    <tr>\n",
       "      <th>5</th>\n",
       "      <td>5</td>\n",
       "      <td>Highly recommended</td>\n",
       "      <td>iphone 11 is a very good phone to buy only if ...</td>\n",
       "    </tr>\n",
       "    <tr>\n",
       "      <th>6</th>\n",
       "      <td>5</td>\n",
       "      <td>Simply awesome</td>\n",
       "      <td>over all its nice.. color... purple. 😍</td>\n",
       "    </tr>\n",
       "    <tr>\n",
       "      <th>7</th>\n",
       "      <td>4</td>\n",
       "      <td>Value-for-money</td>\n",
       "      <td>Just got this iphone 11\\nAnd it is most powerf...</td>\n",
       "    </tr>\n",
       "    <tr>\n",
       "      <th>8</th>\n",
       "      <td>5</td>\n",
       "      <td>Best in the market!</td>\n",
       "      <td>Such an awesome experience with iPhone 11 awes...</td>\n",
       "    </tr>\n",
       "    <tr>\n",
       "      <th>9</th>\n",
       "      <td>5</td>\n",
       "      <td>Must buy!</td>\n",
       "      <td>happy ❤️</td>\n",
       "    </tr>\n",
       "  </tbody>\n",
       "</table>\n",
       "</div>"
      ],
      "text/plain": [
       "  RATING        REVIEW_SUMMARY  \\\n",
       "0      5   Best in the market!   \n",
       "1      4           Good choice   \n",
       "2      5             Wonderful   \n",
       "3      5      Perfect product!   \n",
       "4      4  Good quality product   \n",
       "5      5    Highly recommended   \n",
       "6      5        Simply awesome   \n",
       "7      4       Value-for-money   \n",
       "8      5   Best in the market!   \n",
       "9      5             Must buy!   \n",
       "\n",
       "                                         FULL_REVIEW  \n",
       "0                                   Finally got it 😙  \n",
       "1  So far it’s been an AMAZING experience coming ...  \n",
       "2  Its good.. a little heavy on my pinky but its ...  \n",
       "3  Value for money❤️❤️\\nIts awesome mobile phone ...  \n",
       "4                                            Awesome  \n",
       "5  iphone 11 is a very good phone to buy only if ...  \n",
       "6             over all its nice.. color... purple. 😍  \n",
       "7  Just got this iphone 11\\nAnd it is most powerf...  \n",
       "8  Such an awesome experience with iPhone 11 awes...  \n",
       "9                                           happy ❤️  "
      ]
     },
     "execution_count": 81,
     "metadata": {},
     "output_type": "execute_result"
    }
   ],
   "source": [
    "df_6"
   ]
  },
  {
   "cell_type": "code",
   "execution_count": 82,
   "id": "c0706895",
   "metadata": {},
   "outputs": [],
   "source": [
    "Next_page = driver.find_element(By.XPATH,'//a[@class=\"ge-49M\"][7]')"
   ]
  },
  {
   "cell_type": "code",
   "execution_count": 83,
   "id": "468349a2",
   "metadata": {},
   "outputs": [],
   "source": [
    "Next_page.click()"
   ]
  },
  {
   "cell_type": "code",
   "execution_count": 86,
   "id": "5cae067d",
   "metadata": {},
   "outputs": [],
   "source": [
    "rating = []\n",
    "rating_tags =driver.find_elements(By.XPATH,'//div[@class=\"_3LWZlK _1BLPMq\"]')\n",
    "for i in rating_tags:\n",
    "    rating_ = i.text\n",
    "    rating.append(rating_)"
   ]
  },
  {
   "cell_type": "code",
   "execution_count": 87,
   "id": "b7c29019",
   "metadata": {},
   "outputs": [
    {
     "data": {
      "text/plain": [
       "['5', '4', '5', '5', '4', '5', '5', '4', '5', '5']"
      ]
     },
     "execution_count": 87,
     "metadata": {},
     "output_type": "execute_result"
    }
   ],
   "source": [
    "rating"
   ]
  },
  {
   "cell_type": "code",
   "execution_count": 88,
   "id": "d24db05f",
   "metadata": {},
   "outputs": [],
   "source": [
    "review_summary = []\n",
    "review_summary_tags =driver.find_elements(By.XPATH,' //p[@class=\"_2-N8zT\"]')\n",
    "for i in review_summary_tags:\n",
    "    review_ = i.text\n",
    "    review_summary.append(review_)"
   ]
  },
  {
   "cell_type": "code",
   "execution_count": 89,
   "id": "ca61a46c",
   "metadata": {},
   "outputs": [
    {
     "data": {
      "text/plain": [
       "['Best in the market!',\n",
       " 'Good choice',\n",
       " 'Wonderful',\n",
       " 'Perfect product!',\n",
       " 'Good quality product',\n",
       " 'Highly recommended',\n",
       " 'Simply awesome',\n",
       " 'Value-for-money',\n",
       " 'Best in the market!',\n",
       " 'Must buy!']"
      ]
     },
     "execution_count": 89,
     "metadata": {},
     "output_type": "execute_result"
    }
   ],
   "source": [
    "review_summary"
   ]
  },
  {
   "cell_type": "code",
   "execution_count": 90,
   "id": "ea5cdb69",
   "metadata": {},
   "outputs": [],
   "source": [
    "full_review = []\n",
    "full_review_tags =driver.find_elements(By.XPATH,'//div[@class=\"t-ZTKy\"]/div')\n",
    "for i in full_review_tags:\n",
    "    review = i.text\n",
    "    full_review.append(review)"
   ]
  },
  {
   "cell_type": "code",
   "execution_count": 91,
   "id": "951ad62d",
   "metadata": {},
   "outputs": [
    {
     "data": {
      "text/plain": [
       "['Finally got it 😙',\n",
       " 'So far it’s been an AMAZING experience coming back to iOS after nearly a decade but it’s not as versatile as android though phone is sturdy dropped it accidentally a couple of times and nothing happened fortunately camera is awesome',\n",
       " 'Its good.. a little heavy on my pinky but its cute ! Well m not any great photographer but putting these pictures just in case u knw…. Would help someone make any decisions',\n",
       " 'Value for money❤️❤️\\nIts awesome mobile phone in the world ...\\nDisplay was very good and bright ..\\nTrust me freinds you r never regret after Buying..\\nJust go for it....\\nI love this phone and i switch to iphone x to 11',\n",
       " 'Awesome',\n",
       " 'iphone 11 is a very good phone to buy only if you can compromise for the display. The display on this is device is pretty good but you can get other options with better displays in this price segment.\\nIf you can survive with an HD+ LCD panel with thicker bezels and a notch up top then this is a very good phone for you.\\nCameras are awesome, battery backup excellent, great performance and a decent premium look. Good job Apple !',\n",
       " 'over all its nice.. color... purple. 😍',\n",
       " \"Just got this iphone 11\\nAnd it is most powerful mobile phone I have used ever\\n\\nSo,go for it if you want a phone with best specification like camera,battery backup,display, A13 bionic chip\\n\\nThat's my review about this phone but yours can be differ from me....\",\n",
       " 'Such an awesome experience with iPhone 11 awesome Camera quality.',\n",
       " 'happy ❤️']"
      ]
     },
     "execution_count": 91,
     "metadata": {},
     "output_type": "execute_result"
    }
   ],
   "source": [
    "full_review"
   ]
  },
  {
   "cell_type": "code",
   "execution_count": 92,
   "id": "aae8ef20",
   "metadata": {},
   "outputs": [
    {
     "name": "stdout",
     "output_type": "stream",
     "text": [
      "10 10 10\n"
     ]
    }
   ],
   "source": [
    "print(len(rating),len(review_summary),len(full_review))"
   ]
  },
  {
   "cell_type": "code",
   "execution_count": 93,
   "id": "885f337d",
   "metadata": {},
   "outputs": [],
   "source": [
    "df_7 = pd.DataFrame({'RATING':rating , 'REVIEW_SUMMARY':review_summary, 'FULL_REVIEW':full_review})"
   ]
  },
  {
   "cell_type": "code",
   "execution_count": 94,
   "id": "14d9baef",
   "metadata": {},
   "outputs": [
    {
     "data": {
      "text/html": [
       "<div>\n",
       "<style scoped>\n",
       "    .dataframe tbody tr th:only-of-type {\n",
       "        vertical-align: middle;\n",
       "    }\n",
       "\n",
       "    .dataframe tbody tr th {\n",
       "        vertical-align: top;\n",
       "    }\n",
       "\n",
       "    .dataframe thead th {\n",
       "        text-align: right;\n",
       "    }\n",
       "</style>\n",
       "<table border=\"1\" class=\"dataframe\">\n",
       "  <thead>\n",
       "    <tr style=\"text-align: right;\">\n",
       "      <th></th>\n",
       "      <th>RATING</th>\n",
       "      <th>REVIEW_SUMMARY</th>\n",
       "      <th>FULL_REVIEW</th>\n",
       "    </tr>\n",
       "  </thead>\n",
       "  <tbody>\n",
       "    <tr>\n",
       "      <th>0</th>\n",
       "      <td>5</td>\n",
       "      <td>Best in the market!</td>\n",
       "      <td>Finally got it 😙</td>\n",
       "    </tr>\n",
       "    <tr>\n",
       "      <th>1</th>\n",
       "      <td>4</td>\n",
       "      <td>Good choice</td>\n",
       "      <td>So far it’s been an AMAZING experience coming ...</td>\n",
       "    </tr>\n",
       "    <tr>\n",
       "      <th>2</th>\n",
       "      <td>5</td>\n",
       "      <td>Wonderful</td>\n",
       "      <td>Its good.. a little heavy on my pinky but its ...</td>\n",
       "    </tr>\n",
       "    <tr>\n",
       "      <th>3</th>\n",
       "      <td>5</td>\n",
       "      <td>Perfect product!</td>\n",
       "      <td>Value for money❤️❤️\\nIts awesome mobile phone ...</td>\n",
       "    </tr>\n",
       "    <tr>\n",
       "      <th>4</th>\n",
       "      <td>4</td>\n",
       "      <td>Good quality product</td>\n",
       "      <td>Awesome</td>\n",
       "    </tr>\n",
       "    <tr>\n",
       "      <th>5</th>\n",
       "      <td>5</td>\n",
       "      <td>Highly recommended</td>\n",
       "      <td>iphone 11 is a very good phone to buy only if ...</td>\n",
       "    </tr>\n",
       "    <tr>\n",
       "      <th>6</th>\n",
       "      <td>5</td>\n",
       "      <td>Simply awesome</td>\n",
       "      <td>over all its nice.. color... purple. 😍</td>\n",
       "    </tr>\n",
       "    <tr>\n",
       "      <th>7</th>\n",
       "      <td>4</td>\n",
       "      <td>Value-for-money</td>\n",
       "      <td>Just got this iphone 11\\nAnd it is most powerf...</td>\n",
       "    </tr>\n",
       "    <tr>\n",
       "      <th>8</th>\n",
       "      <td>5</td>\n",
       "      <td>Best in the market!</td>\n",
       "      <td>Such an awesome experience with iPhone 11 awes...</td>\n",
       "    </tr>\n",
       "    <tr>\n",
       "      <th>9</th>\n",
       "      <td>5</td>\n",
       "      <td>Must buy!</td>\n",
       "      <td>happy ❤️</td>\n",
       "    </tr>\n",
       "  </tbody>\n",
       "</table>\n",
       "</div>"
      ],
      "text/plain": [
       "  RATING        REVIEW_SUMMARY  \\\n",
       "0      5   Best in the market!   \n",
       "1      4           Good choice   \n",
       "2      5             Wonderful   \n",
       "3      5      Perfect product!   \n",
       "4      4  Good quality product   \n",
       "5      5    Highly recommended   \n",
       "6      5        Simply awesome   \n",
       "7      4       Value-for-money   \n",
       "8      5   Best in the market!   \n",
       "9      5             Must buy!   \n",
       "\n",
       "                                         FULL_REVIEW  \n",
       "0                                   Finally got it 😙  \n",
       "1  So far it’s been an AMAZING experience coming ...  \n",
       "2  Its good.. a little heavy on my pinky but its ...  \n",
       "3  Value for money❤️❤️\\nIts awesome mobile phone ...  \n",
       "4                                            Awesome  \n",
       "5  iphone 11 is a very good phone to buy only if ...  \n",
       "6             over all its nice.. color... purple. 😍  \n",
       "7  Just got this iphone 11\\nAnd it is most powerf...  \n",
       "8  Such an awesome experience with iPhone 11 awes...  \n",
       "9                                           happy ❤️  "
      ]
     },
     "execution_count": 94,
     "metadata": {},
     "output_type": "execute_result"
    }
   ],
   "source": [
    "df_7"
   ]
  },
  {
   "cell_type": "code",
   "execution_count": 95,
   "id": "0c345106",
   "metadata": {},
   "outputs": [],
   "source": [
    "Next_page = driver.find_element(By.XPATH,'//a[@class=\"ge-49M\"][8]')"
   ]
  },
  {
   "cell_type": "code",
   "execution_count": 96,
   "id": "b0e9cc59",
   "metadata": {},
   "outputs": [],
   "source": [
    "Next_page.click()"
   ]
  },
  {
   "cell_type": "code",
   "execution_count": 97,
   "id": "2a86bb66",
   "metadata": {},
   "outputs": [],
   "source": [
    "rating = []\n",
    "rating_tags =driver.find_elements(By.XPATH,'//div[@class=\"_3LWZlK _1BLPMq\"]')\n",
    "for i in rating_tags:\n",
    "    rating_ = i.text\n",
    "    rating.append(rating_)"
   ]
  },
  {
   "cell_type": "code",
   "execution_count": 98,
   "id": "32ff370f",
   "metadata": {},
   "outputs": [
    {
     "data": {
      "text/plain": [
       "['5', '5', '5', '5', '5', '5', '5', '5', '5', '5']"
      ]
     },
     "execution_count": 98,
     "metadata": {},
     "output_type": "execute_result"
    }
   ],
   "source": [
    "rating"
   ]
  },
  {
   "cell_type": "code",
   "execution_count": 99,
   "id": "ba9bb3aa",
   "metadata": {},
   "outputs": [],
   "source": [
    "review_summary = []\n",
    "review_summary_tags =driver.find_elements(By.XPATH,' //p[@class=\"_2-N8zT\"]')\n",
    "for i in review_summary_tags:\n",
    "    review_ = i.text\n",
    "    review_summary.append(review_)"
   ]
  },
  {
   "cell_type": "code",
   "execution_count": 100,
   "id": "0fdf8df3",
   "metadata": {},
   "outputs": [
    {
     "data": {
      "text/plain": [
       "['Great product',\n",
       " 'Super!',\n",
       " 'Classy product',\n",
       " 'Just wow!',\n",
       " 'Perfect product!',\n",
       " 'Great product',\n",
       " 'Must buy!',\n",
       " 'Must buy!',\n",
       " 'Best in the market!',\n",
       " 'Great product']"
      ]
     },
     "execution_count": 100,
     "metadata": {},
     "output_type": "execute_result"
    }
   ],
   "source": [
    "review_summary"
   ]
  },
  {
   "cell_type": "code",
   "execution_count": 101,
   "id": "6b7285f7",
   "metadata": {},
   "outputs": [],
   "source": [
    "full_review = []\n",
    "full_review_tags =driver.find_elements(By.XPATH,'//div[@class=\"t-ZTKy\"]/div')\n",
    "for i in full_review_tags:\n",
    "    review = i.text\n",
    "    full_review.append(review)"
   ]
  },
  {
   "cell_type": "code",
   "execution_count": 102,
   "id": "a516f994",
   "metadata": {},
   "outputs": [
    {
     "data": {
      "text/plain": [
       "['Superb Phone..',\n",
       " 'Did an upgrade from 6s plus to iphone 11.\\nAo far the experience is well and good. Felt smoother than 6s plus. The camera quality is superb. Battery backup is descent. Not a heavy user, and gets power more than a day. Go for it if you need an alrounder iphone in a competitve price.',\n",
       " 'Just enjoy the power of it!',\n",
       " 'Excellent Phone',\n",
       " 'It is just awesome mobile for this price from Apple,\\n\\nAfter 10 days review\\n\\nBattery enough for 1 day even 24*7 Internet will be on and mostly internet usage\\n\\nCamera is just awesome cool , android 64 MP is equal to this just 12 MP\\n\\nA13 Bionic chip will give more high performance without hanging\\n\\nAudio stereo speakers will give Dolby atoms sound with crystal clear\\n\\nVideo recording is like cinematic shots of every sec can be a 4K 60fps. Just awesome this phone\\niPhone 11 loved one',\n",
       " \"I was using android phone earlier..I was thinking apple phones are much more costy than other phones with less specifications..so why to waste money in this??..But trust me guys once if you start using ios then you won't go back to android...beleive me this phone is the best than all other...There is no other phone which can beat iphones in terms of camera..iphones gives the best real image..its very faster and smoother than android phones...if you think to switch to ios iphone 11 is the best...\\nREAD MORE\",\n",
       " 'I rate this product 5* as it has got amazing user experience with the best performing A13 bionic processor. The screen responds and graphics rendering is top notch. With casual gaming and internet browsing, the battery lasts for approx. 1 day. Camera is very good. You will fall in love with the portrait mode. You can call me a loyal Apple customer or whatever but I won’t stop praising the products and overall experience. That user experience matters and is worth every penny you pay.\\n\\nBelow ar...\\nREAD MORE',\n",
       " 'My dream is complete just mind-blowing phone camera is superb 😌✨😍',\n",
       " 'Really very nice... my dad gifted me really I am soo happy with this phone love it 😇',\n",
       " 'Awesome phone, great display(may not be a OLED)...very fast processor...taking portrait photo is the real joy.']"
      ]
     },
     "execution_count": 102,
     "metadata": {},
     "output_type": "execute_result"
    }
   ],
   "source": [
    "full_review"
   ]
  },
  {
   "cell_type": "code",
   "execution_count": 103,
   "id": "d1b523e8",
   "metadata": {},
   "outputs": [
    {
     "name": "stdout",
     "output_type": "stream",
     "text": [
      "10 10 10\n"
     ]
    }
   ],
   "source": [
    "print(len(rating),len(review_summary),len(full_review))"
   ]
  },
  {
   "cell_type": "code",
   "execution_count": 104,
   "id": "415c7481",
   "metadata": {},
   "outputs": [],
   "source": [
    "df_8 = pd.DataFrame({'RATING':rating , 'REVIEW_SUMMARY':review_summary, 'FULL_REVIEW':full_review})"
   ]
  },
  {
   "cell_type": "code",
   "execution_count": 105,
   "id": "02442eb6",
   "metadata": {},
   "outputs": [
    {
     "data": {
      "text/html": [
       "<div>\n",
       "<style scoped>\n",
       "    .dataframe tbody tr th:only-of-type {\n",
       "        vertical-align: middle;\n",
       "    }\n",
       "\n",
       "    .dataframe tbody tr th {\n",
       "        vertical-align: top;\n",
       "    }\n",
       "\n",
       "    .dataframe thead th {\n",
       "        text-align: right;\n",
       "    }\n",
       "</style>\n",
       "<table border=\"1\" class=\"dataframe\">\n",
       "  <thead>\n",
       "    <tr style=\"text-align: right;\">\n",
       "      <th></th>\n",
       "      <th>RATING</th>\n",
       "      <th>REVIEW_SUMMARY</th>\n",
       "      <th>FULL_REVIEW</th>\n",
       "    </tr>\n",
       "  </thead>\n",
       "  <tbody>\n",
       "    <tr>\n",
       "      <th>0</th>\n",
       "      <td>5</td>\n",
       "      <td>Great product</td>\n",
       "      <td>Superb Phone..</td>\n",
       "    </tr>\n",
       "    <tr>\n",
       "      <th>1</th>\n",
       "      <td>5</td>\n",
       "      <td>Super!</td>\n",
       "      <td>Did an upgrade from 6s plus to iphone 11.\\nAo ...</td>\n",
       "    </tr>\n",
       "    <tr>\n",
       "      <th>2</th>\n",
       "      <td>5</td>\n",
       "      <td>Classy product</td>\n",
       "      <td>Just enjoy the power of it!</td>\n",
       "    </tr>\n",
       "    <tr>\n",
       "      <th>3</th>\n",
       "      <td>5</td>\n",
       "      <td>Just wow!</td>\n",
       "      <td>Excellent Phone</td>\n",
       "    </tr>\n",
       "    <tr>\n",
       "      <th>4</th>\n",
       "      <td>5</td>\n",
       "      <td>Perfect product!</td>\n",
       "      <td>It is just awesome mobile for this price from ...</td>\n",
       "    </tr>\n",
       "    <tr>\n",
       "      <th>5</th>\n",
       "      <td>5</td>\n",
       "      <td>Great product</td>\n",
       "      <td>I was using android phone earlier..I was think...</td>\n",
       "    </tr>\n",
       "    <tr>\n",
       "      <th>6</th>\n",
       "      <td>5</td>\n",
       "      <td>Must buy!</td>\n",
       "      <td>I rate this product 5* as it has got amazing u...</td>\n",
       "    </tr>\n",
       "    <tr>\n",
       "      <th>7</th>\n",
       "      <td>5</td>\n",
       "      <td>Must buy!</td>\n",
       "      <td>My dream is complete just mind-blowing phone c...</td>\n",
       "    </tr>\n",
       "    <tr>\n",
       "      <th>8</th>\n",
       "      <td>5</td>\n",
       "      <td>Best in the market!</td>\n",
       "      <td>Really very nice... my dad gifted me really I ...</td>\n",
       "    </tr>\n",
       "    <tr>\n",
       "      <th>9</th>\n",
       "      <td>5</td>\n",
       "      <td>Great product</td>\n",
       "      <td>Awesome phone, great display(may not be a OLED...</td>\n",
       "    </tr>\n",
       "  </tbody>\n",
       "</table>\n",
       "</div>"
      ],
      "text/plain": [
       "  RATING       REVIEW_SUMMARY  \\\n",
       "0      5        Great product   \n",
       "1      5               Super!   \n",
       "2      5       Classy product   \n",
       "3      5            Just wow!   \n",
       "4      5     Perfect product!   \n",
       "5      5        Great product   \n",
       "6      5            Must buy!   \n",
       "7      5            Must buy!   \n",
       "8      5  Best in the market!   \n",
       "9      5        Great product   \n",
       "\n",
       "                                         FULL_REVIEW  \n",
       "0                                     Superb Phone..  \n",
       "1  Did an upgrade from 6s plus to iphone 11.\\nAo ...  \n",
       "2                        Just enjoy the power of it!  \n",
       "3                                    Excellent Phone  \n",
       "4  It is just awesome mobile for this price from ...  \n",
       "5  I was using android phone earlier..I was think...  \n",
       "6  I rate this product 5* as it has got amazing u...  \n",
       "7  My dream is complete just mind-blowing phone c...  \n",
       "8  Really very nice... my dad gifted me really I ...  \n",
       "9  Awesome phone, great display(may not be a OLED...  "
      ]
     },
     "execution_count": 105,
     "metadata": {},
     "output_type": "execute_result"
    }
   ],
   "source": [
    "df_8"
   ]
  },
  {
   "cell_type": "code",
   "execution_count": 106,
   "id": "ef707b64",
   "metadata": {},
   "outputs": [],
   "source": [
    "Next_page = driver.find_element(By.XPATH,'//a[@class=\"ge-49M\"][9]')"
   ]
  },
  {
   "cell_type": "code",
   "execution_count": 107,
   "id": "a6a8c2ed",
   "metadata": {},
   "outputs": [],
   "source": [
    "Next_page.click()"
   ]
  },
  {
   "cell_type": "code",
   "execution_count": 108,
   "id": "e9795baa",
   "metadata": {},
   "outputs": [],
   "source": [
    "rating = []\n",
    "rating_tags =driver.find_elements(By.XPATH,'//div[@class=\"_3LWZlK _1BLPMq\"]')\n",
    "for i in rating_tags:\n",
    "    rating_ = i.text\n",
    "    rating.append(rating_)"
   ]
  },
  {
   "cell_type": "code",
   "execution_count": 109,
   "id": "e919b61a",
   "metadata": {},
   "outputs": [
    {
     "data": {
      "text/plain": [
       "['5', '5', '5', '5', '5', '5', '5', '4', '5', '5']"
      ]
     },
     "execution_count": 109,
     "metadata": {},
     "output_type": "execute_result"
    }
   ],
   "source": [
    "rating"
   ]
  },
  {
   "cell_type": "code",
   "execution_count": 110,
   "id": "e1a8172b",
   "metadata": {},
   "outputs": [],
   "source": [
    "review_summary = []\n",
    "review_summary_tags =driver.find_elements(By.XPATH,' //p[@class=\"_2-N8zT\"]')\n",
    "for i in review_summary_tags:\n",
    "    review_ = i.text\n",
    "    review_summary.append(review_)"
   ]
  },
  {
   "cell_type": "code",
   "execution_count": 111,
   "id": "180b5f78",
   "metadata": {},
   "outputs": [
    {
     "data": {
      "text/plain": [
       "['Terrific purchase',\n",
       " 'Excellent',\n",
       " 'Wonderful',\n",
       " 'Awesome',\n",
       " 'Worth every penny',\n",
       " 'Highly recommended',\n",
       " 'Wonderful',\n",
       " 'Very Good',\n",
       " 'Brilliant',\n",
       " 'Classy product']"
      ]
     },
     "execution_count": 111,
     "metadata": {},
     "output_type": "execute_result"
    }
   ],
   "source": [
    "review_summary"
   ]
  },
  {
   "cell_type": "code",
   "execution_count": 112,
   "id": "c0255aa9",
   "metadata": {},
   "outputs": [],
   "source": [
    "full_review = []\n",
    "full_review_tags =driver.find_elements(By.XPATH,'//div[@class=\"t-ZTKy\"]/div')\n",
    "for i in full_review_tags:\n",
    "    review = i.text\n",
    "    full_review.append(review)"
   ]
  },
  {
   "cell_type": "code",
   "execution_count": 113,
   "id": "c0d9e0cc",
   "metadata": {},
   "outputs": [
    {
     "data": {
      "text/plain": [
       "['Awesome 💙',\n",
       " 'Using this phone from last 4days, great camera quality love it',\n",
       " 'Quality camera',\n",
       " 'Awesome Phone. Battery backup top-notch...',\n",
       " \"It is better to buy iPhone 11 over iPhone 12 if you prioritize the camera,Its because the difference isn’t significantly huge except lowlight performance and Go for 128 GB variant rather than 64 GB because the system data alone contains 20 GB of data .\\nEven though it's 720p LCD display but it's better than todays Android's 1080p display. My phone was a 64GB mint green model and this one is really pretty especially in the real life. I can still get almost everything out of what i paid for at a...\\nREAD MORE\",\n",
       " 'Thanks Flipkart For this amazing deal! I had a dream of owning a iphone since i had known about.\\nIm very happy with my purchase & it is totally worth it.\\nAmazing experience all over !!\\n\\nAnyone who’s thinking of buying it in 2021, i would simply say go for it without any second thoughts ❤️',\n",
       " 'Excellent Fabulous Adorable Iphone 11 Value for money and premium phone',\n",
       " 'I switched to IOS for long term use and for better camera and performance in this cost there are many good android phones also available but in compare to camera , performance and security IOS is best 👍',\n",
       " 'Perfect iPhone on this budget!! Camera and the night mode is crazy and killing it 🤩 Also the colour suits for everyone ❤️',\n",
       " 'Outstanding performance this phone']"
      ]
     },
     "execution_count": 113,
     "metadata": {},
     "output_type": "execute_result"
    }
   ],
   "source": [
    "full_review"
   ]
  },
  {
   "cell_type": "code",
   "execution_count": 114,
   "id": "b9921dda",
   "metadata": {},
   "outputs": [
    {
     "name": "stdout",
     "output_type": "stream",
     "text": [
      "10 10 10\n"
     ]
    }
   ],
   "source": [
    "print(len(rating),len(review_summary),len(full_review))"
   ]
  },
  {
   "cell_type": "code",
   "execution_count": 115,
   "id": "b540b92b",
   "metadata": {},
   "outputs": [],
   "source": [
    "df_9 = pd.DataFrame({'RATING':rating , 'REVIEW_SUMMARY':review_summary, 'FULL_REVIEW':full_review})"
   ]
  },
  {
   "cell_type": "code",
   "execution_count": 116,
   "id": "f98fd92b",
   "metadata": {},
   "outputs": [
    {
     "data": {
      "text/html": [
       "<div>\n",
       "<style scoped>\n",
       "    .dataframe tbody tr th:only-of-type {\n",
       "        vertical-align: middle;\n",
       "    }\n",
       "\n",
       "    .dataframe tbody tr th {\n",
       "        vertical-align: top;\n",
       "    }\n",
       "\n",
       "    .dataframe thead th {\n",
       "        text-align: right;\n",
       "    }\n",
       "</style>\n",
       "<table border=\"1\" class=\"dataframe\">\n",
       "  <thead>\n",
       "    <tr style=\"text-align: right;\">\n",
       "      <th></th>\n",
       "      <th>RATING</th>\n",
       "      <th>REVIEW_SUMMARY</th>\n",
       "      <th>FULL_REVIEW</th>\n",
       "    </tr>\n",
       "  </thead>\n",
       "  <tbody>\n",
       "    <tr>\n",
       "      <th>0</th>\n",
       "      <td>5</td>\n",
       "      <td>Terrific purchase</td>\n",
       "      <td>Awesome 💙</td>\n",
       "    </tr>\n",
       "    <tr>\n",
       "      <th>1</th>\n",
       "      <td>5</td>\n",
       "      <td>Excellent</td>\n",
       "      <td>Using this phone from last 4days, great camera...</td>\n",
       "    </tr>\n",
       "    <tr>\n",
       "      <th>2</th>\n",
       "      <td>5</td>\n",
       "      <td>Wonderful</td>\n",
       "      <td>Quality camera</td>\n",
       "    </tr>\n",
       "    <tr>\n",
       "      <th>3</th>\n",
       "      <td>5</td>\n",
       "      <td>Awesome</td>\n",
       "      <td>Awesome Phone. Battery backup top-notch...</td>\n",
       "    </tr>\n",
       "    <tr>\n",
       "      <th>4</th>\n",
       "      <td>5</td>\n",
       "      <td>Worth every penny</td>\n",
       "      <td>It is better to buy iPhone 11 over iPhone 12 i...</td>\n",
       "    </tr>\n",
       "    <tr>\n",
       "      <th>5</th>\n",
       "      <td>5</td>\n",
       "      <td>Highly recommended</td>\n",
       "      <td>Thanks Flipkart For this amazing deal! I had a...</td>\n",
       "    </tr>\n",
       "    <tr>\n",
       "      <th>6</th>\n",
       "      <td>5</td>\n",
       "      <td>Wonderful</td>\n",
       "      <td>Excellent Fabulous Adorable Iphone 11 Value fo...</td>\n",
       "    </tr>\n",
       "    <tr>\n",
       "      <th>7</th>\n",
       "      <td>4</td>\n",
       "      <td>Very Good</td>\n",
       "      <td>I switched to IOS for long term use and for be...</td>\n",
       "    </tr>\n",
       "    <tr>\n",
       "      <th>8</th>\n",
       "      <td>5</td>\n",
       "      <td>Brilliant</td>\n",
       "      <td>Perfect iPhone on this budget!! Camera and the...</td>\n",
       "    </tr>\n",
       "    <tr>\n",
       "      <th>9</th>\n",
       "      <td>5</td>\n",
       "      <td>Classy product</td>\n",
       "      <td>Outstanding performance this phone</td>\n",
       "    </tr>\n",
       "  </tbody>\n",
       "</table>\n",
       "</div>"
      ],
      "text/plain": [
       "  RATING      REVIEW_SUMMARY  \\\n",
       "0      5   Terrific purchase   \n",
       "1      5           Excellent   \n",
       "2      5           Wonderful   \n",
       "3      5             Awesome   \n",
       "4      5   Worth every penny   \n",
       "5      5  Highly recommended   \n",
       "6      5           Wonderful   \n",
       "7      4           Very Good   \n",
       "8      5           Brilliant   \n",
       "9      5      Classy product   \n",
       "\n",
       "                                         FULL_REVIEW  \n",
       "0                                          Awesome 💙  \n",
       "1  Using this phone from last 4days, great camera...  \n",
       "2                                     Quality camera  \n",
       "3         Awesome Phone. Battery backup top-notch...  \n",
       "4  It is better to buy iPhone 11 over iPhone 12 i...  \n",
       "5  Thanks Flipkart For this amazing deal! I had a...  \n",
       "6  Excellent Fabulous Adorable Iphone 11 Value fo...  \n",
       "7  I switched to IOS for long term use and for be...  \n",
       "8  Perfect iPhone on this budget!! Camera and the...  \n",
       "9                 Outstanding performance this phone  "
      ]
     },
     "execution_count": 116,
     "metadata": {},
     "output_type": "execute_result"
    }
   ],
   "source": [
    "df_9"
   ]
  },
  {
   "cell_type": "code",
   "execution_count": 117,
   "id": "f452f861",
   "metadata": {},
   "outputs": [],
   "source": [
    "data_frame = pd.concat([df,df_1,df_2,df_3,df_4,df_5,df_6,df_7,df_8,df_9], ignore_index = True)"
   ]
  },
  {
   "cell_type": "code",
   "execution_count": 118,
   "id": "80262e06",
   "metadata": {},
   "outputs": [
    {
     "data": {
      "text/html": [
       "<div>\n",
       "<style scoped>\n",
       "    .dataframe tbody tr th:only-of-type {\n",
       "        vertical-align: middle;\n",
       "    }\n",
       "\n",
       "    .dataframe tbody tr th {\n",
       "        vertical-align: top;\n",
       "    }\n",
       "\n",
       "    .dataframe thead th {\n",
       "        text-align: right;\n",
       "    }\n",
       "</style>\n",
       "<table border=\"1\" class=\"dataframe\">\n",
       "  <thead>\n",
       "    <tr style=\"text-align: right;\">\n",
       "      <th></th>\n",
       "      <th>RATING</th>\n",
       "      <th>REVIEW_SUMMARY</th>\n",
       "      <th>FULL_REVIEW</th>\n",
       "    </tr>\n",
       "  </thead>\n",
       "  <tbody>\n",
       "    <tr>\n",
       "      <th>0</th>\n",
       "      <td>5</td>\n",
       "      <td>Perfect product!</td>\n",
       "      <td>V Good all</td>\n",
       "    </tr>\n",
       "    <tr>\n",
       "      <th>1</th>\n",
       "      <td>5</td>\n",
       "      <td>Wonderful</td>\n",
       "      <td>This is amazing at all</td>\n",
       "    </tr>\n",
       "    <tr>\n",
       "      <th>2</th>\n",
       "      <td>5</td>\n",
       "      <td>Best in the market!</td>\n",
       "      <td>Good Camera</td>\n",
       "    </tr>\n",
       "    <tr>\n",
       "      <th>3</th>\n",
       "      <td>5</td>\n",
       "      <td>Classy product</td>\n",
       "      <td>Camera is awesome\\nBest battery backup\\nA perf...</td>\n",
       "    </tr>\n",
       "    <tr>\n",
       "      <th>4</th>\n",
       "      <td>5</td>\n",
       "      <td>Terrific</td>\n",
       "      <td>Very very good</td>\n",
       "    </tr>\n",
       "    <tr>\n",
       "      <th>...</th>\n",
       "      <td>...</td>\n",
       "      <td>...</td>\n",
       "      <td>...</td>\n",
       "    </tr>\n",
       "    <tr>\n",
       "      <th>95</th>\n",
       "      <td>5</td>\n",
       "      <td>Highly recommended</td>\n",
       "      <td>Thanks Flipkart For this amazing deal! I had a...</td>\n",
       "    </tr>\n",
       "    <tr>\n",
       "      <th>96</th>\n",
       "      <td>5</td>\n",
       "      <td>Wonderful</td>\n",
       "      <td>Excellent Fabulous Adorable Iphone 11 Value fo...</td>\n",
       "    </tr>\n",
       "    <tr>\n",
       "      <th>97</th>\n",
       "      <td>4</td>\n",
       "      <td>Very Good</td>\n",
       "      <td>I switched to IOS for long term use and for be...</td>\n",
       "    </tr>\n",
       "    <tr>\n",
       "      <th>98</th>\n",
       "      <td>5</td>\n",
       "      <td>Brilliant</td>\n",
       "      <td>Perfect iPhone on this budget!! Camera and the...</td>\n",
       "    </tr>\n",
       "    <tr>\n",
       "      <th>99</th>\n",
       "      <td>5</td>\n",
       "      <td>Classy product</td>\n",
       "      <td>Outstanding performance this phone</td>\n",
       "    </tr>\n",
       "  </tbody>\n",
       "</table>\n",
       "<p>100 rows × 3 columns</p>\n",
       "</div>"
      ],
      "text/plain": [
       "   RATING       REVIEW_SUMMARY  \\\n",
       "0       5     Perfect product!   \n",
       "1       5            Wonderful   \n",
       "2       5  Best in the market!   \n",
       "3       5       Classy product   \n",
       "4       5             Terrific   \n",
       "..    ...                  ...   \n",
       "95      5   Highly recommended   \n",
       "96      5            Wonderful   \n",
       "97      4            Very Good   \n",
       "98      5            Brilliant   \n",
       "99      5       Classy product   \n",
       "\n",
       "                                          FULL_REVIEW  \n",
       "0                                          V Good all  \n",
       "1                              This is amazing at all  \n",
       "2                                         Good Camera  \n",
       "3   Camera is awesome\\nBest battery backup\\nA perf...  \n",
       "4                                      Very very good  \n",
       "..                                                ...  \n",
       "95  Thanks Flipkart For this amazing deal! I had a...  \n",
       "96  Excellent Fabulous Adorable Iphone 11 Value fo...  \n",
       "97  I switched to IOS for long term use and for be...  \n",
       "98  Perfect iPhone on this budget!! Camera and the...  \n",
       "99                 Outstanding performance this phone  \n",
       "\n",
       "[100 rows x 3 columns]"
      ]
     },
     "execution_count": 118,
     "metadata": {},
     "output_type": "execute_result"
    }
   ],
   "source": [
    "data_frame"
   ]
  },
  {
   "cell_type": "markdown",
   "id": "09291f6e",
   "metadata": {},
   "source": [
    "6.QUESTION--> SOLUTION-->"
   ]
  },
  {
   "cell_type": "code",
   "execution_count": 184,
   "id": "31a54de4",
   "metadata": {},
   "outputs": [],
   "source": [
    "from selenium import webdriver\n",
    "from selenium.webdriver.common.by import By"
   ]
  },
  {
   "cell_type": "code",
   "execution_count": 185,
   "id": "d4409c33",
   "metadata": {},
   "outputs": [],
   "source": [
    "driver = webdriver.Chrome()\n",
    "url = \"https://www.flipkart.com/\"\n",
    "driver.get(url)"
   ]
  },
  {
   "cell_type": "code",
   "execution_count": 186,
   "id": "8df21f24",
   "metadata": {},
   "outputs": [],
   "source": [
    "search_products = driver.find_element(By.XPATH, '//input[@class=\"Pke_EE\"]')"
   ]
  },
  {
   "cell_type": "code",
   "execution_count": 187,
   "id": "b29f4b8a",
   "metadata": {},
   "outputs": [],
   "source": [
    "search_products.send_keys('sneakers')"
   ]
  },
  {
   "cell_type": "code",
   "execution_count": 188,
   "id": "e38fc6bf",
   "metadata": {},
   "outputs": [],
   "source": [
    "search_products.submit()"
   ]
  },
  {
   "cell_type": "code",
   "execution_count": 189,
   "id": "d39fc7fe",
   "metadata": {},
   "outputs": [],
   "source": [
    "brand_name = []\n",
    "brand_tags = driver.find_elements(By.XPATH,'//div[@class=\"_2WkVRV\"]')\n",
    "for i in brand_tags:\n",
    "    brand = i.text\n",
    "    brand_name.append(brand)"
   ]
  },
  {
   "cell_type": "code",
   "execution_count": 190,
   "id": "d91fe12d",
   "metadata": {},
   "outputs": [
    {
     "data": {
      "text/plain": [
       "['BRUTON',\n",
       " 'Robbie jones',\n",
       " 'Deals4you',\n",
       " 'URBANBOX',\n",
       " 'RED TAPE',\n",
       " 'RED TAPE',\n",
       " 'kardam&sons',\n",
       " 'BRUTON',\n",
       " 'TRUMP',\n",
       " 'ATOM',\n",
       " 'Layasa',\n",
       " 'BRUTON',\n",
       " 'PUMA',\n",
       " 'BRUTON',\n",
       " 'RED TAPE',\n",
       " 'U.S. POLO ASSN.',\n",
       " 'aadi',\n",
       " 'JK PORT',\n",
       " 'Layasa',\n",
       " 'TRUMP',\n",
       " 'lejano',\n",
       " 'BRUTON',\n",
       " 'RED TAPE',\n",
       " 'RED TAPE',\n",
       " 'RED TAPE',\n",
       " 'UNDER ARMOUR',\n",
       " 'BRUTON',\n",
       " 'BRUTON',\n",
       " 'RED TAPE',\n",
       " 'aadi',\n",
       " 'BRUTON',\n",
       " 'lejano',\n",
       " 'PUMA',\n",
       " 'RED TAPE',\n",
       " 'RED TAPE',\n",
       " 'TRUMP',\n",
       " 'AIRBELL',\n",
       " 'Footox',\n",
       " 'aadi',\n",
       " 'Robbie jones']"
      ]
     },
     "execution_count": 190,
     "metadata": {},
     "output_type": "execute_result"
    }
   ],
   "source": [
    "brand_name"
   ]
  },
  {
   "cell_type": "code",
   "execution_count": 191,
   "id": "982b5bc8",
   "metadata": {},
   "outputs": [],
   "source": [
    "product_desc = []\n",
    "product_desc_tags =driver.find_elements(By.XPATH,'//div[@class=\"_2B099V\"]/a[1]')\n",
    "for i in product_desc_tags:\n",
    "    product = i.text\n",
    "    product_desc.append(product)"
   ]
  },
  {
   "cell_type": "code",
   "execution_count": 192,
   "id": "cdf63eaf",
   "metadata": {},
   "outputs": [
    {
     "data": {
      "text/plain": [
       "['Exclusive Sneaker Shoes Sneakers For Men',\n",
       " 'Casual Sneakers Canvas High Top Boots For Boys And Men ...',\n",
       " 'Sneakers For Women',\n",
       " 'Trending Stylish Casual Outdoor Sneakers Shoes For Men ...',\n",
       " 'Casual Sneaker Shoes for Men | Soft Cushioned Insole, S...',\n",
       " 'Casual Sneaker Shoes for Men | Soft Cushioned Insole, S...',\n",
       " 'kardam&sons luxury fashionable casual boots Sneakers Fo...',\n",
       " 'Modern Trendy Sneakers Shoes Sneakers For Men',\n",
       " 'ROSY_01_SKY_BLUE_7 Sneakers For Men',\n",
       " 'Sneakers For Men',\n",
       " 'Stylish Casual Sports Shoe Sneakers Sneakers For Women',\n",
       " 'Modern Trendy Sneakers Shoes Sneakers For Men',\n",
       " 'Shuffle Ultra Sneakers For Men',\n",
       " 'Modern Trendy Sneakers Shoes Sneakers For Men',\n",
       " 'Sneaker Casual Shoes For Men | Soft Cushion Insole, Sli...',\n",
       " 'CLARKIN Sneakers For Men',\n",
       " 'Sneakers For Men',\n",
       " 'Stylish sneakers shoes for men Sneakers For Men',\n",
       " 'Stylish Casual Sports Shoe Sneakers Sneakers For Women',\n",
       " 'ROSY_02_PISTA_GREEN_6 Sneakers For Men',\n",
       " 'Sneakers For Men',\n",
       " 'Modern Trendy Sneakers Shoes Sneakers For Men',\n",
       " 'Sneaker Casual Shoes for Men | Soft Cushioned Insole, S...',\n",
       " 'Casual Sneaker Shoes for Men | Soft Cushioned Insole, S...',\n",
       " 'Casual Sneaker Shoes for Men | Soft Cushioned Insole, S...',\n",
       " 'Sneakers For Men',\n",
       " 'Modern Trendy Sneakers Shoes Sneakers For Men',\n",
       " 'Modern Trendy Sneakers Shoes Sneakers For Men',\n",
       " 'Casual Sneaker Shoes for Men | Soft Cushioned Insole, S...',\n",
       " 'Synthetic Leather| Ultralightweight | Comfortable | Bre...',\n",
       " 'Combo pack of 2 Trendy Men’s Casual Shoes Sneakers For ...',\n",
       " 'Sneakers For Men',\n",
       " 'Fire run Sneakers For Men',\n",
       " 'Casual Sneakers For Men | Comfortable, Shock Absorbant ...',\n",
       " 'Sneakers For Men | Comfortable, Shock Absorbant & Slip-...',\n",
       " 'ROSY_01_PEACH_6 Sneakers For Men',\n",
       " 'Lightweight Comfort Summer Trendy Walking Outdoor Styli...',\n",
       " 'Casual Shoes Sneakers For Women',\n",
       " 'Lightweight,Comfort,Summer,Trendy,Walking,Outdoor,Styli...',\n",
       " 'Casual Sneakers Colour Blocked Shoes For Boys And Men S...']"
      ]
     },
     "execution_count": 192,
     "metadata": {},
     "output_type": "execute_result"
    }
   ],
   "source": [
    "product_desc"
   ]
  },
  {
   "cell_type": "code",
   "execution_count": 193,
   "id": "e0c9146a",
   "metadata": {},
   "outputs": [],
   "source": [
    "price = []\n",
    "price_tags =driver.find_elements(By.XPATH,'//div[@class=\"_30jeq3\"]')\n",
    "for i in price_tags:\n",
    "    product_price = i.text\n",
    "    price.append(product_price)"
   ]
  },
  {
   "cell_type": "code",
   "execution_count": 194,
   "id": "c7bfde4b",
   "metadata": {},
   "outputs": [
    {
     "data": {
      "text/plain": [
       "['₹333',\n",
       " '₹449',\n",
       " '₹299',\n",
       " '₹299',\n",
       " '₹1,709',\n",
       " '₹2,369',\n",
       " '₹409',\n",
       " '₹330',\n",
       " '₹493',\n",
       " '₹1,088',\n",
       " '₹389',\n",
       " '₹333',\n",
       " '₹1,749',\n",
       " '₹299',\n",
       " '₹1,619',\n",
       " '₹1,339',\n",
       " '₹384',\n",
       " '₹399',\n",
       " '₹389',\n",
       " '₹493',\n",
       " '₹430',\n",
       " '₹375',\n",
       " '₹2,069',\n",
       " '₹1,949',\n",
       " '₹1,679',\n",
       " '₹2,879',\n",
       " '₹333',\n",
       " '₹333',\n",
       " '₹2,369',\n",
       " '₹299',\n",
       " '₹567',\n",
       " '₹410',\n",
       " '₹1,289',\n",
       " '₹1,709',\n",
       " '₹1,649',\n",
       " '₹493',\n",
       " '₹524',\n",
       " '₹359',\n",
       " '₹299',\n",
       " '₹449']"
      ]
     },
     "execution_count": 194,
     "metadata": {},
     "output_type": "execute_result"
    }
   ],
   "source": [
    "price"
   ]
  },
  {
   "cell_type": "code",
   "execution_count": 195,
   "id": "6a8bd4b8",
   "metadata": {},
   "outputs": [],
   "source": [
    "df = pd.DataFrame({'Brand':brand_name, 'Product_description':product_desc , 'Product_price':price})"
   ]
  },
  {
   "cell_type": "code",
   "execution_count": 196,
   "id": "2c30363b",
   "metadata": {},
   "outputs": [
    {
     "data": {
      "text/html": [
       "<div>\n",
       "<style scoped>\n",
       "    .dataframe tbody tr th:only-of-type {\n",
       "        vertical-align: middle;\n",
       "    }\n",
       "\n",
       "    .dataframe tbody tr th {\n",
       "        vertical-align: top;\n",
       "    }\n",
       "\n",
       "    .dataframe thead th {\n",
       "        text-align: right;\n",
       "    }\n",
       "</style>\n",
       "<table border=\"1\" class=\"dataframe\">\n",
       "  <thead>\n",
       "    <tr style=\"text-align: right;\">\n",
       "      <th></th>\n",
       "      <th>Brand</th>\n",
       "      <th>Product_description</th>\n",
       "      <th>Product_price</th>\n",
       "    </tr>\n",
       "  </thead>\n",
       "  <tbody>\n",
       "    <tr>\n",
       "      <th>0</th>\n",
       "      <td>BRUTON</td>\n",
       "      <td>Exclusive Sneaker Shoes Sneakers For Men</td>\n",
       "      <td>₹333</td>\n",
       "    </tr>\n",
       "    <tr>\n",
       "      <th>1</th>\n",
       "      <td>Robbie jones</td>\n",
       "      <td>Casual Sneakers Canvas High Top Boots For Boys...</td>\n",
       "      <td>₹449</td>\n",
       "    </tr>\n",
       "    <tr>\n",
       "      <th>2</th>\n",
       "      <td>Deals4you</td>\n",
       "      <td>Sneakers For Women</td>\n",
       "      <td>₹299</td>\n",
       "    </tr>\n",
       "    <tr>\n",
       "      <th>3</th>\n",
       "      <td>URBANBOX</td>\n",
       "      <td>Trending Stylish Casual Outdoor Sneakers Shoes...</td>\n",
       "      <td>₹299</td>\n",
       "    </tr>\n",
       "    <tr>\n",
       "      <th>4</th>\n",
       "      <td>RED TAPE</td>\n",
       "      <td>Casual Sneaker Shoes for Men | Soft Cushioned ...</td>\n",
       "      <td>₹1,709</td>\n",
       "    </tr>\n",
       "    <tr>\n",
       "      <th>5</th>\n",
       "      <td>RED TAPE</td>\n",
       "      <td>Casual Sneaker Shoes for Men | Soft Cushioned ...</td>\n",
       "      <td>₹2,369</td>\n",
       "    </tr>\n",
       "    <tr>\n",
       "      <th>6</th>\n",
       "      <td>kardam&amp;sons</td>\n",
       "      <td>kardam&amp;sons luxury fashionable casual boots Sn...</td>\n",
       "      <td>₹409</td>\n",
       "    </tr>\n",
       "    <tr>\n",
       "      <th>7</th>\n",
       "      <td>BRUTON</td>\n",
       "      <td>Modern Trendy Sneakers Shoes Sneakers For Men</td>\n",
       "      <td>₹330</td>\n",
       "    </tr>\n",
       "    <tr>\n",
       "      <th>8</th>\n",
       "      <td>TRUMP</td>\n",
       "      <td>ROSY_01_SKY_BLUE_7 Sneakers For Men</td>\n",
       "      <td>₹493</td>\n",
       "    </tr>\n",
       "    <tr>\n",
       "      <th>9</th>\n",
       "      <td>ATOM</td>\n",
       "      <td>Sneakers For Men</td>\n",
       "      <td>₹1,088</td>\n",
       "    </tr>\n",
       "    <tr>\n",
       "      <th>10</th>\n",
       "      <td>Layasa</td>\n",
       "      <td>Stylish Casual Sports Shoe Sneakers Sneakers F...</td>\n",
       "      <td>₹389</td>\n",
       "    </tr>\n",
       "    <tr>\n",
       "      <th>11</th>\n",
       "      <td>BRUTON</td>\n",
       "      <td>Modern Trendy Sneakers Shoes Sneakers For Men</td>\n",
       "      <td>₹333</td>\n",
       "    </tr>\n",
       "    <tr>\n",
       "      <th>12</th>\n",
       "      <td>PUMA</td>\n",
       "      <td>Shuffle Ultra Sneakers For Men</td>\n",
       "      <td>₹1,749</td>\n",
       "    </tr>\n",
       "    <tr>\n",
       "      <th>13</th>\n",
       "      <td>BRUTON</td>\n",
       "      <td>Modern Trendy Sneakers Shoes Sneakers For Men</td>\n",
       "      <td>₹299</td>\n",
       "    </tr>\n",
       "    <tr>\n",
       "      <th>14</th>\n",
       "      <td>RED TAPE</td>\n",
       "      <td>Sneaker Casual Shoes For Men | Soft Cushion In...</td>\n",
       "      <td>₹1,619</td>\n",
       "    </tr>\n",
       "    <tr>\n",
       "      <th>15</th>\n",
       "      <td>U.S. POLO ASSN.</td>\n",
       "      <td>CLARKIN Sneakers For Men</td>\n",
       "      <td>₹1,339</td>\n",
       "    </tr>\n",
       "    <tr>\n",
       "      <th>16</th>\n",
       "      <td>aadi</td>\n",
       "      <td>Sneakers For Men</td>\n",
       "      <td>₹384</td>\n",
       "    </tr>\n",
       "    <tr>\n",
       "      <th>17</th>\n",
       "      <td>JK PORT</td>\n",
       "      <td>Stylish sneakers shoes for men Sneakers For Men</td>\n",
       "      <td>₹399</td>\n",
       "    </tr>\n",
       "    <tr>\n",
       "      <th>18</th>\n",
       "      <td>Layasa</td>\n",
       "      <td>Stylish Casual Sports Shoe Sneakers Sneakers F...</td>\n",
       "      <td>₹389</td>\n",
       "    </tr>\n",
       "    <tr>\n",
       "      <th>19</th>\n",
       "      <td>TRUMP</td>\n",
       "      <td>ROSY_02_PISTA_GREEN_6 Sneakers For Men</td>\n",
       "      <td>₹493</td>\n",
       "    </tr>\n",
       "    <tr>\n",
       "      <th>20</th>\n",
       "      <td>lejano</td>\n",
       "      <td>Sneakers For Men</td>\n",
       "      <td>₹430</td>\n",
       "    </tr>\n",
       "    <tr>\n",
       "      <th>21</th>\n",
       "      <td>BRUTON</td>\n",
       "      <td>Modern Trendy Sneakers Shoes Sneakers For Men</td>\n",
       "      <td>₹375</td>\n",
       "    </tr>\n",
       "    <tr>\n",
       "      <th>22</th>\n",
       "      <td>RED TAPE</td>\n",
       "      <td>Sneaker Casual Shoes for Men | Soft Cushioned ...</td>\n",
       "      <td>₹2,069</td>\n",
       "    </tr>\n",
       "    <tr>\n",
       "      <th>23</th>\n",
       "      <td>RED TAPE</td>\n",
       "      <td>Casual Sneaker Shoes for Men | Soft Cushioned ...</td>\n",
       "      <td>₹1,949</td>\n",
       "    </tr>\n",
       "    <tr>\n",
       "      <th>24</th>\n",
       "      <td>RED TAPE</td>\n",
       "      <td>Casual Sneaker Shoes for Men | Soft Cushioned ...</td>\n",
       "      <td>₹1,679</td>\n",
       "    </tr>\n",
       "    <tr>\n",
       "      <th>25</th>\n",
       "      <td>UNDER ARMOUR</td>\n",
       "      <td>Sneakers For Men</td>\n",
       "      <td>₹2,879</td>\n",
       "    </tr>\n",
       "    <tr>\n",
       "      <th>26</th>\n",
       "      <td>BRUTON</td>\n",
       "      <td>Modern Trendy Sneakers Shoes Sneakers For Men</td>\n",
       "      <td>₹333</td>\n",
       "    </tr>\n",
       "    <tr>\n",
       "      <th>27</th>\n",
       "      <td>BRUTON</td>\n",
       "      <td>Modern Trendy Sneakers Shoes Sneakers For Men</td>\n",
       "      <td>₹333</td>\n",
       "    </tr>\n",
       "    <tr>\n",
       "      <th>28</th>\n",
       "      <td>RED TAPE</td>\n",
       "      <td>Casual Sneaker Shoes for Men | Soft Cushioned ...</td>\n",
       "      <td>₹2,369</td>\n",
       "    </tr>\n",
       "    <tr>\n",
       "      <th>29</th>\n",
       "      <td>aadi</td>\n",
       "      <td>Synthetic Leather| Ultralightweight | Comforta...</td>\n",
       "      <td>₹299</td>\n",
       "    </tr>\n",
       "    <tr>\n",
       "      <th>30</th>\n",
       "      <td>BRUTON</td>\n",
       "      <td>Combo pack of 2 Trendy Men’s Casual Shoes Snea...</td>\n",
       "      <td>₹567</td>\n",
       "    </tr>\n",
       "    <tr>\n",
       "      <th>31</th>\n",
       "      <td>lejano</td>\n",
       "      <td>Sneakers For Men</td>\n",
       "      <td>₹410</td>\n",
       "    </tr>\n",
       "    <tr>\n",
       "      <th>32</th>\n",
       "      <td>PUMA</td>\n",
       "      <td>Fire run Sneakers For Men</td>\n",
       "      <td>₹1,289</td>\n",
       "    </tr>\n",
       "    <tr>\n",
       "      <th>33</th>\n",
       "      <td>RED TAPE</td>\n",
       "      <td>Casual Sneakers For Men | Comfortable, Shock A...</td>\n",
       "      <td>₹1,709</td>\n",
       "    </tr>\n",
       "    <tr>\n",
       "      <th>34</th>\n",
       "      <td>RED TAPE</td>\n",
       "      <td>Sneakers For Men | Comfortable, Shock Absorban...</td>\n",
       "      <td>₹1,649</td>\n",
       "    </tr>\n",
       "    <tr>\n",
       "      <th>35</th>\n",
       "      <td>TRUMP</td>\n",
       "      <td>ROSY_01_PEACH_6 Sneakers For Men</td>\n",
       "      <td>₹493</td>\n",
       "    </tr>\n",
       "    <tr>\n",
       "      <th>36</th>\n",
       "      <td>AIRBELL</td>\n",
       "      <td>Lightweight Comfort Summer Trendy Walking Outd...</td>\n",
       "      <td>₹524</td>\n",
       "    </tr>\n",
       "    <tr>\n",
       "      <th>37</th>\n",
       "      <td>Footox</td>\n",
       "      <td>Casual Shoes Sneakers For Women</td>\n",
       "      <td>₹359</td>\n",
       "    </tr>\n",
       "    <tr>\n",
       "      <th>38</th>\n",
       "      <td>aadi</td>\n",
       "      <td>Lightweight,Comfort,Summer,Trendy,Walking,Outd...</td>\n",
       "      <td>₹299</td>\n",
       "    </tr>\n",
       "    <tr>\n",
       "      <th>39</th>\n",
       "      <td>Robbie jones</td>\n",
       "      <td>Casual Sneakers Colour Blocked Shoes For Boys ...</td>\n",
       "      <td>₹449</td>\n",
       "    </tr>\n",
       "  </tbody>\n",
       "</table>\n",
       "</div>"
      ],
      "text/plain": [
       "              Brand                                Product_description  \\\n",
       "0            BRUTON           Exclusive Sneaker Shoes Sneakers For Men   \n",
       "1      Robbie jones  Casual Sneakers Canvas High Top Boots For Boys...   \n",
       "2         Deals4you                                 Sneakers For Women   \n",
       "3          URBANBOX  Trending Stylish Casual Outdoor Sneakers Shoes...   \n",
       "4          RED TAPE  Casual Sneaker Shoes for Men | Soft Cushioned ...   \n",
       "5          RED TAPE  Casual Sneaker Shoes for Men | Soft Cushioned ...   \n",
       "6       kardam&sons  kardam&sons luxury fashionable casual boots Sn...   \n",
       "7            BRUTON      Modern Trendy Sneakers Shoes Sneakers For Men   \n",
       "8             TRUMP                ROSY_01_SKY_BLUE_7 Sneakers For Men   \n",
       "9              ATOM                                   Sneakers For Men   \n",
       "10           Layasa  Stylish Casual Sports Shoe Sneakers Sneakers F...   \n",
       "11           BRUTON      Modern Trendy Sneakers Shoes Sneakers For Men   \n",
       "12             PUMA                     Shuffle Ultra Sneakers For Men   \n",
       "13           BRUTON      Modern Trendy Sneakers Shoes Sneakers For Men   \n",
       "14         RED TAPE  Sneaker Casual Shoes For Men | Soft Cushion In...   \n",
       "15  U.S. POLO ASSN.                           CLARKIN Sneakers For Men   \n",
       "16             aadi                                   Sneakers For Men   \n",
       "17          JK PORT    Stylish sneakers shoes for men Sneakers For Men   \n",
       "18           Layasa  Stylish Casual Sports Shoe Sneakers Sneakers F...   \n",
       "19            TRUMP             ROSY_02_PISTA_GREEN_6 Sneakers For Men   \n",
       "20           lejano                                   Sneakers For Men   \n",
       "21           BRUTON      Modern Trendy Sneakers Shoes Sneakers For Men   \n",
       "22         RED TAPE  Sneaker Casual Shoes for Men | Soft Cushioned ...   \n",
       "23         RED TAPE  Casual Sneaker Shoes for Men | Soft Cushioned ...   \n",
       "24         RED TAPE  Casual Sneaker Shoes for Men | Soft Cushioned ...   \n",
       "25     UNDER ARMOUR                                   Sneakers For Men   \n",
       "26           BRUTON      Modern Trendy Sneakers Shoes Sneakers For Men   \n",
       "27           BRUTON      Modern Trendy Sneakers Shoes Sneakers For Men   \n",
       "28         RED TAPE  Casual Sneaker Shoes for Men | Soft Cushioned ...   \n",
       "29             aadi  Synthetic Leather| Ultralightweight | Comforta...   \n",
       "30           BRUTON  Combo pack of 2 Trendy Men’s Casual Shoes Snea...   \n",
       "31           lejano                                   Sneakers For Men   \n",
       "32             PUMA                          Fire run Sneakers For Men   \n",
       "33         RED TAPE  Casual Sneakers For Men | Comfortable, Shock A...   \n",
       "34         RED TAPE  Sneakers For Men | Comfortable, Shock Absorban...   \n",
       "35            TRUMP                   ROSY_01_PEACH_6 Sneakers For Men   \n",
       "36          AIRBELL  Lightweight Comfort Summer Trendy Walking Outd...   \n",
       "37           Footox                    Casual Shoes Sneakers For Women   \n",
       "38             aadi  Lightweight,Comfort,Summer,Trendy,Walking,Outd...   \n",
       "39     Robbie jones  Casual Sneakers Colour Blocked Shoes For Boys ...   \n",
       "\n",
       "   Product_price  \n",
       "0           ₹333  \n",
       "1           ₹449  \n",
       "2           ₹299  \n",
       "3           ₹299  \n",
       "4         ₹1,709  \n",
       "5         ₹2,369  \n",
       "6           ₹409  \n",
       "7           ₹330  \n",
       "8           ₹493  \n",
       "9         ₹1,088  \n",
       "10          ₹389  \n",
       "11          ₹333  \n",
       "12        ₹1,749  \n",
       "13          ₹299  \n",
       "14        ₹1,619  \n",
       "15        ₹1,339  \n",
       "16          ₹384  \n",
       "17          ₹399  \n",
       "18          ₹389  \n",
       "19          ₹493  \n",
       "20          ₹430  \n",
       "21          ₹375  \n",
       "22        ₹2,069  \n",
       "23        ₹1,949  \n",
       "24        ₹1,679  \n",
       "25        ₹2,879  \n",
       "26          ₹333  \n",
       "27          ₹333  \n",
       "28        ₹2,369  \n",
       "29          ₹299  \n",
       "30          ₹567  \n",
       "31          ₹410  \n",
       "32        ₹1,289  \n",
       "33        ₹1,709  \n",
       "34        ₹1,649  \n",
       "35          ₹493  \n",
       "36          ₹524  \n",
       "37          ₹359  \n",
       "38          ₹299  \n",
       "39          ₹449  "
      ]
     },
     "execution_count": 196,
     "metadata": {},
     "output_type": "execute_result"
    }
   ],
   "source": [
    "df"
   ]
  },
  {
   "cell_type": "code",
   "execution_count": 197,
   "id": "21c59d56",
   "metadata": {},
   "outputs": [],
   "source": [
    "Next_page = driver.find_element(By.XPATH,'//a[@class=\"ge-49M\"][1]')"
   ]
  },
  {
   "cell_type": "code",
   "execution_count": 198,
   "id": "e72aec23",
   "metadata": {},
   "outputs": [],
   "source": [
    "Next_page.click()"
   ]
  },
  {
   "cell_type": "code",
   "execution_count": 199,
   "id": "0a8ae3ec",
   "metadata": {},
   "outputs": [],
   "source": [
    "brand_name = []\n",
    "brand_tags = driver.find_elements(By.XPATH,'//div[@class=\"_2WkVRV\"]')\n",
    "for i in brand_tags:\n",
    "    brand = i.text\n",
    "    brand_name.append(brand)"
   ]
  },
  {
   "cell_type": "code",
   "execution_count": 200,
   "id": "9e32c0f6",
   "metadata": {},
   "outputs": [
    {
     "data": {
      "text/plain": [
       "['aadi',\n",
       " 'BRUTON',\n",
       " 'HOTSTYLE',\n",
       " 'kardam&sons',\n",
       " 'HRX by Hrithik Roshan',\n",
       " 'RED TAPE',\n",
       " 'BRUTON',\n",
       " 'aadi',\n",
       " 'WOODLAND',\n",
       " 'RED TAPE',\n",
       " 'BRUTON',\n",
       " 'aadi',\n",
       " 'RED TAPE',\n",
       " 'PUMA',\n",
       " 'aadi',\n",
       " 'RED TAPE',\n",
       " 'aadi',\n",
       " 'aadi',\n",
       " 'RED TAPE',\n",
       " 'RED TAPE',\n",
       " 'asian',\n",
       " 'kcandy',\n",
       " 'RED TAPE',\n",
       " 'PUMA',\n",
       " 'REEBOK',\n",
       " 'aadi',\n",
       " 'Footox',\n",
       " 'Footox',\n",
       " 'PUMA',\n",
       " 'Deals4you',\n",
       " 'BRUTON',\n",
       " 'STALAG',\n",
       " 'PUMA',\n",
       " 'PUMA',\n",
       " 'HOTSTYLE',\n",
       " 'ATOM',\n",
       " 'kcandy',\n",
       " 'BOLLERO',\n",
       " 'RED TAPE',\n",
       " 'U.S. POLO ASSN.']"
      ]
     },
     "execution_count": 200,
     "metadata": {},
     "output_type": "execute_result"
    }
   ],
   "source": [
    "brand_name"
   ]
  },
  {
   "cell_type": "code",
   "execution_count": 201,
   "id": "24f75782",
   "metadata": {},
   "outputs": [],
   "source": [
    "product_desc = []\n",
    "product_desc_tags =driver.find_elements(By.XPATH,'//div[@class=\"_2B099V\"]/a[1]')\n",
    "for i in product_desc_tags:\n",
    "    product = i.text\n",
    "    product_desc.append(product)"
   ]
  },
  {
   "cell_type": "code",
   "execution_count": 202,
   "id": "57ee7eed",
   "metadata": {},
   "outputs": [
    {
     "data": {
      "text/plain": [
       "['Sneakers For Men',\n",
       " 'Combo Pack Of 2 Casual Shoes for mens Sneakers For Men',\n",
       " 'Designer Sneakers For Men',\n",
       " 'Sneakers For Men',\n",
       " 'URBAN CHUNKY Sneakers For Men',\n",
       " \"Sneaker Shoes For Men's - Elevated Comfort, Perfect Cas...\",\n",
       " 'Modern Trendy Sneakers Shoes Sneakers For Men',\n",
       " 'Synthetic Leather |Lightweight|Comfort|Summer|Trendy|Wa...',\n",
       " 'Sneakers For Men',\n",
       " 'Sneaker Casual Shoes for Men | Soft Cushioned Insole, S...',\n",
       " 'Modern Trendy Sneakers Shoes Sneakers For Men',\n",
       " 'Lightweight,Comfort,Summer,Trendy,Walking,Outdoor,Styli...',\n",
       " 'Casual Sneaker Shoes for Men | Soft Cushioned Insole, S...',\n",
       " 'Rungryp Sneakers For Men',\n",
       " 'Sneakers For Men',\n",
       " 'Sneaker Casual Shoes for Men | Soft Cushioned Insole, S...',\n",
       " 'Synthetic Leather |Lightweight|Comfort|Summer|Trendy|Wa...',\n",
       " 'Lightweight,Comfort,Summer,Trendy,Walking,Outdoor,Styli...',\n",
       " 'Sneakers For Men',\n",
       " 'Sneaker Casual Shoes for Men | Soft Cushioned Insole, S...',\n",
       " 'Moscow-01 White Sneakers,Loafers,Chunky Shoes Sneakers ...',\n",
       " 'White Casual Sneakers Sneakers For Men',\n",
       " 'Sneaker Casual Shoes For Men | Soft Cushion Insole, Sli...',\n",
       " 'DISRIDE Sneakers For Men',\n",
       " 'Breeze Glide Sneakers For Men',\n",
       " 'Lightweight,Comfort,Summer,Trendy,Walking,Outdoor,Styli...',\n",
       " 'Sneakers For Men Sneakers For Men',\n",
       " 'Casual Shoes Sneakers For Women',\n",
       " 'SiennaSoftrideBallerina Sneakers For Women',\n",
       " 'Sneakers For Women',\n",
       " 'Combo Pack Of 2 Latest Stylish Casual Shoes Sneakers Fo...',\n",
       " 'Kick Outdoor Gym,Sports,Training,Stylish Running Shoes ...',\n",
       " 'Noah Sneakers For Men',\n",
       " 'Caven Sneakers For Men',\n",
       " 'Sports Shoes , Walking Shoes , Gym & Training Shoes And...',\n",
       " 'Alpha Predator Sneakers For Men',\n",
       " 'first-3-Black Sneakers Shoes,Loafers,Casuals Sneakers F...',\n",
       " 'Open Stitched Design Lightweight Evening Wedding Slip O...',\n",
       " 'Lifestyle Sneaker Shoes for Men | Soft Cushioned Insole...',\n",
       " 'CLARKIN Sneakers For Men']"
      ]
     },
     "execution_count": 202,
     "metadata": {},
     "output_type": "execute_result"
    }
   ],
   "source": [
    "product_desc"
   ]
  },
  {
   "cell_type": "code",
   "execution_count": 203,
   "id": "25976924",
   "metadata": {},
   "outputs": [],
   "source": [
    "price = []\n",
    "price_tags =driver.find_elements(By.XPATH,'//div[@class=\"_30jeq3\"]')\n",
    "for i in price_tags:\n",
    "    product_price = i.text\n",
    "    price.append(product_price)"
   ]
  },
  {
   "cell_type": "code",
   "execution_count": 204,
   "id": "e1452647",
   "metadata": {},
   "outputs": [
    {
     "data": {
      "text/plain": [
       "['₹349',\n",
       " '₹567',\n",
       " '₹288',\n",
       " '₹409',\n",
       " '₹925',\n",
       " '₹1,739',\n",
       " '₹445',\n",
       " '₹299',\n",
       " '₹1,639',\n",
       " '₹1,949',\n",
       " '₹333',\n",
       " '₹487',\n",
       " '₹1,949',\n",
       " '₹2,149',\n",
       " '₹380',\n",
       " '₹1,679',\n",
       " '₹380',\n",
       " '₹333',\n",
       " '₹1,619',\n",
       " '₹2,069',\n",
       " '₹823',\n",
       " '₹449',\n",
       " '₹2,069',\n",
       " '₹1,074',\n",
       " '₹1,583',\n",
       " '₹299',\n",
       " '₹349',\n",
       " '₹359',\n",
       " '₹1,569',\n",
       " '₹299',\n",
       " '₹567',\n",
       " '₹699',\n",
       " '₹1,574',\n",
       " '₹2,639',\n",
       " '₹260',\n",
       " '₹1,339',\n",
       " '₹399',\n",
       " '₹505',\n",
       " '₹2,069',\n",
       " '₹1,339']"
      ]
     },
     "execution_count": 204,
     "metadata": {},
     "output_type": "execute_result"
    }
   ],
   "source": [
    "price"
   ]
  },
  {
   "cell_type": "code",
   "execution_count": 205,
   "id": "700ccec1",
   "metadata": {},
   "outputs": [
    {
     "name": "stdout",
     "output_type": "stream",
     "text": [
      "40 40 40\n"
     ]
    }
   ],
   "source": [
    "print(len(price),len(brand_name),len(product_desc))"
   ]
  },
  {
   "cell_type": "code",
   "execution_count": 206,
   "id": "cc86341e",
   "metadata": {},
   "outputs": [],
   "source": [
    "df_1 = pd.DataFrame({'Brand':brand_name, 'Product_description':product_desc , 'Product_price':price})"
   ]
  },
  {
   "cell_type": "code",
   "execution_count": 207,
   "id": "830cf167",
   "metadata": {},
   "outputs": [
    {
     "data": {
      "text/html": [
       "<div>\n",
       "<style scoped>\n",
       "    .dataframe tbody tr th:only-of-type {\n",
       "        vertical-align: middle;\n",
       "    }\n",
       "\n",
       "    .dataframe tbody tr th {\n",
       "        vertical-align: top;\n",
       "    }\n",
       "\n",
       "    .dataframe thead th {\n",
       "        text-align: right;\n",
       "    }\n",
       "</style>\n",
       "<table border=\"1\" class=\"dataframe\">\n",
       "  <thead>\n",
       "    <tr style=\"text-align: right;\">\n",
       "      <th></th>\n",
       "      <th>Brand</th>\n",
       "      <th>Product_description</th>\n",
       "      <th>Product_price</th>\n",
       "    </tr>\n",
       "  </thead>\n",
       "  <tbody>\n",
       "    <tr>\n",
       "      <th>0</th>\n",
       "      <td>aadi</td>\n",
       "      <td>Sneakers For Men</td>\n",
       "      <td>₹349</td>\n",
       "    </tr>\n",
       "    <tr>\n",
       "      <th>1</th>\n",
       "      <td>BRUTON</td>\n",
       "      <td>Combo Pack Of 2 Casual Shoes for mens Sneakers...</td>\n",
       "      <td>₹567</td>\n",
       "    </tr>\n",
       "    <tr>\n",
       "      <th>2</th>\n",
       "      <td>HOTSTYLE</td>\n",
       "      <td>Designer Sneakers For Men</td>\n",
       "      <td>₹288</td>\n",
       "    </tr>\n",
       "    <tr>\n",
       "      <th>3</th>\n",
       "      <td>kardam&amp;sons</td>\n",
       "      <td>Sneakers For Men</td>\n",
       "      <td>₹409</td>\n",
       "    </tr>\n",
       "    <tr>\n",
       "      <th>4</th>\n",
       "      <td>HRX by Hrithik Roshan</td>\n",
       "      <td>URBAN CHUNKY Sneakers For Men</td>\n",
       "      <td>₹925</td>\n",
       "    </tr>\n",
       "    <tr>\n",
       "      <th>5</th>\n",
       "      <td>RED TAPE</td>\n",
       "      <td>Sneaker Shoes For Men's - Elevated Comfort, Pe...</td>\n",
       "      <td>₹1,739</td>\n",
       "    </tr>\n",
       "    <tr>\n",
       "      <th>6</th>\n",
       "      <td>BRUTON</td>\n",
       "      <td>Modern Trendy Sneakers Shoes Sneakers For Men</td>\n",
       "      <td>₹445</td>\n",
       "    </tr>\n",
       "    <tr>\n",
       "      <th>7</th>\n",
       "      <td>aadi</td>\n",
       "      <td>Synthetic Leather |Lightweight|Comfort|Summer|...</td>\n",
       "      <td>₹299</td>\n",
       "    </tr>\n",
       "    <tr>\n",
       "      <th>8</th>\n",
       "      <td>WOODLAND</td>\n",
       "      <td>Sneakers For Men</td>\n",
       "      <td>₹1,639</td>\n",
       "    </tr>\n",
       "    <tr>\n",
       "      <th>9</th>\n",
       "      <td>RED TAPE</td>\n",
       "      <td>Sneaker Casual Shoes for Men | Soft Cushioned ...</td>\n",
       "      <td>₹1,949</td>\n",
       "    </tr>\n",
       "    <tr>\n",
       "      <th>10</th>\n",
       "      <td>BRUTON</td>\n",
       "      <td>Modern Trendy Sneakers Shoes Sneakers For Men</td>\n",
       "      <td>₹333</td>\n",
       "    </tr>\n",
       "    <tr>\n",
       "      <th>11</th>\n",
       "      <td>aadi</td>\n",
       "      <td>Lightweight,Comfort,Summer,Trendy,Walking,Outd...</td>\n",
       "      <td>₹487</td>\n",
       "    </tr>\n",
       "    <tr>\n",
       "      <th>12</th>\n",
       "      <td>RED TAPE</td>\n",
       "      <td>Casual Sneaker Shoes for Men | Soft Cushioned ...</td>\n",
       "      <td>₹1,949</td>\n",
       "    </tr>\n",
       "    <tr>\n",
       "      <th>13</th>\n",
       "      <td>PUMA</td>\n",
       "      <td>Rungryp Sneakers For Men</td>\n",
       "      <td>₹2,149</td>\n",
       "    </tr>\n",
       "    <tr>\n",
       "      <th>14</th>\n",
       "      <td>aadi</td>\n",
       "      <td>Sneakers For Men</td>\n",
       "      <td>₹380</td>\n",
       "    </tr>\n",
       "    <tr>\n",
       "      <th>15</th>\n",
       "      <td>RED TAPE</td>\n",
       "      <td>Sneaker Casual Shoes for Men | Soft Cushioned ...</td>\n",
       "      <td>₹1,679</td>\n",
       "    </tr>\n",
       "    <tr>\n",
       "      <th>16</th>\n",
       "      <td>aadi</td>\n",
       "      <td>Synthetic Leather |Lightweight|Comfort|Summer|...</td>\n",
       "      <td>₹380</td>\n",
       "    </tr>\n",
       "    <tr>\n",
       "      <th>17</th>\n",
       "      <td>aadi</td>\n",
       "      <td>Lightweight,Comfort,Summer,Trendy,Walking,Outd...</td>\n",
       "      <td>₹333</td>\n",
       "    </tr>\n",
       "    <tr>\n",
       "      <th>18</th>\n",
       "      <td>RED TAPE</td>\n",
       "      <td>Sneakers For Men</td>\n",
       "      <td>₹1,619</td>\n",
       "    </tr>\n",
       "    <tr>\n",
       "      <th>19</th>\n",
       "      <td>RED TAPE</td>\n",
       "      <td>Sneaker Casual Shoes for Men | Soft Cushioned ...</td>\n",
       "      <td>₹2,069</td>\n",
       "    </tr>\n",
       "    <tr>\n",
       "      <th>20</th>\n",
       "      <td>asian</td>\n",
       "      <td>Moscow-01 White Sneakers,Loafers,Chunky Shoes ...</td>\n",
       "      <td>₹823</td>\n",
       "    </tr>\n",
       "    <tr>\n",
       "      <th>21</th>\n",
       "      <td>kcandy</td>\n",
       "      <td>White Casual Sneakers Sneakers For Men</td>\n",
       "      <td>₹449</td>\n",
       "    </tr>\n",
       "    <tr>\n",
       "      <th>22</th>\n",
       "      <td>RED TAPE</td>\n",
       "      <td>Sneaker Casual Shoes For Men | Soft Cushion In...</td>\n",
       "      <td>₹2,069</td>\n",
       "    </tr>\n",
       "    <tr>\n",
       "      <th>23</th>\n",
       "      <td>PUMA</td>\n",
       "      <td>DISRIDE Sneakers For Men</td>\n",
       "      <td>₹1,074</td>\n",
       "    </tr>\n",
       "    <tr>\n",
       "      <th>24</th>\n",
       "      <td>REEBOK</td>\n",
       "      <td>Breeze Glide Sneakers For Men</td>\n",
       "      <td>₹1,583</td>\n",
       "    </tr>\n",
       "    <tr>\n",
       "      <th>25</th>\n",
       "      <td>aadi</td>\n",
       "      <td>Lightweight,Comfort,Summer,Trendy,Walking,Outd...</td>\n",
       "      <td>₹299</td>\n",
       "    </tr>\n",
       "    <tr>\n",
       "      <th>26</th>\n",
       "      <td>Footox</td>\n",
       "      <td>Sneakers For Men Sneakers For Men</td>\n",
       "      <td>₹349</td>\n",
       "    </tr>\n",
       "    <tr>\n",
       "      <th>27</th>\n",
       "      <td>Footox</td>\n",
       "      <td>Casual Shoes Sneakers For Women</td>\n",
       "      <td>₹359</td>\n",
       "    </tr>\n",
       "    <tr>\n",
       "      <th>28</th>\n",
       "      <td>PUMA</td>\n",
       "      <td>SiennaSoftrideBallerina Sneakers For Women</td>\n",
       "      <td>₹1,569</td>\n",
       "    </tr>\n",
       "    <tr>\n",
       "      <th>29</th>\n",
       "      <td>Deals4you</td>\n",
       "      <td>Sneakers For Women</td>\n",
       "      <td>₹299</td>\n",
       "    </tr>\n",
       "    <tr>\n",
       "      <th>30</th>\n",
       "      <td>BRUTON</td>\n",
       "      <td>Combo Pack Of 2 Latest Stylish Casual Shoes Sn...</td>\n",
       "      <td>₹567</td>\n",
       "    </tr>\n",
       "    <tr>\n",
       "      <th>31</th>\n",
       "      <td>STALAG</td>\n",
       "      <td>Kick Outdoor Gym,Sports,Training,Stylish Runni...</td>\n",
       "      <td>₹699</td>\n",
       "    </tr>\n",
       "    <tr>\n",
       "      <th>32</th>\n",
       "      <td>PUMA</td>\n",
       "      <td>Noah Sneakers For Men</td>\n",
       "      <td>₹1,574</td>\n",
       "    </tr>\n",
       "    <tr>\n",
       "      <th>33</th>\n",
       "      <td>PUMA</td>\n",
       "      <td>Caven Sneakers For Men</td>\n",
       "      <td>₹2,639</td>\n",
       "    </tr>\n",
       "    <tr>\n",
       "      <th>34</th>\n",
       "      <td>HOTSTYLE</td>\n",
       "      <td>Sports Shoes , Walking Shoes , Gym &amp; Training ...</td>\n",
       "      <td>₹260</td>\n",
       "    </tr>\n",
       "    <tr>\n",
       "      <th>35</th>\n",
       "      <td>ATOM</td>\n",
       "      <td>Alpha Predator Sneakers For Men</td>\n",
       "      <td>₹1,339</td>\n",
       "    </tr>\n",
       "    <tr>\n",
       "      <th>36</th>\n",
       "      <td>kcandy</td>\n",
       "      <td>first-3-Black Sneakers Shoes,Loafers,Casuals S...</td>\n",
       "      <td>₹399</td>\n",
       "    </tr>\n",
       "    <tr>\n",
       "      <th>37</th>\n",
       "      <td>BOLLERO</td>\n",
       "      <td>Open Stitched Design Lightweight Evening Weddi...</td>\n",
       "      <td>₹505</td>\n",
       "    </tr>\n",
       "    <tr>\n",
       "      <th>38</th>\n",
       "      <td>RED TAPE</td>\n",
       "      <td>Lifestyle Sneaker Shoes for Men | Soft Cushion...</td>\n",
       "      <td>₹2,069</td>\n",
       "    </tr>\n",
       "    <tr>\n",
       "      <th>39</th>\n",
       "      <td>U.S. POLO ASSN.</td>\n",
       "      <td>CLARKIN Sneakers For Men</td>\n",
       "      <td>₹1,339</td>\n",
       "    </tr>\n",
       "  </tbody>\n",
       "</table>\n",
       "</div>"
      ],
      "text/plain": [
       "                    Brand                                Product_description  \\\n",
       "0                    aadi                                   Sneakers For Men   \n",
       "1                  BRUTON  Combo Pack Of 2 Casual Shoes for mens Sneakers...   \n",
       "2                HOTSTYLE                          Designer Sneakers For Men   \n",
       "3             kardam&sons                                   Sneakers For Men   \n",
       "4   HRX by Hrithik Roshan                      URBAN CHUNKY Sneakers For Men   \n",
       "5                RED TAPE  Sneaker Shoes For Men's - Elevated Comfort, Pe...   \n",
       "6                  BRUTON      Modern Trendy Sneakers Shoes Sneakers For Men   \n",
       "7                    aadi  Synthetic Leather |Lightweight|Comfort|Summer|...   \n",
       "8                WOODLAND                                   Sneakers For Men   \n",
       "9                RED TAPE  Sneaker Casual Shoes for Men | Soft Cushioned ...   \n",
       "10                 BRUTON      Modern Trendy Sneakers Shoes Sneakers For Men   \n",
       "11                   aadi  Lightweight,Comfort,Summer,Trendy,Walking,Outd...   \n",
       "12               RED TAPE  Casual Sneaker Shoes for Men | Soft Cushioned ...   \n",
       "13                   PUMA                           Rungryp Sneakers For Men   \n",
       "14                   aadi                                   Sneakers For Men   \n",
       "15               RED TAPE  Sneaker Casual Shoes for Men | Soft Cushioned ...   \n",
       "16                   aadi  Synthetic Leather |Lightweight|Comfort|Summer|...   \n",
       "17                   aadi  Lightweight,Comfort,Summer,Trendy,Walking,Outd...   \n",
       "18               RED TAPE                                   Sneakers For Men   \n",
       "19               RED TAPE  Sneaker Casual Shoes for Men | Soft Cushioned ...   \n",
       "20                  asian  Moscow-01 White Sneakers,Loafers,Chunky Shoes ...   \n",
       "21                 kcandy             White Casual Sneakers Sneakers For Men   \n",
       "22               RED TAPE  Sneaker Casual Shoes For Men | Soft Cushion In...   \n",
       "23                   PUMA                           DISRIDE Sneakers For Men   \n",
       "24                 REEBOK                      Breeze Glide Sneakers For Men   \n",
       "25                   aadi  Lightweight,Comfort,Summer,Trendy,Walking,Outd...   \n",
       "26                 Footox                  Sneakers For Men Sneakers For Men   \n",
       "27                 Footox                    Casual Shoes Sneakers For Women   \n",
       "28                   PUMA         SiennaSoftrideBallerina Sneakers For Women   \n",
       "29              Deals4you                                 Sneakers For Women   \n",
       "30                 BRUTON  Combo Pack Of 2 Latest Stylish Casual Shoes Sn...   \n",
       "31                 STALAG  Kick Outdoor Gym,Sports,Training,Stylish Runni...   \n",
       "32                   PUMA                              Noah Sneakers For Men   \n",
       "33                   PUMA                             Caven Sneakers For Men   \n",
       "34               HOTSTYLE  Sports Shoes , Walking Shoes , Gym & Training ...   \n",
       "35                   ATOM                    Alpha Predator Sneakers For Men   \n",
       "36                 kcandy  first-3-Black Sneakers Shoes,Loafers,Casuals S...   \n",
       "37                BOLLERO  Open Stitched Design Lightweight Evening Weddi...   \n",
       "38               RED TAPE  Lifestyle Sneaker Shoes for Men | Soft Cushion...   \n",
       "39        U.S. POLO ASSN.                           CLARKIN Sneakers For Men   \n",
       "\n",
       "   Product_price  \n",
       "0           ₹349  \n",
       "1           ₹567  \n",
       "2           ₹288  \n",
       "3           ₹409  \n",
       "4           ₹925  \n",
       "5         ₹1,739  \n",
       "6           ₹445  \n",
       "7           ₹299  \n",
       "8         ₹1,639  \n",
       "9         ₹1,949  \n",
       "10          ₹333  \n",
       "11          ₹487  \n",
       "12        ₹1,949  \n",
       "13        ₹2,149  \n",
       "14          ₹380  \n",
       "15        ₹1,679  \n",
       "16          ₹380  \n",
       "17          ₹333  \n",
       "18        ₹1,619  \n",
       "19        ₹2,069  \n",
       "20          ₹823  \n",
       "21          ₹449  \n",
       "22        ₹2,069  \n",
       "23        ₹1,074  \n",
       "24        ₹1,583  \n",
       "25          ₹299  \n",
       "26          ₹349  \n",
       "27          ₹359  \n",
       "28        ₹1,569  \n",
       "29          ₹299  \n",
       "30          ₹567  \n",
       "31          ₹699  \n",
       "32        ₹1,574  \n",
       "33        ₹2,639  \n",
       "34          ₹260  \n",
       "35        ₹1,339  \n",
       "36          ₹399  \n",
       "37          ₹505  \n",
       "38        ₹2,069  \n",
       "39        ₹1,339  "
      ]
     },
     "execution_count": 207,
     "metadata": {},
     "output_type": "execute_result"
    }
   ],
   "source": [
    "df_1"
   ]
  },
  {
   "cell_type": "code",
   "execution_count": 164,
   "id": "0c8269ed",
   "metadata": {},
   "outputs": [],
   "source": [
    "Next_page = driver.find_element(By.XPATH,'//a[@class=\"ge-49M\"][2]')"
   ]
  },
  {
   "cell_type": "code",
   "execution_count": 165,
   "id": "45151ad5",
   "metadata": {},
   "outputs": [],
   "source": [
    "Next_page.click()"
   ]
  },
  {
   "cell_type": "code",
   "execution_count": 166,
   "id": "ab9f7882",
   "metadata": {},
   "outputs": [],
   "source": [
    "brand_name = []\n",
    "brand_tags = driver.find_elements(By.XPATH,'//div[@class=\"_2WkVRV\"]')\n",
    "for i in brand_tags[:20]:\n",
    "    brand = i.text\n",
    "    brand_name.append(brand)"
   ]
  },
  {
   "cell_type": "code",
   "execution_count": 167,
   "id": "e5b18560",
   "metadata": {},
   "outputs": [
    {
     "data": {
      "text/plain": [
       "['VENDOZ',\n",
       " 'Kraasa',\n",
       " 'U.S. POLO ASSN.',\n",
       " 'RED TAPE',\n",
       " 'CAMPUS',\n",
       " 'RED TAPE',\n",
       " 'Kraasa',\n",
       " 'VENDOZ',\n",
       " 'RED TAPE',\n",
       " 'RED TAPE',\n",
       " 'Kraasa',\n",
       " 'asian',\n",
       " 'aadi',\n",
       " 'RED TAPE',\n",
       " 'HOTSTYLE',\n",
       " 'aadi',\n",
       " 'Kraasa',\n",
       " 'Aeonik',\n",
       " 'U.S. POLO ASSN.',\n",
       " 'RED TAPE']"
      ]
     },
     "execution_count": 167,
     "metadata": {},
     "output_type": "execute_result"
    }
   ],
   "source": [
    "brand_name"
   ]
  },
  {
   "cell_type": "code",
   "execution_count": 168,
   "id": "ff3ef12a",
   "metadata": {},
   "outputs": [],
   "source": [
    "product_desc = []\n",
    "product_desc_tags =driver.find_elements(By.XPATH,'//div[@class=\"_2B099V\"]/a[1]')\n",
    "for i in product_desc_tags[:20]:\n",
    "    product = i.text\n",
    "    product_desc.append(product)"
   ]
  },
  {
   "cell_type": "code",
   "execution_count": 169,
   "id": "e1c30c4e",
   "metadata": {},
   "outputs": [
    {
     "data": {
      "text/plain": [
       "['Sneakers For Women',\n",
       " 'Sneakers For Women',\n",
       " 'LEBRON 3.0 Sneakers For Men',\n",
       " 'Sneaker Casual Shoes For Men | Soft Cushion Insole, Sli...',\n",
       " 'OG-D4 Sneakers For Men',\n",
       " 'Sneaker Casual Shoes For Men | Soft Cushion Insole, Sli...',\n",
       " 'Radiant 2.0 Sneakers For Women',\n",
       " 'Premium Stylish Comfortable Shoe for Girls and Womens S...',\n",
       " 'Sneakers For Men',\n",
       " 'Lifestyle Sneaker Shoes for Men | Soft Cushioned Insole...',\n",
       " 'Sneakers For Women',\n",
       " 'Thunder-03 Loafers,Casuals,Stylish with Extra Comfort S...',\n",
       " 'Ultralightweight | Comfortable | Breathable Walking | O...',\n",
       " 'Sneaker Casual Shoes For Men | Soft Cushion Insole, Sli...',\n",
       " 'Sports Shoes , Walking Shoes , Gym & Training Shoes And...',\n",
       " 'Lightweight,Comfort,Summer,Trendy,Walking,Outdoor,Styli...',\n",
       " 'Sneakers For Women',\n",
       " 'comfortable,Lightweight,Daily Use Sneakers For Men',\n",
       " 'CLARKIN Sneakers For Men',\n",
       " 'Sneaker Casual Shoes For Men | Soft Cushion Insole, Sli...']"
      ]
     },
     "execution_count": 169,
     "metadata": {},
     "output_type": "execute_result"
    }
   ],
   "source": [
    "product_desc"
   ]
  },
  {
   "cell_type": "code",
   "execution_count": 170,
   "id": "8d4f9dc0",
   "metadata": {},
   "outputs": [],
   "source": [
    "price = []\n",
    "price_tags =driver.find_elements(By.XPATH,'//div[@class=\"_30jeq3\"]')\n",
    "for i in price_tags[:20]:\n",
    "    product_price = i.text\n",
    "    price.append(product_price)"
   ]
  },
  {
   "cell_type": "code",
   "execution_count": 171,
   "id": "3a219252",
   "metadata": {},
   "outputs": [
    {
     "data": {
      "text/plain": [
       "['₹549',\n",
       " '₹391',\n",
       " '₹1,799',\n",
       " '₹1,619',\n",
       " '₹649',\n",
       " '₹1,799',\n",
       " '₹391',\n",
       " '₹589',\n",
       " '₹1,709',\n",
       " '₹2,069',\n",
       " '₹499',\n",
       " '₹767',\n",
       " '₹385',\n",
       " '₹1,679',\n",
       " '₹260',\n",
       " '₹299',\n",
       " '₹249',\n",
       " '₹380',\n",
       " '₹1,399',\n",
       " '₹1,679']"
      ]
     },
     "execution_count": 171,
     "metadata": {},
     "output_type": "execute_result"
    }
   ],
   "source": [
    "price"
   ]
  },
  {
   "cell_type": "code",
   "execution_count": 172,
   "id": "91927474",
   "metadata": {},
   "outputs": [],
   "source": [
    "df_2 = df = pd.DataFrame({'Brand':brand_name, 'Product_description':product_desc , 'Product_price':price})"
   ]
  },
  {
   "cell_type": "code",
   "execution_count": 173,
   "id": "4c3c9b60",
   "metadata": {},
   "outputs": [
    {
     "data": {
      "text/html": [
       "<div>\n",
       "<style scoped>\n",
       "    .dataframe tbody tr th:only-of-type {\n",
       "        vertical-align: middle;\n",
       "    }\n",
       "\n",
       "    .dataframe tbody tr th {\n",
       "        vertical-align: top;\n",
       "    }\n",
       "\n",
       "    .dataframe thead th {\n",
       "        text-align: right;\n",
       "    }\n",
       "</style>\n",
       "<table border=\"1\" class=\"dataframe\">\n",
       "  <thead>\n",
       "    <tr style=\"text-align: right;\">\n",
       "      <th></th>\n",
       "      <th>Brand</th>\n",
       "      <th>Product_description</th>\n",
       "      <th>Product_price</th>\n",
       "    </tr>\n",
       "  </thead>\n",
       "  <tbody>\n",
       "    <tr>\n",
       "      <th>0</th>\n",
       "      <td>VENDOZ</td>\n",
       "      <td>Sneakers For Women</td>\n",
       "      <td>₹549</td>\n",
       "    </tr>\n",
       "    <tr>\n",
       "      <th>1</th>\n",
       "      <td>Kraasa</td>\n",
       "      <td>Sneakers For Women</td>\n",
       "      <td>₹391</td>\n",
       "    </tr>\n",
       "    <tr>\n",
       "      <th>2</th>\n",
       "      <td>U.S. POLO ASSN.</td>\n",
       "      <td>LEBRON 3.0 Sneakers For Men</td>\n",
       "      <td>₹1,799</td>\n",
       "    </tr>\n",
       "    <tr>\n",
       "      <th>3</th>\n",
       "      <td>RED TAPE</td>\n",
       "      <td>Sneaker Casual Shoes For Men | Soft Cushion In...</td>\n",
       "      <td>₹1,619</td>\n",
       "    </tr>\n",
       "    <tr>\n",
       "      <th>4</th>\n",
       "      <td>CAMPUS</td>\n",
       "      <td>OG-D4 Sneakers For Men</td>\n",
       "      <td>₹649</td>\n",
       "    </tr>\n",
       "    <tr>\n",
       "      <th>5</th>\n",
       "      <td>RED TAPE</td>\n",
       "      <td>Sneaker Casual Shoes For Men | Soft Cushion In...</td>\n",
       "      <td>₹1,799</td>\n",
       "    </tr>\n",
       "    <tr>\n",
       "      <th>6</th>\n",
       "      <td>Kraasa</td>\n",
       "      <td>Radiant 2.0 Sneakers For Women</td>\n",
       "      <td>₹391</td>\n",
       "    </tr>\n",
       "    <tr>\n",
       "      <th>7</th>\n",
       "      <td>VENDOZ</td>\n",
       "      <td>Premium Stylish Comfortable Shoe for Girls and...</td>\n",
       "      <td>₹589</td>\n",
       "    </tr>\n",
       "    <tr>\n",
       "      <th>8</th>\n",
       "      <td>RED TAPE</td>\n",
       "      <td>Sneakers For Men</td>\n",
       "      <td>₹1,709</td>\n",
       "    </tr>\n",
       "    <tr>\n",
       "      <th>9</th>\n",
       "      <td>RED TAPE</td>\n",
       "      <td>Lifestyle Sneaker Shoes for Men | Soft Cushion...</td>\n",
       "      <td>₹2,069</td>\n",
       "    </tr>\n",
       "    <tr>\n",
       "      <th>10</th>\n",
       "      <td>Kraasa</td>\n",
       "      <td>Sneakers For Women</td>\n",
       "      <td>₹499</td>\n",
       "    </tr>\n",
       "    <tr>\n",
       "      <th>11</th>\n",
       "      <td>asian</td>\n",
       "      <td>Thunder-03 Loafers,Casuals,Stylish with Extra ...</td>\n",
       "      <td>₹767</td>\n",
       "    </tr>\n",
       "    <tr>\n",
       "      <th>12</th>\n",
       "      <td>aadi</td>\n",
       "      <td>Ultralightweight | Comfortable | Breathable Wa...</td>\n",
       "      <td>₹385</td>\n",
       "    </tr>\n",
       "    <tr>\n",
       "      <th>13</th>\n",
       "      <td>RED TAPE</td>\n",
       "      <td>Sneaker Casual Shoes For Men | Soft Cushion In...</td>\n",
       "      <td>₹1,679</td>\n",
       "    </tr>\n",
       "    <tr>\n",
       "      <th>14</th>\n",
       "      <td>HOTSTYLE</td>\n",
       "      <td>Sports Shoes , Walking Shoes , Gym &amp; Training ...</td>\n",
       "      <td>₹260</td>\n",
       "    </tr>\n",
       "    <tr>\n",
       "      <th>15</th>\n",
       "      <td>aadi</td>\n",
       "      <td>Lightweight,Comfort,Summer,Trendy,Walking,Outd...</td>\n",
       "      <td>₹299</td>\n",
       "    </tr>\n",
       "    <tr>\n",
       "      <th>16</th>\n",
       "      <td>Kraasa</td>\n",
       "      <td>Sneakers For Women</td>\n",
       "      <td>₹249</td>\n",
       "    </tr>\n",
       "    <tr>\n",
       "      <th>17</th>\n",
       "      <td>Aeonik</td>\n",
       "      <td>comfortable,Lightweight,Daily Use Sneakers For...</td>\n",
       "      <td>₹380</td>\n",
       "    </tr>\n",
       "    <tr>\n",
       "      <th>18</th>\n",
       "      <td>U.S. POLO ASSN.</td>\n",
       "      <td>CLARKIN Sneakers For Men</td>\n",
       "      <td>₹1,399</td>\n",
       "    </tr>\n",
       "    <tr>\n",
       "      <th>19</th>\n",
       "      <td>RED TAPE</td>\n",
       "      <td>Sneaker Casual Shoes For Men | Soft Cushion In...</td>\n",
       "      <td>₹1,679</td>\n",
       "    </tr>\n",
       "  </tbody>\n",
       "</table>\n",
       "</div>"
      ],
      "text/plain": [
       "              Brand                                Product_description  \\\n",
       "0            VENDOZ                                 Sneakers For Women   \n",
       "1            Kraasa                                 Sneakers For Women   \n",
       "2   U.S. POLO ASSN.                        LEBRON 3.0 Sneakers For Men   \n",
       "3          RED TAPE  Sneaker Casual Shoes For Men | Soft Cushion In...   \n",
       "4            CAMPUS                             OG-D4 Sneakers For Men   \n",
       "5          RED TAPE  Sneaker Casual Shoes For Men | Soft Cushion In...   \n",
       "6            Kraasa                     Radiant 2.0 Sneakers For Women   \n",
       "7            VENDOZ  Premium Stylish Comfortable Shoe for Girls and...   \n",
       "8          RED TAPE                                   Sneakers For Men   \n",
       "9          RED TAPE  Lifestyle Sneaker Shoes for Men | Soft Cushion...   \n",
       "10           Kraasa                                 Sneakers For Women   \n",
       "11            asian  Thunder-03 Loafers,Casuals,Stylish with Extra ...   \n",
       "12             aadi  Ultralightweight | Comfortable | Breathable Wa...   \n",
       "13         RED TAPE  Sneaker Casual Shoes For Men | Soft Cushion In...   \n",
       "14         HOTSTYLE  Sports Shoes , Walking Shoes , Gym & Training ...   \n",
       "15             aadi  Lightweight,Comfort,Summer,Trendy,Walking,Outd...   \n",
       "16           Kraasa                                 Sneakers For Women   \n",
       "17           Aeonik  comfortable,Lightweight,Daily Use Sneakers For...   \n",
       "18  U.S. POLO ASSN.                           CLARKIN Sneakers For Men   \n",
       "19         RED TAPE  Sneaker Casual Shoes For Men | Soft Cushion In...   \n",
       "\n",
       "   Product_price  \n",
       "0           ₹549  \n",
       "1           ₹391  \n",
       "2         ₹1,799  \n",
       "3         ₹1,619  \n",
       "4           ₹649  \n",
       "5         ₹1,799  \n",
       "6           ₹391  \n",
       "7           ₹589  \n",
       "8         ₹1,709  \n",
       "9         ₹2,069  \n",
       "10          ₹499  \n",
       "11          ₹767  \n",
       "12          ₹385  \n",
       "13        ₹1,679  \n",
       "14          ₹260  \n",
       "15          ₹299  \n",
       "16          ₹249  \n",
       "17          ₹380  \n",
       "18        ₹1,399  \n",
       "19        ₹1,679  "
      ]
     },
     "execution_count": 173,
     "metadata": {},
     "output_type": "execute_result"
    }
   ],
   "source": [
    "df_2"
   ]
  },
  {
   "cell_type": "code",
   "execution_count": 208,
   "id": "5b4bf7d9",
   "metadata": {},
   "outputs": [],
   "source": [
    "data_frame = pd.concat([df,df_1,df_2] , ignore_index = True)"
   ]
  },
  {
   "cell_type": "code",
   "execution_count": 209,
   "id": "ff7d0521",
   "metadata": {},
   "outputs": [
    {
     "data": {
      "text/html": [
       "<div>\n",
       "<style scoped>\n",
       "    .dataframe tbody tr th:only-of-type {\n",
       "        vertical-align: middle;\n",
       "    }\n",
       "\n",
       "    .dataframe tbody tr th {\n",
       "        vertical-align: top;\n",
       "    }\n",
       "\n",
       "    .dataframe thead th {\n",
       "        text-align: right;\n",
       "    }\n",
       "</style>\n",
       "<table border=\"1\" class=\"dataframe\">\n",
       "  <thead>\n",
       "    <tr style=\"text-align: right;\">\n",
       "      <th></th>\n",
       "      <th>Brand</th>\n",
       "      <th>Product_description</th>\n",
       "      <th>Product_price</th>\n",
       "    </tr>\n",
       "  </thead>\n",
       "  <tbody>\n",
       "    <tr>\n",
       "      <th>0</th>\n",
       "      <td>BRUTON</td>\n",
       "      <td>Exclusive Sneaker Shoes Sneakers For Men</td>\n",
       "      <td>₹333</td>\n",
       "    </tr>\n",
       "    <tr>\n",
       "      <th>1</th>\n",
       "      <td>Robbie jones</td>\n",
       "      <td>Casual Sneakers Canvas High Top Boots For Boys...</td>\n",
       "      <td>₹449</td>\n",
       "    </tr>\n",
       "    <tr>\n",
       "      <th>2</th>\n",
       "      <td>Deals4you</td>\n",
       "      <td>Sneakers For Women</td>\n",
       "      <td>₹299</td>\n",
       "    </tr>\n",
       "    <tr>\n",
       "      <th>3</th>\n",
       "      <td>URBANBOX</td>\n",
       "      <td>Trending Stylish Casual Outdoor Sneakers Shoes...</td>\n",
       "      <td>₹299</td>\n",
       "    </tr>\n",
       "    <tr>\n",
       "      <th>4</th>\n",
       "      <td>RED TAPE</td>\n",
       "      <td>Casual Sneaker Shoes for Men | Soft Cushioned ...</td>\n",
       "      <td>₹1,709</td>\n",
       "    </tr>\n",
       "    <tr>\n",
       "      <th>...</th>\n",
       "      <td>...</td>\n",
       "      <td>...</td>\n",
       "      <td>...</td>\n",
       "    </tr>\n",
       "    <tr>\n",
       "      <th>95</th>\n",
       "      <td>aadi</td>\n",
       "      <td>Lightweight,Comfort,Summer,Trendy,Walking,Outd...</td>\n",
       "      <td>₹299</td>\n",
       "    </tr>\n",
       "    <tr>\n",
       "      <th>96</th>\n",
       "      <td>Kraasa</td>\n",
       "      <td>Sneakers For Women</td>\n",
       "      <td>₹249</td>\n",
       "    </tr>\n",
       "    <tr>\n",
       "      <th>97</th>\n",
       "      <td>Aeonik</td>\n",
       "      <td>comfortable,Lightweight,Daily Use Sneakers For...</td>\n",
       "      <td>₹380</td>\n",
       "    </tr>\n",
       "    <tr>\n",
       "      <th>98</th>\n",
       "      <td>U.S. POLO ASSN.</td>\n",
       "      <td>CLARKIN Sneakers For Men</td>\n",
       "      <td>₹1,399</td>\n",
       "    </tr>\n",
       "    <tr>\n",
       "      <th>99</th>\n",
       "      <td>RED TAPE</td>\n",
       "      <td>Sneaker Casual Shoes For Men | Soft Cushion In...</td>\n",
       "      <td>₹1,679</td>\n",
       "    </tr>\n",
       "  </tbody>\n",
       "</table>\n",
       "<p>100 rows × 3 columns</p>\n",
       "</div>"
      ],
      "text/plain": [
       "              Brand                                Product_description  \\\n",
       "0            BRUTON           Exclusive Sneaker Shoes Sneakers For Men   \n",
       "1      Robbie jones  Casual Sneakers Canvas High Top Boots For Boys...   \n",
       "2         Deals4you                                 Sneakers For Women   \n",
       "3          URBANBOX  Trending Stylish Casual Outdoor Sneakers Shoes...   \n",
       "4          RED TAPE  Casual Sneaker Shoes for Men | Soft Cushioned ...   \n",
       "..              ...                                                ...   \n",
       "95             aadi  Lightweight,Comfort,Summer,Trendy,Walking,Outd...   \n",
       "96           Kraasa                                 Sneakers For Women   \n",
       "97           Aeonik  comfortable,Lightweight,Daily Use Sneakers For...   \n",
       "98  U.S. POLO ASSN.                           CLARKIN Sneakers For Men   \n",
       "99         RED TAPE  Sneaker Casual Shoes For Men | Soft Cushion In...   \n",
       "\n",
       "   Product_price  \n",
       "0           ₹333  \n",
       "1           ₹449  \n",
       "2           ₹299  \n",
       "3           ₹299  \n",
       "4         ₹1,709  \n",
       "..           ...  \n",
       "95          ₹299  \n",
       "96          ₹249  \n",
       "97          ₹380  \n",
       "98        ₹1,399  \n",
       "99        ₹1,679  \n",
       "\n",
       "[100 rows x 3 columns]"
      ]
     },
     "execution_count": 209,
     "metadata": {},
     "output_type": "execute_result"
    }
   ],
   "source": [
    "data_frame"
   ]
  },
  {
   "cell_type": "markdown",
   "id": "8ccb4387",
   "metadata": {},
   "source": [
    "7.QUESTION--> SOLUTION-->"
   ]
  },
  {
   "cell_type": "code",
   "execution_count": 210,
   "id": "4e8a7a0d",
   "metadata": {},
   "outputs": [],
   "source": [
    "from selenium import webdriver\n",
    "from selenium.webdriver.common.by import By"
   ]
  },
  {
   "cell_type": "code",
   "execution_count": 211,
   "id": "a89589bd",
   "metadata": {},
   "outputs": [],
   "source": [
    "driver = webdriver.Chrome()\n",
    "url = \"https://www.amazon.in/\"\n",
    "driver.get(url)"
   ]
  },
  {
   "cell_type": "code",
   "execution_count": 212,
   "id": "43bf4d18",
   "metadata": {},
   "outputs": [],
   "source": [
    "search = driver.find_element(By.XPATH, '//input[@id=\"twotabsearchtextbox\"]')\n",
    "search.send_keys('laptop')"
   ]
  },
  {
   "cell_type": "code",
   "execution_count": 213,
   "id": "7bf0f4e5",
   "metadata": {},
   "outputs": [],
   "source": [
    "search.submit()"
   ]
  },
  {
   "cell_type": "code",
   "execution_count": 214,
   "id": "cd075b28",
   "metadata": {},
   "outputs": [],
   "source": [
    "job_title=[]\n",
    "title_tags = driver.find_elements(By.XPATH,'//h2[@class=\"a-size-mini a-spacing-none a-color-base s-line-clamp-2\"]')\n",
    "for i in title_tags[:10]:\n",
    "    title = i.text\n",
    "    job_title.append(title)"
   ]
  },
  {
   "cell_type": "code",
   "execution_count": 215,
   "id": "7e47e45b",
   "metadata": {},
   "outputs": [
    {
     "data": {
      "text/plain": [
       "['Dell 15 Laptop, Intel Core i5-1135G7 Processor/16GB DDR4/512GB SSD/Intel UHD Graphic/15.6\" (39.562cm) FHD Display/Win 11+MSO\\'21/15 Month McAfee/Spill-Resistant Keyboard/Carbon/Thin & Light 1.69kg',\n",
       " 'Acer One 14 Business Laptop AMD Ryzen 3 3250U Processor (8GB RAM/256GB SSD/AMD Radeon Graphics/Windows 11 Home) Z2-493 with 35.56 cm (14.0\") HD Display',\n",
       " 'ASUS BR1100 Notebook 12 (2022), 11.6-inch HD, Intel Celeron N4500, (4GB RAM/128GB M.2 NVMe™ PCIe®/Integrated Graphics/Windows 11 Home/Star Grey/1.26 Kg), BR1100CKA-GJ0722W',\n",
       " 'HP Laptop 15s, 12th Gen Intel Core i3-1215U, 15.6-inch (39.6 cm), FHD, 8GB DDR4, 512GB SSD, Intel UHD Graphics, Backlit KB, Thin & Light, Dual Speakers (Win 11, MSO 2021, Silver, 1.69 kg), fq5007TU',\n",
       " 'ASUS BR1100 Laptop, 11.6\" (29.46cm) HD Anti-Glare Display, Intel Celeron N4500, 8GB RAM, 128GB SSD, MIL-STD 810H Durability, Windows 10 Home, Dark Grey, BR1100CKA-GJ0746W',\n",
       " 'ASUS Vivobook 14, Intel Core i3-1115G4 11th Gen, 14\" (35.56 cms) FHD, Thin and Light Laptop (8GB/512GB SSD/Windows 11/Office 2021/Transparent Silver/1.60 kg), X1400EA-EK322WS',\n",
       " 'Lenovo V15 AMD Ryzen 3 7320U 15.6\" (39.62cm) FHD 250 Nits Antiglare Thin and Light Laptop (8GB/512GB SSD/Windows 11/Arctic Grey/1.65 Kg), 82YU00W7IN',\n",
       " 'ASUS VivoBook 15 (2021), 15.6-inch (39.62 cm) HD, Dual Core Intel Celeron N4020, Thin and Light Laptop (4GB RAM/256GB SSD/Integrated Graphics/Windows 11 Home/Transparent Silver/1.8 Kg), X515MA-BR011W',\n",
       " '(Refurbished) Lenovo ThinkPad 7th Gen Intel Core i5 Thin & Light HD Laptop (8 GB DDR4 RAM/256 GB SSD/14\" (35.6 cm) HD/Windows 11/WiFi/Bluetooth/Webcam/Intel Graphics)',\n",
       " 'HP 14s, 11th Gen Intel Core i3-1115G4, 8GB RAM/256GB SSD 14-inch(35.6 cm) Micro-Edge, Anti-Glare, FHD Laptop/Alexa Built-in/Win 11/Intel UHD Graphics/Dual Speakers/MSO 2021/1.41 Kg, 14s-dy2507TU']"
      ]
     },
     "execution_count": 215,
     "metadata": {},
     "output_type": "execute_result"
    }
   ],
   "source": [
    "job_title"
   ]
  },
  {
   "cell_type": "code",
   "execution_count": 216,
   "id": "cf7c4a26",
   "metadata": {},
   "outputs": [],
   "source": [
    "price = []\n",
    "price_tags =driver.find_elements(By.XPATH,'//span[@class=\"a-price-whole\"]')\n",
    "for i in price_tags[:10]:\n",
    "    product_price = i.text\n",
    "    price.append(product_price)"
   ]
  },
  {
   "cell_type": "code",
   "execution_count": 217,
   "id": "c337c1cc",
   "metadata": {},
   "outputs": [
    {
     "data": {
      "text/plain": [
       "['49,990',\n",
       " '26,990',\n",
       " '14,490',\n",
       " '40,990',\n",
       " '16,490',\n",
       " '1,25,990.',\n",
       " '42,309',\n",
       " '40,099',\n",
       " '33,990',\n",
       " '']"
      ]
     },
     "execution_count": 217,
     "metadata": {},
     "output_type": "execute_result"
    }
   ],
   "source": [
    "price"
   ]
  },
  {
   "cell_type": "code",
   "execution_count": 218,
   "id": "841a7597",
   "metadata": {},
   "outputs": [],
   "source": [
    "rating = []\n",
    "rating_tags =driver.find_elements(By.XPATH,'//span[@class=\"a-size-base s-underline-text\"]')\n",
    "for i in rating_tags[:10]:\n",
    "    rating_ = i.text\n",
    "    rating.append(rating_)"
   ]
  },
  {
   "cell_type": "code",
   "execution_count": 219,
   "id": "6e1bac00",
   "metadata": {},
   "outputs": [
    {
     "data": {
      "text/plain": [
       "['585', '180', '149', '2,259', '2', '2,217', '859', '1,555', '', '107']"
      ]
     },
     "execution_count": 219,
     "metadata": {},
     "output_type": "execute_result"
    }
   ],
   "source": [
    "rating"
   ]
  },
  {
   "cell_type": "code",
   "execution_count": 220,
   "id": "317b51cc",
   "metadata": {},
   "outputs": [],
   "source": [
    "data_frame = pd.DataFrame({'JOB_TITLE':job_title, 'PRICE':price, 'RATING':rating})"
   ]
  },
  {
   "cell_type": "code",
   "execution_count": 221,
   "id": "d7759343",
   "metadata": {},
   "outputs": [
    {
     "data": {
      "text/html": [
       "<div>\n",
       "<style scoped>\n",
       "    .dataframe tbody tr th:only-of-type {\n",
       "        vertical-align: middle;\n",
       "    }\n",
       "\n",
       "    .dataframe tbody tr th {\n",
       "        vertical-align: top;\n",
       "    }\n",
       "\n",
       "    .dataframe thead th {\n",
       "        text-align: right;\n",
       "    }\n",
       "</style>\n",
       "<table border=\"1\" class=\"dataframe\">\n",
       "  <thead>\n",
       "    <tr style=\"text-align: right;\">\n",
       "      <th></th>\n",
       "      <th>JOB_TITLE</th>\n",
       "      <th>PRICE</th>\n",
       "      <th>RATING</th>\n",
       "    </tr>\n",
       "  </thead>\n",
       "  <tbody>\n",
       "    <tr>\n",
       "      <th>0</th>\n",
       "      <td>Dell 15 Laptop, Intel Core i5-1135G7 Processor...</td>\n",
       "      <td>49,990</td>\n",
       "      <td>585</td>\n",
       "    </tr>\n",
       "    <tr>\n",
       "      <th>1</th>\n",
       "      <td>Acer One 14 Business Laptop AMD Ryzen 3 3250U ...</td>\n",
       "      <td>26,990</td>\n",
       "      <td>180</td>\n",
       "    </tr>\n",
       "    <tr>\n",
       "      <th>2</th>\n",
       "      <td>ASUS BR1100 Notebook 12 (2022), 11.6-inch HD, ...</td>\n",
       "      <td>14,490</td>\n",
       "      <td>149</td>\n",
       "    </tr>\n",
       "    <tr>\n",
       "      <th>3</th>\n",
       "      <td>HP Laptop 15s, 12th Gen Intel Core i3-1215U, 1...</td>\n",
       "      <td>40,990</td>\n",
       "      <td>2,259</td>\n",
       "    </tr>\n",
       "    <tr>\n",
       "      <th>4</th>\n",
       "      <td>ASUS BR1100 Laptop, 11.6\" (29.46cm) HD Anti-Gl...</td>\n",
       "      <td>16,490</td>\n",
       "      <td>2</td>\n",
       "    </tr>\n",
       "    <tr>\n",
       "      <th>5</th>\n",
       "      <td>ASUS Vivobook 14, Intel Core i3-1115G4 11th Ge...</td>\n",
       "      <td>1,25,990.</td>\n",
       "      <td>2,217</td>\n",
       "    </tr>\n",
       "    <tr>\n",
       "      <th>6</th>\n",
       "      <td>Lenovo V15 AMD Ryzen 3 7320U 15.6\" (39.62cm) F...</td>\n",
       "      <td>42,309</td>\n",
       "      <td>859</td>\n",
       "    </tr>\n",
       "    <tr>\n",
       "      <th>7</th>\n",
       "      <td>ASUS VivoBook 15 (2021), 15.6-inch (39.62 cm) ...</td>\n",
       "      <td>40,099</td>\n",
       "      <td>1,555</td>\n",
       "    </tr>\n",
       "    <tr>\n",
       "      <th>8</th>\n",
       "      <td>(Refurbished) Lenovo ThinkPad 7th Gen Intel Co...</td>\n",
       "      <td>33,990</td>\n",
       "      <td></td>\n",
       "    </tr>\n",
       "    <tr>\n",
       "      <th>9</th>\n",
       "      <td>HP 14s, 11th Gen Intel Core i3-1115G4, 8GB RAM...</td>\n",
       "      <td></td>\n",
       "      <td>107</td>\n",
       "    </tr>\n",
       "  </tbody>\n",
       "</table>\n",
       "</div>"
      ],
      "text/plain": [
       "                                           JOB_TITLE      PRICE RATING\n",
       "0  Dell 15 Laptop, Intel Core i5-1135G7 Processor...     49,990    585\n",
       "1  Acer One 14 Business Laptop AMD Ryzen 3 3250U ...     26,990    180\n",
       "2  ASUS BR1100 Notebook 12 (2022), 11.6-inch HD, ...     14,490    149\n",
       "3  HP Laptop 15s, 12th Gen Intel Core i3-1215U, 1...     40,990  2,259\n",
       "4  ASUS BR1100 Laptop, 11.6\" (29.46cm) HD Anti-Gl...     16,490      2\n",
       "5  ASUS Vivobook 14, Intel Core i3-1115G4 11th Ge...  1,25,990.  2,217\n",
       "6  Lenovo V15 AMD Ryzen 3 7320U 15.6\" (39.62cm) F...     42,309    859\n",
       "7  ASUS VivoBook 15 (2021), 15.6-inch (39.62 cm) ...     40,099  1,555\n",
       "8  (Refurbished) Lenovo ThinkPad 7th Gen Intel Co...     33,990       \n",
       "9  HP 14s, 11th Gen Intel Core i3-1115G4, 8GB RAM...               107"
      ]
     },
     "execution_count": 221,
     "metadata": {},
     "output_type": "execute_result"
    }
   ],
   "source": [
    "data_frame"
   ]
  },
  {
   "cell_type": "markdown",
   "id": "0cf877af",
   "metadata": {},
   "source": [
    "8. QUESTION--> SOLUTION-->"
   ]
  },
  {
   "cell_type": "code",
   "execution_count": 222,
   "id": "370497ac",
   "metadata": {},
   "outputs": [],
   "source": [
    "from selenium import webdriver\n",
    "from selenium.webdriver.common.by import By"
   ]
  },
  {
   "cell_type": "code",
   "execution_count": 223,
   "id": "3e40555c",
   "metadata": {},
   "outputs": [],
   "source": [
    "driver = webdriver.Chrome()\n",
    "url = \"https://www.azquotes.com/\"\n",
    "driver.get(url)"
   ]
  },
  {
   "cell_type": "code",
   "execution_count": 224,
   "id": "8162c33a",
   "metadata": {},
   "outputs": [],
   "source": [
    "search = driver.find_element(By.XPATH, '//a[@href=\"/top_quotes.html\"]')"
   ]
  },
  {
   "cell_type": "code",
   "execution_count": 225,
   "id": "a99e60aa",
   "metadata": {},
   "outputs": [],
   "source": [
    "search.click()"
   ]
  },
  {
   "cell_type": "code",
   "execution_count": 232,
   "id": "94480235",
   "metadata": {},
   "outputs": [],
   "source": [
    "Quote=[]\n",
    "title_tags = driver.find_elements(By.XPATH,'//a[@class=\"title\"]')\n",
    "for i in title_tags:\n",
    "    title = i.text\n",
    "    Quote.append(title)"
   ]
  },
  {
   "cell_type": "code",
   "execution_count": 234,
   "id": "186615bf",
   "metadata": {},
   "outputs": [
    {
     "data": {
      "text/plain": [
       "['The essence of strategy is choosing what not to do.',\n",
       " 'One cannot and must not try to erase the past merely because it does not fit the present.',\n",
       " 'Patriotism means to stand by the country. It does not mean to stand by the president.',\n",
       " 'Death is something inevitable. When a man has done what he considers to be his duty to his people and his country, he can rest in peace. I believe I have made that effort and that is, therefore, why I will sleep for the eternity.',\n",
       " 'You have to love a nation that celebrates its independence every July 4, not with a parade of guns, tanks, and soldiers who file by the White House in a show of strength and muscle, but with family picnics where kids throw Frisbees, the potato salad gets iffy, and the flies die from happiness. You may think you have overeaten, but it is patriotism.',\n",
       " 'Be more concerned with your character than your reputation, because your character is what you really are, while your reputation is merely what others think you are.',\n",
       " 'Weak people revenge. Strong people forgive. Intelligent People Ignore.',\n",
       " \"A mind is like a parachute. It doesn't work if it is not open.\",\n",
       " 'Never be afraid to raise your voice for honesty and truth and compassion against injustice and lying and greed. If people all over the world...would do this, it would change the earth.',\n",
       " 'There are three kinds of men. The one that learns by reading. The few who learn by observation. The rest of them have to pee on the electric fence for themselves.',\n",
       " \"A strong nation, like a strong person, can afford to be gentle, firm, thoughtful, and restrained. It can afford to extend a helping hand to others. It's a weak nation, like a weak person, that must behave with bluster and boasting and rashness and other signs of insecurity.\",\n",
       " 'The difference between stupidity and genius is that genius has its limits.',\n",
       " 'We the people are the rightful masters of both Congress and the courts, not to overthrow the Constitution but to overthrow the men who pervert the Constitution.',\n",
       " 'With or without religion, you would have good people doing good things and evil people doing evil things. But for good people to do evil things, that takes religion.',\n",
       " 'Human kindness has never weakened the stamina or softened the fiber of a free people. A nation does not have to be cruel to be tough.',\n",
       " 'A person who never made a mistake never tried anything new.',\n",
       " 'My mission in life is not merely to survive, but to thrive; and to do so with some passion, some compassion, some humor, and some style',\n",
       " 'Life is short, Break the Rules. Forgive quickly, Kiss slowly. Love truly. Laugh uncontrollably And never regret ANYTHING That makes you smile.',\n",
       " 'This country will not be a good place for any of us to live in unless we make it a good place for all of us to live in.',\n",
       " 'In a world filled with hate, we must still dare to hope. In a world filled with anger, we must still dare to comfort. In a world filled with despair, we must still dare to dream. And in a world filled with distrust, we must still dare to believe.',\n",
       " 'Darkness cannot drive out darkness; only light can do that. Hate cannot drive out hate; only love can do that.',\n",
       " 'To be a Christian means to forgive the inexcusable because God has forgiven the inexcusable in you.',\n",
       " 'A man who is good enough to shed his blood for the country is good enough to be given a square deal afterwards.',\n",
       " 'Kindness is the language which the deaf can hear and the blind can see.',\n",
       " 'Most folks are as happy as they make up their minds to be.',\n",
       " 'A happy marriage is the union of two good forgivers.',\n",
       " 'I believe in Christianity as I believe that the sun has risen: not only because I see it, but because by it I see everything else.',\n",
       " 'Politics is the art of looking for trouble, finding it everywhere, diagnosing it incorrectly and applying the wrong remedies.',\n",
       " \"I believe in everything until it's disproved. So I believe in fairies, the myths, dragons. It all exists, even if it's in your mind. Who's to say that dreams and nightmares aren't as real as the here and now?\",\n",
       " 'At the end of your life, you will never regret not having passed one more test, not winning one more verdict or not closing one more deal. You will regret time not spent with a husband, a friend, a child, or a parent.',\n",
       " 'I never think of the future - it comes soon enough.',\n",
       " \"Our greatest fear should not be of failure but of succeeding at things in life that don't really matter.\",\n",
       " 'Failure is simply the opportunity to begin again, this time more intelligently.',\n",
       " 'Music expresses that which cannot be put into words.',\n",
       " 'Good actions are a guard against the blows of adversity.',\n",
       " 'Positive thinking will let you do everything better than negative thinking will.',\n",
       " \"You have enemies? Good. That means you've stood up for something, sometime in your life.\",\n",
       " \"You don't have to be great to start, but you have to start to be great\",\n",
       " 'Let every nation know, whether it wishes us well or ill, that we shall pay any price, bear any burden, meet any hardship, support any friend, oppose any foe to assure the survival and the success of liberty.',\n",
       " \"If you want total security, go to prison. There you're fed, clothed, given medical care and so on. The only thing lacking... is freedom.\",\n",
       " 'Socialism is a philosophy of failure, the creed of ignorance, and the gospel of envy, its inherent virtue is the equal sharing of misery.',\n",
       " 'It is the supreme art of the teacher to awaken joy in creative expression and knowledge.',\n",
       " \"Once you replace negative thoughts with positive ones, you'll start having positive results.\",\n",
       " \"You build on failure. You use it as a stepping stone. Close the door on the past. You don't try to forget the mistakes, but you don't dwell on it. You don't let it have any of your energy, or any of your time, or any of your space.\",\n",
       " 'All my life through, the new sights of Nature made me rejoice like a child.',\n",
       " \"I've learned that people will forget what you said, people will forget what you did, but people will never forget how you made them feel.\",\n",
       " 'Marriage is not a ritual or an end. It is a long, intricate, intimate dance together and nothing matters more than your own sense of balance and your choice of partner.',\n",
       " 'When obstacles arise, you change your direction to reach your goal; you do not change your decision to get there.',\n",
       " 'Time you enjoy wasting, was not wasted.',\n",
       " 'The next time some academics tell you how important diversity is, ask how many Republicans there are in their sociology department.',\n",
       " 'Faith is not the belief that God will do what you want. It is the belief that God will do what is right.',\n",
       " \"If you can't fly then run, if you can't run then walk, if you can't walk then crawl, but whatever you do you have to keep moving forward.\",\n",
       " 'It is hard to imagine a more stupid or more dangerous way of making decisions than by putting those decisions in the hands of people who pay no price for being wrong.',\n",
       " 'I say that the most liberating thing about beauty is realizing that you are the beholder.',\n",
       " 'The ultimate measure of a man is not where he stands in moments of comfort and convenience, but where he stands at times of challenge and controversy.',\n",
       " 'The soldier, above all other people, prays for peace, for he must suffer and bear the deepest wounds and scars of war.',\n",
       " 'A true leader has the confidence to stand alone, the courage to make tough decisions, and the compassion to listen to the needs of others. He does not set out to be a leader, but becomes one by the equality of his actions and the integrity of his intent.',\n",
       " 'I am a Soldier, I fight where I am told, and I win where I fight.',\n",
       " \"Trying to do the Lord's work in your own strength is the most confusing, exhausting, and tedious of all work. But when you are filled with the Holy Spirit, then the ministry of Jesus just flows out of you.\",\n",
       " \"Sports for me is when a guy walks off the court, and you really can't tell whether he won or lost, when he carries himself with pride either way.\",\n",
       " 'Expect the best. Prepare for the worst. Capitalize on what comes.',\n",
       " 'I became insane, with long intervals of horrible sanity.',\n",
       " 'Failure is a detour, not a dead-end street.',\n",
       " 'I am not a product of my circumstances. I am a product of my decisions.',\n",
       " 'You can cut all the flowers but you cannot keep spring from coming.',\n",
       " \"Life doesn't run away from nobody. Life runs at people.\",\n",
       " 'In order to succeed, your desire for success should be greater than your fear of failure.',\n",
       " \"It's difficult to think anything but pleasant thoughts while eating a homegrown tomato.\",\n",
       " 'Too many of us are not living our dreams because we are living our fears.',\n",
       " 'If the only prayer you ever say in your entire life is thank you, it will be enough.',\n",
       " \"It's just a job. Grass grows, birds fly, waves pound the sand. I beat people up.\",\n",
       " 'A man must be big enough to admit his mistakes, smart enough to profit from them, and strong enough to correct them.',\n",
       " 'Our greatest weakness lies in giving up. The most certain way to succeed is always to try just one more time.',\n",
       " 'This is one small step for a man, one giant leap for mankind.',\n",
       " \"It has been said, 'time heals all wounds.' I do not agree. The wounds remain. In time, the mind, protecting its sanity, covers them with scar tissue and the pain lessens. But it is never gone.\",\n",
       " \"I have held many things in my hands, and I have lost them all; but whatever I have placed in God's hands, that I still possess.\",\n",
       " \"Welfare's purpose should be to eliminate, as far as possible, the need for its own existence.\",\n",
       " 'Each time, before you intercede, be quiet first, and worship God in His glory. Think of what He can do, and how He delights to hear the prayers of His redeemed people. Think of your place and privilege in Christ, and expect great things!',\n",
       " \"Failure is not the opposite of success; it's part of success.\",\n",
       " 'No one has ever become poor by giving.',\n",
       " 'It is not my ability, but my response to God’s ability, that counts.',\n",
       " 'No one is born hating another person because of the color of his skin, or his background, or his religion. People must learn to hate, and if they can learn to hate, they can be taught to love, for love comes more naturally to the human heart than its opposite.',\n",
       " 'No matter what people tell you, words and ideas can change the world.',\n",
       " 'A man should never neglect his family for business.',\n",
       " 'Those who dare to fail miserably can achieve greatly.',\n",
       " 'The two most important days in your life are the day you are born and the day you find out why.',\n",
       " 'We must be global Christians with a global vision because our God is a global God.',\n",
       " 'With everything that has happened to you, you can either feel sorry for yourself or treat what has happened as a gift. Everything is either an opportunity to grow or an obstacle to keep you from growing. You get to choose.',\n",
       " 'Don’t let the noise of others’ opinions drown out your own inner voice.',\n",
       " 'History, despite its wrenching pain, cannot be unlived, but if faced with courage, need not be lived again.',\n",
       " \"How old would you be if you didn't know how old you are?\",\n",
       " 'Leadership is a privilege to better the lives of others. It is not an opportunity to satisfy personal greed.',\n",
       " 'If you have good thoughts they will shine out of your face like sunbeams and you will always look lovely.',\n",
       " 'Never cut a tree down in the wintertime. Never make a negative decision in the low time. Never make your most important decisions when you are in your worst moods. Wait. Be patient. The storm will pass. The spring will come.',\n",
       " 'An optimist stays up until midnight to see the new year in. A pessimist stays up to make sure the old year leaves.',\n",
       " 'When the going gets weird, the weird turn pro.',\n",
       " \"When a train goes through a tunnel and it gets dark, you don't throw away the ticket and jump off. You sit still and trust the engineer.\",\n",
       " 'If you think you are too small to make a difference, try sleeping with a mosquito.',\n",
       " \"God doesn't require us to succeed, he only requires that you try.\",\n",
       " 'Change your thoughts and you change your world.']"
      ]
     },
     "execution_count": 234,
     "metadata": {},
     "output_type": "execute_result"
    }
   ],
   "source": [
    "Quote"
   ]
  },
  {
   "cell_type": "code",
   "execution_count": 228,
   "id": "ef9b0275",
   "metadata": {},
   "outputs": [],
   "source": [
    "type_of_quotes=[]\n",
    "title_tags = driver.find_elements(By.XPATH,'//div[@class=\"tags\"]')\n",
    "for i in title_tags:\n",
    "    title = i.text\n",
    "    type_of_quotes.append(title)"
   ]
  },
  {
   "cell_type": "code",
   "execution_count": 229,
   "id": "3e3f8712",
   "metadata": {},
   "outputs": [
    {
     "data": {
      "text/plain": [
       "['Essence, Deep Thought, Transcendentalism',\n",
       " 'Inspiration, Past, Trying',\n",
       " 'Country, Peace, War',\n",
       " 'Inspirational, Motivational, Death',\n",
       " '4th Of July, Food, Patriotic',\n",
       " 'Inspirational, Success, Basketball',\n",
       " 'Strong, Revenge, Intelligent',\n",
       " 'Inspirational, Teacher, Religious',\n",
       " 'Truth, Honesty, Lying',\n",
       " 'Funny, Reading, Learning',\n",
       " 'Strong, Thoughtful, Compassion',\n",
       " 'Love, Funny, Life',\n",
       " 'Freedom, Men, Democracies Have',\n",
       " 'God, Religious, Atheist',\n",
       " 'Respect, Kindness, Character',\n",
       " 'Inspirational, Motivational, Change',\n",
       " 'Inspirational, Life, Inspiring',\n",
       " 'Love, Inspirational, Life',\n",
       " 'Inspiring, Country, 4th Of July',\n",
       " 'Inspirational, Dream, Hate',\n",
       " 'Love, Inspirational, Life',\n",
       " 'Forgiveness, God, Christian',\n",
       " 'Country, Men, Squares',\n",
       " 'Inspirational, Relationship, Positive',\n",
       " 'Inspirational, Motivational, Positive',\n",
       " 'Love, Friendship, Relationship',\n",
       " 'Faith, God, Christian',\n",
       " 'Art, Freedom, Political Will',\n",
       " 'Inspirational, Life, Faith',\n",
       " 'Inspirational, Life, Meaningful',\n",
       " 'Happiness, Time, Clever',\n",
       " 'Inspirational, Inspiring, Success',\n",
       " 'Love, Inspirational, Life',\n",
       " 'Music, Sound And Music, Musical Life',\n",
       " 'Adversity, Blow, Action',\n",
       " 'Positive, Thinking Of You, Attitude',\n",
       " 'Inspirational, Funny, Life',\n",
       " 'Inspirational, Life, Motivational',\n",
       " 'Inspirational, Memorial Day, Freedom',\n",
       " 'Freedom, Patriotic, Vaccines',\n",
       " 'Philosophy, Ignorance, Democratic Socialism',\n",
       " 'Inspirational, Dance, Education',\n",
       " 'Life, Change, Positive',\n",
       " 'Life, Bullying, Mistake',\n",
       " 'Life, Nature, Children',\n",
       " 'Inspirational, Life, Motivational',\n",
       " 'Marriage, Love You, Long',\n",
       " 'Inspirational, Motivational, Success',\n",
       " 'Love, Inspirational, Life',\n",
       " 'Diversity, Important, Liberty',\n",
       " 'Inspirational, God, Faith',\n",
       " 'Inspirational, Motivational, Inspiring',\n",
       " 'Business, Stupid, Government',\n",
       " 'Beauty, Love Yourself, Your Beautiful',\n",
       " 'Inspirational, Life, Motivational',\n",
       " 'Peace, Military, War',\n",
       " 'Inspirational, Leadership, Confidence',\n",
       " 'Motivational, Military, War',\n",
       " 'Christian, Jesus, Confusing',\n",
       " 'Inspirational, Success, Sports',\n",
       " 'Inspirational, Motivational, Success',\n",
       " 'Inspirational, Life, Clever',\n",
       " 'Inspirational, Death, Failure',\n",
       " 'Inspirational, Life, Motivational',\n",
       " 'Inspiring, Hope, Spring',\n",
       " 'Motivational, Running, People',\n",
       " 'Inspirational, Motivational, Positive',\n",
       " 'Summer, Food, Garden',\n",
       " 'Inspirational, Life, Motivational',\n",
       " 'Inspirational, Life, Thank You',\n",
       " 'Funny, Sports, Jobs',\n",
       " 'Being Strong, Wisdom, Stay Strong',\n",
       " 'Inspirational, Motivational, Positive',\n",
       " 'Motivational, Positive, Moon',\n",
       " 'Time, Pain, Get Well',\n",
       " 'Life, God, Christian',\n",
       " 'President, Needs, Purpose',\n",
       " 'God, Faith, Christian',\n",
       " 'Women, Failure, Successful',\n",
       " 'Inspirational, Morning, Kindness',\n",
       " 'Hiding Place, Ability, Baby Boom',\n",
       " 'Love, Inspirational, Life',\n",
       " 'Inspirational, Change, Philosophy',\n",
       " 'Inspirational, Family, Inspiring',\n",
       " 'Inspirational, Success, Courage',\n",
       " 'Inspirational, Life, Motivational',\n",
       " 'Christian, Vision, Missionary',\n",
       " 'Inspirational, Positive, Regret',\n",
       " 'Love, Inspirational, Life',\n",
       " 'Inspirational, Life, Encouragement',\n",
       " 'Happy Birthday, Baseball, Fun',\n",
       " 'Leadership, Power, Opportunity',\n",
       " 'Inspirational, Life, Positive',\n",
       " 'Inspirational, Encouraging, Patience',\n",
       " 'New Year, Fun, New Beginnings',\n",
       " 'Music, Sports, Hunting',\n",
       " 'Trust, Encouraging, Uplifting',\n",
       " 'Inspirational, Funny, Change',\n",
       " 'Success, God, Mother',\n",
       " 'Inspirational, Motivational, Change']"
      ]
     },
     "execution_count": 229,
     "metadata": {},
     "output_type": "execute_result"
    }
   ],
   "source": [
    "type_of_quotes"
   ]
  },
  {
   "cell_type": "code",
   "execution_count": 230,
   "id": "9f3dab66",
   "metadata": {},
   "outputs": [],
   "source": [
    "Author = []\n",
    "title_tags = driver.find_elements(By.XPATH,'//div[@class=\"author\"]')\n",
    "for i in title_tags:\n",
    "    title = i.text\n",
    "    Author.append(title)"
   ]
  },
  {
   "cell_type": "code",
   "execution_count": 231,
   "id": "f6f3f66e",
   "metadata": {},
   "outputs": [
    {
     "data": {
      "text/plain": [
       "['Michael Porter',\n",
       " 'Golda Meir',\n",
       " 'Theodore Roosevelt',\n",
       " 'Nelson Mandela',\n",
       " 'Erma Bombeck',\n",
       " 'John Wooden',\n",
       " 'Albert Einstein',\n",
       " 'Frank Zappa',\n",
       " 'William Faulkner',\n",
       " 'Will Rogers',\n",
       " 'Jimmy Carter',\n",
       " 'Albert Einstein',\n",
       " 'Abraham Lincoln',\n",
       " 'Steven Weinberg',\n",
       " 'Franklin D. Roosevelt',\n",
       " 'Albert Einstein',\n",
       " 'Maya Angelou',\n",
       " 'Mark Twain',\n",
       " 'Theodore Roosevelt',\n",
       " 'Michael Jackson',\n",
       " 'Martin Luther King, Jr.',\n",
       " 'C. S. Lewis',\n",
       " 'Theodore Roosevelt',\n",
       " 'Mark Twain',\n",
       " 'Abraham Lincoln',\n",
       " 'Ruth Graham',\n",
       " 'C. S. Lewis',\n",
       " 'Groucho Marx',\n",
       " 'John Lennon',\n",
       " 'Barbara Bush',\n",
       " 'Albert Einstein',\n",
       " 'Francis Chan',\n",
       " 'Henry Ford',\n",
       " 'Victor Hugo',\n",
       " 'Abu Bakr',\n",
       " 'Zig Ziglar',\n",
       " 'Winston Churchill',\n",
       " 'Zig Ziglar',\n",
       " 'John F. Kennedy',\n",
       " 'Dwight D. Eisenhower',\n",
       " 'Winston Churchill',\n",
       " 'Albert Einstein',\n",
       " 'Willie Nelson',\n",
       " 'Johnny Cash',\n",
       " 'Marie Curie',\n",
       " 'Maya Angelou',\n",
       " 'Amy Bloom',\n",
       " 'Zig Ziglar',\n",
       " 'John Lennon',\n",
       " 'Thomas Sowell',\n",
       " 'Max Lucado',\n",
       " 'Martin Luther King, Jr.',\n",
       " 'Thomas Sowell',\n",
       " 'Salma Hayek',\n",
       " 'Martin Luther King, Jr.',\n",
       " 'Douglas MacArthur',\n",
       " 'Douglas MacArthur',\n",
       " 'George S. Patton',\n",
       " 'Corrie Ten Boom',\n",
       " 'Jim Courier',\n",
       " 'Zig Ziglar',\n",
       " 'Edgar Allan Poe',\n",
       " 'Zig Ziglar',\n",
       " 'Stephen Covey',\n",
       " 'Pablo Neruda',\n",
       " 'Joe Frazier',\n",
       " 'Bill Cosby',\n",
       " 'Lewis Grizzard',\n",
       " 'Les Brown',\n",
       " 'Meister Eckhart',\n",
       " 'Muhammad Ali',\n",
       " 'John C. Maxwell',\n",
       " 'Thomas A. Edison',\n",
       " 'Neil Armstrong',\n",
       " 'Rose Kennedy',\n",
       " 'Martin Luther',\n",
       " 'Ronald Reagan',\n",
       " 'Andrew Murray',\n",
       " 'Arianna Huffington',\n",
       " 'Anne Frank',\n",
       " 'Corrie Ten Boom',\n",
       " 'Nelson Mandela',\n",
       " 'Robin Williams',\n",
       " 'Walt Disney',\n",
       " 'John F. Kennedy',\n",
       " 'Mark Twain',\n",
       " 'John Stott',\n",
       " 'Wayne Dyer',\n",
       " 'Steve Jobs',\n",
       " 'Maya Angelou',\n",
       " 'Satchel Paige',\n",
       " 'Mwai Kibaki',\n",
       " 'Roald Dahl',\n",
       " 'Robert H. Schuller',\n",
       " 'Bill Vaughan',\n",
       " 'Hunter S. Thompson',\n",
       " 'Corrie Ten Boom',\n",
       " 'Dalai Lama',\n",
       " 'Mother Teresa',\n",
       " 'Norman Vincent Peale']"
      ]
     },
     "execution_count": 231,
     "metadata": {},
     "output_type": "execute_result"
    }
   ],
   "source": [
    "Author"
   ]
  },
  {
   "cell_type": "code",
   "execution_count": 235,
   "id": "bc85163e",
   "metadata": {},
   "outputs": [],
   "source": [
    "df = pd.DataFrame({'QUOTE':Quote,'AUTHOR':Author,'TYPE_OF_QUOTE':type_of_quotes})"
   ]
  },
  {
   "cell_type": "code",
   "execution_count": 236,
   "id": "de4bfce6",
   "metadata": {},
   "outputs": [
    {
     "data": {
      "text/html": [
       "<div>\n",
       "<style scoped>\n",
       "    .dataframe tbody tr th:only-of-type {\n",
       "        vertical-align: middle;\n",
       "    }\n",
       "\n",
       "    .dataframe tbody tr th {\n",
       "        vertical-align: top;\n",
       "    }\n",
       "\n",
       "    .dataframe thead th {\n",
       "        text-align: right;\n",
       "    }\n",
       "</style>\n",
       "<table border=\"1\" class=\"dataframe\">\n",
       "  <thead>\n",
       "    <tr style=\"text-align: right;\">\n",
       "      <th></th>\n",
       "      <th>QUOTE</th>\n",
       "      <th>AUTHOR</th>\n",
       "      <th>TYPE_OF_QUOTE</th>\n",
       "    </tr>\n",
       "  </thead>\n",
       "  <tbody>\n",
       "    <tr>\n",
       "      <th>0</th>\n",
       "      <td>The essence of strategy is choosing what not t...</td>\n",
       "      <td>Michael Porter</td>\n",
       "      <td>Essence, Deep Thought, Transcendentalism</td>\n",
       "    </tr>\n",
       "    <tr>\n",
       "      <th>1</th>\n",
       "      <td>One cannot and must not try to erase the past ...</td>\n",
       "      <td>Golda Meir</td>\n",
       "      <td>Inspiration, Past, Trying</td>\n",
       "    </tr>\n",
       "    <tr>\n",
       "      <th>2</th>\n",
       "      <td>Patriotism means to stand by the country. It d...</td>\n",
       "      <td>Theodore Roosevelt</td>\n",
       "      <td>Country, Peace, War</td>\n",
       "    </tr>\n",
       "    <tr>\n",
       "      <th>3</th>\n",
       "      <td>Death is something inevitable. When a man has ...</td>\n",
       "      <td>Nelson Mandela</td>\n",
       "      <td>Inspirational, Motivational, Death</td>\n",
       "    </tr>\n",
       "    <tr>\n",
       "      <th>4</th>\n",
       "      <td>You have to love a nation that celebrates its ...</td>\n",
       "      <td>Erma Bombeck</td>\n",
       "      <td>4th Of July, Food, Patriotic</td>\n",
       "    </tr>\n",
       "    <tr>\n",
       "      <th>...</th>\n",
       "      <td>...</td>\n",
       "      <td>...</td>\n",
       "      <td>...</td>\n",
       "    </tr>\n",
       "    <tr>\n",
       "      <th>95</th>\n",
       "      <td>When the going gets weird, the weird turn pro.</td>\n",
       "      <td>Hunter S. Thompson</td>\n",
       "      <td>Music, Sports, Hunting</td>\n",
       "    </tr>\n",
       "    <tr>\n",
       "      <th>96</th>\n",
       "      <td>When a train goes through a tunnel and it gets...</td>\n",
       "      <td>Corrie Ten Boom</td>\n",
       "      <td>Trust, Encouraging, Uplifting</td>\n",
       "    </tr>\n",
       "    <tr>\n",
       "      <th>97</th>\n",
       "      <td>If you think you are too small to make a diffe...</td>\n",
       "      <td>Dalai Lama</td>\n",
       "      <td>Inspirational, Funny, Change</td>\n",
       "    </tr>\n",
       "    <tr>\n",
       "      <th>98</th>\n",
       "      <td>God doesn't require us to succeed, he only req...</td>\n",
       "      <td>Mother Teresa</td>\n",
       "      <td>Success, God, Mother</td>\n",
       "    </tr>\n",
       "    <tr>\n",
       "      <th>99</th>\n",
       "      <td>Change your thoughts and you change your world.</td>\n",
       "      <td>Norman Vincent Peale</td>\n",
       "      <td>Inspirational, Motivational, Change</td>\n",
       "    </tr>\n",
       "  </tbody>\n",
       "</table>\n",
       "<p>100 rows × 3 columns</p>\n",
       "</div>"
      ],
      "text/plain": [
       "                                                QUOTE                AUTHOR  \\\n",
       "0   The essence of strategy is choosing what not t...        Michael Porter   \n",
       "1   One cannot and must not try to erase the past ...            Golda Meir   \n",
       "2   Patriotism means to stand by the country. It d...    Theodore Roosevelt   \n",
       "3   Death is something inevitable. When a man has ...        Nelson Mandela   \n",
       "4   You have to love a nation that celebrates its ...          Erma Bombeck   \n",
       "..                                                ...                   ...   \n",
       "95     When the going gets weird, the weird turn pro.    Hunter S. Thompson   \n",
       "96  When a train goes through a tunnel and it gets...       Corrie Ten Boom   \n",
       "97  If you think you are too small to make a diffe...            Dalai Lama   \n",
       "98  God doesn't require us to succeed, he only req...         Mother Teresa   \n",
       "99    Change your thoughts and you change your world.  Norman Vincent Peale   \n",
       "\n",
       "                               TYPE_OF_QUOTE  \n",
       "0   Essence, Deep Thought, Transcendentalism  \n",
       "1                  Inspiration, Past, Trying  \n",
       "2                        Country, Peace, War  \n",
       "3         Inspirational, Motivational, Death  \n",
       "4               4th Of July, Food, Patriotic  \n",
       "..                                       ...  \n",
       "95                    Music, Sports, Hunting  \n",
       "96             Trust, Encouraging, Uplifting  \n",
       "97              Inspirational, Funny, Change  \n",
       "98                      Success, God, Mother  \n",
       "99       Inspirational, Motivational, Change  \n",
       "\n",
       "[100 rows x 3 columns]"
      ]
     },
     "execution_count": 236,
     "metadata": {},
     "output_type": "execute_result"
    }
   ],
   "source": [
    "df"
   ]
  },
  {
   "cell_type": "markdown",
   "id": "fb54b653",
   "metadata": {},
   "source": [
    "9.QUESTION--> SOLUTION-->"
   ]
  },
  {
   "cell_type": "code",
   "execution_count": 1,
   "id": "e79035d8",
   "metadata": {},
   "outputs": [],
   "source": [
    "from selenium import webdriver\n",
    "from selenium.webdriver.common.by import By"
   ]
  },
  {
   "cell_type": "code",
   "execution_count": 2,
   "id": "0b793a26",
   "metadata": {},
   "outputs": [
    {
     "name": "stderr",
     "output_type": "stream",
     "text": [
      "There was an error managing chromedriver (error sending request for url (https://googlechromelabs.github.io/chrome-for-testing/known-good-versions-with-downloads.json): error trying to connect: dns error: No such host is known. (os error 11001)); using driver found in the cache\n"
     ]
    }
   ],
   "source": [
    "driver = webdriver.Chrome()\n",
    "url = \"http://www.jagranjosh.com/\"\n",
    "driver.get(url)"
   ]
  },
  {
   "cell_type": "code",
   "execution_count": 3,
   "id": "e5d92946",
   "metadata": {},
   "outputs": [],
   "source": [
    "search = driver.find_element(By.XPATH, '//div[@class=\"Header_topNav__NnKZp\"]/ul/li[3]/a')"
   ]
  },
  {
   "cell_type": "code",
   "execution_count": 4,
   "id": "9ebcd984",
   "metadata": {},
   "outputs": [],
   "source": [
    "search.click()"
   ]
  },
  {
   "cell_type": "code",
   "execution_count": 5,
   "id": "b77ab113",
   "metadata": {},
   "outputs": [],
   "source": [
    "link = driver.find_element(By.XPATH, '//a[@href=\"https://www.jagranjosh.com/general-knowledge/list-of-all-prime-ministers-of-india-1473165149-1\"]')"
   ]
  },
  {
   "cell_type": "code",
   "execution_count": 6,
   "id": "7a4e5d8e",
   "metadata": {},
   "outputs": [],
   "source": [
    "link.click()                "
   ]
  },
  {
   "cell_type": "code",
   "execution_count": 7,
   "id": "d653ef33",
   "metadata": {},
   "outputs": [],
   "source": [
    "table_body = driver.find_element(By.XPATH,'//div[@class=\"TableData\"]/table/tbody[1]')"
   ]
  },
  {
   "cell_type": "code",
   "execution_count": 8,
   "id": "58be3248",
   "metadata": {},
   "outputs": [],
   "source": [
    "data = []"
   ]
  },
  {
   "cell_type": "code",
   "execution_count": 9,
   "id": "64a71b10",
   "metadata": {},
   "outputs": [],
   "source": [
    "for tr in table_body.find_elements(By.XPATH, '//tr'):\n",
    "    row = [item.text for item in tr.find_elements(By.XPATH, './/td')]\n",
    "    data.append(row)"
   ]
  },
  {
   "cell_type": "code",
   "execution_count": 10,
   "id": "42649959",
   "metadata": {},
   "outputs": [
    {
     "data": {
      "text/plain": [
       "[[],\n",
       " ['1.',\n",
       "  'Jawahar Lal Nehru',\n",
       "  '(1889–1964)',\n",
       "  '15 August 1947 to 27 May 1964\\n16 years, 286 days',\n",
       "  'The first prime minister of India and the longest-serving PM of India, the first to die in office.'],\n",
       " ['2.',\n",
       "  'Gulzarilal Nanda (Acting)',\n",
       "  '(1898-1998)',\n",
       "  '27 May 1964 to 9 June 1964,\\n13 days',\n",
       "  'First acting PM of India'],\n",
       " ['3.',\n",
       "  'Lal Bahadur Shastri',\n",
       "  '(1904–1966)',\n",
       "  '9 June 1964 to 11 January 1966\\n1 year, 216 days',\n",
       "  \"He has given the slogan of 'Jai Jawan Jai Kisan' during the Indo-Pak war of 1965\"],\n",
       " ['4. ',\n",
       "  'Gulzari Lal Nanda  (Acting)',\n",
       "  '(1898-1998)',\n",
       "  '11 January 1966 to 24 January 1966\\n13 days',\n",
       "  '-'],\n",
       " ['5.',\n",
       "  'Indira Gandhi',\n",
       "  '(1917–1984)',\n",
       "  '24 January 1966 to 24 March 1977\\n11 years, 59 days',\n",
       "  'First female Prime Minister of India'],\n",
       " ['6.',\n",
       "  'Morarji Desai',\n",
       "  '(1896–1995)',\n",
       "  '24 March 1977 to  28 July 1979 \\n2 year, 126 days',\n",
       "  'Oldest to become PM (81 years old) and first to resign from office'],\n",
       " ['7.',\n",
       "  'Charan Singh',\n",
       "  '(1902–1987)',\n",
       "  '28 July 1979 to 14 January 1980\\n170 days',\n",
       "  'Only PM who did not face the Parliament'],\n",
       " ['8.',\n",
       "  'Indira Gandhi',\n",
       "  '(1917–1984)',\n",
       "  '14 January 1980 to 31 October 1984\\n4 years, 291 days',\n",
       "  'The first lady who served as PM for the second term'],\n",
       " ['9.',\n",
       "  'Rajiv Gandhi',\n",
       "  '(1944–1991)',\n",
       "  '31 October 1984 to 2 December 1989\\n5 years, 32 days',\n",
       "  'Youngest to become PM (40 years old)'],\n",
       " ['10.',\n",
       "  'V. P. Singh',\n",
       "  '(1931–2008)',\n",
       "  '2 December 1989 to 10 November 1990\\n343 days',\n",
       "  'First PM to step down after a vote of no confidence'],\n",
       " ['11.',\n",
       "  'Chandra Shekhar',\n",
       "  '(1927–2007)',\n",
       "  '10 November 1990 to 21 June 1991\\n223 days',\n",
       "  'He belongs to  Samajwadi Janata Party'],\n",
       " ['12.',\n",
       "  'P. V. Narasimha Rao',\n",
       "  '(1921–2004)',\n",
       "  '21 June 1991 to 16 May 1996\\n4 years, 330 days',\n",
       "  'First PM from South India'],\n",
       " ['13.',\n",
       "  'Atal Bihari Vajpayee',\n",
       "  '(1924- 2018)',\n",
       "  '16 May 1996 to 1 June 1996\\n16 days',\n",
       "  'PM for shortest tenure'],\n",
       " ['14.',\n",
       "  'H. D. Deve Gowda',\n",
       "  '(born 1933)',\n",
       "  '1 June 1996 to 21 April 1997\\n324 days',\n",
       "  'He belongs to  Janata Dal'],\n",
       " ['15.',\n",
       "  'Inder Kumar Gujral',\n",
       "  '(1919–2012)',\n",
       "  '21 April 1997 to 19 March 1998 \\n332 days',\n",
       "  '------'],\n",
       " ['16.',\n",
       "  'Atal Bihari Vajpayee',\n",
       "  '(1924-2018)',\n",
       "  '19 March 1998 to 22 May 2004 \\n6 years, 64 days',\n",
       "  ' The first non-congress PM who completed a full term as PM'],\n",
       " ['17.',\n",
       "  'Manmohan Singh',\n",
       "  '(born 1932)',\n",
       "  '22 May 2004 to 26 May 2014   \\n10 years, 4 days',\n",
       "  ' First Sikh PM'],\n",
       " ['18.',\n",
       "  'Narendra Modi',\n",
       "  '(born 1950)',\n",
       "  '26 May 2014 - 2019',\n",
       "  '4th Prime Minister of India who served two consecutive tenures'],\n",
       " ['19.',\n",
       "  'Narendra Modi',\n",
       "  '(born 1950)',\n",
       "  '30 May 2019- Incumbent',\n",
       "  'First non-congress PM with two consecutive tenures'],\n",
       " ['List of all Presidents of India',\n",
       "  'List of Nicknames of Indian Prime Ministers']]"
      ]
     },
     "execution_count": 10,
     "metadata": {},
     "output_type": "execute_result"
    }
   ],
   "source": [
    "data"
   ]
  },
  {
   "cell_type": "code",
   "execution_count": 24,
   "id": "1da43bb0",
   "metadata": {},
   "outputs": [],
   "source": [
    "import pandas as pd\n",
    "df = pd.DataFrame(data[1:20], columns=['S.N.','Name', 'Born-Dead', 'Term of Office', 'Remarks'],)"
   ]
  },
  {
   "cell_type": "code",
   "execution_count": 25,
   "id": "6a606492",
   "metadata": {},
   "outputs": [
    {
     "data": {
      "text/html": [
       "<div>\n",
       "<style scoped>\n",
       "    .dataframe tbody tr th:only-of-type {\n",
       "        vertical-align: middle;\n",
       "    }\n",
       "\n",
       "    .dataframe tbody tr th {\n",
       "        vertical-align: top;\n",
       "    }\n",
       "\n",
       "    .dataframe thead th {\n",
       "        text-align: right;\n",
       "    }\n",
       "</style>\n",
       "<table border=\"1\" class=\"dataframe\">\n",
       "  <thead>\n",
       "    <tr style=\"text-align: right;\">\n",
       "      <th></th>\n",
       "      <th>S.N.</th>\n",
       "      <th>Name</th>\n",
       "      <th>Born-Dead</th>\n",
       "      <th>Term of Office</th>\n",
       "      <th>Remarks</th>\n",
       "    </tr>\n",
       "  </thead>\n",
       "  <tbody>\n",
       "    <tr>\n",
       "      <th>0</th>\n",
       "      <td>1.</td>\n",
       "      <td>Jawahar Lal Nehru</td>\n",
       "      <td>(1889–1964)</td>\n",
       "      <td>15 August 1947 to 27 May 1964\\n16 years, 286 days</td>\n",
       "      <td>The first prime minister of India and the long...</td>\n",
       "    </tr>\n",
       "    <tr>\n",
       "      <th>1</th>\n",
       "      <td>2.</td>\n",
       "      <td>Gulzarilal Nanda (Acting)</td>\n",
       "      <td>(1898-1998)</td>\n",
       "      <td>27 May 1964 to 9 June 1964,\\n13 days</td>\n",
       "      <td>First acting PM of India</td>\n",
       "    </tr>\n",
       "    <tr>\n",
       "      <th>2</th>\n",
       "      <td>3.</td>\n",
       "      <td>Lal Bahadur Shastri</td>\n",
       "      <td>(1904–1966)</td>\n",
       "      <td>9 June 1964 to 11 January 1966\\n1 year, 216 days</td>\n",
       "      <td>He has given the slogan of 'Jai Jawan Jai Kisa...</td>\n",
       "    </tr>\n",
       "    <tr>\n",
       "      <th>3</th>\n",
       "      <td>4.</td>\n",
       "      <td>Gulzari Lal Nanda  (Acting)</td>\n",
       "      <td>(1898-1998)</td>\n",
       "      <td>11 January 1966 to 24 January 1966\\n13 days</td>\n",
       "      <td>-</td>\n",
       "    </tr>\n",
       "    <tr>\n",
       "      <th>4</th>\n",
       "      <td>5.</td>\n",
       "      <td>Indira Gandhi</td>\n",
       "      <td>(1917–1984)</td>\n",
       "      <td>24 January 1966 to 24 March 1977\\n11 years, 59...</td>\n",
       "      <td>First female Prime Minister of India</td>\n",
       "    </tr>\n",
       "    <tr>\n",
       "      <th>5</th>\n",
       "      <td>6.</td>\n",
       "      <td>Morarji Desai</td>\n",
       "      <td>(1896–1995)</td>\n",
       "      <td>24 March 1977 to  28 July 1979 \\n2 year, 126 days</td>\n",
       "      <td>Oldest to become PM (81 years old) and first t...</td>\n",
       "    </tr>\n",
       "    <tr>\n",
       "      <th>6</th>\n",
       "      <td>7.</td>\n",
       "      <td>Charan Singh</td>\n",
       "      <td>(1902–1987)</td>\n",
       "      <td>28 July 1979 to 14 January 1980\\n170 days</td>\n",
       "      <td>Only PM who did not face the Parliament</td>\n",
       "    </tr>\n",
       "    <tr>\n",
       "      <th>7</th>\n",
       "      <td>8.</td>\n",
       "      <td>Indira Gandhi</td>\n",
       "      <td>(1917–1984)</td>\n",
       "      <td>14 January 1980 to 31 October 1984\\n4 years, 2...</td>\n",
       "      <td>The first lady who served as PM for the second...</td>\n",
       "    </tr>\n",
       "    <tr>\n",
       "      <th>8</th>\n",
       "      <td>9.</td>\n",
       "      <td>Rajiv Gandhi</td>\n",
       "      <td>(1944–1991)</td>\n",
       "      <td>31 October 1984 to 2 December 1989\\n5 years, 3...</td>\n",
       "      <td>Youngest to become PM (40 years old)</td>\n",
       "    </tr>\n",
       "    <tr>\n",
       "      <th>9</th>\n",
       "      <td>10.</td>\n",
       "      <td>V. P. Singh</td>\n",
       "      <td>(1931–2008)</td>\n",
       "      <td>2 December 1989 to 10 November 1990\\n343 days</td>\n",
       "      <td>First PM to step down after a vote of no confi...</td>\n",
       "    </tr>\n",
       "    <tr>\n",
       "      <th>10</th>\n",
       "      <td>11.</td>\n",
       "      <td>Chandra Shekhar</td>\n",
       "      <td>(1927–2007)</td>\n",
       "      <td>10 November 1990 to 21 June 1991\\n223 days</td>\n",
       "      <td>He belongs to  Samajwadi Janata Party</td>\n",
       "    </tr>\n",
       "    <tr>\n",
       "      <th>11</th>\n",
       "      <td>12.</td>\n",
       "      <td>P. V. Narasimha Rao</td>\n",
       "      <td>(1921–2004)</td>\n",
       "      <td>21 June 1991 to 16 May 1996\\n4 years, 330 days</td>\n",
       "      <td>First PM from South India</td>\n",
       "    </tr>\n",
       "    <tr>\n",
       "      <th>12</th>\n",
       "      <td>13.</td>\n",
       "      <td>Atal Bihari Vajpayee</td>\n",
       "      <td>(1924- 2018)</td>\n",
       "      <td>16 May 1996 to 1 June 1996\\n16 days</td>\n",
       "      <td>PM for shortest tenure</td>\n",
       "    </tr>\n",
       "    <tr>\n",
       "      <th>13</th>\n",
       "      <td>14.</td>\n",
       "      <td>H. D. Deve Gowda</td>\n",
       "      <td>(born 1933)</td>\n",
       "      <td>1 June 1996 to 21 April 1997\\n324 days</td>\n",
       "      <td>He belongs to  Janata Dal</td>\n",
       "    </tr>\n",
       "    <tr>\n",
       "      <th>14</th>\n",
       "      <td>15.</td>\n",
       "      <td>Inder Kumar Gujral</td>\n",
       "      <td>(1919–2012)</td>\n",
       "      <td>21 April 1997 to 19 March 1998 \\n332 days</td>\n",
       "      <td>------</td>\n",
       "    </tr>\n",
       "    <tr>\n",
       "      <th>15</th>\n",
       "      <td>16.</td>\n",
       "      <td>Atal Bihari Vajpayee</td>\n",
       "      <td>(1924-2018)</td>\n",
       "      <td>19 March 1998 to 22 May 2004 \\n6 years, 64 days</td>\n",
       "      <td>The first non-congress PM who completed a ful...</td>\n",
       "    </tr>\n",
       "    <tr>\n",
       "      <th>16</th>\n",
       "      <td>17.</td>\n",
       "      <td>Manmohan Singh</td>\n",
       "      <td>(born 1932)</td>\n",
       "      <td>22 May 2004 to 26 May 2014   \\n10 years, 4 days</td>\n",
       "      <td>First Sikh PM</td>\n",
       "    </tr>\n",
       "    <tr>\n",
       "      <th>17</th>\n",
       "      <td>18.</td>\n",
       "      <td>Narendra Modi</td>\n",
       "      <td>(born 1950)</td>\n",
       "      <td>26 May 2014 - 2019</td>\n",
       "      <td>4th Prime Minister of India who served two con...</td>\n",
       "    </tr>\n",
       "    <tr>\n",
       "      <th>18</th>\n",
       "      <td>19.</td>\n",
       "      <td>Narendra Modi</td>\n",
       "      <td>(born 1950)</td>\n",
       "      <td>30 May 2019- Incumbent</td>\n",
       "      <td>First non-congress PM with two consecutive ten...</td>\n",
       "    </tr>\n",
       "  </tbody>\n",
       "</table>\n",
       "</div>"
      ],
      "text/plain": [
       "   S.N.                         Name     Born-Dead  \\\n",
       "0    1.            Jawahar Lal Nehru   (1889–1964)   \n",
       "1    2.    Gulzarilal Nanda (Acting)   (1898-1998)   \n",
       "2    3.          Lal Bahadur Shastri   (1904–1966)   \n",
       "3   4.   Gulzari Lal Nanda  (Acting)   (1898-1998)   \n",
       "4    5.                Indira Gandhi   (1917–1984)   \n",
       "5    6.                Morarji Desai   (1896–1995)   \n",
       "6    7.                 Charan Singh   (1902–1987)   \n",
       "7    8.                Indira Gandhi   (1917–1984)   \n",
       "8    9.                 Rajiv Gandhi   (1944–1991)   \n",
       "9   10.                  V. P. Singh   (1931–2008)   \n",
       "10  11.              Chandra Shekhar   (1927–2007)   \n",
       "11  12.          P. V. Narasimha Rao   (1921–2004)   \n",
       "12  13.         Atal Bihari Vajpayee  (1924- 2018)   \n",
       "13  14.             H. D. Deve Gowda   (born 1933)   \n",
       "14  15.           Inder Kumar Gujral   (1919–2012)   \n",
       "15  16.         Atal Bihari Vajpayee   (1924-2018)   \n",
       "16  17.               Manmohan Singh   (born 1932)   \n",
       "17  18.                Narendra Modi   (born 1950)   \n",
       "18  19.                Narendra Modi   (born 1950)   \n",
       "\n",
       "                                       Term of Office  \\\n",
       "0   15 August 1947 to 27 May 1964\\n16 years, 286 days   \n",
       "1                27 May 1964 to 9 June 1964,\\n13 days   \n",
       "2    9 June 1964 to 11 January 1966\\n1 year, 216 days   \n",
       "3         11 January 1966 to 24 January 1966\\n13 days   \n",
       "4   24 January 1966 to 24 March 1977\\n11 years, 59...   \n",
       "5   24 March 1977 to  28 July 1979 \\n2 year, 126 days   \n",
       "6           28 July 1979 to 14 January 1980\\n170 days   \n",
       "7   14 January 1980 to 31 October 1984\\n4 years, 2...   \n",
       "8   31 October 1984 to 2 December 1989\\n5 years, 3...   \n",
       "9       2 December 1989 to 10 November 1990\\n343 days   \n",
       "10         10 November 1990 to 21 June 1991\\n223 days   \n",
       "11     21 June 1991 to 16 May 1996\\n4 years, 330 days   \n",
       "12                16 May 1996 to 1 June 1996\\n16 days   \n",
       "13             1 June 1996 to 21 April 1997\\n324 days   \n",
       "14          21 April 1997 to 19 March 1998 \\n332 days   \n",
       "15    19 March 1998 to 22 May 2004 \\n6 years, 64 days   \n",
       "16    22 May 2004 to 26 May 2014   \\n10 years, 4 days   \n",
       "17                                 26 May 2014 - 2019   \n",
       "18                             30 May 2019- Incumbent   \n",
       "\n",
       "                                              Remarks  \n",
       "0   The first prime minister of India and the long...  \n",
       "1                            First acting PM of India  \n",
       "2   He has given the slogan of 'Jai Jawan Jai Kisa...  \n",
       "3                                                   -  \n",
       "4                First female Prime Minister of India  \n",
       "5   Oldest to become PM (81 years old) and first t...  \n",
       "6             Only PM who did not face the Parliament  \n",
       "7   The first lady who served as PM for the second...  \n",
       "8                Youngest to become PM (40 years old)  \n",
       "9   First PM to step down after a vote of no confi...  \n",
       "10              He belongs to  Samajwadi Janata Party  \n",
       "11                          First PM from South India  \n",
       "12                             PM for shortest tenure  \n",
       "13                          He belongs to  Janata Dal  \n",
       "14                                             ------  \n",
       "15   The first non-congress PM who completed a ful...  \n",
       "16                                      First Sikh PM  \n",
       "17  4th Prime Minister of India who served two con...  \n",
       "18  First non-congress PM with two consecutive ten...  "
      ]
     },
     "execution_count": 25,
     "metadata": {},
     "output_type": "execute_result"
    }
   ],
   "source": [
    "df"
   ]
  },
  {
   "cell_type": "markdown",
   "id": "cccc8606",
   "metadata": {},
   "source": [
    "10.QUESTION--> SOLUTION-->"
   ]
  },
  {
   "cell_type": "code",
   "execution_count": 27,
   "id": "a22cf94c",
   "metadata": {},
   "outputs": [],
   "source": [
    "from selenium import webdriver\n",
    "from selenium.webdriver.common.by import By"
   ]
  },
  {
   "cell_type": "code",
   "execution_count": 28,
   "id": "73fbd130",
   "metadata": {},
   "outputs": [
    {
     "name": "stderr",
     "output_type": "stream",
     "text": [
      "There was an error managing chromedriver (error sending request for url (https://googlechromelabs.github.io/chrome-for-testing/known-good-versions-with-downloads.json): error trying to connect: dns error: No such host is known. (os error 11001)); using driver found in the cache\n"
     ]
    }
   ],
   "source": [
    "driver = webdriver.Chrome()\n",
    "url = \"https://www.motor1.com/\"\n",
    "driver.get(url)"
   ]
  },
  {
   "cell_type": "code",
   "execution_count": 29,
   "id": "4f14d3a6",
   "metadata": {},
   "outputs": [],
   "source": [
    "search = driver.find_element(By.XPATH, '//input[@class=\"m1-search-panel-input m1-search-form-text\"]')"
   ]
  },
  {
   "cell_type": "code",
   "execution_count": 30,
   "id": "e6906566",
   "metadata": {},
   "outputs": [],
   "source": [
    "search.send_keys('50 most expensive cars')"
   ]
  },
  {
   "cell_type": "code",
   "execution_count": 31,
   "id": "c6d6406f",
   "metadata": {},
   "outputs": [],
   "source": [
    "search_button  = driver.find_element(By.XPATH, '//button[@class=\"m1-search-panel-button m1-search-form-button-animate icon-search-svg\"]')"
   ]
  },
  {
   "cell_type": "code",
   "execution_count": 32,
   "id": "3d19a08f",
   "metadata": {},
   "outputs": [],
   "source": [
    "search_button.click()"
   ]
  },
  {
   "cell_type": "code",
   "execution_count": 33,
   "id": "aaf454f1",
   "metadata": {},
   "outputs": [],
   "source": [
    "search_info = driver.find_element(By.XPATH, '//div[@class=\"item wcom \"]/div/div/h3/a')"
   ]
  },
  {
   "cell_type": "code",
   "execution_count": 34,
   "id": "ebfba445",
   "metadata": {},
   "outputs": [],
   "source": [
    "search_info.click()"
   ]
  },
  {
   "cell_type": "code",
   "execution_count": 35,
   "id": "81f322d6",
   "metadata": {},
   "outputs": [],
   "source": [
    "Cars = []\n",
    "title_tags = driver.find_elements(By.XPATH, '//h3[@class=\"subheader\"]')\n",
    "for i in title_tags[:50]:\n",
    "    title = i.text\n",
    "    Cars.append(title)"
   ]
  },
  {
   "cell_type": "code",
   "execution_count": 36,
   "id": "42e9a5e6",
   "metadata": {},
   "outputs": [
    {
     "data": {
      "text/plain": [
       "['Aston Martin Valour',\n",
       " 'McLaren Elva',\n",
       " 'Czinger 21C',\n",
       " 'Ferrari Monza',\n",
       " 'Gordon Murray T.33',\n",
       " 'Koenigsegg Gemera',\n",
       " 'Zenvo TSR-S',\n",
       " 'Hennessey Venom F5',\n",
       " 'Bentley Bacalar',\n",
       " 'Hispano Suiza Carmen Boulogne',\n",
       " 'Bentley Mulliner Batur',\n",
       " 'Deus Vayanne',\n",
       " 'SSC Tuatara',\n",
       " 'Lotus Evija',\n",
       " 'Aston Martin Vulcan',\n",
       " 'Delage D12',\n",
       " 'Ferrari Daytona SP3',\n",
       " 'McLaren Speedtail',\n",
       " 'Rimac Nevera',\n",
       " 'Pagani Utopia',\n",
       " 'Pininfarina Battista',\n",
       " 'Gordon Murray T.50',\n",
       " 'Lamborghini Countach',\n",
       " 'Mercedes-AMG Project One',\n",
       " 'Zenvo Aurora',\n",
       " 'Aston Martin Victor',\n",
       " 'Hennessey Venom F5 Roadster',\n",
       " 'Koenigsegg Jesko',\n",
       " 'Aston Martin Valkyrie',\n",
       " 'W Motors Lykan Hypersport',\n",
       " 'McLaren Solus',\n",
       " 'Lamborghini Sian',\n",
       " 'Koenigsegg CC850',\n",
       " 'Bugatti Chiron Super Sport 300+',\n",
       " 'Lamborghini Veneno',\n",
       " 'Bugatti Bolide',\n",
       " 'Pininfarina B95 Speedster',\n",
       " 'Bugatti Mistral',\n",
       " 'Pagani Huayra Imola',\n",
       " 'Bugatti Divo',\n",
       " 'SP Automotive Chaos',\n",
       " 'Pagani Codalunga',\n",
       " '777 Hypercar',\n",
       " 'Mercedes-Maybach Exelero',\n",
       " 'Bugatti Centodieci',\n",
       " 'Bugatti Chiron Profilée',\n",
       " 'Rolls-Royce Sweptail',\n",
       " 'Bugatti La Voiture Noire',\n",
       " 'Rolls-Royce Boat Tail*',\n",
       " 'Rolls-Royce La Rose Noire Droptail']"
      ]
     },
     "execution_count": 36,
     "metadata": {},
     "output_type": "execute_result"
    }
   ],
   "source": [
    "Cars"
   ]
  },
  {
   "cell_type": "code",
   "execution_count": 37,
   "id": "c9ec7fe3",
   "metadata": {},
   "outputs": [],
   "source": [
    "df = pd.DataFrame(Cars, columns=['Cars'])"
   ]
  },
  {
   "cell_type": "code",
   "execution_count": 38,
   "id": "0517ac94",
   "metadata": {},
   "outputs": [
    {
     "data": {
      "text/html": [
       "<div>\n",
       "<style scoped>\n",
       "    .dataframe tbody tr th:only-of-type {\n",
       "        vertical-align: middle;\n",
       "    }\n",
       "\n",
       "    .dataframe tbody tr th {\n",
       "        vertical-align: top;\n",
       "    }\n",
       "\n",
       "    .dataframe thead th {\n",
       "        text-align: right;\n",
       "    }\n",
       "</style>\n",
       "<table border=\"1\" class=\"dataframe\">\n",
       "  <thead>\n",
       "    <tr style=\"text-align: right;\">\n",
       "      <th></th>\n",
       "      <th>Cars</th>\n",
       "    </tr>\n",
       "  </thead>\n",
       "  <tbody>\n",
       "    <tr>\n",
       "      <th>0</th>\n",
       "      <td>Aston Martin Valour</td>\n",
       "    </tr>\n",
       "    <tr>\n",
       "      <th>1</th>\n",
       "      <td>McLaren Elva</td>\n",
       "    </tr>\n",
       "    <tr>\n",
       "      <th>2</th>\n",
       "      <td>Czinger 21C</td>\n",
       "    </tr>\n",
       "    <tr>\n",
       "      <th>3</th>\n",
       "      <td>Ferrari Monza</td>\n",
       "    </tr>\n",
       "    <tr>\n",
       "      <th>4</th>\n",
       "      <td>Gordon Murray T.33</td>\n",
       "    </tr>\n",
       "    <tr>\n",
       "      <th>5</th>\n",
       "      <td>Koenigsegg Gemera</td>\n",
       "    </tr>\n",
       "    <tr>\n",
       "      <th>6</th>\n",
       "      <td>Zenvo TSR-S</td>\n",
       "    </tr>\n",
       "    <tr>\n",
       "      <th>7</th>\n",
       "      <td>Hennessey Venom F5</td>\n",
       "    </tr>\n",
       "    <tr>\n",
       "      <th>8</th>\n",
       "      <td>Bentley Bacalar</td>\n",
       "    </tr>\n",
       "    <tr>\n",
       "      <th>9</th>\n",
       "      <td>Hispano Suiza Carmen Boulogne</td>\n",
       "    </tr>\n",
       "    <tr>\n",
       "      <th>10</th>\n",
       "      <td>Bentley Mulliner Batur</td>\n",
       "    </tr>\n",
       "    <tr>\n",
       "      <th>11</th>\n",
       "      <td>Deus Vayanne</td>\n",
       "    </tr>\n",
       "    <tr>\n",
       "      <th>12</th>\n",
       "      <td>SSC Tuatara</td>\n",
       "    </tr>\n",
       "    <tr>\n",
       "      <th>13</th>\n",
       "      <td>Lotus Evija</td>\n",
       "    </tr>\n",
       "    <tr>\n",
       "      <th>14</th>\n",
       "      <td>Aston Martin Vulcan</td>\n",
       "    </tr>\n",
       "    <tr>\n",
       "      <th>15</th>\n",
       "      <td>Delage D12</td>\n",
       "    </tr>\n",
       "    <tr>\n",
       "      <th>16</th>\n",
       "      <td>Ferrari Daytona SP3</td>\n",
       "    </tr>\n",
       "    <tr>\n",
       "      <th>17</th>\n",
       "      <td>McLaren Speedtail</td>\n",
       "    </tr>\n",
       "    <tr>\n",
       "      <th>18</th>\n",
       "      <td>Rimac Nevera</td>\n",
       "    </tr>\n",
       "    <tr>\n",
       "      <th>19</th>\n",
       "      <td>Pagani Utopia</td>\n",
       "    </tr>\n",
       "    <tr>\n",
       "      <th>20</th>\n",
       "      <td>Pininfarina Battista</td>\n",
       "    </tr>\n",
       "    <tr>\n",
       "      <th>21</th>\n",
       "      <td>Gordon Murray T.50</td>\n",
       "    </tr>\n",
       "    <tr>\n",
       "      <th>22</th>\n",
       "      <td>Lamborghini Countach</td>\n",
       "    </tr>\n",
       "    <tr>\n",
       "      <th>23</th>\n",
       "      <td>Mercedes-AMG Project One</td>\n",
       "    </tr>\n",
       "    <tr>\n",
       "      <th>24</th>\n",
       "      <td>Zenvo Aurora</td>\n",
       "    </tr>\n",
       "    <tr>\n",
       "      <th>25</th>\n",
       "      <td>Aston Martin Victor</td>\n",
       "    </tr>\n",
       "    <tr>\n",
       "      <th>26</th>\n",
       "      <td>Hennessey Venom F5 Roadster</td>\n",
       "    </tr>\n",
       "    <tr>\n",
       "      <th>27</th>\n",
       "      <td>Koenigsegg Jesko</td>\n",
       "    </tr>\n",
       "    <tr>\n",
       "      <th>28</th>\n",
       "      <td>Aston Martin Valkyrie</td>\n",
       "    </tr>\n",
       "    <tr>\n",
       "      <th>29</th>\n",
       "      <td>W Motors Lykan Hypersport</td>\n",
       "    </tr>\n",
       "    <tr>\n",
       "      <th>30</th>\n",
       "      <td>McLaren Solus</td>\n",
       "    </tr>\n",
       "    <tr>\n",
       "      <th>31</th>\n",
       "      <td>Lamborghini Sian</td>\n",
       "    </tr>\n",
       "    <tr>\n",
       "      <th>32</th>\n",
       "      <td>Koenigsegg CC850</td>\n",
       "    </tr>\n",
       "    <tr>\n",
       "      <th>33</th>\n",
       "      <td>Bugatti Chiron Super Sport 300+</td>\n",
       "    </tr>\n",
       "    <tr>\n",
       "      <th>34</th>\n",
       "      <td>Lamborghini Veneno</td>\n",
       "    </tr>\n",
       "    <tr>\n",
       "      <th>35</th>\n",
       "      <td>Bugatti Bolide</td>\n",
       "    </tr>\n",
       "    <tr>\n",
       "      <th>36</th>\n",
       "      <td>Pininfarina B95 Speedster</td>\n",
       "    </tr>\n",
       "    <tr>\n",
       "      <th>37</th>\n",
       "      <td>Bugatti Mistral</td>\n",
       "    </tr>\n",
       "    <tr>\n",
       "      <th>38</th>\n",
       "      <td>Pagani Huayra Imola</td>\n",
       "    </tr>\n",
       "    <tr>\n",
       "      <th>39</th>\n",
       "      <td>Bugatti Divo</td>\n",
       "    </tr>\n",
       "    <tr>\n",
       "      <th>40</th>\n",
       "      <td>SP Automotive Chaos</td>\n",
       "    </tr>\n",
       "    <tr>\n",
       "      <th>41</th>\n",
       "      <td>Pagani Codalunga</td>\n",
       "    </tr>\n",
       "    <tr>\n",
       "      <th>42</th>\n",
       "      <td>777 Hypercar</td>\n",
       "    </tr>\n",
       "    <tr>\n",
       "      <th>43</th>\n",
       "      <td>Mercedes-Maybach Exelero</td>\n",
       "    </tr>\n",
       "    <tr>\n",
       "      <th>44</th>\n",
       "      <td>Bugatti Centodieci</td>\n",
       "    </tr>\n",
       "    <tr>\n",
       "      <th>45</th>\n",
       "      <td>Bugatti Chiron Profilée</td>\n",
       "    </tr>\n",
       "    <tr>\n",
       "      <th>46</th>\n",
       "      <td>Rolls-Royce Sweptail</td>\n",
       "    </tr>\n",
       "    <tr>\n",
       "      <th>47</th>\n",
       "      <td>Bugatti La Voiture Noire</td>\n",
       "    </tr>\n",
       "    <tr>\n",
       "      <th>48</th>\n",
       "      <td>Rolls-Royce Boat Tail*</td>\n",
       "    </tr>\n",
       "    <tr>\n",
       "      <th>49</th>\n",
       "      <td>Rolls-Royce La Rose Noire Droptail</td>\n",
       "    </tr>\n",
       "  </tbody>\n",
       "</table>\n",
       "</div>"
      ],
      "text/plain": [
       "                                  Cars\n",
       "0                  Aston Martin Valour\n",
       "1                         McLaren Elva\n",
       "2                          Czinger 21C\n",
       "3                        Ferrari Monza\n",
       "4                   Gordon Murray T.33\n",
       "5                    Koenigsegg Gemera\n",
       "6                          Zenvo TSR-S\n",
       "7                   Hennessey Venom F5\n",
       "8                      Bentley Bacalar\n",
       "9        Hispano Suiza Carmen Boulogne\n",
       "10              Bentley Mulliner Batur\n",
       "11                        Deus Vayanne\n",
       "12                         SSC Tuatara\n",
       "13                         Lotus Evija\n",
       "14                 Aston Martin Vulcan\n",
       "15                          Delage D12\n",
       "16                 Ferrari Daytona SP3\n",
       "17                   McLaren Speedtail\n",
       "18                        Rimac Nevera\n",
       "19                       Pagani Utopia\n",
       "20                Pininfarina Battista\n",
       "21                  Gordon Murray T.50\n",
       "22                Lamborghini Countach\n",
       "23            Mercedes-AMG Project One\n",
       "24                        Zenvo Aurora\n",
       "25                 Aston Martin Victor\n",
       "26         Hennessey Venom F5 Roadster\n",
       "27                    Koenigsegg Jesko\n",
       "28               Aston Martin Valkyrie\n",
       "29           W Motors Lykan Hypersport\n",
       "30                       McLaren Solus\n",
       "31                    Lamborghini Sian\n",
       "32                    Koenigsegg CC850\n",
       "33     Bugatti Chiron Super Sport 300+\n",
       "34                  Lamborghini Veneno\n",
       "35                      Bugatti Bolide\n",
       "36           Pininfarina B95 Speedster\n",
       "37                     Bugatti Mistral\n",
       "38                 Pagani Huayra Imola\n",
       "39                        Bugatti Divo\n",
       "40                 SP Automotive Chaos\n",
       "41                    Pagani Codalunga\n",
       "42                        777 Hypercar\n",
       "43            Mercedes-Maybach Exelero\n",
       "44                  Bugatti Centodieci\n",
       "45             Bugatti Chiron Profilée\n",
       "46                Rolls-Royce Sweptail\n",
       "47            Bugatti La Voiture Noire\n",
       "48              Rolls-Royce Boat Tail*\n",
       "49  Rolls-Royce La Rose Noire Droptail"
      ]
     },
     "execution_count": 38,
     "metadata": {},
     "output_type": "execute_result"
    }
   ],
   "source": [
    "df"
   ]
  }
 ],
 "metadata": {
  "kernelspec": {
   "display_name": "Python 3 (ipykernel)",
   "language": "python",
   "name": "python3"
  },
  "language_info": {
   "codemirror_mode": {
    "name": "ipython",
    "version": 3
   },
   "file_extension": ".py",
   "mimetype": "text/x-python",
   "name": "python",
   "nbconvert_exporter": "python",
   "pygments_lexer": "ipython3",
   "version": "3.10.9"
  }
 },
 "nbformat": 4,
 "nbformat_minor": 5
}
