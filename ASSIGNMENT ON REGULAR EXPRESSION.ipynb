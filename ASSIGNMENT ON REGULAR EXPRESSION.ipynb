{
 "cells": [
  {
   "cell_type": "markdown",
   "id": "b48fff0d",
   "metadata": {},
   "source": [
    "QUESTION 1 --  SOLUTION-->"
   ]
  },
  {
   "cell_type": "code",
   "execution_count": 1,
   "id": "e4f25e19",
   "metadata": {},
   "outputs": [],
   "source": [
    "import re"
   ]
  },
  {
   "cell_type": "code",
   "execution_count": 2,
   "id": "49ae4021",
   "metadata": {},
   "outputs": [],
   "source": [
    "SampleText = 'PythonExercises,PHP exercises.'"
   ]
  },
  {
   "cell_type": "code",
   "execution_count": 3,
   "id": "b3451156",
   "metadata": {},
   "outputs": [],
   "source": [
    "pattern = r\"[ .]\""
   ]
  },
  {
   "cell_type": "code",
   "execution_count": 4,
   "id": "143807ab",
   "metadata": {},
   "outputs": [],
   "source": [
    "Output = re.sub(pattern, ';' , SampleText)"
   ]
  },
  {
   "cell_type": "code",
   "execution_count": 5,
   "id": "e121b1ac",
   "metadata": {},
   "outputs": [
    {
     "data": {
      "text/plain": [
       "'PythonExercises,PHP;exercises;'"
      ]
     },
     "execution_count": 5,
     "metadata": {},
     "output_type": "execute_result"
    }
   ],
   "source": [
    "Output"
   ]
  },
  {
   "cell_type": "markdown",
   "id": "bb64117b",
   "metadata": {},
   "source": [
    "QUESTION 2 --SOLUTION-->\n"
   ]
  },
  {
   "cell_type": "code",
   "execution_count": 6,
   "id": "ef01d08d",
   "metadata": {},
   "outputs": [],
   "source": [
    "Dictionary = {'SUMMARY':['hello, world!' , 'XXXXtest', '123four,five:;,six...']}"
   ]
  },
  {
   "cell_type": "code",
   "execution_count": 7,
   "id": "f89078d1",
   "metadata": {},
   "outputs": [
    {
     "data": {
      "text/plain": [
       "{'SUMMARY': ['hello, world!', 'XXXXtest', '123four,five:;,six...']}"
      ]
     },
     "execution_count": 7,
     "metadata": {},
     "output_type": "execute_result"
    }
   ],
   "source": [
    "Dictionary"
   ]
  },
  {
   "cell_type": "code",
   "execution_count": 9,
   "id": "9eeab7fa",
   "metadata": {},
   "outputs": [],
   "source": [
    "pattern = r\"[, !XXXX123:;...]\"\n",
    "value = list(Dictionary.values())[0]\n",
    "for key , values in Dictionary.items():\n",
    "    Dicti_values = [re.sub(pattern,\"\", values) for values in value]\n",
    "    Dictionary[key] = Dicti_values"
   ]
  },
  {
   "cell_type": "code",
   "execution_count": 10,
   "id": "73ab0683",
   "metadata": {},
   "outputs": [
    {
     "data": {
      "text/plain": [
       "{'SUMMARY': ['helloworld', 'test', 'fourfivesix']}"
      ]
     },
     "execution_count": 10,
     "metadata": {},
     "output_type": "execute_result"
    }
   ],
   "source": [
    "Dictionary"
   ]
  },
  {
   "cell_type": "code",
   "execution_count": 11,
   "id": "a1263ab5",
   "metadata": {},
   "outputs": [
    {
     "data": {
      "text/html": [
       "<div>\n",
       "<style scoped>\n",
       "    .dataframe tbody tr th:only-of-type {\n",
       "        vertical-align: middle;\n",
       "    }\n",
       "\n",
       "    .dataframe tbody tr th {\n",
       "        vertical-align: top;\n",
       "    }\n",
       "\n",
       "    .dataframe thead th {\n",
       "        text-align: right;\n",
       "    }\n",
       "</style>\n",
       "<table border=\"1\" class=\"dataframe\">\n",
       "  <thead>\n",
       "    <tr style=\"text-align: right;\">\n",
       "      <th></th>\n",
       "      <th>SUMMARY</th>\n",
       "    </tr>\n",
       "  </thead>\n",
       "  <tbody>\n",
       "    <tr>\n",
       "      <th>0</th>\n",
       "      <td>helloworld</td>\n",
       "    </tr>\n",
       "    <tr>\n",
       "      <th>1</th>\n",
       "      <td>test</td>\n",
       "    </tr>\n",
       "    <tr>\n",
       "      <th>2</th>\n",
       "      <td>fourfivesix</td>\n",
       "    </tr>\n",
       "  </tbody>\n",
       "</table>\n",
       "</div>"
      ],
      "text/plain": [
       "       SUMMARY\n",
       "0   helloworld\n",
       "1         test\n",
       "2  fourfivesix"
      ]
     },
     "execution_count": 11,
     "metadata": {},
     "output_type": "execute_result"
    }
   ],
   "source": [
    "import pandas as pd\n",
    "pd.DataFrame(Dictionary)"
   ]
  },
  {
   "cell_type": "markdown",
   "id": "752d754b",
   "metadata": {},
   "source": [
    "QUESTION 3. -- SOLUTION-->"
   ]
  },
  {
   "cell_type": "code",
   "execution_count": 12,
   "id": "cbc9a124",
   "metadata": {},
   "outputs": [],
   "source": [
    "def words_four_character_long(str):\n",
    "    pattern = re.compile(r\"\\b\\w{4,}\\b\")\n",
    "    Words = pattern.findall(str)\n",
    "    return Words"
   ]
  },
  {
   "cell_type": "code",
   "execution_count": 13,
   "id": "1c12ffaf",
   "metadata": {},
   "outputs": [],
   "source": [
    "text = 'This is my assignment work'"
   ]
  },
  {
   "cell_type": "code",
   "execution_count": 14,
   "id": "a8cbf6dc",
   "metadata": {},
   "outputs": [],
   "source": [
    "obj = words_four_character_long(text)"
   ]
  },
  {
   "cell_type": "code",
   "execution_count": 15,
   "id": "3810713c",
   "metadata": {},
   "outputs": [
    {
     "data": {
      "text/plain": [
       "['This', 'assignment', 'work']"
      ]
     },
     "execution_count": 15,
     "metadata": {},
     "output_type": "execute_result"
    }
   ],
   "source": [
    "obj"
   ]
  },
  {
   "cell_type": "markdown",
   "id": "8bd9fa59",
   "metadata": {},
   "source": [
    "THIS IS MY SOLUTION TO MY ABOVE PROBLEM "
   ]
  },
  {
   "cell_type": "markdown",
   "id": "a8db9e55",
   "metadata": {},
   "source": [
    "4.QUESTION-- SOLUTION-->"
   ]
  },
  {
   "cell_type": "code",
   "execution_count": 19,
   "id": "5c344b89",
   "metadata": {},
   "outputs": [],
   "source": [
    "def words_Three_four_Five_character_long(str):\n",
    "    pattern = re.compile(r\"\\b\\w{3,5}\\b\")\n",
    "    Words = pattern.findall(str)\n",
    "    return Words"
   ]
  },
  {
   "cell_type": "code",
   "execution_count": 17,
   "id": "214bc95f",
   "metadata": {},
   "outputs": [],
   "source": [
    "text = 'This is my assignment work'"
   ]
  },
  {
   "cell_type": "code",
   "execution_count": 20,
   "id": "ef5bba7e",
   "metadata": {},
   "outputs": [],
   "source": [
    "obj1 = words_Three_four_Five_character_long(text)"
   ]
  },
  {
   "cell_type": "code",
   "execution_count": 21,
   "id": "3e042f1c",
   "metadata": {},
   "outputs": [
    {
     "data": {
      "text/plain": [
       "['This', 'work']"
      ]
     },
     "execution_count": 21,
     "metadata": {},
     "output_type": "execute_result"
    }
   ],
   "source": [
    "obj1"
   ]
  },
  {
   "cell_type": "markdown",
   "id": "b8094a2b",
   "metadata": {},
   "source": [
    "5.QUESTION--> SOLUTION-->"
   ]
  },
  {
   "cell_type": "code",
   "execution_count": 26,
   "id": "2f2139eb",
   "metadata": {},
   "outputs": [],
   "source": [
    "def remove_paranthesis(text):\n",
    "    pattern = re.compile(r'[()]')\n",
    "    output = [pattern.sub('', x) for x in text]\n",
    "    return output"
   ]
  },
  {
   "cell_type": "code",
   "execution_count": 27,
   "id": "43edbeb5",
   "metadata": {},
   "outputs": [],
   "source": [
    "SampleText = [\"example.(com)\", \"hr@fliprobo(.com)\", \"github(.com)\", \"Hello (Data Science World)\" , \"Data (Scientist)\"]"
   ]
  },
  {
   "cell_type": "code",
   "execution_count": 28,
   "id": "e8297cd1",
   "metadata": {},
   "outputs": [
    {
     "data": {
      "text/plain": [
       "['example.(com)',\n",
       " 'hr@fliprobo(.com)',\n",
       " 'github(.com)',\n",
       " 'Hello (Data Science World)',\n",
       " 'Data (Scientist)']"
      ]
     },
     "execution_count": 28,
     "metadata": {},
     "output_type": "execute_result"
    }
   ],
   "source": [
    "SampleText"
   ]
  },
  {
   "cell_type": "code",
   "execution_count": 29,
   "id": "ef2d8f89",
   "metadata": {},
   "outputs": [],
   "source": [
    "output_1 = remove_paranthesis(SampleText)"
   ]
  },
  {
   "cell_type": "code",
   "execution_count": 30,
   "id": "7e783a61",
   "metadata": {},
   "outputs": [
    {
     "data": {
      "text/plain": [
       "['example.com',\n",
       " 'hr@fliprobo.com',\n",
       " 'github.com',\n",
       " 'Hello Data Science World',\n",
       " 'Data Scientist']"
      ]
     },
     "execution_count": 30,
     "metadata": {},
     "output_type": "execute_result"
    }
   ],
   "source": [
    "output_1"
   ]
  },
  {
   "cell_type": "markdown",
   "id": "19fd2771",
   "metadata": {},
   "source": [
    "PARANTHESIS HAS BEEN REMOVED FROM SampleText LIST OF STRINGS"
   ]
  },
  {
   "cell_type": "markdown",
   "id": "5d925c51",
   "metadata": {},
   "source": [
    "6.QUESTION--> SOLUTION-->"
   ]
  },
  {
   "cell_type": "code",
   "execution_count": 249,
   "id": "53a9e6a8",
   "metadata": {},
   "outputs": [],
   "source": [
    "import docx"
   ]
  },
  {
   "cell_type": "code",
   "execution_count": 250,
   "id": "78836567",
   "metadata": {},
   "outputs": [],
   "source": [
    "doc_2 = (r'C:\\Users\\apple\\OneDrive\\Documents\\DOCUMENT_FILE.docx')"
   ]
  },
  {
   "cell_type": "code",
   "execution_count": 247,
   "id": "f64faeb9",
   "metadata": {},
   "outputs": [
    {
     "data": {
      "text/plain": [
       "<docx.document.Document at 0x16ccbcabac0>"
      ]
     },
     "execution_count": 247,
     "metadata": {},
     "output_type": "execute_result"
    }
   ],
   "source": [
    "doc_2"
   ]
  },
  {
   "cell_type": "code",
   "execution_count": 256,
   "id": "d47d11f2",
   "metadata": {},
   "outputs": [],
   "source": [
    "text_to_extract = \"\\n\".join([para.text for para in doc_2.paragraphs])"
   ]
  },
  {
   "cell_type": "code",
   "execution_count": 260,
   "id": "d849caad",
   "metadata": {},
   "outputs": [],
   "source": [
    "string_without_paranthesis = re.sub(r'\\([^)]*\\)', '', text_to_extract)"
   ]
  },
  {
   "cell_type": "code",
   "execution_count": 261,
   "id": "ce2573be",
   "metadata": {},
   "outputs": [
    {
     "data": {
      "text/plain": [
       "'SampleText : [\"example.\", \"hr@fliprobo\", \"github\", \"Hello \" , \"Data \"]\\n'"
      ]
     },
     "execution_count": 261,
     "metadata": {},
     "output_type": "execute_result"
    }
   ],
   "source": [
    "string_without_paranthesis"
   ]
  },
  {
   "cell_type": "markdown",
   "id": "e4b3c22a",
   "metadata": {},
   "source": [
    "7. QUESTIONS--> SOLUTIONS-->"
   ]
  },
  {
   "cell_type": "code",
   "execution_count": 43,
   "id": "a79309ca",
   "metadata": {},
   "outputs": [],
   "source": [
    "Sample_Text = \"ImportanceOfRegularExpressionInPython\""
   ]
  },
  {
   "cell_type": "code",
   "execution_count": 44,
   "id": "971564f4",
   "metadata": {},
   "outputs": [
    {
     "data": {
      "text/plain": [
       "'ImportanceOfRegularExpressionInPython'"
      ]
     },
     "execution_count": 44,
     "metadata": {},
     "output_type": "execute_result"
    }
   ],
   "source": [
    "Sample_Text"
   ]
  },
  {
   "cell_type": "code",
   "execution_count": 45,
   "id": "a2777a2e",
   "metadata": {},
   "outputs": [],
   "source": [
    "words = re.findall(r'[A-Z][a-z]*', Sample_Text)"
   ]
  },
  {
   "cell_type": "code",
   "execution_count": 46,
   "id": "65dccd44",
   "metadata": {},
   "outputs": [
    {
     "data": {
      "text/plain": [
       "['Importance', 'Of', 'Regular', 'Expression', 'In', 'Python']"
      ]
     },
     "execution_count": 46,
     "metadata": {},
     "output_type": "execute_result"
    }
   ],
   "source": [
    "words"
   ]
  },
  {
   "cell_type": "markdown",
   "id": "16d49453",
   "metadata": {},
   "source": [
    "SPLITTED THE STRING INTO UPPERCASE LETTERS "
   ]
  },
  {
   "cell_type": "markdown",
   "id": "ada781d3",
   "metadata": {},
   "source": [
    "8. QUESTIONS--> SOLUTION-->"
   ]
  },
  {
   "cell_type": "code",
   "execution_count": 49,
   "id": "b776c9dc",
   "metadata": {},
   "outputs": [],
   "source": [
    "def insert_space_between_numbers(text):\n",
    "    output = re.sub(r'(\\D)(\\d)',r'\\1 \\2' , text)\n",
    "    return output"
   ]
  },
  {
   "cell_type": "code",
   "execution_count": 52,
   "id": "226dd091",
   "metadata": {},
   "outputs": [],
   "source": [
    "Sample_Text =' RegularExpression1Is2AnImportantTopic3inPython'\n",
    "output_txt = insert_space_between_numbers(Sample_Text)"
   ]
  },
  {
   "cell_type": "code",
   "execution_count": 53,
   "id": "c5b78bd6",
   "metadata": {},
   "outputs": [
    {
     "data": {
      "text/plain": [
       "' RegularExpression 1Is 2AnImportantTopic 3inPython'"
      ]
     },
     "execution_count": 53,
     "metadata": {},
     "output_type": "execute_result"
    }
   ],
   "source": [
    "output_txt"
   ]
  },
  {
   "cell_type": "markdown",
   "id": "f99e8ecb",
   "metadata": {},
   "source": [
    "NOW WORDS CONTAIN SPACES BETWEEN WORDS WITH NUMBERS "
   ]
  },
  {
   "cell_type": "markdown",
   "id": "34a1cb46",
   "metadata": {},
   "source": [
    "9. QUESTION--> SOLUTIONS-->"
   ]
  },
  {
   "cell_type": "code",
   "execution_count": 55,
   "id": "22636b3d",
   "metadata": {},
   "outputs": [],
   "source": [
    "def insert_spaces__capital_letter(text):\n",
    "    output = re.sub(r'([a-z])([A-Z])', r'\\1 \\2', text)\n",
    "    return output"
   ]
  },
  {
   "cell_type": "code",
   "execution_count": 56,
   "id": "33ec946a",
   "metadata": {},
   "outputs": [],
   "source": [
    "Sample_Text ='RegularExpression1Is2AnImportantTopic3inPython'"
   ]
  },
  {
   "cell_type": "code",
   "execution_count": 59,
   "id": "41040f8d",
   "metadata": {},
   "outputs": [],
   "source": [
    "output_1 = insert_spaces__capital_letter(Sample_Text)"
   ]
  },
  {
   "cell_type": "code",
   "execution_count": 60,
   "id": "def183b3",
   "metadata": {},
   "outputs": [
    {
     "data": {
      "text/plain": [
       "'Regular Expression1Is2An Important Topic3in Python'"
      ]
     },
     "execution_count": 60,
     "metadata": {},
     "output_type": "execute_result"
    }
   ],
   "source": [
    "output_1"
   ]
  },
  {
   "cell_type": "markdown",
   "id": "5cadbd0d",
   "metadata": {},
   "source": [
    "NOW THIS OUTPUT HAS SPACES BETWEEN WORDS STARTING WITH CAPITAL LETTERS"
   ]
  },
  {
   "cell_type": "markdown",
   "id": "ac5cbcc2",
   "metadata": {},
   "source": [
    "10. QUESTION--> SOLUTION-->"
   ]
  },
  {
   "cell_type": "code",
   "execution_count": 206,
   "id": "7f0826d3",
   "metadata": {},
   "outputs": [],
   "source": [
    "import pandas as pd "
   ]
  },
  {
   "cell_type": "code",
   "execution_count": 207,
   "id": "abe43c7c",
   "metadata": {},
   "outputs": [],
   "source": [
    "df = pd.read_csv(\"https://raw.githubusercontent.com/dsrscientist/DSData/master/happiness_score_dataset.csv\")"
   ]
  },
  {
   "cell_type": "code",
   "execution_count": 208,
   "id": "7c33703f",
   "metadata": {},
   "outputs": [
    {
     "data": {
      "text/html": [
       "<div>\n",
       "<style scoped>\n",
       "    .dataframe tbody tr th:only-of-type {\n",
       "        vertical-align: middle;\n",
       "    }\n",
       "\n",
       "    .dataframe tbody tr th {\n",
       "        vertical-align: top;\n",
       "    }\n",
       "\n",
       "    .dataframe thead th {\n",
       "        text-align: right;\n",
       "    }\n",
       "</style>\n",
       "<table border=\"1\" class=\"dataframe\">\n",
       "  <thead>\n",
       "    <tr style=\"text-align: right;\">\n",
       "      <th></th>\n",
       "      <th>Country</th>\n",
       "      <th>Region</th>\n",
       "      <th>Happiness Rank</th>\n",
       "      <th>Happiness Score</th>\n",
       "      <th>Standard Error</th>\n",
       "      <th>Economy (GDP per Capita)</th>\n",
       "      <th>Family</th>\n",
       "      <th>Health (Life Expectancy)</th>\n",
       "      <th>Freedom</th>\n",
       "      <th>Trust (Government Corruption)</th>\n",
       "      <th>Generosity</th>\n",
       "      <th>Dystopia Residual</th>\n",
       "    </tr>\n",
       "  </thead>\n",
       "  <tbody>\n",
       "    <tr>\n",
       "      <th>0</th>\n",
       "      <td>Switzerland</td>\n",
       "      <td>Western Europe</td>\n",
       "      <td>1</td>\n",
       "      <td>7.587</td>\n",
       "      <td>0.03411</td>\n",
       "      <td>1.39651</td>\n",
       "      <td>1.34951</td>\n",
       "      <td>0.94143</td>\n",
       "      <td>0.66557</td>\n",
       "      <td>0.41978</td>\n",
       "      <td>0.29678</td>\n",
       "      <td>2.51738</td>\n",
       "    </tr>\n",
       "    <tr>\n",
       "      <th>1</th>\n",
       "      <td>Iceland</td>\n",
       "      <td>Western Europe</td>\n",
       "      <td>2</td>\n",
       "      <td>7.561</td>\n",
       "      <td>0.04884</td>\n",
       "      <td>1.30232</td>\n",
       "      <td>1.40223</td>\n",
       "      <td>0.94784</td>\n",
       "      <td>0.62877</td>\n",
       "      <td>0.14145</td>\n",
       "      <td>0.43630</td>\n",
       "      <td>2.70201</td>\n",
       "    </tr>\n",
       "    <tr>\n",
       "      <th>2</th>\n",
       "      <td>Denmark</td>\n",
       "      <td>Western Europe</td>\n",
       "      <td>3</td>\n",
       "      <td>7.527</td>\n",
       "      <td>0.03328</td>\n",
       "      <td>1.32548</td>\n",
       "      <td>1.36058</td>\n",
       "      <td>0.87464</td>\n",
       "      <td>0.64938</td>\n",
       "      <td>0.48357</td>\n",
       "      <td>0.34139</td>\n",
       "      <td>2.49204</td>\n",
       "    </tr>\n",
       "    <tr>\n",
       "      <th>3</th>\n",
       "      <td>Norway</td>\n",
       "      <td>Western Europe</td>\n",
       "      <td>4</td>\n",
       "      <td>7.522</td>\n",
       "      <td>0.03880</td>\n",
       "      <td>1.45900</td>\n",
       "      <td>1.33095</td>\n",
       "      <td>0.88521</td>\n",
       "      <td>0.66973</td>\n",
       "      <td>0.36503</td>\n",
       "      <td>0.34699</td>\n",
       "      <td>2.46531</td>\n",
       "    </tr>\n",
       "    <tr>\n",
       "      <th>4</th>\n",
       "      <td>Canada</td>\n",
       "      <td>North America</td>\n",
       "      <td>5</td>\n",
       "      <td>7.427</td>\n",
       "      <td>0.03553</td>\n",
       "      <td>1.32629</td>\n",
       "      <td>1.32261</td>\n",
       "      <td>0.90563</td>\n",
       "      <td>0.63297</td>\n",
       "      <td>0.32957</td>\n",
       "      <td>0.45811</td>\n",
       "      <td>2.45176</td>\n",
       "    </tr>\n",
       "    <tr>\n",
       "      <th>...</th>\n",
       "      <td>...</td>\n",
       "      <td>...</td>\n",
       "      <td>...</td>\n",
       "      <td>...</td>\n",
       "      <td>...</td>\n",
       "      <td>...</td>\n",
       "      <td>...</td>\n",
       "      <td>...</td>\n",
       "      <td>...</td>\n",
       "      <td>...</td>\n",
       "      <td>...</td>\n",
       "      <td>...</td>\n",
       "    </tr>\n",
       "    <tr>\n",
       "      <th>153</th>\n",
       "      <td>Rwanda</td>\n",
       "      <td>Sub-Saharan Africa</td>\n",
       "      <td>154</td>\n",
       "      <td>3.465</td>\n",
       "      <td>0.03464</td>\n",
       "      <td>0.22208</td>\n",
       "      <td>0.77370</td>\n",
       "      <td>0.42864</td>\n",
       "      <td>0.59201</td>\n",
       "      <td>0.55191</td>\n",
       "      <td>0.22628</td>\n",
       "      <td>0.67042</td>\n",
       "    </tr>\n",
       "    <tr>\n",
       "      <th>154</th>\n",
       "      <td>Benin</td>\n",
       "      <td>Sub-Saharan Africa</td>\n",
       "      <td>155</td>\n",
       "      <td>3.340</td>\n",
       "      <td>0.03656</td>\n",
       "      <td>0.28665</td>\n",
       "      <td>0.35386</td>\n",
       "      <td>0.31910</td>\n",
       "      <td>0.48450</td>\n",
       "      <td>0.08010</td>\n",
       "      <td>0.18260</td>\n",
       "      <td>1.63328</td>\n",
       "    </tr>\n",
       "    <tr>\n",
       "      <th>155</th>\n",
       "      <td>Syria</td>\n",
       "      <td>Middle East and Northern Africa</td>\n",
       "      <td>156</td>\n",
       "      <td>3.006</td>\n",
       "      <td>0.05015</td>\n",
       "      <td>0.66320</td>\n",
       "      <td>0.47489</td>\n",
       "      <td>0.72193</td>\n",
       "      <td>0.15684</td>\n",
       "      <td>0.18906</td>\n",
       "      <td>0.47179</td>\n",
       "      <td>0.32858</td>\n",
       "    </tr>\n",
       "    <tr>\n",
       "      <th>156</th>\n",
       "      <td>Burundi</td>\n",
       "      <td>Sub-Saharan Africa</td>\n",
       "      <td>157</td>\n",
       "      <td>2.905</td>\n",
       "      <td>0.08658</td>\n",
       "      <td>0.01530</td>\n",
       "      <td>0.41587</td>\n",
       "      <td>0.22396</td>\n",
       "      <td>0.11850</td>\n",
       "      <td>0.10062</td>\n",
       "      <td>0.19727</td>\n",
       "      <td>1.83302</td>\n",
       "    </tr>\n",
       "    <tr>\n",
       "      <th>157</th>\n",
       "      <td>Togo</td>\n",
       "      <td>Sub-Saharan Africa</td>\n",
       "      <td>158</td>\n",
       "      <td>2.839</td>\n",
       "      <td>0.06727</td>\n",
       "      <td>0.20868</td>\n",
       "      <td>0.13995</td>\n",
       "      <td>0.28443</td>\n",
       "      <td>0.36453</td>\n",
       "      <td>0.10731</td>\n",
       "      <td>0.16681</td>\n",
       "      <td>1.56726</td>\n",
       "    </tr>\n",
       "  </tbody>\n",
       "</table>\n",
       "<p>158 rows × 12 columns</p>\n",
       "</div>"
      ],
      "text/plain": [
       "         Country                           Region  Happiness Rank  \\\n",
       "0    Switzerland                   Western Europe               1   \n",
       "1        Iceland                   Western Europe               2   \n",
       "2        Denmark                   Western Europe               3   \n",
       "3         Norway                   Western Europe               4   \n",
       "4         Canada                    North America               5   \n",
       "..           ...                              ...             ...   \n",
       "153       Rwanda               Sub-Saharan Africa             154   \n",
       "154        Benin               Sub-Saharan Africa             155   \n",
       "155        Syria  Middle East and Northern Africa             156   \n",
       "156      Burundi               Sub-Saharan Africa             157   \n",
       "157         Togo               Sub-Saharan Africa             158   \n",
       "\n",
       "     Happiness Score  Standard Error  Economy (GDP per Capita)   Family  \\\n",
       "0              7.587         0.03411                   1.39651  1.34951   \n",
       "1              7.561         0.04884                   1.30232  1.40223   \n",
       "2              7.527         0.03328                   1.32548  1.36058   \n",
       "3              7.522         0.03880                   1.45900  1.33095   \n",
       "4              7.427         0.03553                   1.32629  1.32261   \n",
       "..               ...             ...                       ...      ...   \n",
       "153            3.465         0.03464                   0.22208  0.77370   \n",
       "154            3.340         0.03656                   0.28665  0.35386   \n",
       "155            3.006         0.05015                   0.66320  0.47489   \n",
       "156            2.905         0.08658                   0.01530  0.41587   \n",
       "157            2.839         0.06727                   0.20868  0.13995   \n",
       "\n",
       "     Health (Life Expectancy)  Freedom  Trust (Government Corruption)  \\\n",
       "0                     0.94143  0.66557                        0.41978   \n",
       "1                     0.94784  0.62877                        0.14145   \n",
       "2                     0.87464  0.64938                        0.48357   \n",
       "3                     0.88521  0.66973                        0.36503   \n",
       "4                     0.90563  0.63297                        0.32957   \n",
       "..                        ...      ...                            ...   \n",
       "153                   0.42864  0.59201                        0.55191   \n",
       "154                   0.31910  0.48450                        0.08010   \n",
       "155                   0.72193  0.15684                        0.18906   \n",
       "156                   0.22396  0.11850                        0.10062   \n",
       "157                   0.28443  0.36453                        0.10731   \n",
       "\n",
       "     Generosity  Dystopia Residual  \n",
       "0       0.29678            2.51738  \n",
       "1       0.43630            2.70201  \n",
       "2       0.34139            2.49204  \n",
       "3       0.34699            2.46531  \n",
       "4       0.45811            2.45176  \n",
       "..          ...                ...  \n",
       "153     0.22628            0.67042  \n",
       "154     0.18260            1.63328  \n",
       "155     0.47179            0.32858  \n",
       "156     0.19727            1.83302  \n",
       "157     0.16681            1.56726  \n",
       "\n",
       "[158 rows x 12 columns]"
      ]
     },
     "execution_count": 208,
     "metadata": {},
     "output_type": "execute_result"
    }
   ],
   "source": [
    "df"
   ]
  },
  {
   "cell_type": "code",
   "execution_count": 215,
   "id": "b7fbc79f",
   "metadata": {},
   "outputs": [],
   "source": [
    "df['first_five_letters'] = df['Country'].str.extract(r'(^.{1,5})', )"
   ]
  },
  {
   "cell_type": "code",
   "execution_count": 214,
   "id": "580c6c7c",
   "metadata": {},
   "outputs": [
    {
     "data": {
      "text/html": [
       "<div>\n",
       "<style scoped>\n",
       "    .dataframe tbody tr th:only-of-type {\n",
       "        vertical-align: middle;\n",
       "    }\n",
       "\n",
       "    .dataframe tbody tr th {\n",
       "        vertical-align: top;\n",
       "    }\n",
       "\n",
       "    .dataframe thead th {\n",
       "        text-align: right;\n",
       "    }\n",
       "</style>\n",
       "<table border=\"1\" class=\"dataframe\">\n",
       "  <thead>\n",
       "    <tr style=\"text-align: right;\">\n",
       "      <th></th>\n",
       "      <th>Country</th>\n",
       "      <th>Region</th>\n",
       "      <th>Happiness Rank</th>\n",
       "      <th>Happiness Score</th>\n",
       "      <th>Standard Error</th>\n",
       "      <th>Economy (GDP per Capita)</th>\n",
       "      <th>Family</th>\n",
       "      <th>Health (Life Expectancy)</th>\n",
       "      <th>Freedom</th>\n",
       "      <th>Trust (Government Corruption)</th>\n",
       "      <th>Generosity</th>\n",
       "      <th>Dystopia Residual</th>\n",
       "      <th>first_five_letters</th>\n",
       "    </tr>\n",
       "  </thead>\n",
       "  <tbody>\n",
       "    <tr>\n",
       "      <th>0</th>\n",
       "      <td>Switzerland</td>\n",
       "      <td>Western Europe</td>\n",
       "      <td>1</td>\n",
       "      <td>7.587</td>\n",
       "      <td>0.03411</td>\n",
       "      <td>1.39651</td>\n",
       "      <td>1.34951</td>\n",
       "      <td>0.94143</td>\n",
       "      <td>0.66557</td>\n",
       "      <td>0.41978</td>\n",
       "      <td>0.29678</td>\n",
       "      <td>2.51738</td>\n",
       "      <td>Switz</td>\n",
       "    </tr>\n",
       "    <tr>\n",
       "      <th>1</th>\n",
       "      <td>Iceland</td>\n",
       "      <td>Western Europe</td>\n",
       "      <td>2</td>\n",
       "      <td>7.561</td>\n",
       "      <td>0.04884</td>\n",
       "      <td>1.30232</td>\n",
       "      <td>1.40223</td>\n",
       "      <td>0.94784</td>\n",
       "      <td>0.62877</td>\n",
       "      <td>0.14145</td>\n",
       "      <td>0.43630</td>\n",
       "      <td>2.70201</td>\n",
       "      <td>Icela</td>\n",
       "    </tr>\n",
       "    <tr>\n",
       "      <th>2</th>\n",
       "      <td>Denmark</td>\n",
       "      <td>Western Europe</td>\n",
       "      <td>3</td>\n",
       "      <td>7.527</td>\n",
       "      <td>0.03328</td>\n",
       "      <td>1.32548</td>\n",
       "      <td>1.36058</td>\n",
       "      <td>0.87464</td>\n",
       "      <td>0.64938</td>\n",
       "      <td>0.48357</td>\n",
       "      <td>0.34139</td>\n",
       "      <td>2.49204</td>\n",
       "      <td>Denma</td>\n",
       "    </tr>\n",
       "    <tr>\n",
       "      <th>3</th>\n",
       "      <td>Norway</td>\n",
       "      <td>Western Europe</td>\n",
       "      <td>4</td>\n",
       "      <td>7.522</td>\n",
       "      <td>0.03880</td>\n",
       "      <td>1.45900</td>\n",
       "      <td>1.33095</td>\n",
       "      <td>0.88521</td>\n",
       "      <td>0.66973</td>\n",
       "      <td>0.36503</td>\n",
       "      <td>0.34699</td>\n",
       "      <td>2.46531</td>\n",
       "      <td>Norwa</td>\n",
       "    </tr>\n",
       "    <tr>\n",
       "      <th>4</th>\n",
       "      <td>Canada</td>\n",
       "      <td>North America</td>\n",
       "      <td>5</td>\n",
       "      <td>7.427</td>\n",
       "      <td>0.03553</td>\n",
       "      <td>1.32629</td>\n",
       "      <td>1.32261</td>\n",
       "      <td>0.90563</td>\n",
       "      <td>0.63297</td>\n",
       "      <td>0.32957</td>\n",
       "      <td>0.45811</td>\n",
       "      <td>2.45176</td>\n",
       "      <td>Canad</td>\n",
       "    </tr>\n",
       "    <tr>\n",
       "      <th>...</th>\n",
       "      <td>...</td>\n",
       "      <td>...</td>\n",
       "      <td>...</td>\n",
       "      <td>...</td>\n",
       "      <td>...</td>\n",
       "      <td>...</td>\n",
       "      <td>...</td>\n",
       "      <td>...</td>\n",
       "      <td>...</td>\n",
       "      <td>...</td>\n",
       "      <td>...</td>\n",
       "      <td>...</td>\n",
       "      <td>...</td>\n",
       "    </tr>\n",
       "    <tr>\n",
       "      <th>153</th>\n",
       "      <td>Rwanda</td>\n",
       "      <td>Sub-Saharan Africa</td>\n",
       "      <td>154</td>\n",
       "      <td>3.465</td>\n",
       "      <td>0.03464</td>\n",
       "      <td>0.22208</td>\n",
       "      <td>0.77370</td>\n",
       "      <td>0.42864</td>\n",
       "      <td>0.59201</td>\n",
       "      <td>0.55191</td>\n",
       "      <td>0.22628</td>\n",
       "      <td>0.67042</td>\n",
       "      <td>Rwand</td>\n",
       "    </tr>\n",
       "    <tr>\n",
       "      <th>154</th>\n",
       "      <td>Benin</td>\n",
       "      <td>Sub-Saharan Africa</td>\n",
       "      <td>155</td>\n",
       "      <td>3.340</td>\n",
       "      <td>0.03656</td>\n",
       "      <td>0.28665</td>\n",
       "      <td>0.35386</td>\n",
       "      <td>0.31910</td>\n",
       "      <td>0.48450</td>\n",
       "      <td>0.08010</td>\n",
       "      <td>0.18260</td>\n",
       "      <td>1.63328</td>\n",
       "      <td>Benin</td>\n",
       "    </tr>\n",
       "    <tr>\n",
       "      <th>155</th>\n",
       "      <td>Syria</td>\n",
       "      <td>Middle East and Northern Africa</td>\n",
       "      <td>156</td>\n",
       "      <td>3.006</td>\n",
       "      <td>0.05015</td>\n",
       "      <td>0.66320</td>\n",
       "      <td>0.47489</td>\n",
       "      <td>0.72193</td>\n",
       "      <td>0.15684</td>\n",
       "      <td>0.18906</td>\n",
       "      <td>0.47179</td>\n",
       "      <td>0.32858</td>\n",
       "      <td>Syria</td>\n",
       "    </tr>\n",
       "    <tr>\n",
       "      <th>156</th>\n",
       "      <td>Burundi</td>\n",
       "      <td>Sub-Saharan Africa</td>\n",
       "      <td>157</td>\n",
       "      <td>2.905</td>\n",
       "      <td>0.08658</td>\n",
       "      <td>0.01530</td>\n",
       "      <td>0.41587</td>\n",
       "      <td>0.22396</td>\n",
       "      <td>0.11850</td>\n",
       "      <td>0.10062</td>\n",
       "      <td>0.19727</td>\n",
       "      <td>1.83302</td>\n",
       "      <td>Burun</td>\n",
       "    </tr>\n",
       "    <tr>\n",
       "      <th>157</th>\n",
       "      <td>Togo</td>\n",
       "      <td>Sub-Saharan Africa</td>\n",
       "      <td>158</td>\n",
       "      <td>2.839</td>\n",
       "      <td>0.06727</td>\n",
       "      <td>0.20868</td>\n",
       "      <td>0.13995</td>\n",
       "      <td>0.28443</td>\n",
       "      <td>0.36453</td>\n",
       "      <td>0.10731</td>\n",
       "      <td>0.16681</td>\n",
       "      <td>1.56726</td>\n",
       "      <td>Togo</td>\n",
       "    </tr>\n",
       "  </tbody>\n",
       "</table>\n",
       "<p>158 rows × 13 columns</p>\n",
       "</div>"
      ],
      "text/plain": [
       "         Country                           Region  Happiness Rank  \\\n",
       "0    Switzerland                   Western Europe               1   \n",
       "1        Iceland                   Western Europe               2   \n",
       "2        Denmark                   Western Europe               3   \n",
       "3         Norway                   Western Europe               4   \n",
       "4         Canada                    North America               5   \n",
       "..           ...                              ...             ...   \n",
       "153       Rwanda               Sub-Saharan Africa             154   \n",
       "154        Benin               Sub-Saharan Africa             155   \n",
       "155        Syria  Middle East and Northern Africa             156   \n",
       "156      Burundi               Sub-Saharan Africa             157   \n",
       "157         Togo               Sub-Saharan Africa             158   \n",
       "\n",
       "     Happiness Score  Standard Error  Economy (GDP per Capita)   Family  \\\n",
       "0              7.587         0.03411                   1.39651  1.34951   \n",
       "1              7.561         0.04884                   1.30232  1.40223   \n",
       "2              7.527         0.03328                   1.32548  1.36058   \n",
       "3              7.522         0.03880                   1.45900  1.33095   \n",
       "4              7.427         0.03553                   1.32629  1.32261   \n",
       "..               ...             ...                       ...      ...   \n",
       "153            3.465         0.03464                   0.22208  0.77370   \n",
       "154            3.340         0.03656                   0.28665  0.35386   \n",
       "155            3.006         0.05015                   0.66320  0.47489   \n",
       "156            2.905         0.08658                   0.01530  0.41587   \n",
       "157            2.839         0.06727                   0.20868  0.13995   \n",
       "\n",
       "     Health (Life Expectancy)  Freedom  Trust (Government Corruption)  \\\n",
       "0                     0.94143  0.66557                        0.41978   \n",
       "1                     0.94784  0.62877                        0.14145   \n",
       "2                     0.87464  0.64938                        0.48357   \n",
       "3                     0.88521  0.66973                        0.36503   \n",
       "4                     0.90563  0.63297                        0.32957   \n",
       "..                        ...      ...                            ...   \n",
       "153                   0.42864  0.59201                        0.55191   \n",
       "154                   0.31910  0.48450                        0.08010   \n",
       "155                   0.72193  0.15684                        0.18906   \n",
       "156                   0.22396  0.11850                        0.10062   \n",
       "157                   0.28443  0.36453                        0.10731   \n",
       "\n",
       "     Generosity  Dystopia Residual first_five_letters  \n",
       "0       0.29678            2.51738              Switz  \n",
       "1       0.43630            2.70201              Icela  \n",
       "2       0.34139            2.49204              Denma  \n",
       "3       0.34699            2.46531              Norwa  \n",
       "4       0.45811            2.45176              Canad  \n",
       "..          ...                ...                ...  \n",
       "153     0.22628            0.67042              Rwand  \n",
       "154     0.18260            1.63328              Benin  \n",
       "155     0.47179            0.32858              Syria  \n",
       "156     0.19727            1.83302              Burun  \n",
       "157     0.16681            1.56726               Togo  \n",
       "\n",
       "[158 rows x 13 columns]"
      ]
     },
     "execution_count": 214,
     "metadata": {},
     "output_type": "execute_result"
    }
   ],
   "source": [
    "df"
   ]
  },
  {
   "cell_type": "markdown",
   "id": "c2155259",
   "metadata": {},
   "source": [
    "HENCE NEW COLUMN NAMED FIRST_FIVE_LETTERS HAS BEEN ADDED TO DATAFRAME "
   ]
  },
  {
   "cell_type": "markdown",
   "id": "bd85b77b",
   "metadata": {},
   "source": [
    "11. QUESTION--> SOLUTION-->"
   ]
  },
  {
   "cell_type": "code",
   "execution_count": 61,
   "id": "b3ea5b0f",
   "metadata": {},
   "outputs": [],
   "source": [
    "def match_pattern(text):\n",
    "    pattern = re.compile(r\"^[a-zA-Z0-9_]*$\")\n",
    "    if pattern.match(text):\n",
    "        print(\"THE STRING MATCHES THE PATTERN\")\n",
    "    else:\n",
    "        print(\"THE STRING MATCHES THE PATTERN\")"
   ]
  },
  {
   "cell_type": "code",
   "execution_count": 62,
   "id": "a2ae8547",
   "metadata": {},
   "outputs": [],
   "source": [
    "SampleText = 'This_Is_My_assignment_work_2'"
   ]
  },
  {
   "cell_type": "code",
   "execution_count": 63,
   "id": "9eefc8e1",
   "metadata": {},
   "outputs": [
    {
     "name": "stdout",
     "output_type": "stream",
     "text": [
      "THE STRING MATCHES THE PATTERN\n"
     ]
    }
   ],
   "source": [
    "output_2 = match_pattern(text)"
   ]
  },
  {
   "cell_type": "markdown",
   "id": "83bc350f",
   "metadata": {},
   "source": [
    "HENCE PROVED THE REQUIRED STRING MATCHES THE PATTERN "
   ]
  },
  {
   "cell_type": "markdown",
   "id": "07b77979",
   "metadata": {},
   "source": [
    "12. QUESTION--> SOLUTION-->"
   ]
  },
  {
   "cell_type": "code",
   "execution_count": 64,
   "id": "01014e45",
   "metadata": {},
   "outputs": [],
   "source": [
    "def string_with_start_number(text):\n",
    "    output = re.sub(r'(\\D)(\\d)', r'\\1 \\2',text)\n",
    "    return output"
   ]
  },
  {
   "cell_type": "code",
   "execution_count": 65,
   "id": "ee853089",
   "metadata": {},
   "outputs": [],
   "source": [
    "SampleText = 'Myinternshipwillstartfrom17decandmyidis2312'"
   ]
  },
  {
   "cell_type": "code",
   "execution_count": 66,
   "id": "1c32d240",
   "metadata": {},
   "outputs": [
    {
     "data": {
      "text/plain": [
       "'Myinternshipwillstartfrom17decandmyidis2312'"
      ]
     },
     "execution_count": 66,
     "metadata": {},
     "output_type": "execute_result"
    }
   ],
   "source": [
    "SampleText"
   ]
  },
  {
   "cell_type": "code",
   "execution_count": 67,
   "id": "838c29fd",
   "metadata": {},
   "outputs": [],
   "source": [
    "output_3 = string_with_start_number(SampleText)"
   ]
  },
  {
   "cell_type": "code",
   "execution_count": 68,
   "id": "0f7d99a8",
   "metadata": {},
   "outputs": [
    {
     "data": {
      "text/plain": [
       "'Myinternshipwillstartfrom 17decandmyidis 2312'"
      ]
     },
     "execution_count": 68,
     "metadata": {},
     "output_type": "execute_result"
    }
   ],
   "source": [
    "output_3"
   ]
  },
  {
   "cell_type": "markdown",
   "id": "9eff97c0",
   "metadata": {},
   "source": [
    "13. QUESTION--> SOLUTION-->"
   ]
  },
  {
   "cell_type": "code",
   "execution_count": 69,
   "id": "a9124882",
   "metadata": {},
   "outputs": [],
   "source": [
    "def removing_zeroes_ip_address(ip_address):\n",
    "    output = re.sub(r'\\b0+(\\d)', r'\\1',ip_address)\n",
    "    return output"
   ]
  },
  {
   "cell_type": "code",
   "execution_count": 70,
   "id": "6e70eebf",
   "metadata": {},
   "outputs": [],
   "source": [
    "ip_address = \"185.003.014.005\""
   ]
  },
  {
   "cell_type": "code",
   "execution_count": 71,
   "id": "f820d250",
   "metadata": {},
   "outputs": [],
   "source": [
    "output_4 = removing_zeroes_ip_address(ip_address)"
   ]
  },
  {
   "cell_type": "code",
   "execution_count": 72,
   "id": "5262372f",
   "metadata": {},
   "outputs": [
    {
     "data": {
      "text/plain": [
       "'185.3.14.5'"
      ]
     },
     "execution_count": 72,
     "metadata": {},
     "output_type": "execute_result"
    }
   ],
   "source": [
    "output_4"
   ]
  },
  {
   "cell_type": "markdown",
   "id": "5b26d5f7",
   "metadata": {},
   "source": [
    "14. QUESTION--> SOLUTION-->"
   ]
  },
  {
   "cell_type": "code",
   "execution_count": 216,
   "id": "45dcab1b",
   "metadata": {},
   "outputs": [
    {
     "name": "stdout",
     "output_type": "stream",
     "text": [
      "Collecting python-docxNote: you may need to restart the kernel to use updated packages.\n",
      "\n",
      "  Downloading python_docx-1.1.0-py3-none-any.whl (239 kB)\n",
      "     -------------------------------------- 239.6/239.6 kB 1.8 MB/s eta 0:00:00\n",
      "Requirement already satisfied: lxml>=3.1.0 in c:\\users\\apple\\anaconda3\\lib\\site-packages (from python-docx) (4.9.1)\n",
      "Requirement already satisfied: typing-extensions in c:\\users\\apple\\anaconda3\\lib\\site-packages (from python-docx) (4.4.0)\n",
      "Installing collected packages: python-docx\n",
      "Successfully installed python-docx-1.1.0\n"
     ]
    }
   ],
   "source": [
    "pip install python-docx"
   ]
  },
  {
   "cell_type": "code",
   "execution_count": 217,
   "id": "15639b15",
   "metadata": {},
   "outputs": [],
   "source": [
    "import docx"
   ]
  },
  {
   "cell_type": "code",
   "execution_count": 219,
   "id": "b06921be",
   "metadata": {},
   "outputs": [],
   "source": [
    "doc = docx.Document(r'C:\\Users\\apple\\OneDrive\\Documents\\SampleFile')"
   ]
  },
  {
   "cell_type": "code",
   "execution_count": 220,
   "id": "dee33144",
   "metadata": {},
   "outputs": [
    {
     "data": {
      "text/plain": [
       "<docx.document.Document at 0x16ccbca9750>"
      ]
     },
     "execution_count": 220,
     "metadata": {},
     "output_type": "execute_result"
    }
   ],
   "source": [
    "doc"
   ]
  },
  {
   "cell_type": "code",
   "execution_count": 222,
   "id": "ab18c589",
   "metadata": {},
   "outputs": [],
   "source": [
    "doc_1 = \"\\n\".join([para.text for para in doc.paragraphs])"
   ]
  },
  {
   "cell_type": "code",
   "execution_count": 229,
   "id": "ae204a7f",
   "metadata": {},
   "outputs": [],
   "source": [
    "pattern = re.compile(r'(?:August)\\s+\\d{1,2}(?:th)?\\s+\\d{4}')"
   ]
  },
  {
   "cell_type": "code",
   "execution_count": 230,
   "id": "730b78fb",
   "metadata": {},
   "outputs": [],
   "source": [
    "date_output = pattern.findall(doc_1)"
   ]
  },
  {
   "cell_type": "code",
   "execution_count": 231,
   "id": "7a223405",
   "metadata": {},
   "outputs": [
    {
     "data": {
      "text/plain": [
       "['August 15th 1947']"
      ]
     },
     "execution_count": 231,
     "metadata": {},
     "output_type": "execute_result"
    }
   ],
   "source": [
    "date_output"
   ]
  },
  {
   "cell_type": "markdown",
   "id": "50623030",
   "metadata": {},
   "source": [
    "15.QUESTIONS--> SOLUTIONS-->"
   ]
  },
  {
   "cell_type": "code",
   "execution_count": 90,
   "id": "b1a85f0f",
   "metadata": {},
   "outputs": [],
   "source": [
    "def literal_strings_search(text,patterns):\n",
    "    for pattern in patterns:\n",
    "        match = re.search(re.escape(pattern),text)\n",
    "        if match:\n",
    "            print(f\"Found '{pattern}' in the text\")\n",
    "        else:\n",
    "            print(f\"Not Found '{pattern}' in the text\")"
   ]
  },
  {
   "cell_type": "code",
   "execution_count": 85,
   "id": "847a0a00",
   "metadata": {},
   "outputs": [],
   "source": [
    "SampleText = 'the quick brown fox jumps over the lazy dog'"
   ]
  },
  {
   "cell_type": "code",
   "execution_count": 86,
   "id": "c0e8f6fb",
   "metadata": {},
   "outputs": [],
   "source": [
    "search_patterns = ['fox' , 'dog' , 'horse']"
   ]
  },
  {
   "cell_type": "code",
   "execution_count": 91,
   "id": "86e26faa",
   "metadata": {},
   "outputs": [
    {
     "name": "stdout",
     "output_type": "stream",
     "text": [
      "Found 'fox' in the text\n",
      "Found 'dog' in the text\n",
      "Not Found 'horse' in the text\n"
     ]
    }
   ],
   "source": [
    "output = literal_strings_search(SampleText,search_patterns)"
   ]
  },
  {
   "cell_type": "markdown",
   "id": "b66c9ec1",
   "metadata": {},
   "source": [
    "16.QUESTIONS--> SOLUTION-->"
   ]
  },
  {
   "cell_type": "code",
   "execution_count": 101,
   "id": "a9f2d199",
   "metadata": {},
   "outputs": [],
   "source": [
    "def string_literal_search_with_locations(text,patterns):\n",
    "    for pattern in patterns:\n",
    "        start_index = text.find(pattern)\n",
    "        if start_index != -1:\n",
    "            print(f\"Found '{pattern}' at index{start_index} in the text.\")\n",
    "        else:\n",
    "            print(f\"Did not find {pattern} in the text.\")\n",
    "    \n",
    "    "
   ]
  },
  {
   "cell_type": "code",
   "execution_count": 102,
   "id": "ae3f5fb2",
   "metadata": {},
   "outputs": [],
   "source": [
    "SampleText = 'the quick brown fox jumps over the lazy dog'"
   ]
  },
  {
   "cell_type": "code",
   "execution_count": 105,
   "id": "9c98e34f",
   "metadata": {},
   "outputs": [],
   "source": [
    "search_patterns = 'fox'"
   ]
  },
  {
   "cell_type": "code",
   "execution_count": 106,
   "id": "7b24bb6f",
   "metadata": {},
   "outputs": [
    {
     "name": "stdout",
     "output_type": "stream",
     "text": [
      "Found 'f' at index16 in the text.\n",
      "Found 'o' at index12 in the text.\n",
      "Found 'x' at index18 in the text.\n"
     ]
    }
   ],
   "source": [
    "output_1 = string_literal_search_with_locations(SampleText,search_patterns)"
   ]
  },
  {
   "cell_type": "markdown",
   "id": "348c9ed1",
   "metadata": {},
   "source": [
    "17.QUESTION--> SOLUTION-->"
   ]
  },
  {
   "cell_type": "code",
   "execution_count": 124,
   "id": "e2780e28",
   "metadata": {},
   "outputs": [],
   "source": [
    "def finding_substring_string(substring,text):\n",
    "    pattern = re.compile(substring)\n",
    "    output = pattern.search(text)\n",
    "    if output:\n",
    "        return(f\"SUBSTRING '{substring}' FOUND\")\n",
    "    else:\n",
    "        return(f\"SUBSTRING '{substring}' NOT FOUND\")\n",
    "c"
   ]
  },
  {
   "cell_type": "code",
   "execution_count": 134,
   "id": "d0c4d8bb",
   "metadata": {},
   "outputs": [],
   "source": [
    "substring_1 = 'exercises'"
   ]
  },
  {
   "cell_type": "code",
   "execution_count": 131,
   "id": "1c7575c8",
   "metadata": {},
   "outputs": [],
   "source": [
    "SampleText = \"Python exercises, PHP exercises, C# exercises\""
   ]
  },
  {
   "cell_type": "code",
   "execution_count": 135,
   "id": "0ae956a6",
   "metadata": {},
   "outputs": [],
   "source": [
    "output_6 = finding_substring_string(substring_1,SampleText)"
   ]
  },
  {
   "cell_type": "code",
   "execution_count": 136,
   "id": "43122532",
   "metadata": {},
   "outputs": [
    {
     "name": "stdout",
     "output_type": "stream",
     "text": [
      "SUBSTRING 'exercises' FOUND\n"
     ]
    }
   ],
   "source": [
    "print(output_6)"
   ]
  },
  {
   "cell_type": "markdown",
   "id": "2b5fed4d",
   "metadata": {},
   "source": [
    "18. QUESTIONS--> SOLUTIONS-->"
   ]
  },
  {
   "cell_type": "code",
   "execution_count": 160,
   "id": "f1181dd3",
   "metadata": {
    "scrolled": true
   },
   "outputs": [
    {
     "name": "stdout",
     "output_type": "stream",
     "text": [
      "Substring 'exercises' found at locations: [7, 22, 36] in the string.\n"
     ]
    }
   ],
   "source": [
    "def finding_location_substring(text,substring):\n",
    "    matches = re.finditer(substring,text)\n",
    "    position = [match.start() for match in matches]\n",
    "    return position\n",
    "\n",
    "SampleText = \"Python exercises, PHP exercises, C# exercises\"\n",
    "\n",
    "substring_1 = 'exercises'\n",
    "\n",
    "output_7 = finding_location_substring(SampleText,substring_1)\n",
    "\n",
    " \n",
    "if output_7:\n",
    "     print(f\"Substring '{substring_1}' found at locations: {output_7} in the string.\")\n",
    "else:\n",
    "    print(f\"Substring '{substring_1}' not found in the string.\")"
   ]
  },
  {
   "cell_type": "markdown",
   "id": "cd9177ce",
   "metadata": {},
   "source": [
    "19. QUESTIONS--> SOLUTIONS-->"
   ]
  },
  {
   "cell_type": "code",
   "execution_count": 161,
   "id": "b76d4a45",
   "metadata": {},
   "outputs": [],
   "source": [
    "def convert_reverse_normal_date(date_1):\n",
    "    pattern = re.compile(r'(\\d{4})-(\\d{2})-(\\d{2})')\n",
    "    normal_date = pattern.sub(r'\\3-\\2-\\1',date_1)\n",
    "    return normal_date"
   ]
  },
  {
   "cell_type": "code",
   "execution_count": 162,
   "id": "aa4bd46e",
   "metadata": {},
   "outputs": [],
   "source": [
    "Sample_date_string = '2024-01-02'"
   ]
  },
  {
   "cell_type": "code",
   "execution_count": 164,
   "id": "ee114fa7",
   "metadata": {},
   "outputs": [],
   "source": [
    "Output_8 = convert_reverse_normal_date(Sample_date_string)"
   ]
  },
  {
   "cell_type": "code",
   "execution_count": 165,
   "id": "6a5d4b63",
   "metadata": {},
   "outputs": [
    {
     "data": {
      "text/plain": [
       "'02-01-2024'"
      ]
     },
     "execution_count": 165,
     "metadata": {},
     "output_type": "execute_result"
    }
   ],
   "source": [
    "Output_8"
   ]
  },
  {
   "cell_type": "markdown",
   "id": "046b5b6c",
   "metadata": {},
   "source": [
    "NOW THE DATE FORMAT HAS BEEN CONVERTED TO DD-MM-YYYY"
   ]
  },
  {
   "cell_type": "markdown",
   "id": "92249d27",
   "metadata": {},
   "source": [
    "20.QUESTION--> SOLUTION-->"
   ]
  },
  {
   "cell_type": "code",
   "execution_count": 170,
   "id": "6945dcb8",
   "metadata": {},
   "outputs": [],
   "source": [
    "def find_decimal_numbers(string_1):\n",
    "    pattern = re.compile(r'\\b\\d+\\.\\d{1,2}\\b')\n",
    "    output = pattern.findall(string_1)\n",
    "    return output"
   ]
  },
  {
   "cell_type": "code",
   "execution_count": 167,
   "id": "b1025109",
   "metadata": {},
   "outputs": [],
   "source": [
    "SampleText = \"01.12 0132.123 2.31875 145.8 3.01 27.25 0.25\""
   ]
  },
  {
   "cell_type": "code",
   "execution_count": 172,
   "id": "b6eba557",
   "metadata": {},
   "outputs": [],
   "source": [
    "output_9 = find_decimal_numbers(SampleText)"
   ]
  },
  {
   "cell_type": "code",
   "execution_count": 173,
   "id": "945f757f",
   "metadata": {},
   "outputs": [
    {
     "data": {
      "text/plain": [
       "['01.12', '145.8', '3.01', '27.25', '0.25']"
      ]
     },
     "execution_count": 173,
     "metadata": {},
     "output_type": "execute_result"
    }
   ],
   "source": [
    "output_9"
   ]
  },
  {
   "cell_type": "markdown",
   "id": "fec0a138",
   "metadata": {},
   "source": [
    "21. QUESTIONS--> SOLUTION-->"
   ]
  },
  {
   "cell_type": "code",
   "execution_count": 175,
   "id": "88c85d31",
   "metadata": {},
   "outputs": [],
   "source": [
    "def number_positions(text):\n",
    "    pattern = re.compile(r'\\d+')\n",
    "    matches = pattern.finditer(text)\n",
    "    output = [(match.group(), match.start(), match.end()-1)for match in matches]\n",
    "    return output"
   ]
  },
  {
   "cell_type": "code",
   "execution_count": 176,
   "id": "d4a1ffd9",
   "metadata": {},
   "outputs": [],
   "source": [
    "SampleText = 'there are 25 questions given on regular expression assignment' "
   ]
  },
  {
   "cell_type": "code",
   "execution_count": 177,
   "id": "8a1a52b3",
   "metadata": {},
   "outputs": [],
   "source": [
    "output_10 = number_positions(SampleText)"
   ]
  },
  {
   "cell_type": "code",
   "execution_count": 178,
   "id": "bf95dc60",
   "metadata": {},
   "outputs": [
    {
     "name": "stdout",
     "output_type": "stream",
     "text": [
      "Number 25, Start position 10, End position 11\n"
     ]
    }
   ],
   "source": [
    "for numbers, start, end in output_10:\n",
    "    print(f\"Number {numbers}, Start position {start}, End position {end}\")"
   ]
  },
  {
   "cell_type": "markdown",
   "id": "55795f8c",
   "metadata": {},
   "source": [
    "22. Question--> SOLUTION-->"
   ]
  },
  {
   "cell_type": "code",
   "execution_count": 184,
   "id": "f849442a",
   "metadata": {},
   "outputs": [],
   "source": [
    "def largest_numeric_value(string_1):\n",
    "    numbers = re.findall(r'\\d+' , string_1)\n",
    "    numbers = [int(num)for num in numbers]\n",
    "    if numbers:\n",
    "        return max(numbers)\n",
    "    else:\n",
    "        return None"
   ]
  },
  {
   "cell_type": "code",
   "execution_count": 185,
   "id": "c6c96b11",
   "metadata": {},
   "outputs": [],
   "source": [
    "SampleText = 'My marks in each semester are: 947,896,926,524,734,950,642'"
   ]
  },
  {
   "cell_type": "code",
   "execution_count": 186,
   "id": "6763b990",
   "metadata": {},
   "outputs": [],
   "source": [
    "Output_10 = largest_numeric_value(SampleText)"
   ]
  },
  {
   "cell_type": "code",
   "execution_count": 187,
   "id": "8cfb280c",
   "metadata": {},
   "outputs": [
    {
     "name": "stdout",
     "output_type": "stream",
     "text": [
      "the maximum value in the string is 950\n"
     ]
    }
   ],
   "source": [
    "if Output_10 is not None:\n",
    "    print(f\"the maximum value in the string is {Output_10}\")\n",
    "else:\n",
    "    print(f\"There is no maximum value found\")"
   ]
  },
  {
   "cell_type": "markdown",
   "id": "f533f4ec",
   "metadata": {},
   "source": [
    "23. QUESTIONS--> SOLUTION-->"
   ]
  },
  {
   "cell_type": "markdown",
   "id": "d3ddecda",
   "metadata": {},
   "source": [
    "THIS QUESTION HAS BEEN REPEATED AS I HAD ALREADY SOLVED SAME QUESTION EARLIER"
   ]
  },
  {
   "cell_type": "markdown",
   "id": "6c0855b2",
   "metadata": {},
   "source": [
    "24. QUESTION--> SOLUTION-->"
   ]
  },
  {
   "cell_type": "code",
   "execution_count": 192,
   "id": "864f45cd",
   "metadata": {},
   "outputs": [],
   "source": [
    "SampleText = 'Th IS my Assignmnt Work'\n",
    "pattern = re.compile(r'[A-Z][a-z]')\n",
    "matches = pattern.findall(SampleText)"
   ]
  },
  {
   "cell_type": "code",
   "execution_count": 193,
   "id": "efe61ef8",
   "metadata": {},
   "outputs": [
    {
     "data": {
      "text/plain": [
       "['Th', 'As', 'Wo']"
      ]
     },
     "execution_count": 193,
     "metadata": {},
     "output_type": "execute_result"
    }
   ],
   "source": [
    "matches"
   ]
  },
  {
   "cell_type": "markdown",
   "id": "fdacfac9",
   "metadata": {},
   "source": [
    "25.QUESTION--> SOLUTION-->"
   ]
  },
  {
   "cell_type": "code",
   "execution_count": 198,
   "id": "34d72c2b",
   "metadata": {},
   "outputs": [],
   "source": [
    "def remove_continuous_duplicate(string_2):\n",
    "    pattern = re.compile(r'\\b(\\w+)(\\s+\\1\\b)+')\n",
    "    output = pattern.sub(r'\\1', string_2)\n",
    "    return output"
   ]
  },
  {
   "cell_type": "code",
   "execution_count": 202,
   "id": "027802ea",
   "metadata": {},
   "outputs": [],
   "source": [
    "SampleText = \"Hello hello world world\""
   ]
  },
  {
   "cell_type": "code",
   "execution_count": 203,
   "id": "9ebfabe2",
   "metadata": {},
   "outputs": [],
   "source": [
    "output_11 = remove_continuous_duplicate(SampleText)"
   ]
  },
  {
   "cell_type": "code",
   "execution_count": 204,
   "id": "33d3219b",
   "metadata": {},
   "outputs": [
    {
     "data": {
      "text/plain": [
       "'Hello hello world'"
      ]
     },
     "execution_count": 204,
     "metadata": {},
     "output_type": "execute_result"
    }
   ],
   "source": [
    "output_11"
   ]
  },
  {
   "cell_type": "markdown",
   "id": "527231f5",
   "metadata": {},
   "source": [
    "ALL ASSIGNMENT QUESTIONS HAS BEEN DONE BY ME!\n",
    "\n",
    "THANKS FOR ASSIGNING ME!\n",
    "\n",
    "\n",
    "REGARDS\n",
    "\n",
    "VINAYAK PANWAR\n",
    "\n",
    "\n",
    "BATCH NO. DS2312\n",
    "\n",
    "\n",
    "ASSIGNMENT NAME - REGULAR EXPRESSION "
   ]
  },
  {
   "cell_type": "code",
   "execution_count": null,
   "id": "b06cf7b2",
   "metadata": {},
   "outputs": [],
   "source": []
  }
 ],
 "metadata": {
  "kernelspec": {
   "display_name": "Python 3 (ipykernel)",
   "language": "python",
   "name": "python3"
  },
  "language_info": {
   "codemirror_mode": {
    "name": "ipython",
    "version": 3
   },
   "file_extension": ".py",
   "mimetype": "text/x-python",
   "name": "python",
   "nbconvert_exporter": "python",
   "pygments_lexer": "ipython3",
   "version": "3.10.9"
  }
 },
 "nbformat": 4,
 "nbformat_minor": 5
}
