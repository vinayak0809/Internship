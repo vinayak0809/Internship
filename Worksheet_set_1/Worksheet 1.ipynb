{
 "cells": [
  {
   "cell_type": "markdown",
   "id": "289d7e68",
   "metadata": {},
   "source": [
    "11. QUESTION-- SOLUTION-->"
   ]
  },
  {
   "cell_type": "code",
   "execution_count": 1,
   "id": "623d822a",
   "metadata": {},
   "outputs": [
    {
     "name": "stdout",
     "output_type": "stream",
     "text": [
      "Enter factorial number:5\n"
     ]
    }
   ],
   "source": [
    "num = int(input(\"Enter factorial number:\"))"
   ]
  },
  {
   "cell_type": "code",
   "execution_count": 5,
   "id": "947c5a56",
   "metadata": {},
   "outputs": [
    {
     "name": "stdout",
     "output_type": "stream",
     "text": [
      "The factorial of 5 is 120\n"
     ]
    }
   ],
   "source": [
    "fact = 1\n",
    "if num < 0:\n",
    "    print(\"Entered wrong input\")\n",
    "elif num ==0:\n",
    "    print(\"The factorial of 0 is 1\")\n",
    "else:\n",
    "    for i in range(1, num+1):\n",
    "        fact = fact * i\n",
    "print(f\"The factorial of {num} is {fact}\")"
   ]
  },
  {
   "cell_type": "markdown",
   "id": "78521f6f",
   "metadata": {},
   "source": [
    "12. QUESTION--SOLUTION-->"
   ]
  },
  {
   "cell_type": "code",
   "execution_count": 7,
   "id": "632eba17",
   "metadata": {},
   "outputs": [
    {
     "name": "stdout",
     "output_type": "stream",
     "text": [
      "Enter number to check for Composite or Prime:24\n"
     ]
    }
   ],
   "source": [
    "num = int(input(\"Enter number to check for Composite or Prime:\"))"
   ]
  },
  {
   "cell_type": "code",
   "execution_count": 10,
   "id": "1095abdf",
   "metadata": {},
   "outputs": [
    {
     "name": "stdout",
     "output_type": "stream",
     "text": [
      "24 is composite\n"
     ]
    }
   ],
   "source": [
    "num_composite = False\n",
    "if num < 2:\n",
    "    print(f\"{num} is not a composite number\")\n",
    "else:\n",
    "    for i in range(2, num):\n",
    "        if num%i ==0:\n",
    "            num_composite = True\n",
    "            break\n",
    "    if num_composite:\n",
    "        print(f\"{num} is composite\")\n",
    "    else:\n",
    "        print(f\"{num} is not Composite but Prime number\")"
   ]
  },
  {
   "cell_type": "markdown",
   "id": "7b35661e",
   "metadata": {},
   "source": [
    "13. QUESTION-- SOLUTION-->"
   ]
  },
  {
   "cell_type": "code",
   "execution_count": 11,
   "id": "be971d0a",
   "metadata": {},
   "outputs": [
    {
     "name": "stdout",
     "output_type": "stream",
     "text": [
      "The string 'vinayakpanwar' is not a palindrome.\n"
     ]
    }
   ],
   "source": [
    "string = \"vinayakpanwar\"\n",
    "reverse_string = string[::-1]\n",
    "if string ==reverse_string:\n",
    "    print(f\"The string '{string}' is a palindrome.\")\n",
    "else :\n",
    "    print(f\"The string '{string}' is not a palindrome.\")\n",
    "    "
   ]
  },
  {
   "cell_type": "markdown",
   "id": "ca8fe681",
   "metadata": {},
   "source": [
    "14. QUESTION-- SOLUTION-->"
   ]
  },
  {
   "cell_type": "code",
   "execution_count": 12,
   "id": "b119708e",
   "metadata": {},
   "outputs": [
    {
     "name": "stdout",
     "output_type": "stream",
     "text": [
      "Enter Side no 1:24\n"
     ]
    }
   ],
   "source": [
    "side1  = int(input(\"Enter Side no 1:\"))"
   ]
  },
  {
   "cell_type": "code",
   "execution_count": 13,
   "id": "7e732acc",
   "metadata": {},
   "outputs": [
    {
     "name": "stdout",
     "output_type": "stream",
     "text": [
      "Enter Side no 2:16\n"
     ]
    }
   ],
   "source": [
    "side2 = int(input(\"Enter Side no 2:\"))"
   ]
  },
  {
   "cell_type": "code",
   "execution_count": 15,
   "id": "fcbd86cb",
   "metadata": {},
   "outputs": [],
   "source": [
    "import math"
   ]
  },
  {
   "cell_type": "code",
   "execution_count": 17,
   "id": "99fd1c7e",
   "metadata": {},
   "outputs": [],
   "source": [
    "side3 = math.sqrt(side1**2 + side2**2)"
   ]
  },
  {
   "cell_type": "code",
   "execution_count": 18,
   "id": "cca2df46",
   "metadata": {},
   "outputs": [
    {
     "name": "stdout",
     "output_type": "stream",
     "text": [
      "The hypotenuse of right angle traingle is 28.84.\n"
     ]
    }
   ],
   "source": [
    "print(f\"The hypotenuse of right angle traingle is {side3:.2f}.\")"
   ]
  },
  {
   "cell_type": "markdown",
   "id": "27d1fa31",
   "metadata": {},
   "source": [
    "15.QUESTION-- SOLUTION-->"
   ]
  },
  {
   "cell_type": "code",
   "execution_count": 19,
   "id": "e52a9cf5",
   "metadata": {},
   "outputs": [],
   "source": [
    "string = \"vinayakpanwar\""
   ]
  },
  {
   "cell_type": "code",
   "execution_count": 22,
   "id": "c4eee66e",
   "metadata": {},
   "outputs": [],
   "source": [
    "frequency = {}"
   ]
  },
  {
   "cell_type": "code",
   "execution_count": 23,
   "id": "7b52c9c5",
   "metadata": {},
   "outputs": [
    {
     "name": "stdout",
     "output_type": "stream",
     "text": [
      "The Frequency of each character in 'vinayakpanwar' is:\n",
      "'v':1\n",
      "'i':1\n",
      "'n':2\n",
      "'a':4\n",
      "'y':1\n",
      "'k':1\n",
      "'p':1\n",
      "'w':1\n",
      "'r':1\n"
     ]
    }
   ],
   "source": [
    "for char in string:\n",
    "    if char in frequency:\n",
    "        frequency[char] += 1\n",
    "    else:\n",
    "        frequency[char] = 1\n",
    "print(f\"The Frequency of each character in '{string}' is:\")\n",
    "for char, count in frequency.items():\n",
    "    print(f\"'{char}':{count}\")"
   ]
  },
  {
   "cell_type": "code",
   "execution_count": null,
   "id": "5f7a5d65",
   "metadata": {},
   "outputs": [],
   "source": []
  }
 ],
 "metadata": {
  "kernelspec": {
   "display_name": "Python 3 (ipykernel)",
   "language": "python",
   "name": "python3"
  },
  "language_info": {
   "codemirror_mode": {
    "name": "ipython",
    "version": 3
   },
   "file_extension": ".py",
   "mimetype": "text/x-python",
   "name": "python",
   "nbconvert_exporter": "python",
   "pygments_lexer": "ipython3",
   "version": "3.10.9"
  }
 },
 "nbformat": 4,
 "nbformat_minor": 5
}
